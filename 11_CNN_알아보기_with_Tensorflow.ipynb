{
  "nbformat": 4,
  "nbformat_minor": 0,
  "metadata": {
    "colab": {
      "name": "11. CNN 알아보기 with Tensorflow",
      "provenance": [],
      "include_colab_link": true
    },
    "kernelspec": {
      "name": "python3",
      "display_name": "Python 3"
    },
    "language_info": {
      "name": "python"
    },
    "accelerator": "GPU"
  },
  "cells": [
    {
      "cell_type": "markdown",
      "metadata": {
        "id": "view-in-github",
        "colab_type": "text"
      },
      "source": [
        "<a href=\"https://colab.research.google.com/github/koalalovepabro/Deep-Learning/blob/main/11_CNN_%EC%95%8C%EC%95%84%EB%B3%B4%EA%B8%B0_with_Tensorflow.ipynb\" target=\"_parent\"><img src=\"https://colab.research.google.com/assets/colab-badge.svg\" alt=\"Open In Colab\"/></a>"
      ]
    },
    {
      "cell_type": "markdown",
      "metadata": {
        "id": "B19QA05iCgov"
      },
      "source": [
        "# Tensor란?\n",
        "\n",
        "Tensor : 배열\n",
        "* 배열인데 Rank 시스템이 있다.\n",
        "* 0 Rank Tensor - Scalar\n",
        "* 1 Rank Tensor - Array(Vector) - 1차원 배열\n",
        "* 2 Rank Tensor - Matrix - 행렬\n",
        "* 3 Rank Tensor - 3차원 배열\n",
        "* 4 Rank Tensor - 4차원 배열"
      ]
    },
    {
      "cell_type": "markdown",
      "metadata": {
        "id": "r0nyq61CDK3n"
      },
      "source": [
        "# Tensorflow는?\n",
        "* Tensor가 흘러다니는 **계산그래프**를 미리 만들어 놓고 Tensor를 훈련시에 흘려(Flow)보낸다."
      ]
    },
    {
      "cell_type": "code",
      "metadata": {
        "id": "EDyfFm_fDPbq"
      },
      "source": [
        "import tensorflow as tf\n",
        "import numpy as np"
      ],
      "execution_count": null,
      "outputs": []
    },
    {
      "cell_type": "code",
      "metadata": {
        "colab": {
          "base_uri": "https://localhost:8080/"
        },
        "id": "DGS2xxLODiMB",
        "outputId": "fbd201a5-e24b-4b34-e785-7561e633010c"
      },
      "source": [
        "# 각종 시퀀스들을 Tensor로 변환이 가능하다.\n",
        "\n",
        "# 1. list -> tensor\n",
        "tf.constant([1, 2, 3])"
      ],
      "execution_count": null,
      "outputs": [
        {
          "output_type": "execute_result",
          "data": {
            "text/plain": [
              "<tf.Tensor: shape=(3,), dtype=int32, numpy=array([1, 2, 3], dtype=int32)>"
            ]
          },
          "metadata": {
            "tags": []
          },
          "execution_count": 2
        }
      ]
    },
    {
      "cell_type": "code",
      "metadata": {
        "colab": {
          "base_uri": "https://localhost:8080/"
        },
        "id": "F-__iRjnEPp_",
        "outputId": "43f369c3-e416-4938-8201-ed62ba41d151"
      },
      "source": [
        "# 2. tuple -> tensor\n",
        "tf.constant((1, 2, 3))"
      ],
      "execution_count": null,
      "outputs": [
        {
          "output_type": "execute_result",
          "data": {
            "text/plain": [
              "<tf.Tensor: shape=(3,), dtype=int32, numpy=array([1, 2, 3], dtype=int32)>"
            ]
          },
          "metadata": {
            "tags": []
          },
          "execution_count": 3
        }
      ]
    },
    {
      "cell_type": "code",
      "metadata": {
        "colab": {
          "base_uri": "https://localhost:8080/"
        },
        "id": "p4e7FykfEXPi",
        "outputId": "a0ec63f5-0a07-4b57-dff9-7c514aa6bf78"
      },
      "source": [
        "# 3. ndarray -> tensor\n",
        "arr = np.array([1, 2, 3])\n",
        "tf.constant(arr)"
      ],
      "execution_count": null,
      "outputs": [
        {
          "output_type": "execute_result",
          "data": {
            "text/plain": [
              "<tf.Tensor: shape=(3,), dtype=int64, numpy=array([1, 2, 3])>"
            ]
          },
          "metadata": {
            "tags": []
          },
          "execution_count": 4
        }
      ]
    },
    {
      "cell_type": "markdown",
      "metadata": {
        "id": "vGG9seeFEeul"
      },
      "source": [
        "# Tensor 정보 확인하기"
      ]
    },
    {
      "cell_type": "code",
      "metadata": {
        "colab": {
          "base_uri": "https://localhost:8080/"
        },
        "id": "zgBqTc_VEuIi",
        "outputId": "c964b5f8-aef3-499e-e65c-d3ba83a62de5"
      },
      "source": [
        "tensor = tf.constant([1, 2, 3])\n",
        "tensor.shape"
      ],
      "execution_count": null,
      "outputs": [
        {
          "output_type": "execute_result",
          "data": {
            "text/plain": [
              "TensorShape([3])"
            ]
          },
          "metadata": {
            "tags": []
          },
          "execution_count": 5
        }
      ]
    },
    {
      "cell_type": "code",
      "metadata": {
        "colab": {
          "base_uri": "https://localhost:8080/"
        },
        "id": "rWXrD0UqEx-u",
        "outputId": "e072032d-1a04-4d42-af0d-ca116b3ef5e1"
      },
      "source": [
        "tensor.dtype # 데이터 타입"
      ],
      "execution_count": null,
      "outputs": [
        {
          "output_type": "execute_result",
          "data": {
            "text/plain": [
              "tf.int32"
            ]
          },
          "metadata": {
            "tags": []
          },
          "execution_count": 6
        }
      ]
    },
    {
      "cell_type": "code",
      "metadata": {
        "colab": {
          "base_uri": "https://localhost:8080/"
        },
        "id": "X1OMQco-E27O",
        "outputId": "2615d9d3-b33c-418c-d8e0-029fb2898c66"
      },
      "source": [
        "tensor = tf.constant(np.random.randn(2, 3))\n",
        "tensor.dtype"
      ],
      "execution_count": null,
      "outputs": [
        {
          "output_type": "execute_result",
          "data": {
            "text/plain": [
              "tf.float64"
            ]
          },
          "metadata": {
            "tags": []
          },
          "execution_count": 7
        }
      ]
    },
    {
      "cell_type": "code",
      "metadata": {
        "colab": {
          "base_uri": "https://localhost:8080/"
        },
        "id": "gVui6wqLE9LI",
        "outputId": "1907d731-3e07-465f-b9e4-f6d01de7751c"
      },
      "source": [
        "# 텐서를 구성하는 원소 중 데이터 타입이 가장 큰 것이 텐서의 데이터 타입이 된다.\n",
        "# 예를 들어 텐서에 정수와 실수가 섞여져 있으면 텐서의 타입은 실수가 된다.\n",
        "\n",
        "tensor = tf.constant([1, 2.1, 3])\n",
        "tensor.dtype"
      ],
      "execution_count": null,
      "outputs": [
        {
          "output_type": "execute_result",
          "data": {
            "text/plain": [
              "tf.float32"
            ]
          },
          "metadata": {
            "tags": []
          },
          "execution_count": 8
        }
      ]
    },
    {
      "cell_type": "code",
      "metadata": {
        "colab": {
          "base_uri": "https://localhost:8080/"
        },
        "id": "Enuj-6YfFLgH",
        "outputId": "79973bbd-d9c0-437d-9ddf-314837867c4a"
      },
      "source": [
        "# 텐서를 만들 때 데이터 타입을 지정\n",
        "tensor = tf.constant([1, 2, 3], dtype=tf.float32)\n",
        "tensor.shape"
      ],
      "execution_count": null,
      "outputs": [
        {
          "output_type": "execute_result",
          "data": {
            "text/plain": [
              "TensorShape([3])"
            ]
          },
          "metadata": {
            "tags": []
          },
          "execution_count": 9
        }
      ]
    },
    {
      "cell_type": "code",
      "metadata": {
        "colab": {
          "base_uri": "https://localhost:8080/"
        },
        "id": "8LFQosduFV1m",
        "outputId": "8dfba9ba-2185-4239-d381-790f527ba7d4"
      },
      "source": [
        "tensor.dtype"
      ],
      "execution_count": null,
      "outputs": [
        {
          "output_type": "execute_result",
          "data": {
            "text/plain": [
              "tf.float32"
            ]
          },
          "metadata": {
            "tags": []
          },
          "execution_count": 10
        }
      ]
    },
    {
      "cell_type": "code",
      "metadata": {
        "colab": {
          "base_uri": "https://localhost:8080/"
        },
        "id": "mCDDenWIFW3m",
        "outputId": "9ae99f17-1521-43af-bffb-c84c19953392"
      },
      "source": [
        "# tf.cast 를 활용해서 텐서의 타입을 변경\n",
        "tf.cast(tensor, tf.int32).dtype"
      ],
      "execution_count": null,
      "outputs": [
        {
          "output_type": "execute_result",
          "data": {
            "text/plain": [
              "tf.int32"
            ]
          },
          "metadata": {
            "tags": []
          },
          "execution_count": 12
        }
      ]
    },
    {
      "cell_type": "code",
      "metadata": {
        "id": "FBGoYIBBFeUf",
        "colab": {
          "base_uri": "https://localhost:8080/"
        },
        "outputId": "d209b443-9fe3-4804-accf-5a46c0ba7a6a"
      },
      "source": [
        "# numpy, tensorflow는 상호간에 호환이 가능\n",
        "# 1. tensor를 ndarray로 바꿔보기\n",
        "tensor.numpy()"
      ],
      "execution_count": null,
      "outputs": [
        {
          "output_type": "execute_result",
          "data": {
            "text/plain": [
              "array([1., 2., 3.], dtype=float32)"
            ]
          },
          "metadata": {
            "tags": []
          },
          "execution_count": 13
        }
      ]
    },
    {
      "cell_type": "code",
      "metadata": {
        "colab": {
          "base_uri": "https://localhost:8080/"
        },
        "id": "xYyNd4B4FsKo",
        "outputId": "da063da4-f945-4440-de2c-2b6f619e343d"
      },
      "source": [
        "# 2. np.array를 이용해서 tensor를 ndarray로 바꿀 수 있다.\n",
        "np.array(tensor)"
      ],
      "execution_count": null,
      "outputs": [
        {
          "output_type": "execute_result",
          "data": {
            "text/plain": [
              "array([1., 2., 3.], dtype=float32)"
            ]
          },
          "metadata": {
            "tags": []
          },
          "execution_count": 14
        }
      ]
    },
    {
      "cell_type": "markdown",
      "metadata": {
        "id": "0JGtmZl9F1fb"
      },
      "source": [
        "# Tensorflow의 난수 생성"
      ]
    },
    {
      "cell_type": "code",
      "metadata": {
        "colab": {
          "base_uri": "https://localhost:8080/"
        },
        "id": "Ieux7beTF70C",
        "outputId": "d87a50f7-a1b5-4753-fc5d-d3c26d5817f2"
      },
      "source": [
        "# numpy로 정규분포 난수 생성하기\n",
        "np.random.randn(9)"
      ],
      "execution_count": null,
      "outputs": [
        {
          "output_type": "execute_result",
          "data": {
            "text/plain": [
              "array([ 0.497915  , -0.14458704,  0.46473898,  0.32639101, -0.48926386,\n",
              "       -1.3619899 ,  2.29910261, -1.58208874, -0.77126096])"
            ]
          },
          "metadata": {
            "tags": []
          },
          "execution_count": 15
        }
      ]
    },
    {
      "cell_type": "code",
      "metadata": {
        "colab": {
          "base_uri": "https://localhost:8080/"
        },
        "id": "JnAV5d-sGAH5",
        "outputId": "1036d2ad-40de-4b8c-9156-4a1da67cfa39"
      },
      "source": [
        "# tensorflow로 정규분포 난수 생성하기\n",
        "tf.random.normal((3, 3))"
      ],
      "execution_count": null,
      "outputs": [
        {
          "output_type": "execute_result",
          "data": {
            "text/plain": [
              "<tf.Tensor: shape=(3, 3), dtype=float32, numpy=\n",
              "array([[-0.8549297 ,  0.59345984, -0.8717115 ],\n",
              "       [-0.22827858,  1.1352422 ,  1.1079745 ],\n",
              "       [ 1.8956741 ,  1.0118338 , -0.8103193 ]], dtype=float32)>"
            ]
          },
          "metadata": {
            "tags": []
          },
          "execution_count": 16
        }
      ]
    },
    {
      "cell_type": "code",
      "metadata": {
        "colab": {
          "base_uri": "https://localhost:8080/"
        },
        "id": "5faFzQ-IGGDv",
        "outputId": "1b66d279-ffd8-44f5-94b4-d8175ddc7ef3"
      },
      "source": [
        "# tensorflow로 균등분포 난수 생성하기\n",
        "tf.random.uniform((3, 3))"
      ],
      "execution_count": null,
      "outputs": [
        {
          "output_type": "execute_result",
          "data": {
            "text/plain": [
              "<tf.Tensor: shape=(3, 3), dtype=float32, numpy=\n",
              "array([[5.2254391e-01, 9.0136385e-01, 5.8752489e-01],\n",
              "       [9.0100038e-01, 7.5068498e-01, 6.9210362e-01],\n",
              "       [8.7932229e-01, 1.7571449e-04, 9.3903482e-01]], dtype=float32)>"
            ]
          },
          "metadata": {
            "tags": []
          },
          "execution_count": 17
        }
      ]
    },
    {
      "cell_type": "markdown",
      "metadata": {
        "id": "aqTTp_7CGPjw"
      },
      "source": [
        "# Tensorflow의 keras를 활용해서 MNIST 분류기 만들어 보기"
      ]
    },
    {
      "cell_type": "code",
      "metadata": {
        "id": "5zVHYtuaGexE"
      },
      "source": [
        "import tensorflow as tf\n",
        "\n",
        "# keras에 필요한 레이어가 다 준비가 되어 있어요. 갖다가 쓰기만 하면 된다.\n",
        "from tensorflow.keras.layers import Dense, Flatten\n",
        "\n",
        "# 레이어를 묶어 놓을 모델이 있어어 함\n",
        "from tensorflow.keras.models import Sequential"
      ],
      "execution_count": null,
      "outputs": []
    },
    {
      "cell_type": "code",
      "metadata": {
        "colab": {
          "base_uri": "https://localhost:8080/"
        },
        "id": "E45_aAN4HQVd",
        "outputId": "23a265de-702c-4d12-df34-09e1439e61ea"
      },
      "source": [
        "mnist = tf.keras.datasets.mnist\n",
        "\n",
        "(X_train, y_train), (X_test, y_test) = mnist.load_data()"
      ],
      "execution_count": null,
      "outputs": [
        {
          "output_type": "stream",
          "text": [
            "Downloading data from https://storage.googleapis.com/tensorflow/tf-keras-datasets/mnist.npz\n",
            "11493376/11490434 [==============================] - 0s 0us/step\n"
          ],
          "name": "stdout"
        }
      ]
    },
    {
      "cell_type": "code",
      "metadata": {
        "colab": {
          "base_uri": "https://localhost:8080/"
        },
        "id": "IR0yGml6HWK2",
        "outputId": "bb2874ac-f37f-4b92-b165-74114969778c"
      },
      "source": [
        "X_train.shape, y_train.shape"
      ],
      "execution_count": null,
      "outputs": [
        {
          "output_type": "execute_result",
          "data": {
            "text/plain": [
              "((60000, 28, 28), (60000,))"
            ]
          },
          "metadata": {
            "tags": []
          },
          "execution_count": 20
        }
      ]
    },
    {
      "cell_type": "code",
      "metadata": {
        "id": "vgDTkcH4Ha7J"
      },
      "source": [
        "# 이미지 정규화 -  / 255.0\n",
        "X_train = X_train / 255.0\n",
        "X_test  = X_test / 255.0"
      ],
      "execution_count": null,
      "outputs": []
    },
    {
      "cell_type": "code",
      "metadata": {
        "colab": {
          "base_uri": "https://localhost:8080/"
        },
        "id": "EgHrD5QeHo_O",
        "outputId": "9e291cd6-e298-4c99-8bdd-89084c6c5dbd"
      },
      "source": [
        "# 케라스의 Sequential 모델을 사용하여 모델링 하기\n",
        "\n",
        "# Dense레이어를 이용해서 Fully Connected Layer 구축\n",
        "#  데이터가 어쨋든간에 평탄화가 되어야 한다. -> Flatten 레이어를 사용\n",
        "\n",
        "num_classes = 10\n",
        "\n",
        "model = Sequential([\n",
        "  Flatten(input_shape=(28, 28)), # 평탄화 레이어. 항상 첫 번째 레이어는 input_shape을 지정해야 합니다.(배치를 제외한)\n",
        "  # Fully Connected Layer 설정하기( Dense )\n",
        "  Dense(512, activation='relu'), # 은닉 1층\n",
        "  Dense(256, activation='relu'), # 은닉 2층\n",
        "  Dense(128, activation='relu'), # 은닉 3층\n",
        "\n",
        "  Dense(num_classes, activation='softmax') # 출력층의 활성화 함수는 softmax\n",
        "])\n",
        "\n",
        "model.summary()"
      ],
      "execution_count": null,
      "outputs": [
        {
          "output_type": "stream",
          "text": [
            "Model: \"sequential\"\n",
            "_________________________________________________________________\n",
            "Layer (type)                 Output Shape              Param #   \n",
            "=================================================================\n",
            "flatten (Flatten)            (None, 784)               0         \n",
            "_________________________________________________________________\n",
            "dense (Dense)                (None, 512)               401920    \n",
            "_________________________________________________________________\n",
            "dense_1 (Dense)              (None, 256)               131328    \n",
            "_________________________________________________________________\n",
            "dense_2 (Dense)              (None, 128)               32896     \n",
            "_________________________________________________________________\n",
            "dense_3 (Dense)              (None, 10)                1290      \n",
            "=================================================================\n",
            "Total params: 567,434\n",
            "Trainable params: 567,434\n",
            "Non-trainable params: 0\n",
            "_________________________________________________________________\n"
          ],
          "name": "stdout"
        }
      ]
    },
    {
      "cell_type": "code",
      "metadata": {
        "colab": {
          "base_uri": "https://localhost:8080/"
        },
        "id": "8yr1nDwXMMEv",
        "outputId": "6551f52d-dfac-4fd3-91a9-5f91b4a0c76a"
      },
      "source": [
        "y_train.shape"
      ],
      "execution_count": null,
      "outputs": [
        {
          "output_type": "execute_result",
          "data": {
            "text/plain": [
              "(60000,)"
            ]
          },
          "metadata": {
            "tags": []
          },
          "execution_count": 24
        }
      ]
    },
    {
      "cell_type": "code",
      "metadata": {
        "id": "nQrKdVJiHxMe"
      },
      "source": [
        "# 학습을 하기위해서 모델에 대한 최적화 기법, loss 선정, 평가 기준\n",
        "model.compile(\n",
        "    optimizer=\"adam\",  # 최적화 기법\n",
        "    loss=\"sparse_categorical_crossentropy\", # 다중 분류, OHE 안되어있을 때 쓴다.\n",
        "    metrics=[\"acc\"]\n",
        ")"
      ],
      "execution_count": null,
      "outputs": []
    },
    {
      "cell_type": "code",
      "metadata": {
        "colab": {
          "base_uri": "https://localhost:8080/"
        },
        "id": "sFer6L2tMkGr",
        "outputId": "54500efe-66aa-4d57-bf0b-5856b27a3500"
      },
      "source": [
        "# 훈련 시작\n",
        "model.fit(X_train,\n",
        "          y_train,\n",
        "          validation_split=0.2, # 훈련 데이터의 20%를 검증용 데이터로 사용하겠다.\n",
        "          epochs=20, # 에폭 횟수\n",
        "          batch_size=32\n",
        "          )"
      ],
      "execution_count": null,
      "outputs": [
        {
          "output_type": "stream",
          "text": [
            "Epoch 1/20\n",
            "1500/1500 [==============================] - 5s 2ms/step - loss: 0.3749 - acc: 0.8834 - val_loss: 0.1198 - val_acc: 0.9626\n",
            "Epoch 2/20\n",
            "1500/1500 [==============================] - 3s 2ms/step - loss: 0.0911 - acc: 0.9711 - val_loss: 0.1015 - val_acc: 0.9703\n",
            "Epoch 3/20\n",
            "1500/1500 [==============================] - 3s 2ms/step - loss: 0.0628 - acc: 0.9802 - val_loss: 0.1094 - val_acc: 0.9692\n",
            "Epoch 4/20\n",
            "1500/1500 [==============================] - 3s 2ms/step - loss: 0.0459 - acc: 0.9861 - val_loss: 0.1115 - val_acc: 0.9706\n",
            "Epoch 5/20\n",
            "1500/1500 [==============================] - 3s 2ms/step - loss: 0.0357 - acc: 0.9890 - val_loss: 0.1115 - val_acc: 0.9712\n",
            "Epoch 6/20\n",
            "1500/1500 [==============================] - 3s 2ms/step - loss: 0.0319 - acc: 0.9906 - val_loss: 0.0851 - val_acc: 0.9797\n",
            "Epoch 7/20\n",
            "1500/1500 [==============================] - 3s 2ms/step - loss: 0.0266 - acc: 0.9917 - val_loss: 0.0936 - val_acc: 0.9767\n",
            "Epoch 8/20\n",
            "1500/1500 [==============================] - 3s 2ms/step - loss: 0.0250 - acc: 0.9919 - val_loss: 0.0917 - val_acc: 0.9779\n",
            "Epoch 9/20\n",
            "1500/1500 [==============================] - 3s 2ms/step - loss: 0.0198 - acc: 0.9933 - val_loss: 0.1008 - val_acc: 0.9770\n",
            "Epoch 10/20\n",
            "1500/1500 [==============================] - 3s 2ms/step - loss: 0.0181 - acc: 0.9937 - val_loss: 0.1195 - val_acc: 0.9751\n",
            "Epoch 11/20\n",
            "1500/1500 [==============================] - 3s 2ms/step - loss: 0.0197 - acc: 0.9942 - val_loss: 0.1139 - val_acc: 0.9782\n",
            "Epoch 12/20\n",
            "1500/1500 [==============================] - 3s 2ms/step - loss: 0.0171 - acc: 0.9951 - val_loss: 0.1074 - val_acc: 0.9772\n",
            "Epoch 13/20\n",
            "1500/1500 [==============================] - 3s 2ms/step - loss: 0.0164 - acc: 0.9960 - val_loss: 0.1179 - val_acc: 0.9778\n",
            "Epoch 14/20\n",
            "1500/1500 [==============================] - 3s 2ms/step - loss: 0.0134 - acc: 0.9963 - val_loss: 0.1283 - val_acc: 0.9763\n",
            "Epoch 15/20\n",
            "1500/1500 [==============================] - 3s 2ms/step - loss: 0.0108 - acc: 0.9967 - val_loss: 0.1189 - val_acc: 0.9790\n",
            "Epoch 16/20\n",
            "1500/1500 [==============================] - 3s 2ms/step - loss: 0.0110 - acc: 0.9969 - val_loss: 0.1180 - val_acc: 0.9781\n",
            "Epoch 17/20\n",
            "1500/1500 [==============================] - 3s 2ms/step - loss: 0.0071 - acc: 0.9979 - val_loss: 0.1828 - val_acc: 0.9734\n",
            "Epoch 18/20\n",
            "1500/1500 [==============================] - 3s 2ms/step - loss: 0.0125 - acc: 0.9961 - val_loss: 0.1413 - val_acc: 0.9783\n",
            "Epoch 19/20\n",
            "1500/1500 [==============================] - 3s 2ms/step - loss: 0.0111 - acc: 0.9966 - val_loss: 0.1464 - val_acc: 0.9772\n",
            "Epoch 20/20\n",
            "1500/1500 [==============================] - 3s 2ms/step - loss: 0.0080 - acc: 0.9975 - val_loss: 0.1427 - val_acc: 0.9783\n"
          ],
          "name": "stdout"
        },
        {
          "output_type": "execute_result",
          "data": {
            "text/plain": [
              "<tensorflow.python.keras.callbacks.History at 0x7f1b7c9af190>"
            ]
          },
          "metadata": {
            "tags": []
          },
          "execution_count": 26
        }
      ]
    },
    {
      "cell_type": "markdown",
      "metadata": {
        "id": "NIXlPA62NEoT"
      },
      "source": [
        "# CNN 구축하기"
      ]
    },
    {
      "cell_type": "code",
      "metadata": {
        "id": "YFKkrqIkNnVt"
      },
      "source": [
        "import tensorflow as tf\n",
        "from tensorflow.keras import datasets\n",
        "\n",
        "import matplotlib.pyplot as plt\n",
        "%matplotlib inline"
      ],
      "execution_count": null,
      "outputs": []
    },
    {
      "cell_type": "code",
      "metadata": {
        "id": "nU8iZ218NvPJ"
      },
      "source": [
        "(X_train, y_train), (X_test, y_test) = datasets.mnist.load_data()"
      ],
      "execution_count": null,
      "outputs": []
    },
    {
      "cell_type": "code",
      "metadata": {
        "colab": {
          "base_uri": "https://localhost:8080/"
        },
        "id": "PQ4DIoLrNzUe",
        "outputId": "ccd0259a-b322-46c3-b22f-1472824a7811"
      },
      "source": [
        "# 이미지를 가져왔으니까 시각화 해보고, 형상(shape) 확인하기\n",
        "image = X_train[0]\n",
        "image.shape"
      ],
      "execution_count": null,
      "outputs": [
        {
          "output_type": "execute_result",
          "data": {
            "text/plain": [
              "(28, 28)"
            ]
          },
          "metadata": {
            "tags": []
          },
          "execution_count": 29
        }
      ]
    },
    {
      "cell_type": "code",
      "metadata": {
        "colab": {
          "base_uri": "https://localhost:8080/",
          "height": 265
        },
        "id": "F3Eiq-6_OCUJ",
        "outputId": "cb3c241e-d34f-42c0-d05b-b2440947a96a"
      },
      "source": [
        "plt.imshow(image, 'gray')\n",
        "plt.show()"
      ],
      "execution_count": null,
      "outputs": [
        {
          "output_type": "display_data",
          "data": {
            "image/png": "[encoded data removed]",
            "text/plain": [
              "<Figure size 432x288 with 1 Axes>"
            ]
          },
          "metadata": {
            "tags": [],
            "needs_background": "light"
          }
        }
      ]
    },
    {
      "cell_type": "code",
      "metadata": {
        "colab": {
          "base_uri": "https://localhost:8080/"
        },
        "id": "tdumHl7sOE-o",
        "outputId": "af66e3f4-5a39-44a5-cfce-1bc5bfa67fa0"
      },
      "source": [
        "# 실제 CNN 레이어에 데이터를 집어 넣기 위해서는 4차원 데이터를 유지 해야 한다.\n",
        "# ( N, H, W, C ) -> ( 배치크기, 높이, 가로, 채널 )\n",
        "# MNIST 손글씨 이미지 : 높이 - 28px, 가로 - 28px, 채널 - 1채널 ( 28, 28, 1 )\n",
        "# 장수는 한장만 할거니까 (28, 28) -> (1, 28, 28, 1)로 바꿔 준다.\n",
        "image = image[np.newaxis, ..., np.newaxis]\n",
        "image.shape"
      ],
      "execution_count": null,
      "outputs": [
        {
          "output_type": "execute_result",
          "data": {
            "text/plain": [
              "(1, 28, 28, 1)"
            ]
          },
          "metadata": {
            "tags": []
          },
          "execution_count": 31
        }
      ]
    },
    {
      "cell_type": "markdown",
      "metadata": {
        "id": "JjN13Zg8OsKH"
      },
      "source": [
        "# Conv2D 레이어 사용하기\n",
        "* Keras의 대표적인 CNN 레이어는 두가지가 있다.\n",
        "  1. Conv2D\n",
        "    * `stride`가 2 방향으로 움직인다.( 가로, 세로 )\n",
        "    * 이미지 분석을 위해 사용되는 일반적인 합성곱 레이어\n",
        "  2. Conv1D\n",
        "    * `stride`가 한쪽 방향으로만 움직인다.( 세로 )\n",
        "    * 텍스트 분석을 위해 사용되는 레이어. ( `char CNN` 등등 )\n",
        "----\n",
        "## 매개변수 정리\n",
        "* `filters` : 필터의 개수\n",
        "* `kernel_size` : 필터의 세로, 가로 크기\n",
        "* `strides` : 몇 개의 픽셀을 스킵 하면서 필터가 이미지를 훑게 할지 결정 (세로로 움직일 크기, 가로로 움직을 크기)\n",
        "* `padding` : 0으로 쌓여진 패딩을 만들 것인지에 대한 설정\n",
        "  * `VALID` : 패딩을 만들지 않음\n",
        "  * `SAME` : 패딩 생성"
      ]
    },
    {
      "cell_type": "code",
      "metadata": {
        "colab": {
          "base_uri": "https://localhost:8080/"
        },
        "id": "O3qdEiPLPMal",
        "outputId": "e92b2bb7-6df6-45d3-e07d-ee817c790005"
      },
      "source": [
        "tf.keras.layers.Conv2D(\n",
        "    filters=3, # 필터 개수\n",
        "    kernel_size = (3, 3), # 필터의 세로, 가로 크기\n",
        "    strides= (1, 1), # 필터가 움직이는 크기\n",
        "    padding='SAME', # 패딩 여부\n",
        "    activation='relu' # 활성화 함수 적용( 여기서 안넣고 활성화 함수 레이어로 적용 가능 )\n",
        ")"
      ],
      "execution_count": null,
      "outputs": [
        {
          "output_type": "execute_result",
          "data": {
            "text/plain": [
              "<tensorflow.python.keras.layers.convolutional.Conv2D at 0x7f1b795bc4d0>"
            ]
          },
          "metadata": {
            "tags": []
          },
          "execution_count": 32
        }
      ]
    },
    {
      "cell_type": "code",
      "metadata": {
        "colab": {
          "base_uri": "https://localhost:8080/"
        },
        "id": "4d0T4eZNQUFa",
        "outputId": "ae0e32a8-0af2-4655-9633-616164b3a25d"
      },
      "source": [
        "# 필터의 세로, 가로 크기 및 스트라이드의 세로 가로가 똑같다면 굳이 튜플로 넣어줄 필요는 없다.\n",
        "tf.keras.layers.Conv2D(\n",
        "    filters=3,\n",
        "    kernel_size=3,\n",
        "    strides=1,\n",
        "    padding='SAME',\n",
        "    activation='relu'\n",
        ")"
      ],
      "execution_count": null,
      "outputs": [
        {
          "output_type": "execute_result",
          "data": {
            "text/plain": [
              "<tensorflow.python.keras.layers.convolutional.Conv2D at 0x7f1b78cad390>"
            ]
          },
          "metadata": {
            "tags": []
          },
          "execution_count": 33
        }
      ]
    },
    {
      "cell_type": "markdown",
      "metadata": {
        "id": "8iHp4sGxQjO1"
      },
      "source": [
        "# Conv 레이어 시각화"
      ]
    },
    {
      "cell_type": "code",
      "metadata": {
        "colab": {
          "base_uri": "https://localhost:8080/"
        },
        "id": "1nqpma2yQujT",
        "outputId": "947a9a82-b29a-4565-c9d0-71f361b5846c"
      },
      "source": [
        "# image를 tensor로 만들기\n",
        "image = tf.cast(image, dtype=tf.float32)\n",
        "image.dtype"
      ],
      "execution_count": null,
      "outputs": [
        {
          "output_type": "execute_result",
          "data": {
            "text/plain": [
              "tf.float32"
            ]
          },
          "metadata": {
            "tags": []
          },
          "execution_count": 34
        }
      ]
    },
    {
      "cell_type": "code",
      "metadata": {
        "id": "8Zv1s0OjQ3xW"
      },
      "source": [
        "layer = tf.keras.layers.Conv2D(filters=5, kernel_size=3, strides=1, padding='SAME')"
      ],
      "execution_count": null,
      "outputs": []
    },
    {
      "cell_type": "code",
      "metadata": {
        "colab": {
          "base_uri": "https://localhost:8080/"
        },
        "id": "Zsr9UdkcRH6S",
        "outputId": "9fd4c05b-7eb7-455f-94be-1dbf93738409"
      },
      "source": [
        "# tensorflow에서 레이어에 데이터를 전달 하는 방법\n",
        "output = layer(image)\n",
        "output.shape"
      ],
      "execution_count": null,
      "outputs": [
        {
          "output_type": "execute_result",
          "data": {
            "text/plain": [
              "TensorShape([1, 28, 28, 5])"
            ]
          },
          "metadata": {
            "tags": []
          },
          "execution_count": 36
        }
      ]
    },
    {
      "cell_type": "code",
      "metadata": {
        "colab": {
          "base_uri": "https://localhost:8080/",
          "height": 223
        },
        "id": "tGg1uQXdRcDl",
        "outputId": "4bba1b7f-ec57-4e13-a8c3-da6287bda957"
      },
      "source": [
        "# MNIST 이미지 5에 대한 Conv 레이어 통과 후 시각화\n",
        "\n",
        "_, axes = plt.subplots(nrows=1, ncols=6, figsize=(20, 10))\n",
        "axes[0].imshow(image[0, ..., 0], cmap='gray')\n",
        "axes[0].set_title(\"Original Image\")\n",
        "\n",
        "for idx, ax in enumerate(axes[1: ]):\n",
        "  ax.set_title(\"Output : {}\".format(idx + 1))\n",
        "  ax.imshow(output[0, ..., idx], cmap='gray')\n",
        "\n",
        "plt.show()"
      ],
      "execution_count": null,
      "outputs": [
        {
          "output_type": "display_data",
          "data": {
            "image/png": "[encoded data removed]",
            "text/plain": [
              "<Figure size 1440x720 with 6 Axes>"
            ]
          },
          "metadata": {
            "tags": [],
            "needs_background": "light"
          }
        }
      ]
    },
    {
      "cell_type": "markdown",
      "metadata": {
        "id": "YNn0ogr9R0JV"
      },
      "source": [
        "# Filter 시각화 하기\n",
        "* CNN에서 Filter의 역할은 실제 CNN 레이어가 이미지의 무엇을 보고 있는가를 이야기 한다.\n",
        "* keras의 레이어들은 `get_weights()` 함수를 이용해서 편향과 가중치 등을 볼 수 있다."
      ]
    },
    {
      "cell_type": "code",
      "metadata": {
        "id": "mfCrQweiSQew"
      },
      "source": [
        "# 케라스의 모든 계산 가능한 레이어에서 매개변수 뽑아내기( 가중치, 편향 )\n",
        "# layer - Conv2D 레이어의 필터 모양 : ( 3, 3, 1, 5 ) - ( 필터 세로, 필터 가로, 필터의 채널 수, 필터의 개수 )\n",
        "weights = layer.get_weights()"
      ],
      "execution_count": null,
      "outputs": []
    },
    {
      "cell_type": "code",
      "metadata": {
        "colab": {
          "base_uri": "https://localhost:8080/"
        },
        "id": "bnuCW_WtSl5-",
        "outputId": "9bd56415-15fe-453b-c12a-6caaef0bc6b7"
      },
      "source": [
        "print(\"가중치의 형상 : {}\".format(weights[0].shape))\n",
        "print(\"편향의 형상 : {}\".format(weights[1].shape))"
      ],
      "execution_count": null,
      "outputs": [
        {
          "output_type": "stream",
          "text": [
            "가중치의 형상 : (3, 3, 1, 5)\n",
            "편향의 형상 : (5,)\n"
          ],
          "name": "stdout"
        }
      ]
    },
    {
      "cell_type": "code",
      "metadata": {
        "colab": {
          "base_uri": "https://localhost:8080/",
          "height": 254
        },
        "id": "qWwKRKQOSsR6",
        "outputId": "c2c687ae-fc43-4fd7-8a29-1bda4409d7c7"
      },
      "source": [
        "# 시각화\n",
        "_, axes = plt.subplots(nrows=1, ncols=5, figsize=(20, 10))\n",
        "\n",
        "for idx, ax in enumerate(axes):\n",
        "  ax.set_title(\"Filter {}\".format(idx + 1))\n",
        "  ax.imshow(weights[0][..., 0, idx], cmap='gray')\n",
        "  \n",
        "plt.show()"
      ],
      "execution_count": null,
      "outputs": [
        {
          "output_type": "display_data",
          "data": {
            "image/png": "[encoded data removed]",
            "text/plain": [
              "<Figure size 1440x720 with 5 Axes>"
            ]
          },
          "metadata": {
            "tags": [],
            "needs_background": "light"
          }
        }
      ]
    },
    {
      "cell_type": "markdown",
      "metadata": {
        "id": "qo1P4NjYSx9n"
      },
      "source": [
        "# ReLU 레이어 시각화\n",
        "* 이미지 분석에서 ReLU가 자주 사용된다.\n",
        "* 이미지 데이터에서 음수 데이터는 필요가 없는 데이터이다.\n",
        "  * 필요 없는 음수 데이터는 제거하고, 의미 있는 양수 데이터만 강조하기 위해서 사용"
      ]
    },
    {
      "cell_type": "code",
      "metadata": {
        "colab": {
          "base_uri": "https://localhost:8080/"
        },
        "id": "0mhkginkTEx8",
        "outputId": "9b959f42-0dd3-4927-a51f-dc38f290103f"
      },
      "source": [
        "np.min(output), np.max(output)"
      ],
      "execution_count": null,
      "outputs": [
        {
          "output_type": "execute_result",
          "data": {
            "text/plain": [
              "(-200.86574, 208.96964)"
            ]
          },
          "metadata": {
            "tags": []
          },
          "execution_count": 41
        }
      ]
    },
    {
      "cell_type": "code",
      "metadata": {
        "id": "bdiFA8AbTJV3"
      },
      "source": [
        "act_layer = tf.keras.layers.ReLU()\n",
        "act_output = act_layer(output) # Conv 결과를 활성화 레이어에 집어 넣는다.\n",
        "act_output.shape"
      ],
      "execution_count": null,
      "outputs": []
    }
  ]
}