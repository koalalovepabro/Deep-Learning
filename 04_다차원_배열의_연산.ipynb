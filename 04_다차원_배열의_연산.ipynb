{
  "nbformat": 4,
  "nbformat_minor": 0,
  "metadata": {
    "colab": {
      "name": "04. 다차원 배열의 연산",
      "provenance": [],
      "collapsed_sections": [],
      "include_colab_link": true
    },
    "kernelspec": {
      "name": "python3",
      "display_name": "Python 3"
    },
    "language_info": {
      "name": "python"
    }
  },
  "cells": [
    {
      "cell_type": "markdown",
      "metadata": {
        "id": "view-in-github",
        "colab_type": "text"
      },
      "source": [
        "<a href=\"https://colab.research.google.com/github/koalalovepabro/Deep-Learning/blob/main/04_%EB%8B%A4%EC%B0%A8%EC%9B%90_%EB%B0%B0%EC%97%B4%EC%9D%98_%EC%97%B0%EC%82%B0.ipynb\" target=\"_parent\"><img src=\"https://colab.research.google.com/assets/colab-badge.svg\" alt=\"Open In Colab\"/></a>"
      ]
    },
    {
      "cell_type": "code",
      "metadata": {
        "id": "umntIKiW999b"
      },
      "source": [
        "import numpy as np"
      ],
      "execution_count": null,
      "outputs": []
    },
    {
      "cell_type": "markdown",
      "metadata": {
        "id": "9FaK51eZ-D_t"
      },
      "source": [
        "# 행렬의 내적\n",
        "2차원 배열인 행렬의 내적을 구하는 방법\n",
        "$$\n",
        "\\begin{pmatrix}\n",
        "a & b \\\\\n",
        "c & d \\\\\n",
        "\\end{pmatrix}\n",
        "\\times\n",
        "\\begin{pmatrix} \n",
        "p & q \\\\\n",
        "r & s \\\\\n",
        "\\end{pmatrix}\n",
        "= \\begin{pmatrix} \n",
        "ap+br & aq+bs \\\\\n",
        "cp+dr & cq+ds \\\\\n",
        "\\end{pmatrix}\n",
        "$$\n",
        "\n",
        "행렬의 내적은\n",
        "* 왼쪽 행렬의 행(가로)과 오른쪽 행렬의 열(세로)을 원소 별로 곱하고 그 값들을 더한다.\n",
        "* 계산의 결과가 새로운 다차원 배열의 원소가 된다.\n",
        "* 행렬은 보통 대문자로 표기하는 것이 관례"
      ]
    },
    {
      "cell_type": "code",
      "metadata": {
        "colab": {
          "base_uri": "https://localhost:8080/"
        },
        "id": "6ARfrM5v-XGe",
        "outputId": "834bc39a-6942-48cf-88cd-d61fcfbd196e"
      },
      "source": [
        "A = np.array([[1, 2],\n",
        "              [3, 4]])\n",
        "\n",
        "B = np.array([[5, 6],\n",
        "              [7, 8]])\n",
        "\n",
        "print(\"행렬 A의 shape : {}\".format(A.shape))\n",
        "print(\"행렬 B의 shape : {}\".format(B.shape))"
      ],
      "execution_count": null,
      "outputs": [
        {
          "output_type": "stream",
          "text": [
            "행렬 A의 shape : (2, 2)\n",
            "행렬 B의 shape : (2, 2)\n"
          ],
          "name": "stdout"
        }
      ]
    },
    {
      "cell_type": "code",
      "metadata": {
        "colab": {
          "base_uri": "https://localhost:8080/"
        },
        "id": "5DNMNsNw_WyG",
        "outputId": "c574fd90-b11a-40b3-df6a-3be6647a759d"
      },
      "source": [
        "# 행렬의 내적은 연산자 @ 를 사용하거나 np.dot 함수를 사용하면 구할 수 있다.\n",
        "print(\"A와 B의 내적 : \\n{}\".format(np.dot(A, B)))"
      ],
      "execution_count": null,
      "outputs": [
        {
          "output_type": "stream",
          "text": [
            "A와 B의 내적 : \n",
            "[[19 22]\n",
            " [43 50]]\n"
          ],
          "name": "stdout"
        }
      ]
    },
    {
      "cell_type": "code",
      "metadata": {
        "colab": {
          "base_uri": "https://localhost:8080/"
        },
        "id": "w8G1EOQv_z0T",
        "outputId": "c92f013e-ec6c-4371-e7a1-5a92c622a374"
      },
      "source": [
        "print(\"A와 B의 내적 : \\n{}\".format(A @ B))"
      ],
      "execution_count": null,
      "outputs": [
        {
          "output_type": "stream",
          "text": [
            "A와 B의 내적 : \n",
            "[[19 22]\n",
            " [43 50]]\n"
          ],
          "name": "stdout"
        }
      ]
    },
    {
      "cell_type": "markdown",
      "metadata": {
        "id": "vLUGzjpo_7CH"
      },
      "source": [
        "행렬의 내적은 교환법칙이 성립되지 않는다.\n",
        "\n",
        "$$\n",
        "A \\times B \\ne B \\times A\n",
        "$$"
      ]
    },
    {
      "cell_type": "code",
      "metadata": {
        "colab": {
          "base_uri": "https://localhost:8080/"
        },
        "id": "c4toUgTxAG1k",
        "outputId": "07daf675-2abf-46f8-f23b-224451729496"
      },
      "source": [
        "print(A @ B)"
      ],
      "execution_count": null,
      "outputs": [
        {
          "output_type": "stream",
          "text": [
            "[[19 22]\n",
            " [43 50]]\n"
          ],
          "name": "stdout"
        }
      ]
    },
    {
      "cell_type": "code",
      "metadata": {
        "colab": {
          "base_uri": "https://localhost:8080/"
        },
        "id": "_CiOOPKgANmg",
        "outputId": "7d6300bc-e26e-47e4-ef5a-298fb679f8ee"
      },
      "source": [
        "print(B @ A)"
      ],
      "execution_count": null,
      "outputs": [
        {
          "output_type": "stream",
          "text": [
            "[[23 34]\n",
            " [31 46]]\n"
          ],
          "name": "stdout"
        }
      ]
    },
    {
      "cell_type": "markdown",
      "metadata": {
        "id": "3P99I9ZYAO9N"
      },
      "source": [
        "# 행과 열의 개수가 다른 상태에서의 행렬 내적\n",
        "규칙 : 첫 번째 행렬의 1번째 차원의 원소의 수(열의 수)와, 두 번째 행렬의 0번째 차원의 원소수 (행의 수)가 일치하면 행렬의 내적을 구할 수 있다."
      ]
    },
    {
      "cell_type": "code",
      "metadata": {
        "colab": {
          "base_uri": "https://localhost:8080/"
        },
        "id": "COWjxW5vAmF2",
        "outputId": "fefd1f08-64b1-4975-c6c5-aebe941aa31e"
      },
      "source": [
        "A = np.array([[1, 2, 3],\n",
        "              [4, 5, 6]]) # shape : (2, 3)\n",
        "\n",
        "B = np.array([[1, 2],\n",
        "              [3, 4],\n",
        "              [5, 6]]) # shape : (3, 2)\n",
        "\n",
        "print(A @ B)"
      ],
      "execution_count": null,
      "outputs": [
        {
          "output_type": "stream",
          "text": [
            "[[22 28]\n",
            " [49 64]]\n"
          ],
          "name": "stdout"
        }
      ]
    },
    {
      "cell_type": "code",
      "metadata": {
        "colab": {
          "base_uri": "https://localhost:8080/"
        },
        "id": "wvKipVc1A5aD",
        "outputId": "8c1934dc-b550-46a7-bf83-8166e37a80f8"
      },
      "source": [
        "print( B @ A ) # (3, 2) (2, 3)"
      ],
      "execution_count": null,
      "outputs": [
        {
          "output_type": "stream",
          "text": [
            "[[ 9 12 15]\n",
            " [19 26 33]\n",
            " [29 40 51]]\n"
          ],
          "name": "stdout"
        }
      ]
    },
    {
      "cell_type": "code",
      "metadata": {
        "colab": {
          "base_uri": "https://localhost:8080/",
          "height": 213
        },
        "id": "0jXAlq4GB-fx",
        "outputId": "87116567-3043-4ad6-e881-d87da57b9080"
      },
      "source": [
        "C = np.array([[1, 2],\n",
        "              [3, 4]])\n",
        "\n",
        "print( A @ C ) # (2, 3) (2, 2) -> X"
      ],
      "execution_count": null,
      "outputs": [
        {
          "output_type": "error",
          "ename": "ValueError",
          "evalue": "ignored",
          "traceback": [
            "\u001b[0;31m---------------------------------------------------------------------------\u001b[0m",
            "\u001b[0;31mValueError\u001b[0m                                Traceback (most recent call last)",
            "\u001b[0;32m<ipython-input-10-39bd6c599468>\u001b[0m in \u001b[0;36m<module>\u001b[0;34m()\u001b[0m\n\u001b[1;32m      2\u001b[0m               [3, 4]])\n\u001b[1;32m      3\u001b[0m \u001b[0;34m\u001b[0m\u001b[0m\n\u001b[0;32m----> 4\u001b[0;31m \u001b[0mprint\u001b[0m\u001b[0;34m(\u001b[0m \u001b[0mA\u001b[0m \u001b[0;34m@\u001b[0m \u001b[0mC\u001b[0m \u001b[0;34m)\u001b[0m \u001b[0;31m# (2, 3) (2, 2) -> X\u001b[0m\u001b[0;34m\u001b[0m\u001b[0;34m\u001b[0m\u001b[0m\n\u001b[0m",
            "\u001b[0;31mValueError\u001b[0m: matmul: Input operand 1 has a mismatch in its core dimension 0, with gufunc signature (n?,k),(k,m?)->(n?,m?) (size 2 is different from 3)"
          ]
        }
      ]
    },
    {
      "cell_type": "code",
      "metadata": {
        "colab": {
          "base_uri": "https://localhost:8080/"
        },
        "id": "ASMv4sSeCM7V",
        "outputId": "a6794aaf-15b5-445a-f2aa-f7c30da5da54"
      },
      "source": [
        "print( C @ A ) # (2, 2) (2, 3)"
      ],
      "execution_count": null,
      "outputs": [
        {
          "output_type": "stream",
          "text": [
            "[[ 9 12 15]\n",
            " [19 26 33]]\n"
          ],
          "name": "stdout"
        }
      ]
    },
    {
      "cell_type": "markdown",
      "metadata": {
        "id": "txIyqz95CUud"
      },
      "source": [
        "# 차원 수가 달라도 계산은 가능하다."
      ]
    },
    {
      "cell_type": "code",
      "metadata": {
        "colab": {
          "base_uri": "https://localhost:8080/"
        },
        "id": "tq-zI3lGCjn6",
        "outputId": "c60499b4-3b65-4835-e985-8def249130f4"
      },
      "source": [
        "A = np.array([[1, 2],\n",
        "              [3, 4],\n",
        "              [5, 6]])\n",
        "\n",
        "B = np.array([7, 8])\n",
        "\n",
        "A.shape, B.shape"
      ],
      "execution_count": null,
      "outputs": [
        {
          "output_type": "execute_result",
          "data": {
            "text/plain": [
              "((3, 2), (2,))"
            ]
          },
          "metadata": {
            "tags": []
          },
          "execution_count": 12
        }
      ]
    },
    {
      "cell_type": "code",
      "metadata": {
        "colab": {
          "base_uri": "https://localhost:8080/"
        },
        "id": "nALpWvcgCvcO",
        "outputId": "909b3a32-8a96-4b43-fd78-5a4580096a13"
      },
      "source": [
        "A @ B"
      ],
      "execution_count": null,
      "outputs": [
        {
          "output_type": "execute_result",
          "data": {
            "text/plain": [
              "array([23, 53, 83])"
            ]
          },
          "metadata": {
            "tags": []
          },
          "execution_count": 13
        }
      ]
    },
    {
      "cell_type": "code",
      "metadata": {
        "colab": {
          "base_uri": "https://localhost:8080/",
          "height": 176
        },
        "id": "UeZtb-1dC5B-",
        "outputId": "b9be0d41-033b-41b5-d601-9033ff609677"
      },
      "source": [
        "B @ A # (2, ) (3, 2)"
      ],
      "execution_count": null,
      "outputs": [
        {
          "output_type": "error",
          "ename": "ValueError",
          "evalue": "ignored",
          "traceback": [
            "\u001b[0;31m---------------------------------------------------------------------------\u001b[0m",
            "\u001b[0;31mValueError\u001b[0m                                Traceback (most recent call last)",
            "\u001b[0;32m<ipython-input-14-da85eb5ba608>\u001b[0m in \u001b[0;36m<module>\u001b[0;34m()\u001b[0m\n\u001b[0;32m----> 1\u001b[0;31m \u001b[0mB\u001b[0m \u001b[0;34m@\u001b[0m \u001b[0mA\u001b[0m \u001b[0;31m# (2, ) (3, 2)\u001b[0m\u001b[0;34m\u001b[0m\u001b[0;34m\u001b[0m\u001b[0m\n\u001b[0m",
            "\u001b[0;31mValueError\u001b[0m: matmul: Input operand 1 has a mismatch in its core dimension 0, with gufunc signature (n?,k),(k,m?)->(n?,m?) (size 3 is different from 2)"
          ]
        }
      ]
    }
  ]
}