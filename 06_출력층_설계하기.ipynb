{
  "nbformat": 4,
  "nbformat_minor": 0,
  "metadata": {
    "colab": {
      "name": "06. 출력층 설계하기",
      "provenance": [],
      "collapsed_sections": [],
      "include_colab_link": true
    },
    "kernelspec": {
      "name": "python3",
      "display_name": "Python 3"
    },
    "language_info": {
      "name": "python"
    }
  },
  "cells": [
    {
      "cell_type": "markdown",
      "metadata": {
        "id": "view-in-github",
        "colab_type": "text"
      },
      "source": [
        "<a href=\"https://colab.research.google.com/github/koalalovepabro/Deep-Learning/blob/main/06_%EC%B6%9C%EB%A0%A5%EC%B8%B5_%EC%84%A4%EA%B3%84%ED%95%98%EA%B8%B0.ipynb\" target=\"_parent\"><img src=\"https://colab.research.google.com/assets/colab-badge.svg\" alt=\"Open In Colab\"/></a>"
      ]
    },
    {
      "cell_type": "markdown",
      "metadata": {
        "id": "uqub-I-__izY"
      },
      "source": [
        "# 신경망의 사용처\n",
        "* 모든 머신러닝에 사용될 수 있다.\n",
        "* 분류와 회귀를 알아보자\n",
        "* 출력층의 활성화 함수에 따라서 목적(사용처)이 달라진다. ( 분류를 할지, 회귀를 할지 )\n",
        "* 일반적으로 항등 함수( identity function )을 활용하면 회귀\n",
        "* $softmax$ 또는 시그모이드($\\sigma$)를 활용하면 분류\n",
        "  * 시그모이드($\\sigma$) : 이진분류\n",
        "  * 소프트맥스 : 이진, 다중 분류"
      ]
    },
    {
      "cell_type": "markdown",
      "metadata": {
        "id": "DFK88T4pAV6v"
      },
      "source": [
        "# 소프트맥스 함수 구현하기\n",
        "$$\n",
        "y_k = \\frac{e^{z_k}}{\\sum_{i=1}^n e^{z_i}}\n",
        "$$\n",
        "\n",
        "* $k$ : $k$번째 출력 ( 클래스 번호 ) 0, 1, 2 ....\n",
        "* $z$ : 출력층에 있는 뉴런의 $WX+b$ 연산\n",
        "* $n$ : 전체 클래스의 개수\n"
      ]
    },
    {
      "cell_type": "code",
      "metadata": {
        "colab": {
          "base_uri": "https://localhost:8080/"
        },
        "id": "wd1-C-oPA2EI",
        "outputId": "b867ef63-5b38-4e34-b13f-e6526c47e779"
      },
      "source": [
        "import numpy as np\n",
        "\n",
        "z = np.array([0.3, 2.9, 4.0]) # 입력 신호\n",
        "\n",
        "# 분자 부분 계산\n",
        "exp_z = np.exp(z)\n",
        "\n",
        "# 분모 계산\n",
        "sum_exp_z = np.sum(exp_z) # 모든 입력 신호에 대한 지수함수의 합\n",
        "\n",
        "# 소프트맥스를 적용한 최종 예측값\n",
        "y = exp_z / sum_exp_z\n",
        "print(\"softmax 결과 : {}\".format(y))"
      ],
      "execution_count": null,
      "outputs": [
        {
          "output_type": "stream",
          "text": [
            "softmax 결과 : [0.01821127 0.24519181 0.73659691]\n"
          ],
          "name": "stdout"
        }
      ]
    },
    {
      "cell_type": "code",
      "metadata": {
        "colab": {
          "base_uri": "https://localhost:8080/"
        },
        "id": "mgHf2XSHDVSx",
        "outputId": "36658def-9b41-49ec-fb4b-55c789791ef8"
      },
      "source": [
        "print(\"softmax 결과의 원소의 총 합 : {}\".format(np.sum(y)))"
      ],
      "execution_count": null,
      "outputs": [
        {
          "output_type": "stream",
          "text": [
            "softmax 결과의 원소의 총 합 : 1.0\n"
          ],
          "name": "stdout"
        }
      ]
    },
    {
      "cell_type": "markdown",
      "metadata": {
        "id": "fw7kGsKyECAC"
      },
      "source": [
        "# softmax의 특징\n",
        "* 어떠한 실수 배열이 softmax를 지나게 되면 그 배열의 총합이 언제나 1.0이 된다.\n",
        "* 총 합이 1.0 이라는 것의 특징 : 확률로써 설명이 가능하다"
      ]
    },
    {
      "cell_type": "code",
      "metadata": {
        "id": "5joN57YqFBbN"
      },
      "source": [
        "# softmax 함수 구현하기\n",
        "def softmax(a):\n",
        "  # 분자\n",
        "  exp_a = np.exp(a)\n",
        "\n",
        "  # 분모\n",
        "  sum_exp_a = np.sum(exp_a)\n",
        "\n",
        "  y = exp_a / sum_exp_a\n",
        "  return y"
      ],
      "execution_count": null,
      "outputs": []
    },
    {
      "cell_type": "code",
      "metadata": {
        "colab": {
          "base_uri": "https://localhost:8080/"
        },
        "id": "ThbltGUtFXF2",
        "outputId": "a3202edf-b7d6-445e-f3c2-70e177ea5d9a"
      },
      "source": [
        "softmax(z)"
      ],
      "execution_count": null,
      "outputs": [
        {
          "output_type": "execute_result",
          "data": {
            "text/plain": [
              "array([0.01821127, 0.24519181, 0.73659691])"
            ]
          },
          "metadata": {
            "tags": []
          },
          "execution_count": 4
        }
      ]
    },
    {
      "cell_type": "code",
      "metadata": {
        "colab": {
          "base_uri": "https://localhost:8080/"
        },
        "id": "hrcYvKRtFXsf",
        "outputId": "1a733367-321f-4aee-9735-b4627bd2c391"
      },
      "source": [
        "a = np.array([1010, 1000, 990])\n",
        "np.exp(a)"
      ],
      "execution_count": null,
      "outputs": [
        {
          "output_type": "stream",
          "text": [
            "/usr/local/lib/python3.7/dist-packages/ipykernel_launcher.py:2: RuntimeWarning: overflow encountered in exp\n",
            "  \n"
          ],
          "name": "stderr"
        },
        {
          "output_type": "execute_result",
          "data": {
            "text/plain": [
              "array([inf, inf, inf])"
            ]
          },
          "metadata": {
            "tags": []
          },
          "execution_count": 5
        }
      ]
    },
    {
      "cell_type": "markdown",
      "metadata": {
        "id": "SFm7u_5SHNfi"
      },
      "source": [
        "# 소프트맥스 함수 튜닝\n",
        "* 소프트맥스 함수는 지수 함수를 사용\n",
        "* 따라서 입력값이 약간만 커져도 굉장히 큰 값을 연산해야 한다.\n",
        "* 예시\n",
        " * $e^{10}$ 만 되어도 20000 정도임\n",
        " * $e^{100}$ 0이 40개가 넘는 큰 숫자\n",
        " * $e^{1000}$ 무한대를 의미하는 `inf`\n",
        "\n",
        "수학적 기교로 튜닝하기\n",
        "\n",
        "$$\n",
        "y_k = \\frac{exp(a_k)}{\\sum_{i=1}^n exp(a_i)} = \\frac{C\\,exp(a_k)}{C\\,\\sum_{i=1}^n exp(a_i)} = \\frac{exp(a_k+logC)}{\\sum_{i=1}^n exp(a_i+logC)} = \\frac{exp(a_k+C^\\prime)}{\\sum_{i=1}^n exp(a_i+C^\\prime)} \n",
        "$$\n",
        "\n",
        "1. 분자 분모에 $C$라는 임의의 정수를 곱합니다.\n",
        "2. $C$를 지수 함수 `exp` 안으로 옮겨서 $logC$로 만들어 준다.\n",
        "3. $logC$를 $C^{\\prime}$이라는 새로운 기호로 만들어 준다."
      ]
    },
    {
      "cell_type": "code",
      "metadata": {
        "colab": {
          "base_uri": "https://localhost:8080/"
        },
        "id": "yw2jGqcRHokF",
        "outputId": "2aebdd37-5f31-4eee-85c9-8efd9e06b99d"
      },
      "source": [
        "# 튜닝된 소프트맥스\n",
        "# C 값 구하기 -> C는 어떤 값이 와도 상관은 없으나, 일반적으로는 배열에서 가장 큰 값이 옵니다.\n",
        "a = np.array([1010, 1000, 990])\n",
        "c = np.max(a)\n",
        "\n",
        "z = a-c\n",
        "print(z)\n",
        "print(np.exp(z) / np.sum(np.exp(z)))"
      ],
      "execution_count": null,
      "outputs": [
        {
          "output_type": "stream",
          "text": [
            "[  0 -10 -20]\n",
            "[9.99954600e-01 4.53978686e-05 2.06106005e-09]\n"
          ],
          "name": "stdout"
        }
      ]
    },
    {
      "cell_type": "code",
      "metadata": {
        "colab": {
          "base_uri": "https://localhost:8080/"
        },
        "id": "5oo0D4weJTF3",
        "outputId": "4d490654-12fb-4a1b-c909-e0a582ad20ec"
      },
      "source": [
        "def softmax(a):\n",
        "  c = np.max(a)\n",
        "  exp_a = np.exp(a-c)\n",
        "  sum_exp_a = np.sum(exp_a)\n",
        "\n",
        "  y = exp_a / sum_exp_a\n",
        "  return y\n",
        "\n",
        "np.sum(softmax(a))"
      ],
      "execution_count": null,
      "outputs": [
        {
          "output_type": "execute_result",
          "data": {
            "text/plain": [
              "1.0"
            ]
          },
          "metadata": {
            "tags": []
          },
          "execution_count": 11
        }
      ]
    },
    {
      "cell_type": "markdown",
      "metadata": {
        "id": "RMhywe89JrCG"
      },
      "source": [
        "# 출력층의 뉴런 수 정하기\n",
        "* 출력층의 뉴런 개수는 적절하게 정해줘야 한다.\n",
        "* 분류문제에서는 분류하고 싶은 클래스의 개수대로 설정하는 것이 가장 일반적\n",
        "* 예시\n",
        "  * 강아지, 고양이를 분류하는 모델을 만들고 싶어요\n",
        "    * 클래스의 개수 : 2개\n",
        "    * sigmoid를 쓰려면 뉴런의 개수가 1개\n",
        "    * softmax를 쓰려면 뉴런의 개수가 2개\n",
        "  * 손글씨 데이터 (MNIST)를 분류하는 모델을 만들고 싶어요\n",
        "    * 클래스의 개수 : 10개 ( 0 ~ 9 까지의 숫자 )\n",
        "    * 출력층의 뉴런을 10개로 설정해야 한다.\n",
        "    * 활성화 함수는 softmax만 사용이 가능하다.\n",
        "\n",
        "* 시그모이드 함수는 2진 분류에서만 사용이 가능\n",
        "* 소프트맥스 함수는 2진 분류, 다중 분류에서도 사용이 가능하다. ( 가장 범용적으로 사용이 된다. )"
      ]
    },
    {
      "cell_type": "markdown",
      "metadata": {
        "id": "FEhJL_haOPek"
      },
      "source": [
        "# MNIST 손글씨 데이터셋 분류 추론 모델 만들기\n",
        "* 학습은 하지 않고, 추론(predict)만 하는 모델을 만들어 보기\n",
        "* `sample_weight.pkl` 파일에 학습이 완료된 가중치와 편향이 들어 있음!"
      ]
    },
    {
      "cell_type": "markdown",
      "metadata": {
        "id": "fMybz27SO0zu"
      },
      "source": [
        "## Tensorflow MNIST 데이터 불러오고 형상 다루기"
      ]
    },
    {
      "cell_type": "code",
      "metadata": {
        "id": "dtqiDn7iPETq"
      },
      "source": [
        "import tensorflow as tf\n",
        "import matplotlib.pyplot as plt\n",
        "\n",
        "%matplotlib inline"
      ],
      "execution_count": null,
      "outputs": []
    },
    {
      "cell_type": "code",
      "metadata": {
        "colab": {
          "base_uri": "https://localhost:8080/"
        },
        "id": "dOm1Nx3DPQsS",
        "outputId": "af2ace51-4095-47c0-dad5-f4688638c791"
      },
      "source": [
        "# mnist 데이터셋 로딩\n",
        "from tensorflow.keras import datasets\n",
        "mnist = datasets.mnist\n",
        "\n",
        "(X_train, y_train), (X_test, y_test) = mnist.load_data()"
      ],
      "execution_count": null,
      "outputs": [
        {
          "output_type": "stream",
          "text": [
            "Downloading data from https://storage.googleapis.com/tensorflow/tf-keras-datasets/mnist.npz\n",
            "11493376/11490434 [==============================] - 0s 0us/step\n"
          ],
          "name": "stdout"
        }
      ]
    },
    {
      "cell_type": "markdown",
      "metadata": {
        "id": "FdwyXRCrPgWL"
      },
      "source": [
        "데이터의 형상 확인하기. ✨✨✨"
      ]
    },
    {
      "cell_type": "code",
      "metadata": {
        "colab": {
          "base_uri": "https://localhost:8080/"
        },
        "id": "dLLlComNP4ld",
        "outputId": "1b178f68-3fe7-4b56-94c4-ab69bcef9293"
      },
      "source": [
        "X_train.shape"
      ],
      "execution_count": null,
      "outputs": [
        {
          "output_type": "execute_result",
          "data": {
            "text/plain": [
              "(60000, 28, 28)"
            ]
          },
          "metadata": {
            "tags": []
          },
          "execution_count": 14
        }
      ]
    },
    {
      "cell_type": "code",
      "metadata": {
        "colab": {
          "base_uri": "https://localhost:8080/"
        },
        "id": "1VD3g6BrQXur",
        "outputId": "5c3a5fa9-f019-4b31-e65a-7ea2077873c3"
      },
      "source": [
        "y_train.shape"
      ],
      "execution_count": null,
      "outputs": [
        {
          "output_type": "execute_result",
          "data": {
            "text/plain": [
              "(60000,)"
            ]
          },
          "metadata": {
            "tags": []
          },
          "execution_count": 15
        }
      ]
    },
    {
      "cell_type": "markdown",
      "metadata": {
        "id": "MB2X_rvxQaYd"
      },
      "source": [
        "One Hot Encoding이 되어있었다면 y_train의 shape은?? `(60000, 10)`"
      ]
    },
    {
      "cell_type": "code",
      "metadata": {
        "colab": {
          "base_uri": "https://localhost:8080/"
        },
        "id": "nf6hE6mDUrgm",
        "outputId": "88e6416e-20fd-4e78-c600-235e5aaaa426"
      },
      "source": [
        "y_train[:3] # one hot encoding이 안되어 있는 상태 "
      ],
      "execution_count": null,
      "outputs": [
        {
          "output_type": "execute_result",
          "data": {
            "text/plain": [
              "array([5, 0, 4], dtype=uint8)"
            ]
          },
          "metadata": {
            "tags": []
          },
          "execution_count": 16
        }
      ]
    },
    {
      "cell_type": "code",
      "metadata": {
        "colab": {
          "base_uri": "https://localhost:8080/"
        },
        "id": "cESFjZj2U5X0",
        "outputId": "fb5a254e-28ca-48ca-fadd-090d8b2fb085"
      },
      "source": [
        "y_train_one_hot = tf.one_hot(y_train, 10) # 10 : 숫자는 10개니까 \n",
        "print(y_train_one_hot.shape)\n",
        "print(y_train_one_hot[:3])"
      ],
      "execution_count": null,
      "outputs": [
        {
          "output_type": "stream",
          "text": [
            "(60000, 10)\n",
            "tf.Tensor(\n",
            "[[0. 0. 0. 0. 0. 1. 0. 0. 0. 0.]\n",
            " [1. 0. 0. 0. 0. 0. 0. 0. 0. 0.]\n",
            " [0. 0. 0. 0. 1. 0. 0. 0. 0. 0.]], shape=(3, 10), dtype=float32)\n"
          ],
          "name": "stdout"
        }
      ]
    },
    {
      "cell_type": "markdown",
      "metadata": {
        "id": "Gc96GGupVCrI"
      },
      "source": [
        "### 데이터 확인하기\n",
        "* 이미지 데이터는 이미지를 표시하는 것"
      ]
    },
    {
      "cell_type": "code",
      "metadata": {
        "colab": {
          "base_uri": "https://localhost:8080/"
        },
        "id": "xvKm_1oQV5O5",
        "outputId": "2495c00f-9b7c-458e-ab6e-00ba9e4078ec"
      },
      "source": [
        "# 첫 번째 이미지 데이터 가져와서 시각화로 확인하기\n",
        "image = X_train[0]\n",
        "image.shape"
      ],
      "execution_count": null,
      "outputs": [
        {
          "output_type": "execute_result",
          "data": {
            "text/plain": [
              "(28, 28)"
            ]
          },
          "metadata": {
            "tags": []
          },
          "execution_count": 21
        }
      ]
    },
    {
      "cell_type": "markdown",
      "metadata": {
        "id": "UFaxYTIyV-V7"
      },
      "source": [
        "`C(Channel)` 데이터가 없기 때문에 `grayscale(흑백채널)` 이미지 라는 것을 알 수 있다."
      ]
    },
    {
      "cell_type": "code",
      "metadata": {
        "colab": {
          "base_uri": "https://localhost:8080/",
          "height": 281
        },
        "id": "HJkqyujlWI2G",
        "outputId": "4daa317f-43c8-40c9-884c-7178618c31af"
      },
      "source": [
        "# matplotlib을 이용한 이미지 시각화\n",
        "plt.imshow(image, 'gray')\n",
        "plt.title(y_train[0])\n",
        "plt.show()"
      ],
      "execution_count": null,
      "outputs": [
        {
          "output_type": "display_data",
          "data": {
            "image/png": "[encoded data removed]",
            "text/plain": [
              "<Figure size 432x288 with 1 Axes>"
            ]
          },
          "metadata": {
            "tags": [],
            "needs_background": "light"
          }
        }
      ]
    },
    {
      "cell_type": "markdown",
      "metadata": {
        "id": "fB3mUTEpWSGh"
      },
      "source": [
        "데이터를 신경망에 집어 넣을 준비 - 훈련과 학습, 테스트 모두 동일한 shape을 가져야 한다. **각 데이터를 모두 1차원 형식으로 집어넣어야 한다.**\n",
        "\n",
        "하나의 데이터를 1차원 배열( 벡터 )로 받는 신경망\n",
        "* 신경망 - Dense Layer ( 신경망 기술적인 표현으로 이야기 할 때 )\n",
        "* 기하학 - Affine Transformation ( Affine Layer )\n",
        "* 종합적 - Fully Connected Layer - 완전 연결 계층이란 표현으로 많이 사용\n",
        "\n",
        "-----\n",
        "신경망에 1장의 이미지 데이터를 입력할 수 있는 경우 확인하기 - shape을 확인하기\n",
        "* 몇 장인지에 대한 정보 없이 **세로 픽셀, 가로 픽셀만 있는 상황** : `(28, 28)` -> X\n",
        "* 몇 장인지에 대한 정보 없이 **이미지 정보를 평탄화 한 상황** : `(784, )` -> O\n",
        "----\n",
        "신경망에 N장의 이미지 데이터를 입력할 수 있는 경우 확인하기\n",
        "* 몇 장인지에 대한 정보가 존재하는 형태로 **세로 픽셀, 가로 픽셀의 정보가 있는 상황** : `(N, 28, 28)` -> X\n",
        "* 몇 장인지에 대한 정보가 존재하는 형태로 **이미지 정보를 평탄화 한 상황** : `(N, 784)` -> O\n",
        "----\n",
        "결론적으로 입력되는 데이터의 차원이 (N, M) 이면 신경망( F.C 레이어 )에 집어 넣을 수 있다.\n",
        "* `N` : 데이터의 개수 ( N장의 이미지 )\n",
        "* `M` : 데이터의 스칼라의 개수\n",
        "  * 데이터의 개수를 이야기를 안 하면 (1개의 데이터에 대한 이야기) : `(M, )` 또는 `(1, M)`\n",
        "  * 데이터의 개수를 이야기 하면 ( N개의 데이터에 대한 이야기 ) : `(N, M)`\n",
        "----\n",
        "참고로 CNN은 Fully Conneected Layer가 아니고, 특징 추출( Feature Extraction )이라는 과정으로써, 단순한 2차원 데이터가 아닌, `(N, H, W, C)`가 입력 데이터의 모양이 됩니다."
      ]
    },
    {
      "cell_type": "markdown",
      "metadata": {
        "id": "MR6s6J8HXlb7"
      },
      "source": [
        "## 신경망에 들어가는 형태로 이미지 배열 편집하기"
      ]
    },
    {
      "cell_type": "code",
      "metadata": {
        "colab": {
          "base_uri": "https://localhost:8080/"
        },
        "id": "xz6bHNdIh-TA",
        "outputId": "de1171fb-2206-4219-f92f-2432b5e1aa2d"
      },
      "source": [
        "# 1. flatten()을 활용한 평탄화\n",
        "image = X_train[0].flatten()\n",
        "image.shape"
      ],
      "execution_count": null,
      "outputs": [
        {
          "output_type": "execute_result",
          "data": {
            "text/plain": [
              "(784,)"
            ]
          },
          "metadata": {
            "tags": []
          },
          "execution_count": 23
        }
      ]
    },
    {
      "cell_type": "code",
      "metadata": {
        "colab": {
          "base_uri": "https://localhost:8080/"
        },
        "id": "yRxZG9kTiIeR",
        "outputId": "e77cc09a-6bfc-4be6-e048-a2af8d0d7d6e"
      },
      "source": [
        "# 2. ravel()을 이용한 평탄화\n",
        "image = np.ravel(X_train[0])\n",
        "image.shape"
      ],
      "execution_count": null,
      "outputs": [
        {
          "output_type": "execute_result",
          "data": {
            "text/plain": [
              "(784,)"
            ]
          },
          "metadata": {
            "tags": []
          },
          "execution_count": 24
        }
      ]
    },
    {
      "cell_type": "markdown",
      "metadata": {
        "id": "ykcmYxJ2iOZp"
      },
      "source": [
        "ravel()을 활용한 평탄화는 잘 사용되지 않습니다. 왜? 원본 이미지 데이터에 훼손이 우려되기 때문에"
      ]
    },
    {
      "cell_type": "code",
      "metadata": {
        "colab": {
          "base_uri": "https://localhost:8080/"
        },
        "id": "6qgh2bJMiUcN",
        "outputId": "b462df12-3a50-451f-f1b2-5cb04686fbfa"
      },
      "source": [
        "# 3. reshape을 활용한 평탄화 : 원하는 방식으로 자유롭게 바꾸고자 할 때 사용할 수 있다.\n",
        "#  reshape을 활용하면 데이터의 개수 까지 한꺼번에 고려하면서 평탄화를 시킬 수가 있다. (N, M) 형식을 만들기가 편하다.\n",
        "#  제일 많이 사용되는 방법\n",
        "#  Tensorflow에서 Flatten() 레이어가 reshape 평탄화와 비슷한 역할을 해준다.\n",
        "\n",
        "image = X_train[0].reshape(-1)\n",
        "image.shape"
      ],
      "execution_count": null,
      "outputs": [
        {
          "output_type": "execute_result",
          "data": {
            "text/plain": [
              "(784,)"
            ]
          },
          "metadata": {
            "tags": []
          },
          "execution_count": 25
        }
      ]
    },
    {
      "cell_type": "code",
      "metadata": {
        "colab": {
          "base_uri": "https://localhost:8080/",
          "height": 265
        },
        "id": "m27sAnHpixfe",
        "outputId": "4ad3c22d-a758-4062-cf4f-eb0bd89dcb19"
      },
      "source": [
        "# 평탄화된 이미지를 원래대로 복구\n",
        "image_bokgu = image.reshape(28, 28)\n",
        "plt.imshow(image_bokgu, 'gray')\n",
        "plt.show()"
      ],
      "execution_count": null,
      "outputs": [
        {
          "output_type": "display_data",
          "data": {
            "image/png": "[encoded data removed]",
            "text/plain": [
              "<Figure size 432x288 with 1 Axes>"
            ]
          },
          "metadata": {
            "tags": [],
            "needs_background": "light"
          }
        }
      ]
    },
    {
      "cell_type": "code",
      "metadata": {
        "colab": {
          "base_uri": "https://localhost:8080/"
        },
        "id": "v7tdhpaqjI4o",
        "outputId": "869a2258-ffbd-4255-ddc3-7136f0288c0b"
      },
      "source": [
        "# 여러 장의 이미지를 reshape을 활용해서 한꺼번에 평탄화 하기\n",
        "X_train.shape"
      ],
      "execution_count": null,
      "outputs": [
        {
          "output_type": "execute_result",
          "data": {
            "text/plain": [
              "(60000, 28, 28)"
            ]
          },
          "metadata": {
            "tags": []
          },
          "execution_count": 27
        }
      ]
    },
    {
      "cell_type": "code",
      "metadata": {
        "colab": {
          "base_uri": "https://localhost:8080/"
        },
        "id": "xVwMacIljRKu",
        "outputId": "9016f536-e9ab-4dcb-9cce-a9fef1b46cb4"
      },
      "source": [
        "X_train_reshaped = X_train.reshape(60000, -1)\n",
        "X_train_reshaped.shape"
      ],
      "execution_count": null,
      "outputs": [
        {
          "output_type": "execute_result",
          "data": {
            "text/plain": [
              "(60000, 784)"
            ]
          },
          "metadata": {
            "tags": []
          },
          "execution_count": 29
        }
      ]
    },
    {
      "cell_type": "code",
      "metadata": {
        "colab": {
          "base_uri": "https://localhost:8080/"
        },
        "id": "tLqB9Sk3jbHc",
        "outputId": "4424c1e8-1eaf-42e2-b535-5d65566ece3a"
      },
      "source": [
        "# 개발자 적인 방법을 이용하면... : 상숫값을 그대로 쓰는 것을 지양합니다.( 소민호 스타일 )\n",
        "IMAGE_COUNT = X_train.shape[0] # 이미지 개수를 가져오기\n",
        "\n",
        "X_train_reshaped = X_train.reshape(IMAGE_COUNT, -1)\n",
        "X_train_reshaped.shape"
      ],
      "execution_count": null,
      "outputs": [
        {
          "output_type": "execute_result",
          "data": {
            "text/plain": [
              "(60000, 784)"
            ]
          },
          "metadata": {
            "tags": []
          },
          "execution_count": 30
        }
      ]
    },
    {
      "cell_type": "markdown",
      "metadata": {
        "id": "LIekpypzj8Vj"
      },
      "source": [
        "MNIST 신경망 만들기 - F.C.L"
      ]
    },
    {
      "cell_type": "code",
      "metadata": {
        "id": "mCpVFdQvkLcc"
      },
      "source": [
        "def sigmoid(x):\n",
        "  return 1 / ( 1 + np.exp(-x) )\n",
        "\n",
        "def get_test_data():\n",
        "  # 테스트 데이터만 가져오기\n",
        "  _, (X_test, y_test) = mnist.load_data()\n",
        "  \n",
        "  IMAGE_COUNT = X_test.shape[0] # 이미지 개수 ( X_test.shape -> (10000, 28, 28) )\n",
        "\n",
        "  X_test_reshaped = X_test.reshape(IMAGE_COUNT, -1)\n",
        "\n",
        "  return X_test_reshaped, y_test\n",
        "\n",
        "# 이미 학습이 완료된 신경망 매개변수(W, b) 가져오기 sample_weight.pkl\n",
        "def init_network():\n",
        "  import pickle\n",
        "  with open(\"./sample_weight.pkl\", \"rb\") as f:\n",
        "    network = pickle.load(f)\n",
        "  \n",
        "  return network\n",
        "\n",
        "def predict(network, x):\n",
        "  # network는 dict\n",
        "  # network에 각 매개변수가 들어 있습니다.\n",
        "  # W1, W2, W3 - 가중치\n",
        "  # b1, b2, b3 - 편향\n",
        "\n",
        "  # 복붙 하지 마시고, 뭘 해야 할지 계획을 먼저 세우고 ( 설계 ), 그 계획에 따라서 코딩을 하시면 되요\n",
        "  # 물론 한줄한줄 왜 썼는가를 생각하면서 주석을 한줄한줄 적어주시길 바랄게요\n",
        "\n",
        "  '''\n",
        "    층별 가중치와 편향이 들어있는 network에서 가중치와 편향을 꺼낸다.\n",
        "    network는 predict 함수의 매개변수에 존재한다.\n",
        "\n",
        "    1층의 가중치 : W1, b1\n",
        "    2층의 가중치 : W2, b2\n",
        "    3층의 가중치 : W3, b3\n",
        "\n",
        "    1층과 2층에서는 sigmoid를 활성화 함수로 사용하고\n",
        "    출력층인 3층에서는 softmax를 활성화 함수로 사용\n",
        "  '''\n",
        "  # network에서 가중치와 편향 꺼내기\n",
        "  W1, W2, W3 = network[\"W1\"], network[\"W2\"], network[\"W3\"]\n",
        "  b1, b2, b3 = network[\"b1\"], network[\"b2\"], network[\"b3\"]\n",
        "\n",
        "  # 1층 구현 - 1층에 입력 되는 것 : x, 가중치 : W1, 편향 b1, 활성화 함수 : sigmoid, 출력 A1\n",
        "  z1 = np.dot(x, W1) + b1\n",
        "  a1 = sigmoid(z1)\n",
        "\n",
        "  # 2층 구현 - 2층에 입력 되는 것 : a1, 가중치 : W2, 편향도 b2, 활성화 함수 : sigmoid, 출력 A2\n",
        "  z2 = np.dot(a1, W2) + b2\n",
        "  a2 = sigmoid(z2)\n",
        "\n",
        "  # 3층 구현 - 3층에 입력 되는 것 : a2, 가중치 : W3, 편향 b3, 활성화 함수 : softmax, 출력 y\n",
        "  z3 = np.dot(a2, W3) + b3\n",
        "  y = softmax(z3)\n",
        "\n",
        "  return y"
      ],
      "execution_count": null,
      "outputs": []
    },
    {
      "cell_type": "code",
      "metadata": {
        "colab": {
          "base_uri": "https://localhost:8080/"
        },
        "id": "U2xIz9fHlWJc",
        "outputId": "29d0b86b-6589-4de4-856a-7707f0758abe"
      },
      "source": [
        "anetwork = init_network()\n",
        "W1, W2, W3 = network['W1'], network['W2'], network['W3']\n",
        "b1, b2, b3 = network['b1'], network['b2'], network['b3']\n",
        "\n",
        "W1.shape, W2.shape, W3.shape"
      ],
      "execution_count": null,
      "outputs": [
        {
          "output_type": "execute_result",
          "data": {
            "text/plain": [
              "((784, 50), (50, 100), (100, 10))"
            ]
          },
          "metadata": {
            "tags": []
          },
          "execution_count": 85
        }
      ]
    },
    {
      "cell_type": "code",
      "metadata": {
        "id": "XuooyvyZlWp5",
        "colab": {
          "base_uri": "https://localhost:8080/"
        },
        "outputId": "2f6e3128-214a-4604-b433-1b9bfe860e0f"
      },
      "source": [
        "network = init_network()\n",
        "X, y = get_test_data()\n",
        "pred_result = predict(network, X[0])"
      ],
      "execution_count": null,
      "outputs": [
        {
          "output_type": "stream",
          "text": [
            "/usr/local/lib/python3.7/dist-packages/ipykernel_launcher.py:2: RuntimeWarning: overflow encountered in exp\n",
            "  \n"
          ],
          "name": "stderr"
        }
      ]
    },
    {
      "cell_type": "code",
      "metadata": {
        "colab": {
          "base_uri": "https://localhost:8080/"
        },
        "id": "J-BPNNmKAXhi",
        "outputId": "ad7dc908-7731-4de5-e9e4-4c5d3e98bb88"
      },
      "source": [
        "np.argmax(pred_result)"
      ],
      "execution_count": null,
      "outputs": [
        {
          "output_type": "execute_result",
          "data": {
            "text/plain": [
              "7"
            ]
          },
          "metadata": {
            "tags": []
          },
          "execution_count": 87
        }
      ]
    },
    {
      "cell_type": "code",
      "metadata": {
        "colab": {
          "base_uri": "https://localhost:8080/",
          "height": 265
        },
        "id": "oq00Qm2wAa2w",
        "outputId": "ac252e63-f0d4-432c-97c9-117c832d50ef"
      },
      "source": [
        "plt.imshow(X[0].reshape(28, 28), 'gray')\n",
        "plt.show()"
      ],
      "execution_count": null,
      "outputs": [
        {
          "output_type": "display_data",
          "data": {
            "image/png": "[encoded data removed]",
            "text/plain": [
              "<Figure size 432x288 with 1 Axes>"
            ]
          },
          "metadata": {
            "tags": [],
            "needs_background": "light"
          }
        }
      ]
    },
    {
      "cell_type": "code",
      "metadata": {
        "colab": {
          "base_uri": "https://localhost:8080/"
        },
        "id": "EqshR3NsAl9P",
        "outputId": "44ead29e-86c5-429e-ec5c-f2f4d0422ec7"
      },
      "source": [
        "y_test[0]"
      ],
      "execution_count": null,
      "outputs": [
        {
          "output_type": "execute_result",
          "data": {
            "text/plain": [
              "7"
            ]
          },
          "metadata": {
            "tags": []
          },
          "execution_count": 89
        }
      ]
    },
    {
      "cell_type": "code",
      "metadata": {
        "colab": {
          "base_uri": "https://localhost:8080/"
        },
        "id": "OOCFoZGjDWkT",
        "outputId": "01ee9bd3-52b9-4a33-ca9b-3dd47b6e5965"
      },
      "source": [
        "# X_test[0] --> 7의 모양을 하고 있는 이미지\n",
        "test_image = X_test[0]\n",
        "test_image.shape"
      ],
      "execution_count": null,
      "outputs": [
        {
          "output_type": "execute_result",
          "data": {
            "text/plain": [
              "(28, 28)"
            ]
          },
          "metadata": {
            "tags": []
          },
          "execution_count": 90
        }
      ]
    },
    {
      "cell_type": "code",
      "metadata": {
        "colab": {
          "base_uri": "https://localhost:8080/",
          "height": 281
        },
        "id": "cS9AMB2TDc6n",
        "outputId": "87c69766-f557-4396-fbb4-fd3c0b0c35dc"
      },
      "source": [
        "plt.title(y_test[0])\n",
        "plt.imshow(test_image, 'gray')\n",
        "plt.show()"
      ],
      "execution_count": null,
      "outputs": [
        {
          "output_type": "display_data",
          "data": {
            "image/png": "[encoded data removed]",
            "text/plain": [
              "<Figure size 432x288 with 1 Axes>"
            ]
          },
          "metadata": {
            "tags": [],
            "needs_background": "light"
          }
        }
      ]
    },
    {
      "cell_type": "markdown",
      "metadata": {
        "id": "dHfrsQDqDgJ6"
      },
      "source": [
        "위의 코드는 정답 확인용 코드"
      ]
    },
    {
      "cell_type": "code",
      "metadata": {
        "colab": {
          "base_uri": "https://localhost:8080/"
        },
        "id": "Ntj7jwi2Dlqk",
        "outputId": "5113de15-e2f4-4b32-de7e-18524941a84d"
      },
      "source": [
        "# 예측하기\n",
        "pred_image = X_test[0]\n",
        "\n",
        "# predict를 할 수 있는 모양으로 만들어 봐야겠죠\n",
        "pred_image_reshaped = pred_image.reshape(-1)\n",
        "pred_image_reshaped.shape"
      ],
      "execution_count": null,
      "outputs": [
        {
          "output_type": "execute_result",
          "data": {
            "text/plain": [
              "(784,)"
            ]
          },
          "metadata": {
            "tags": []
          },
          "execution_count": 92
        }
      ]
    },
    {
      "cell_type": "code",
      "metadata": {
        "colab": {
          "base_uri": "https://localhost:8080/"
        },
        "id": "VluRUKD-D13b",
        "outputId": "2a52e53a-fa09-4135-9d22-cb2b018029a4"
      },
      "source": [
        "pred_result = predict(network, pred_image_reshaped)\n",
        "pred_result"
      ],
      "execution_count": null,
      "outputs": [
        {
          "output_type": "stream",
          "text": [
            "/usr/local/lib/python3.7/dist-packages/ipykernel_launcher.py:2: RuntimeWarning: overflow encountered in exp\n",
            "  \n"
          ],
          "name": "stderr"
        },
        {
          "output_type": "execute_result",
          "data": {
            "text/plain": [
              "array([4.2879005e-06, 4.5729317e-07, 1.8486280e-04, 8.3605024e-05,\n",
              "       1.5084674e-07, 6.3182205e-07, 4.5782045e-10, 9.9919468e-01,\n",
              "       3.8066935e-07, 5.3083024e-04], dtype=float32)"
            ]
          },
          "metadata": {
            "tags": []
          },
          "execution_count": 93
        }
      ]
    },
    {
      "cell_type": "markdown",
      "metadata": {
        "id": "5pei6ff_D_kh"
      },
      "source": [
        "위 softmax 결과물에서 제일 높은 값의 인덱스가 이 신경망이 예측한 클래스가 된다."
      ]
    },
    {
      "cell_type": "code",
      "metadata": {
        "colab": {
          "base_uri": "https://localhost:8080/"
        },
        "id": "_nE_8Pd6Es47",
        "outputId": "bf150304-25e8-4964-da62-f86592632dfd"
      },
      "source": [
        "# np.argmax 함수를 이용하면 배열에서 가장 큰 값을 가지고 있는 인덱스를 리턴\n",
        "np.argmax(pred_result)"
      ],
      "execution_count": null,
      "outputs": [
        {
          "output_type": "execute_result",
          "data": {
            "text/plain": [
              "7"
            ]
          },
          "metadata": {
            "tags": []
          },
          "execution_count": 94
        }
      ]
    },
    {
      "cell_type": "markdown",
      "metadata": {
        "id": "NcYDuRyQEyae"
      },
      "source": [
        "* `pred_image`는 7의 모양을 한 이미지\n",
        "* `y_test[0]`은 `pred_image`의 정답. 7\n",
        "* `pred_result`는 `pred_image`의 softmax 결과물\n",
        "* `np.argmax(pred_result)`를 이용하여 가장 확률이 높은 인덱스를 확인해 보니 7\n",
        "* 즉 예측이 잘 됐다."
      ]
    },
    {
      "cell_type": "markdown",
      "metadata": {
        "id": "9uzjVHSvJcz7"
      },
      "source": [
        "# 배치 (BATCH)\n",
        "배치란 데이터의 묶음\n",
        "* 일반 배치\n",
        "  * 데이터를 순서대로 묶은 것\n",
        "  * 데이터가 모자라거나 적당하게 모아낸 경우\n",
        "* 미니 배치\n",
        "  * 데이터를 랜덤하게 뽑아서 묶은 것\n",
        "  * 빅 데이터 같은 데이터의 양(Data Volume)이 엄청나게 큰 경우\n",
        "  * 엄청나게 많은 데이터를 모두 사용해서 훈련을 한다면 시간이 매우 많이 걸림\n",
        "  * **랜덤하게 몇 개의 데이터를 선정해서 훈련**"
      ]
    },
    {
      "cell_type": "code",
      "metadata": {
        "colab": {
          "base_uri": "https://localhost:8080/"
        },
        "id": "zsxaSWirJqC4",
        "outputId": "7e205a9a-1318-4b43-c225-a36550a88816"
      },
      "source": [
        "# 배치를 사용하지 않고, 전체 테스트 데이터에 대한 정확도를 확인\n",
        "X, y = get_test_data()\n",
        "\n",
        "network = init_network()\n",
        "accuracy_count = 0 # 정답을 맞춘 개수를 저장\n",
        "total_count = X.shape[0] # 전체 데이터의 개수\n",
        "\n",
        "for i in range(len(X)):\n",
        "  pred = predict(network, X[i]) # pred의 shape : 1개씩 10개로의 예측을 했으니까 (10, )\n",
        "  pred = np.argmax(pred) # 확률이 가장 높은 원소의 인덱스\n",
        "\n",
        "  # 예측한 것과 정답이 같으면\n",
        "  accuracy_count += ( pred == y[i] ) # True면 1이 accuracy_count에 더해지고, False면 0이 더해짐\n",
        "\n",
        "print(float(accuracy_count / len(X)))"
      ],
      "execution_count": null,
      "outputs": [
        {
          "output_type": "stream",
          "text": [
            "/usr/local/lib/python3.7/dist-packages/ipykernel_launcher.py:2: RuntimeWarning: overflow encountered in exp\n",
            "  \n"
          ],
          "name": "stderr"
        },
        {
          "output_type": "stream",
          "text": [
            "0.9207\n"
          ],
          "name": "stdout"
        }
      ]
    },
    {
      "cell_type": "markdown",
      "metadata": {
        "id": "sKyDdGb7MXgK"
      },
      "source": [
        "위 코드의 단점\n",
        "* 10,000장의 이미지를 한장씩 예측을 하고 있다.\n",
        "* 시간이 오래걸린다는 이야기\n",
        "\n",
        "어떻게 해결할 수 있을까?\n",
        "* **배치(BATCH)**를 사용해서 한장씩이 아닌, 데이터의 묶음으로 예측을 하게 하겠다.\n",
        "* 배치란? 데이터의 뭉터기"
      ]
    },
    {
      "cell_type": "code",
      "metadata": {
        "colab": {
          "base_uri": "https://localhost:8080/"
        },
        "id": "Agkg6q-iNGoq",
        "outputId": "5b2abbce-de90-40d6-f410-2fb0cb7536ed"
      },
      "source": [
        "# 배치를 사용한 예측 구현하기\n",
        "X, y = get_test_data()\n",
        "\n",
        "network = init_network()\n",
        "\n",
        "# 배치란? 데이터의 묶음\n",
        "# batch_size : 1 배치당 들어있어야 하는 데이터의 개수\n",
        "# ex) 60,000개의 데이터를 batch_size 100으로 묶으면 몇개의 배치가 만들어 질까요? 600개의 배치가 만들어 집니다.\n",
        "\n",
        "batch_size= 100\n",
        "accuracy_count = 0\n",
        "\n",
        "# batch를 활용한 예측 구현\n",
        "for i in range(0, len(X), batch_size):\n",
        "  X_batch = X[i : i + batch_size]\n",
        "  pred_batch = predict(network, X_batch) # pred_batch의 shape : (100, 10) 100장의 이미지지에 대한 각각의 10개씩 예측 결과\n",
        "  # argmax를 당연히 써야지 -> 100장의 이미지에서 각각 가장 높은 확률이 들어있는 인덱스를 추출\n",
        "  pred_batch = np.argmax(pred_batch, axis=1) # 여기에 들어갈 코드는..?\n",
        "\n",
        "  accuracy_count += np.sum(pred_batch == y[i : i + batch_size])\n",
        "\n",
        "print(float(accuracy_count / len(X)))"
      ],
      "execution_count": null,
      "outputs": [
        {
          "output_type": "stream",
          "text": [
            "0.9207\n"
          ],
          "name": "stdout"
        },
        {
          "output_type": "stream",
          "text": [
            "/usr/local/lib/python3.7/dist-packages/ipykernel_launcher.py:2: RuntimeWarning: overflow encountered in exp\n",
            "  \n"
          ],
          "name": "stderr"
        }
      ]
    },
    {
      "cell_type": "markdown",
      "metadata": {
        "id": "PrEFmVUuWfjd"
      },
      "source": [
        "`np.argmax`의 `axis`가 1인 이유\n",
        "\n",
        "1. softmax의 결과는 10개의 원소(결과물)를 가진 1차원 배열\n",
        "2. 그런데, 이 결과물이 100개씩 묶음 지어져 있다.(왜? 배치 때문에... 100장씩 넣었으니까 100개씩 10개의 결과물이 있는 것)\n",
        "3. 따라서 `np.argmax`의 `axis`를 스칼라가 추가되는 방향인 1로 줘야지만 각 이미지별 최댓값의 인덱스를 구할 수 있다.\n",
        "4. `axis=0`은 1차원 배열이 추가되는 이미지 장수에 대한 방향이기 때문에..."
      ]
    },
    {
      "cell_type": "markdown",
      "metadata": {
        "id": "-A83jM38YYU0"
      },
      "source": [
        "1. numpy\n",
        "2. 활성화 함수\n",
        "3. 다차원 배열 연산\n",
        "4. 다차원 배열과 신경망\n",
        "5. 출력층 설계"
      ]
    },
    {
      "cell_type": "markdown",
      "metadata": {
        "id": "RCQyfD8hZAfN"
      },
      "source": [
        "진도는 오늘은 여기까지만 할게요. 나머지 시간은 질답시간\n",
        "1. axis\n",
        "2. 출력층 설계 중에 어떤거\n",
        "3. **뭘 공부해야 하는지** best 질문?\n",
        "4. 어떻게 활용되어지는지가 궁금하실거 같은데\n",
        "5. 제 과정에서 최종적으로 구현될 각종 컨텐츠\n",
        "6. 배치가 만들어지고 계산 되어지는 과정\n",
        "\n",
        "16:00 까지 각자 질문거리 만들어서 채팅으로 보내주세요\n",
        "\n",
        "* On / Off 출석이 결정이 되어있는데 자율\n",
        "* 웬만하면 귀찮아도 나오세요 - 아무래도 질문이랑 공부 하느데 있어서 온라인보다 오프라인이 더 쉬우니까.\n",
        "* 나와서 질문 안하지 말고 뽑아먹을거 다 뽑아가셍\n",
        "* ㅇㅋ?\n",
        "\n"
      ]
    },
    {
      "cell_type": "code",
      "metadata": {
        "id": "pUhGBCX5an4X"
      },
      "source": [
        ""
      ],
      "execution_count": null,
      "outputs": []
    }
  ]
}