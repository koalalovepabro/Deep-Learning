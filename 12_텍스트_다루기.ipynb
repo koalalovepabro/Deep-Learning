{
  "nbformat": 4,
  "nbformat_minor": 0,
  "metadata": {
    "colab": {
      "name": "12. 텍스트 다루기",
      "provenance": [],
      "collapsed_sections": [],
      "include_colab_link": true
    },
    "kernelspec": {
      "name": "python3",
      "display_name": "Python 3"
    },
    "language_info": {
      "name": "python"
    }
  },
  "cells": [
    {
      "cell_type": "markdown",
      "metadata": {
        "id": "view-in-github",
        "colab_type": "text"
      },
      "source": [
        "<a href=\"https://colab.research.google.com/github/koalalovepabro/Deep-Learning/blob/main/12_%ED%85%8D%EC%8A%A4%ED%8A%B8_%EB%8B%A4%EB%A3%A8%EA%B8%B0.ipynb\" target=\"_parent\"><img src=\"https://colab.research.google.com/assets/colab-badge.svg\" alt=\"Open In Colab\"/></a>"
      ]
    },
    {
      "cell_type": "markdown",
      "metadata": {
        "id": "Gth5tZ9vKf0e"
      },
      "source": [
        "# Tokenization(토큰화) 이론\n",
        "텍스트에서 어디까지가 문장이고, 어디까지가 단어인지 나눠주는(`split`) 과정\n",
        "* 문장 토큰화( Sentence Tokenization )\n",
        "* 단어 토큰화( Word Tokenization )"
      ]
    },
    {
      "cell_type": "markdown",
      "metadata": {
        "id": "XHLgm_EQLBW3"
      },
      "source": [
        "## English Tokenization"
      ]
    },
    {
      "cell_type": "code",
      "metadata": {
        "id": "TC1I-mpGLNgZ"
      },
      "source": [
        "sample_text=\"I never thought through love we'd be. Making one as lovely as she. But isn't she lovely made from love.\""
      ],
      "execution_count": null,
      "outputs": []
    },
    {
      "cell_type": "markdown",
      "metadata": {
        "id": "IAalG-6FLNur"
      },
      "source": [
        "문장 토큰화"
      ]
    },
    {
      "cell_type": "code",
      "metadata": {
        "colab": {
          "base_uri": "https://localhost:8080/"
        },
        "id": "RR74kQghLbA6",
        "outputId": "1175939e-b50e-4425-b819-537664227735"
      },
      "source": [
        "# 단순하게 온점과 공백을 이용해서 잘라낸다면?\n",
        "tokenized_sentence = sample_text.split(\". \")\n",
        "tokenized_sentence"
      ],
      "execution_count": null,
      "outputs": [
        {
          "output_type": "execute_result",
          "data": {
            "text/plain": [
              "[\"I never thought through love we'd be\",\n",
              " 'Making one as lovely as she',\n",
              " \"But isn't she lovely made from love.\"]"
            ]
          },
          "metadata": {
            "tags": []
          },
          "execution_count": 2
        }
      ]
    },
    {
      "cell_type": "markdown",
      "metadata": {
        "id": "z-9cRqcSLhdi"
      },
      "source": [
        "단어 토큰화"
      ]
    },
    {
      "cell_type": "code",
      "metadata": {
        "colab": {
          "base_uri": "https://localhost:8080/"
        },
        "id": "WXUHiQsCLrf5",
        "outputId": "8ebe7cdf-e7f2-4c19-b183-f43c3e4c9208"
      },
      "source": [
        "# split의 비밀\n",
        "sample = \"a b c\"\n",
        "sample.split(\" \")"
      ],
      "execution_count": null,
      "outputs": [
        {
          "output_type": "execute_result",
          "data": {
            "text/plain": [
              "['a', 'b', 'c']"
            ]
          },
          "metadata": {
            "tags": []
          },
          "execution_count": 4
        }
      ]
    },
    {
      "cell_type": "code",
      "metadata": {
        "colab": {
          "base_uri": "https://localhost:8080/"
        },
        "id": "mTNBU3tsL32E",
        "outputId": "6fdaccef-a5ea-401a-d95f-941c2ad3d4cd"
      },
      "source": [
        "sample2 = \"a  b c\"\n",
        "sample2.split(\" \")"
      ],
      "execution_count": null,
      "outputs": [
        {
          "output_type": "execute_result",
          "data": {
            "text/plain": [
              "['a', '', 'b', 'c']"
            ]
          },
          "metadata": {
            "tags": []
          },
          "execution_count": 6
        }
      ]
    },
    {
      "cell_type": "code",
      "metadata": {
        "colab": {
          "base_uri": "https://localhost:8080/"
        },
        "id": "c0zQtKl-MG_1",
        "outputId": "f07fd85f-e953-4e37-c153-e066bf1136c1"
      },
      "source": [
        "sample2.split()"
      ],
      "execution_count": null,
      "outputs": [
        {
          "output_type": "execute_result",
          "data": {
            "text/plain": [
              "['a', 'b', 'c']"
            ]
          },
          "metadata": {
            "tags": []
          },
          "execution_count": 8
        }
      ]
    },
    {
      "cell_type": "code",
      "metadata": {
        "colab": {
          "base_uri": "https://localhost:8080/"
        },
        "id": "yn8CQa_9MMCB",
        "outputId": "c2e5a07d-2a36-4182-c6c4-58c2142db556"
      },
      "source": [
        "tokenized_word = sample_text.split()\n",
        "tokenized_word"
      ],
      "execution_count": null,
      "outputs": [
        {
          "output_type": "execute_result",
          "data": {
            "text/plain": [
              "['I',\n",
              " 'never',\n",
              " 'thought',\n",
              " 'through',\n",
              " 'love',\n",
              " \"we'd\",\n",
              " 'be.',\n",
              " 'Making',\n",
              " 'one',\n",
              " 'as',\n",
              " 'lovely',\n",
              " 'as',\n",
              " 'she.',\n",
              " 'But',\n",
              " \"isn't\",\n",
              " 'she',\n",
              " 'lovely',\n",
              " 'made',\n",
              " 'from',\n",
              " 'love.']"
            ]
          },
          "metadata": {
            "tags": []
          },
          "execution_count": 9
        }
      ]
    },
    {
      "cell_type": "markdown",
      "metadata": {
        "id": "xaJN_aCCMeU6"
      },
      "source": [
        "## 띄어쓰기(공백)로만 영어 문장 내 단어를 구분할 때의 문제점\n",
        "* We're Avengers!! : `[We're, Avengers!!]`\n",
        "* We are Avengers!! : `[We, are, Avengers!!]`\n",
        "* We are Avengers : `[We, are, Avengers]`\n",
        "\n",
        "단순하게 공백으로만 토큰화를 수행하면, 사람은 같은 문장이라고 인지할 수 있지만, 기계는 위 세 문장이 다른 문장이라고 판단"
      ]
    },
    {
      "cell_type": "markdown",
      "metadata": {
        "id": "MEaJvc0fP83l"
      },
      "source": [
        "### 특수문자를 제거하면?\n",
        "* `[We, re, Avengers]`\n",
        "* `[We, are, Avengers]`\n",
        "* `[We, are, AVengers]`\n",
        "\n",
        "단어에 들어가는 특수문자는 종종 중요한 의미를 내포하고 있기 때문에, 함부로 지우면 안된다.\n",
        "\n",
        "* $12.45 : `[12, 45]`\n",
        "* Mr. So : `[Mr, So]`\n",
        "* Mrs. Kim : `[Mrs, Kim]`\n",
        "* 192.168.0.1 : `[192, 168, 0, 1]`\n",
        "* Ph.D : `[Ph, D]`\n",
        "\n",
        "특수문자가 중요한 역할을 하는 경우에는 별로 효용적이지 못한 것 같다."
      ]
    },
    {
      "cell_type": "markdown",
      "metadata": {
        "id": "Z_CZlaA6QW2p"
      },
      "source": [
        "## 미리 준비된 영어단어 Tokenizer를 사용하자!\n",
        "* 우리가 비즈니스에 맞게 토큰화를 시킬 수 있는 Tokenizer를 개발할 수도 있다!\n",
        "* 영어 토큰화를 할 때 일반적인 규칙들이 많이 적용된 이미 만들어진 Tokenizer를 사용하는 것도 방법\n",
        "\n",
        "* TreebankWordTokenizer 패키지\n",
        "  * 영어 표준 토큰화 규격을 따라간다.\n",
        "  * Penn Treebank Tokenization 규칙\n",
        "* TreebankWordTokenizer 규칙\n",
        "  * 하이푼으로 구성된 단어는 하나로 유지\n",
        "  * doesn't 같이 어퍼스트로피로 '접어'가 함께하는 단어는 따로 분리"
      ]
    },
    {
      "cell_type": "markdown",
      "metadata": {
        "id": "ITTToGkqRC6Y"
      },
      "source": [
        "# Tokenization 실습(영어)\n",
        "설치 코드\n",
        "```\n",
        "!pip install nltk\n",
        "```\n",
        "\n",
        "로컬에서 사용하는 경우 자바(JVM)가 미리 설치가 되어 있어야 한다."
      ]
    },
    {
      "cell_type": "code",
      "metadata": {
        "colab": {
          "base_uri": "https://localhost:8080/"
        },
        "id": "xn8h31sNRqQB",
        "outputId": "66b109e0-84db-459d-ef21-fed289253d4f"
      },
      "source": [
        "!pip install nltk"
      ],
      "execution_count": null,
      "outputs": [
        {
          "output_type": "stream",
          "text": [
            "Requirement already satisfied: nltk in /usr/local/lib/python3.7/dist-packages (3.2.5)\n",
            "Requirement already satisfied: six in /usr/local/lib/python3.7/dist-packages (from nltk) (1.15.0)\n"
          ],
          "name": "stdout"
        }
      ]
    },
    {
      "cell_type": "code",
      "metadata": {
        "colab": {
          "base_uri": "https://localhost:8080/"
        },
        "id": "dvZN9vjcR2ON",
        "outputId": "2a68dd00-6751-4aad-aef3-23afef21c2e8"
      },
      "source": [
        "# nltk는 영문 텍스트에 관련된 여러 토크나이져나 도구들이 한꺼번에 존재하는 패키지\n",
        "import nltk\n",
        "nltk.download('punkt') # 영어 토크나이져 패키지 다운로드\n",
        "sentence = \"Ain't nothin' sweeter, you want this sugar, don't ya?\""
      ],
      "execution_count": null,
      "outputs": [
        {
          "output_type": "stream",
          "text": [
            "[nltk_data] Downloading package punkt to /root/nltk_data...\n",
            "[nltk_data]   Unzipping tokenizers/punkt.zip.\n"
          ],
          "name": "stdout"
        }
      ]
    },
    {
      "cell_type": "markdown",
      "metadata": {
        "id": "RVwyzcjxSQdM"
      },
      "source": [
        "## [English] 기본 토크나이져"
      ]
    },
    {
      "cell_type": "code",
      "metadata": {
        "colab": {
          "base_uri": "https://localhost:8080/"
        },
        "id": "55aoUlVpSiTF",
        "outputId": "0b6a5037-08db-48f4-9732-2ef505ee0df0"
      },
      "source": [
        "# 일반 split()을 활용해서 공백 단위로 단어 토큰화 한 경우\n",
        "print(sentence.split())"
      ],
      "execution_count": null,
      "outputs": [
        {
          "output_type": "stream",
          "text": [
            "[\"Ain't\", \"nothin'\", 'sweeter,', 'you', 'want', 'this', 'sugar,', \"don't\", 'ya?']\n"
          ],
          "name": "stdout"
        }
      ]
    },
    {
      "cell_type": "code",
      "metadata": {
        "colab": {
          "base_uri": "https://localhost:8080/"
        },
        "id": "GOFQwsQLSppJ",
        "outputId": "a1485127-ba9e-4f48-93f2-450ea86e0721"
      },
      "source": [
        "# nltk 기본 tokenizer를 활용한 경우\n",
        "from nltk.tokenize import word_tokenize\n",
        "print(word_tokenize(sentence))"
      ],
      "execution_count": null,
      "outputs": [
        {
          "output_type": "stream",
          "text": [
            "['Ai', \"n't\", 'nothin', \"'\", 'sweeter', ',', 'you', 'want', 'this', 'sugar', ',', 'do', \"n't\", 'ya', '?']\n"
          ],
          "name": "stdout"
        }
      ]
    },
    {
      "cell_type": "markdown",
      "metadata": {
        "id": "2EwsGePeSyin"
      },
      "source": [
        "## [English] WordPunctTokenizer"
      ]
    },
    {
      "cell_type": "code",
      "metadata": {
        "colab": {
          "base_uri": "https://localhost:8080/"
        },
        "id": "ZhBY3Q0iTCvi",
        "outputId": "f735f022-7cf1-4b39-d1a1-17559e73358e"
      },
      "source": [
        "from nltk.tokenize import WordPunctTokenizer\n",
        "tokenizer = WordPunctTokenizer()\n",
        "\n",
        "print( tokenizer.tokenize(sentence) )"
      ],
      "execution_count": null,
      "outputs": [
        {
          "output_type": "stream",
          "text": [
            "['Ain', \"'\", 't', 'nothin', \"'\", 'sweeter', ',', 'you', 'want', 'this', 'sugar', ',', 'don', \"'\", 't', 'ya', '?']\n"
          ],
          "name": "stdout"
        }
      ]
    },
    {
      "cell_type": "markdown",
      "metadata": {
        "id": "ZFzmnds8TKaC"
      },
      "source": [
        "## [English] TreebankWordTokenizer"
      ]
    },
    {
      "cell_type": "code",
      "metadata": {
        "colab": {
          "base_uri": "https://localhost:8080/"
        },
        "id": "S37LOMNuTbKS",
        "outputId": "ed2affa9-1da9-4489-87a5-0cc9923d3994"
      },
      "source": [
        "from nltk.tokenize import TreebankWordTokenizer\n",
        "\n",
        "tokenizer = TreebankWordTokenizer()\n",
        "print(tokenizer.tokenize(sentence))"
      ],
      "execution_count": null,
      "outputs": [
        {
          "output_type": "stream",
          "text": [
            "['Ai', \"n't\", 'nothin', \"'\", 'sweeter', ',', 'you', 'want', 'this', 'sugar', ',', 'do', \"n't\", 'ya', '?']\n"
          ],
          "name": "stdout"
        }
      ]
    },
    {
      "cell_type": "code",
      "metadata": {
        "colab": {
          "base_uri": "https://localhost:8080/"
        },
        "id": "cglpsxrjTkoG",
        "outputId": "f7edb482-ab38-4831-b4de-c5a377f207ed"
      },
      "source": [
        "sample = \"I'm Iron-man\"\n",
        "print(tokenizer.tokenize(sample))"
      ],
      "execution_count": null,
      "outputs": [
        {
          "output_type": "stream",
          "text": [
            "['I', \"'m\", 'Iron-man']\n"
          ],
          "name": "stdout"
        }
      ]
    },
    {
      "cell_type": "markdown",
      "metadata": {
        "id": "cCSdYDVfTuFo"
      },
      "source": [
        "## 한국어 토큰화가 어려운 이유\n",
        "1. 한국어는 교착어이다.\n",
        "2. 한국어는 띄어쓰기가 잘 지켜지지 않는다.\n",
        "3. 한국어는 주어생략이 가능하고, 어순도 중요하지 않다.\n",
        "4. 한자어라는 특성상 하나의 음절도 다른 의미를 가질 수가 있다.\n",
        "\n",
        "#### 교착어\n",
        "실질적인 의미를 가지는 어간(단어, 형용사, 동사 등)에 조사나 어미와 같은 **문법 형태소**가 결합하여 문법적인 기능이 부여되는 경우\n",
        "> **핸드폰이** 바닥에 떨어져서, **핸드폰을** 새롭게 샀다. **핸드폰은** 다 부서졌다.\n",
        "\n",
        "#### 띄어쓰기 문제\n",
        "> 이렇게띄어쓰기를하지않아도일단은잘읽을수있어요\n",
        "\n",
        "> yousugaryespleasewouldyoucomeandputitdownonme\n",
        "\n",
        "한국어와 다르게 영어는 띄어쓰기가 지켜지지 않으면 읽기가 어렵기 때문에 띄어쓰기에 엄격한 편이다.<br/>한국어 띄어쓰기 검사 패키지로 `ko-spacing`이나 `py-hanspell` 패키지를 사용하면 된다.\n",
        "\n",
        "#### 주어 생략 및 어순 문제\n",
        "1. 나는 운동을 했어. 체육관에서\n",
        "2. 나는 체육관에서 운동을 했어.\n",
        "3. 체육관에서 운동했어.\n",
        "4. 나는 운동을 체육관에서 했어.\n",
        "\n",
        "#### 한자어라는 특성 때문에 하나의 음절이 다른 의미를 갖는다.\n",
        "1. 배 라는 하나의 단어는 사람의 배, 타는 배, 먹는 배\n",
        "2. 한국에도 한국 한 / 나라 국 으로 이루어진 한자어 조합이다ㅣ.\n",
        " * 한 : 숫자 1, 하나를 의미하는지...\n",
        " * 국 : 먹는 국인지, 나라 국인지....\n",
        "\n",
        "한국어 형태소 분석을 쉽게 하기 위해서 `konlpy`패키지 활용. 마찬가지로 Java 필수"
      ]
    },
    {
      "cell_type": "code",
      "metadata": {
        "id": "zLHte_A8YBtp"
      },
      "source": [
        "!pip install konlpy"
      ],
      "execution_count": null,
      "outputs": []
    },
    {
      "cell_type": "code",
      "metadata": {
        "id": "xDvOU_8kXHXg"
      },
      "source": [
        "# Mecab 설치 코드 - colab에서 사용하는 자바의 버전이 바뀌면서 강제로 openjdk-8을 설치하고 코랩 노트북에 설정\n",
        "%%bash\n",
        "apt-get update\n",
        "apt-get install g++ openjdk-8-jdk python-dev python3-dev\n",
        "pip3 install JPype1"
      ],
      "execution_count": null,
      "outputs": []
    },
    {
      "cell_type": "code",
      "metadata": {
        "colab": {
          "base_uri": "https://localhost:8080/"
        },
        "id": "zSxo91I0Ymo7",
        "outputId": "0161b515-be0e-4177-d3bc-a8790bdd518c"
      },
      "source": [
        "%env JAVA_HOME \"/usr/lib/jvm/java-8-openjdk-amd64\""
      ],
      "execution_count": null,
      "outputs": [
        {
          "output_type": "stream",
          "text": [
            "env: JAVA_HOME=\"/usr/lib/jvm/java-8-openjdk-amd64\"\n"
          ],
          "name": "stdout"
        }
      ]
    },
    {
      "cell_type": "code",
      "metadata": {
        "id": "Xa_90vL4YoWd"
      },
      "source": [
        "%%bash\n",
        "bash <(curl -s https://raw.githubusercontent.com/konlpy/konlpy/master/scripts/mecab.sh)\n",
        "pip3 install /tmp/mecab-python-0.996"
      ],
      "execution_count": null,
      "outputs": []
    },
    {
      "cell_type": "code",
      "metadata": {
        "id": "RDdjV-DFYqLZ"
      },
      "source": [
        "# konlpy의 모든 형태소 분리기는 명사 추출, 형태소별 토큰화, 형태소 토큰 및 종류를 표기하는 동일 함수가 존재\n",
        "def print_tokenizer(tokenizer, s):\n",
        "  print(tokenizer.nouns(s)) # 형태소 분리기에서 명사만 추출\n",
        "  print(tokenizer.morphs(s)) # 각 형태소 별로 토큰화만 시켜준다.\n",
        "  print(tokenizer.pos(s)) # 각 형태소 별 토큰 및 형태소 종류를 튜플로 표현"
      ],
      "execution_count": null,
      "outputs": []
    },
    {
      "cell_type": "markdown",
      "metadata": {
        "id": "b1CPPSL-ZiJ9"
      },
      "source": [
        "## 한국어 형태소 분리기\n",
        "\n",
        "### Mecab\n",
        "실무에서 가장 많이 쓰이는 형태소 분리기. 맥이나 리눅스에서만 작동(windows 는 작동 안됨 ) 설치시간이 상당히 오래 걸린다.\n",
        "\n",
        "### Twitter(Okt), 꼬꼬마(Kkma), 코모란(Komoran), 한나눔(Hannanum)\n",
        "속도 자체는 Mecab, 카카오의 Khaii보다 느리지만 각각의 장단점이 있다.\n",
        "* Okt : Stemming, Normalization 기능을 제공\n"
      ]
    },
    {
      "cell_type": "code",
      "metadata": {
        "id": "SjoKDyetZzTj"
      },
      "source": [
        "from konlpy.tag import Hannanum, Kkma, Komoran, Okt, Mecab\n",
        "\n",
        "hannanum = Hannanum()\n",
        "kkma = Kkma()\n",
        "komoran = Komoran()\n",
        "okt = Okt()\n",
        "mecab = Mecab()\n",
        "\n",
        "sentence=\"좋으니 그 사람 솔직히 견디기 버거워\""
      ],
      "execution_count": null,
      "outputs": []
    },
    {
      "cell_type": "code",
      "metadata": {
        "colab": {
          "base_uri": "https://localhost:8080/"
        },
        "id": "s8wBzhMHaRI4",
        "outputId": "3a1d9405-5616-4001-c309-2081b839e95d"
      },
      "source": [
        "# 트위터 (Okt)\n",
        "print_tokenizer(okt, sentence)"
      ],
      "execution_count": null,
      "outputs": [
        {
          "output_type": "stream",
          "text": [
            "['그', '사람']\n",
            "['좋으니', '그', '사람', '솔직히', '견디기', '버거워']\n",
            "[('좋으니', 'Adjective'), ('그', 'Noun'), ('사람', 'Noun'), ('솔직히', 'Adjective'), ('견디기', 'Verb'), ('버거워', 'Adjective')]\n"
          ],
          "name": "stdout"
        }
      ]
    },
    {
      "cell_type": "code",
      "metadata": {
        "colab": {
          "base_uri": "https://localhost:8080/"
        },
        "id": "Jik9E0F7dvEl",
        "outputId": "428c4aee-53c6-4286-c8fa-9eb02f93c0ba"
      },
      "source": [
        "# 꼬꼬마\n",
        "print_tokenizer(kkma, sentence)"
      ],
      "execution_count": null,
      "outputs": [
        {
          "output_type": "stream",
          "text": [
            "['사람']\n",
            "['좋', '으니', '그', '사람', '솔직히', '견디', '기', '버겁', '어']\n",
            "[('좋', 'VA'), ('으니', 'ECD'), ('그', 'MDT'), ('사람', 'NNG'), ('솔직히', 'MAG'), ('견디', 'VV'), ('기', 'ETN'), ('버겁', 'VA'), ('어', 'ECS')]\n"
          ],
          "name": "stdout"
        }
      ]
    },
    {
      "cell_type": "code",
      "metadata": {
        "colab": {
          "base_uri": "https://localhost:8080/"
        },
        "id": "1ZTRWMTweC3S",
        "outputId": "250d8a36-65b9-4697-ffdd-ac7a05eecc05"
      },
      "source": [
        "# 코모란\n",
        "print_tokenizer(komoran, sentence)"
      ],
      "execution_count": null,
      "outputs": [
        {
          "output_type": "stream",
          "text": [
            "['사람']\n",
            "['좋', '으니', '그', '사람', '솔직히', '견디', '기', '버거워']\n",
            "[('좋', 'VA'), ('으니', 'EC'), ('그', 'MM'), ('사람', 'NNG'), ('솔직히', 'MAG'), ('견디', 'VV'), ('기', 'ETN'), ('버거워', 'NA')]\n"
          ],
          "name": "stdout"
        }
      ]
    },
    {
      "cell_type": "code",
      "metadata": {
        "colab": {
          "base_uri": "https://localhost:8080/"
        },
        "id": "wPKwIsUDew_w",
        "outputId": "f0f20a07-613c-47ec-e784-8ee4b6fe5190"
      },
      "source": [
        "# 한나눔\n",
        "print_tokenizer(hannanum, sentence)"
      ],
      "execution_count": null,
      "outputs": [
        {
          "output_type": "stream",
          "text": [
            "['사람', '버거워']\n",
            "['좋', '으니', '그', '사람', '솔직히', '견디', '기', '버거워']\n",
            "[('좋', 'P'), ('으니', 'E'), ('그', 'M'), ('사람', 'N'), ('솔직히', 'M'), ('견디', 'P'), ('기', 'E'), ('버거워', 'N')]\n"
          ],
          "name": "stdout"
        }
      ]
    },
    {
      "cell_type": "code",
      "metadata": {
        "colab": {
          "base_uri": "https://localhost:8080/"
        },
        "id": "2YJ-ojVDe9R-",
        "outputId": "6897965f-9b3f-433b-f190-8c284727f8cd"
      },
      "source": [
        "# Mecab\n",
        "print_tokenizer(mecab, sentence)"
      ],
      "execution_count": null,
      "outputs": [
        {
          "output_type": "stream",
          "text": [
            "['사람']\n",
            "['좋', '으니', '그', '사람', '솔직히', '견디', '기', '버거워']\n",
            "[('좋', 'VA'), ('으니', 'EC'), ('그', 'MM'), ('사람', 'NNG'), ('솔직히', 'MAG'), ('견디', 'VV'), ('기', 'ETN'), ('버거워', 'VA+EC')]\n"
          ],
          "name": "stdout"
        }
      ]
    },
    {
      "cell_type": "markdown",
      "metadata": {
        "id": "RghdphhtfEuT"
      },
      "source": [
        "# 문장 토크나이징\n",
        "단순하게 물음표, 느낌표, 온점(.)으로만 문장을 잘라내면 될까요?\n",
        "\n",
        "> 니 아이피가 **192.168.56.21** 맞니?\n",
        "\n",
        "> looking for **Ph.D.** Students"
      ]
    },
    {
      "cell_type": "markdown",
      "metadata": {
        "id": "M174lJbEfZLK"
      },
      "source": [
        "## [English] sent_tokenize"
      ]
    },
    {
      "cell_type": "code",
      "metadata": {
        "id": "QA5_F36gfgS6"
      },
      "source": [
        "text = \"Since I'm actively looking for Ph.D. students. I get the same question a dozen times every year.\""
      ],
      "execution_count": null,
      "outputs": []
    },
    {
      "cell_type": "code",
      "metadata": {
        "colab": {
          "base_uri": "https://localhost:8080/"
        },
        "id": "g6StQ8sxfhZF",
        "outputId": "e7b46e98-b904-42f1-844f-4ca43465b341"
      },
      "source": [
        "# 단순하게 온점으로만 토크나이징을 한 경우\n",
        "print(text.split(\".\"))"
      ],
      "execution_count": null,
      "outputs": [
        {
          "output_type": "stream",
          "text": [
            "[\"Since I'm actively looking for Ph\", 'D', ' students', ' I get the same question a dozen times every year', '']\n"
          ],
          "name": "stdout"
        }
      ]
    },
    {
      "cell_type": "code",
      "metadata": {
        "colab": {
          "base_uri": "https://localhost:8080/"
        },
        "id": "6RhXDtbuflw_",
        "outputId": "0035cd40-c996-47c5-9307-572042a6426b"
      },
      "source": [
        "from nltk.tokenize import sent_tokenize\n",
        "print(sent_tokenize(text))"
      ],
      "execution_count": null,
      "outputs": [
        {
          "output_type": "stream",
          "text": [
            "[\"Since I'm actively looking for Ph.D. students.\", 'I get the same question a dozen times every year.']\n"
          ],
          "name": "stdout"
        }
      ]
    },
    {
      "cell_type": "code",
      "metadata": {
        "colab": {
          "base_uri": "https://localhost:8080/"
        },
        "id": "is-TK1X1fu7c",
        "outputId": "3ce02126-a014-48c4-deaf-9d00efcd86cc"
      },
      "source": [
        "text = \"My IP Address is 192.168.56.51. Hello World!\"\n",
        "print(text.split(\".\"))"
      ],
      "execution_count": null,
      "outputs": [
        {
          "output_type": "stream",
          "text": [
            "['My IP Address is 192', '168', '56', '51', ' Hello World!']\n"
          ],
          "name": "stdout"
        }
      ]
    },
    {
      "cell_type": "code",
      "metadata": {
        "colab": {
          "base_uri": "https://localhost:8080/"
        },
        "id": "jefFgT39f2n0",
        "outputId": "b1aae251-37fc-4722-98da-e11832d52913"
      },
      "source": [
        "print(sent_tokenize(text))"
      ],
      "execution_count": null,
      "outputs": [
        {
          "output_type": "stream",
          "text": [
            "['My IP Address is 192.168.56.51.', 'Hello World!']\n"
          ],
          "name": "stdout"
        }
      ]
    },
    {
      "cell_type": "markdown",
      "metadata": {
        "id": "4uwUWEWUf6z7"
      },
      "source": [
        "## [Korean] kss"
      ]
    },
    {
      "cell_type": "code",
      "metadata": {
        "colab": {
          "base_uri": "https://localhost:8080/"
        },
        "id": "VaRMVL3lgDTX",
        "outputId": "1fe1fa13-a7a7-4175-b81e-91e887f89140"
      },
      "source": [
        "!pip install kss"
      ],
      "execution_count": null,
      "outputs": [
        {
          "output_type": "stream",
          "text": [
            "Collecting kss\n",
            "\u001b[?25l  Downloading https://files.pythonhosted.org/packages/c9/e2/43ac92280810437a552111db85a0379dfaa5ca8ccd81d27a547e9091e5d5/kss-2.5.0-py3-none-any.whl (68kB)\n",
            "\r\u001b[K     |████▉                           | 10kB 13.8MB/s eta 0:00:01\r\u001b[K     |█████████▋                      | 20kB 11.5MB/s eta 0:00:01\r\u001b[K     |██████████████▍                 | 30kB 6.0MB/s eta 0:00:01\r\u001b[K     |███████████████████▎            | 40kB 5.6MB/s eta 0:00:01\r\u001b[K     |████████████████████████        | 51kB 2.9MB/s eta 0:00:01\r\u001b[K     |████████████████████████████▉   | 61kB 3.2MB/s eta 0:00:01\r\u001b[K     |████████████████████████████████| 71kB 2.4MB/s \n",
            "\u001b[?25hInstalling collected packages: kss\n",
            "Successfully installed kss-2.5.0\n"
          ],
          "name": "stdout"
        }
      ]
    },
    {
      "cell_type": "code",
      "metadata": {
        "colab": {
          "base_uri": "https://localhost:8080/"
        },
        "id": "IxhABhFJgFZv",
        "outputId": "b68813b8-73af-45b9-966c-2f6b1f32fc13"
      },
      "source": [
        "import kss\n",
        "text = \"제 아이피는 192.168.56.21 입니다. 자연어 처리가 재미있나요?ㅋㅋㅋ\"\n",
        "\n",
        "print(kss.split_sentences(text))"
      ],
      "execution_count": null,
      "outputs": [
        {
          "output_type": "stream",
          "text": [
            "['제 아이피는 192.168.56.21 입니다.', '자연어 처리가 재미있나요?ㅋㅋㅋ']\n"
          ],
          "name": "stdout"
        }
      ]
    },
    {
      "cell_type": "markdown",
      "metadata": {
        "id": "4AwDd_MlgVwZ"
      },
      "source": [
        "## [Korean] 띄어쓰기 및 맞춤법 정리\n",
        "### KoSpacing\n",
        "```\n",
        "!pip install git+https://github.com/haven-jeon/PyKoSpacing.git\n",
        "```\n",
        "### Hanspell\n",
        "```\n",
        "!pip install git+https://github.com/ssut/py-hanspell.git\n",
        "```"
      ]
    },
    {
      "cell_type": "code",
      "metadata": {
        "id": "KDLRH592gj9T"
      },
      "source": [
        "!pip install git+https://github.com/haven-jeon/PyKoSpacing.git"
      ],
      "execution_count": null,
      "outputs": []
    },
    {
      "cell_type": "code",
      "metadata": {
        "id": "4EC9oXwQgobC"
      },
      "source": [
        "!pip install git+https://github.com/ssut/py-hanspell.git"
      ],
      "execution_count": null,
      "outputs": []
    },
    {
      "cell_type": "code",
      "metadata": {
        "id": "Yt11koFngpp0"
      },
      "source": [
        "from hanspell import spell_checker # 한국어 맞춤법 관리\n",
        "from pykospacing import spacing # 한국어 띄어쓰기 관리"
      ],
      "execution_count": null,
      "outputs": []
    },
    {
      "cell_type": "markdown",
      "metadata": {
        "id": "hHF0j9Snh6r1"
      },
      "source": [
        "## KoSpacing 사용하기"
      ]
    },
    {
      "cell_type": "code",
      "metadata": {
        "id": "aN6MXyofh_Sd"
      },
      "source": [
        "text = \"4번놀고있지.4번은팀워크가없어.4번은개인주의야.4번은혼자밖에생각하지않아.\""
      ],
      "execution_count": null,
      "outputs": []
    },
    {
      "cell_type": "code",
      "metadata": {
        "colab": {
          "base_uri": "https://localhost:8080/"
        },
        "id": "C6xWO99hiBj9",
        "outputId": "e1544163-931f-4469-fef7-902c364b5be7"
      },
      "source": [
        "spacing_text = spacing(text)\n",
        "print(spacing_text)"
      ],
      "execution_count": null,
      "outputs": [
        {
          "output_type": "stream",
          "text": [
            "4번 놀고 있지.4번은 팀워크가 없어.4번은 개인주의야.4번은 혼자 밖에 생각하지 않아.\n"
          ],
          "name": "stdout"
        }
      ]
    },
    {
      "cell_type": "markdown",
      "metadata": {
        "id": "R4RXih8ciHzQ"
      },
      "source": [
        "## Hanspell 사용하기\n",
        "* 맞춤법 검사 및 교정\n",
        "* KoSpacing 처럼 띄어쓰기 교정도 가능"
      ]
    },
    {
      "cell_type": "code",
      "metadata": {
        "colab": {
          "base_uri": "https://localhost:8080/"
        },
        "id": "BK1wBGSRifr-",
        "outputId": "d06d514b-8a04-49a3-ec2c-d91a6de116e3"
      },
      "source": [
        "# 띄어쓰기 검사 및 교정\n",
        "hanspell_text = spell_checker.check(text)\n",
        "print(hanspell_text.checked)"
      ],
      "execution_count": null,
      "outputs": [
        {
          "output_type": "stream",
          "text": [
            "4번 놀고 있지. 4번은 팀워크가 없어. 4번은 개인주의야. 4번은 혼자밖에 생각하지 않아.\n"
          ],
          "name": "stdout"
        }
      ]
    },
    {
      "cell_type": "code",
      "metadata": {
        "colab": {
          "base_uri": "https://localhost:8080/"
        },
        "id": "YAwEaZfcioG7",
        "outputId": "cdb54d2e-4192-416f-9a1f-76a93c0c6984"
      },
      "source": [
        "# 맞춤법 검사\n",
        "text = \"맞춤뻡 틀리면 외 않되?\"\n",
        "hanspell_text = spell_checker.check(text).checked\n",
        "print(hanspell_text)"
      ],
      "execution_count": null,
      "outputs": [
        {
          "output_type": "stream",
          "text": [
            "맞춤법 틀리면 왜 안돼?\n"
          ],
          "name": "stdout"
        }
      ]
    },
    {
      "cell_type": "markdown",
      "metadata": {
        "id": "ye2ACdZTi5Xs"
      },
      "source": [
        "# 텍스트 정제 및 정규화"
      ]
    },
    {
      "cell_type": "markdown",
      "metadata": {
        "id": "WlF5Tg9mlS_R"
      },
      "source": [
        "## [English] 정규화 - Stemming 정규화 과정\n",
        "어간(stem)을 추출하는 과정 - 영어는 사전에 없는 이상한 단어가 종종 나온다.\n",
        "\n",
        "* Beautiful : beaut\n",
        "* Allowance ; allow\n",
        "* Medical : medic\n",
        "* books : book\n",
        "* this : thi"
      ]
    },
    {
      "cell_type": "code",
      "metadata": {
        "id": "KK5bnQ-olrvJ"
      },
      "source": [
        "from nltk.stem import PorterStemmer\n",
        "from nltk.tokenize import word_tokenize\n",
        "\n",
        "porter_stemmer = PorterStemmer()"
      ],
      "execution_count": null,
      "outputs": []
    },
    {
      "cell_type": "code",
      "metadata": {
        "colab": {
          "base_uri": "https://localhost:8080/"
        },
        "id": "UM0B2_TXmTdE",
        "outputId": "033fe394-2708-48d1-d792-5d46f3b9bec5"
      },
      "source": [
        "text = \"This was not the map we found in Billy Bones's chest, but an accurate copy, complete in all things--names and heights and soundings--with the single exception of the red crosses and the written notes.\"\n",
        "\n",
        "# Stemming : 단어에 대한 어간을 추출하는 과정이기 때문에 단어 토큰화 부터 수행\n",
        "words = word_tokenize(text)\n",
        "print(words)"
      ],
      "execution_count": null,
      "outputs": [
        {
          "output_type": "stream",
          "text": [
            "['This', 'was', 'not', 'the', 'map', 'we', 'found', 'in', 'Billy', 'Bones', \"'s\", 'chest', ',', 'but', 'an', 'accurate', 'copy', ',', 'complete', 'in', 'all', 'things', '--', 'names', 'and', 'heights', 'and', 'soundings', '--', 'with', 'the', 'single', 'exception', 'of', 'the', 'red', 'crosses', 'and', 'the', 'written', 'notes', '.']\n"
          ],
          "name": "stdout"
        }
      ]
    },
    {
      "cell_type": "code",
      "metadata": {
        "colab": {
          "base_uri": "https://localhost:8080/"
        },
        "id": "rl5B4nxqmk1i",
        "outputId": "438626f6-93d0-4429-881a-f8c5abce97a1"
      },
      "source": [
        "stem_list = [ porter_stemmer.stem(w) for w in words ]\n",
        "print(stem_list)"
      ],
      "execution_count": null,
      "outputs": [
        {
          "output_type": "stream",
          "text": [
            "['thi', 'wa', 'not', 'the', 'map', 'we', 'found', 'in', 'billi', 'bone', \"'s\", 'chest', ',', 'but', 'an', 'accur', 'copi', ',', 'complet', 'in', 'all', 'thing', '--', 'name', 'and', 'height', 'and', 'sound', '--', 'with', 'the', 'singl', 'except', 'of', 'the', 'red', 'cross', 'and', 'the', 'written', 'note', '.']\n"
          ],
          "name": "stdout"
        }
      ]
    },
    {
      "cell_type": "markdown",
      "metadata": {
        "id": "vHcNcZXgmz1r"
      },
      "source": [
        "* 언어의 단어 모양이 변경되는 형식은 절대 **자연어 생성 모델**을 만들때는 사용하면 X\n",
        "* 단순 분류나 회귀문제를 풀어야 할 때는 효과가 있을 수도 있다."
      ]
    },
    {
      "cell_type": "code",
      "metadata": {
        "colab": {
          "base_uri": "https://localhost:8080/"
        },
        "id": "grJ44XPzni_M",
        "outputId": "0870cb16-7cec-40a9-b4d7-b105dfe4c84e"
      },
      "source": [
        "words = [\"Serialize\", \"Allowance\", \"Allowed\", \"Medical\", \"Pretty\", \"Lovely\", \"Beautiful\"]\n",
        "print([porter_stemmer.stem(w) for w in words])"
      ],
      "execution_count": null,
      "outputs": [
        {
          "output_type": "stream",
          "text": [
            "['serial', 'allow', 'allow', 'medic', 'pretti', 'love', 'beauti']\n"
          ],
          "name": "stdout"
        }
      ]
    },
    {
      "cell_type": "markdown",
      "metadata": {
        "id": "3x9Xp2oanzsm"
      },
      "source": [
        "## [Korean] 정규화 - Okt 활용 (Stemming, Normalization)"
      ]
    },
    {
      "cell_type": "code",
      "metadata": {
        "colab": {
          "base_uri": "https://localhost:8080/"
        },
        "id": "bdeXEtp3oADo",
        "outputId": "ec9ca51a-ddce-456c-d37e-4ac4f05d1b0d"
      },
      "source": [
        "okt = Okt()\n",
        "text = \"4번 놀고 있지. 4번은 팀워크가 없어. 4번은 개인주의야. 4번은 혼자밖에 생각하지 않아.\"\n",
        "\n",
        "print(okt.morphs(text)) # 일반적인 형태소 분리\n",
        "print(okt.morphs(text, stem=True)) # 어간이 추출된 형태소 분리 ( 동사와 형용사에 대한 어간을 추출 )"
      ],
      "execution_count": null,
      "outputs": [
        {
          "output_type": "stream",
          "text": [
            "['4', '번', '놀고', '있지', '.', '4', '번은', '팀워크', '가', '없어', '.', '4', '번은', '개인주의', '야', '.', '4', '번은', '혼자', '밖에', '생각', '하지', '않아', '.']\n",
            "['4', '번', '놀다', '있다', '.', '4', '번은', '팀워크', '가', '없다', '.', '4', '번은', '개인주의', '야', '.', '4', '번은', '혼자', '밖에', '생각', '하다', '않다', '.']\n"
          ],
          "name": "stdout"
        }
      ]
    },
    {
      "cell_type": "code",
      "metadata": {
        "colab": {
          "base_uri": "https://localhost:8080/"
        },
        "id": "TeZlzhJT48gg",
        "outputId": "87a2f6b0-9dc5-4d0e-dd92-0b13fa184c56"
      },
      "source": [
        "print(okt.pos(text))\n",
        "print(okt.pos(text, stem=True))"
      ],
      "execution_count": null,
      "outputs": [
        {
          "output_type": "stream",
          "text": [
            "[('4', 'Number'), ('번', 'Noun'), ('놀고', 'Verb'), ('있지', 'Adjective'), ('.', 'Punctuation'), ('4', 'Number'), ('번은', 'Noun'), ('팀워크', 'Noun'), ('가', 'Josa'), ('없어', 'Adjective'), ('.', 'Punctuation'), ('4', 'Number'), ('번은', 'Noun'), ('개인주의', 'Noun'), ('야', 'Josa'), ('.', 'Punctuation'), ('4', 'Number'), ('번은', 'Noun'), ('혼자', 'Noun'), ('밖에', 'Josa'), ('생각', 'Noun'), ('하지', 'Verb'), ('않아', 'Verb'), ('.', 'Punctuation')]\n",
            "[('4', 'Number'), ('번', 'Noun'), ('놀다', 'Verb'), ('있다', 'Adjective'), ('.', 'Punctuation'), ('4', 'Number'), ('번은', 'Noun'), ('팀워크', 'Noun'), ('가', 'Josa'), ('없다', 'Adjective'), ('.', 'Punctuation'), ('4', 'Number'), ('번은', 'Noun'), ('개인주의', 'Noun'), ('야', 'Josa'), ('.', 'Punctuation'), ('4', 'Number'), ('번은', 'Noun'), ('혼자', 'Noun'), ('밖에', 'Josa'), ('생각', 'Noun'), ('하다', 'Verb'), ('않다', 'Verb'), ('.', 'Punctuation')]\n"
          ],
          "name": "stdout"
        }
      ]
    },
    {
      "cell_type": "code",
      "metadata": {
        "colab": {
          "base_uri": "https://localhost:8080/"
        },
        "id": "APAYMUin5JlU",
        "outputId": "975be922-03b5-4387-afb4-05138d41fce6"
      },
      "source": [
        "text = \"딥러닝 진짜 어렵닼ㅋㅋㅋㅋㅋㅋㅋㅋㅋㅋ 이렇게 어려울지 몰랐어옄ㅋㅋㅋㅋㅋㅋㅋㅋ\"\n",
        "\n",
        "print(okt.pos(text))\n",
        "print(okt.pos(text, norm=True)) # 정규화"
      ],
      "execution_count": null,
      "outputs": [
        {
          "output_type": "stream",
          "text": [
            "[('딥', 'Noun'), ('러닝', 'Noun'), ('진짜', 'Noun'), ('어렵닼', 'Noun'), ('ㅋㅋㅋㅋㅋㅋㅋㅋㅋㅋ', 'KoreanParticle'), ('이렇게', 'Adverb'), ('어려울지', 'Verb'), ('몰랐어', 'Verb'), ('옄', 'Noun'), ('ㅋㅋㅋㅋㅋㅋㅋㅋ', 'KoreanParticle')]\n",
            "[('딥', 'Noun'), ('러닝', 'Noun'), ('진짜', 'Noun'), ('어렵다', 'Adjective'), ('ㅋㅋㅋ', 'KoreanParticle'), ('이렇게', 'Adverb'), ('어려울지', 'Verb'), ('몰랐어여', 'Verb'), ('ㅋㅋㅋ', 'KoreanParticle')]\n"
          ],
          "name": "stdout"
        }
      ]
    },
    {
      "cell_type": "code",
      "metadata": {
        "colab": {
          "base_uri": "https://localhost:8080/"
        },
        "id": "WtZJ4Y5V5vaD",
        "outputId": "1cee0ea3-49db-48dd-a92c-1fd59b5817c0"
      },
      "source": [
        "# 어간 추출(stem), 정규화를 동시에\n",
        "print(okt.pos(text, stem=True, norm=True))"
      ],
      "execution_count": null,
      "outputs": [
        {
          "output_type": "stream",
          "text": [
            "[('딥', 'Noun'), ('러닝', 'Noun'), ('진짜', 'Noun'), ('어렵다', 'Adjective'), ('ㅋㅋㅋ', 'KoreanParticle'), ('이렇게', 'Adverb'), ('어리다', 'Verb'), ('모르다', 'Verb'), ('ㅋㅋㅋ', 'KoreanParticle')]\n"
          ],
          "name": "stdout"
        }
      ]
    },
    {
      "cell_type": "markdown",
      "metadata": {
        "id": "eWy4YZ9M6BSC"
      },
      "source": [
        "## [Korean] 이모티콘이나 의미없이 반복되는 문자 정제\n",
        "* ㅋㅋ, ㅋㅋㅋㅋㅋ, ㅋㅋㅋㅋㅋㅋㅋ, ㅎㅎㅎ,ㅎㅎㅎㅎㅎ,ㅎㅎㅎㅎㅎㅎ\n",
        "\n",
        "* 잘한다ㅠㅠㅠㅠㅠㅠㅠ : 긍정의 표현으로 많이 사용? -> 잘한다 ㅠㅠ\n",
        "* 잘한다ㅋㅋㅋㅋㅋㅋㅋ : 긍정 또는 부정의 표현으로 많이 사용 -> 잘한다 ㅋㅋ\n",
        "\n",
        "이모티콘이나 의미없이 반복되는 문자들을 정제하기 위한 패키지"
      ]
    },
    {
      "cell_type": "code",
      "metadata": {
        "colab": {
          "base_uri": "https://localhost:8080/"
        },
        "id": "sLipeOws6Uu7",
        "outputId": "8cae08e2-8bf1-424d-82dc-969d1d4cb110"
      },
      "source": [
        "!pip install soynlp"
      ],
      "execution_count": null,
      "outputs": [
        {
          "output_type": "stream",
          "text": [
            "Collecting soynlp\n",
            "\u001b[?25l  Downloading https://files.pythonhosted.org/packages/7e/50/6913dc52a86a6b189419e59f9eef1b8d599cffb6f44f7bb91854165fc603/soynlp-0.0.493-py3-none-any.whl (416kB)\n",
            "\u001b[K     |████████████████████████████████| 419kB 3.9MB/s \n",
            "\u001b[?25hRequirement already satisfied: psutil>=5.0.1 in /usr/local/lib/python3.7/dist-packages (from soynlp) (5.4.8)\n",
            "Requirement already satisfied: scikit-learn>=0.20.0 in /usr/local/lib/python3.7/dist-packages (from soynlp) (0.22.2.post1)\n",
            "Requirement already satisfied: scipy>=1.1.0 in /usr/local/lib/python3.7/dist-packages (from soynlp) (1.4.1)\n",
            "Requirement already satisfied: numpy>=1.12.1 in /usr/local/lib/python3.7/dist-packages (from soynlp) (1.19.5)\n",
            "Requirement already satisfied: joblib>=0.11 in /usr/local/lib/python3.7/dist-packages (from scikit-learn>=0.20.0->soynlp) (1.0.1)\n",
            "Installing collected packages: soynlp\n",
            "Successfully installed soynlp-0.0.493\n"
          ],
          "name": "stdout"
        }
      ]
    },
    {
      "cell_type": "code",
      "metadata": {
        "colab": {
          "base_uri": "https://localhost:8080/"
        },
        "id": "RW73PhHE6lVH",
        "outputId": "09c02079-87f5-4835-d153-2b262478fa8c"
      },
      "source": [
        "from soynlp.normalizer import emoticon_normalize\n",
        "\n",
        "print(emoticon_normalize(\"앜ㅋㅋㅋ 이 게임 존잼쓰ㅠㅠㅠㅠㅠㅠㅠㅠㅠㅠㅠㅠ\", num_repeats=2))\n",
        "print(emoticon_normalize(\"앜ㅋㅋㅋㅋㅋㅋㅋㅋㅋㅋㅋㅋ 이 게임 존잼쓰ㅠㅠㅠㅠㅠㅠㅠㅠ\", num_repeats=2))\n",
        "print(emoticon_normalize(\"앜ㅋㅋㅋㅋㅋㅋ 이 게임 존잼쓰ㅠㅠㅠㅠㅠㅠㅠ\", num_repeats=2))"
      ],
      "execution_count": null,
      "outputs": [
        {
          "output_type": "stream",
          "text": [
            "아ㅋㅋ 이 게임 존잼쓰ㅠㅠ\n",
            "아ㅋㅋ 이 게임 존잼쓰ㅠㅠ\n",
            "아ㅋㅋ 이 게임 존잼쓰ㅠㅠ\n"
          ],
          "name": "stdout"
        }
      ]
    },
    {
      "cell_type": "code",
      "metadata": {
        "colab": {
          "base_uri": "https://localhost:8080/"
        },
        "id": "EikCicAK69Ml",
        "outputId": "5bb283fc-84df-4d1b-feae-996b9bc84fde"
      },
      "source": [
        "# 반복되는 문자를 정규화\n",
        "from soynlp.normalizer import repeat_normalize\n",
        "\n",
        "print(repeat_normalize(\"문을 쿵쿵쿵쿵쿵쿵쿵쿵쿵쿵쿵쿵쿵쿵 두드렸다.\", num_repeats=2))\n",
        "print(repeat_normalize(\"문을 쿵쿵쿵쿵쿵쿵쿵 두드렸다.\", num_repeats=2))\n",
        "print(repeat_normalize(\"문을 쿵쿵쿵쿵 두드렸다.\", num_repeats=2))"
      ],
      "execution_count": null,
      "outputs": [
        {
          "output_type": "stream",
          "text": [
            "문을 쿵쿵 두드렸다.\n",
            "문을 쿵쿵 두드렸다.\n",
            "문을 쿵쿵 두드렸다.\n"
          ],
          "name": "stdout"
        }
      ]
    },
    {
      "cell_type": "markdown",
      "metadata": {
        "id": "zMx1OdRg7QAE"
      },
      "source": [
        "## 텍스트 정제( Cleaning )\n",
        "* 정규식을 이용한 정제 방법\n",
        "  * 특수기호나 의미 없는 공백등을 정규식을 활용하여 제거\n",
        "* 불용어 정제(stopwords)\n",
        "  * 빈도수가 낮거나, 의미 없는 단어를 문장에서 제거하는 방법"
      ]
    },
    {
      "cell_type": "code",
      "metadata": {
        "colab": {
          "base_uri": "https://localhost:8080/"
        },
        "id": "jsyp2RC37vZv",
        "outputId": "5c9a4940-d004-4a8c-9324-311eb3c83447"
      },
      "source": [
        "# 정규식을 사용하기 위해 re모듈 임포트\n",
        "import re\n",
        "\n",
        "eng_sent = \"\\n\\n\\n\\n\\n\\n\\nYeah, do you expect people to read the FAQ, etc. and actually accept hard\\natheism?  No, you need a little leap of faith, Jimmy.  Your logic runs out\\nof steam!\\n\\n\\n\\n\\n\\n\\n\\nJim,\\n\\nSorry I can't pity you, Jim.  And I'm sorry that you have these feelings of\\ndenial about the faith you need to get by.  Oh well, just pretend that it will\\nall end happily ever after anyway.  Maybe if you start a new newsgroup,\\nalt.atheist.hard, you won't be bummin' so much?\\n\\n\\n\\n\\n\\n\\nBye-Bye, Big Jim.  Don't forget your Flintstone's Chewables!  :) \\n--\\nBake Timmons, III\"\n",
        "\n",
        "print(eng_sent)"
      ],
      "execution_count": null,
      "outputs": [
        {
          "output_type": "stream",
          "text": [
            "\n",
            "\n",
            "\n",
            "\n",
            "\n",
            "\n",
            "\n",
            "Yeah, do you expect people to read the FAQ, etc. and actually accept hard\n",
            "atheism?  No, you need a little leap of faith, Jimmy.  Your logic runs out\n",
            "of steam!\n",
            "\n",
            "\n",
            "\n",
            "\n",
            "\n",
            "\n",
            "\n",
            "Jim,\n",
            "\n",
            "Sorry I can't pity you, Jim.  And I'm sorry that you have these feelings of\n",
            "denial about the faith you need to get by.  Oh well, just pretend that it will\n",
            "all end happily ever after anyway.  Maybe if you start a new newsgroup,\n",
            "alt.atheist.hard, you won't be bummin' so much?\n",
            "\n",
            "\n",
            "\n",
            "\n",
            "\n",
            "\n",
            "Bye-Bye, Big Jim.  Don't forget your Flintstone's Chewables!  :) \n",
            "--\n",
            "Bake Timmons, III\n"
          ],
          "name": "stdout"
        }
      ]
    },
    {
      "cell_type": "code",
      "metadata": {
        "colab": {
          "base_uri": "https://localhost:8080/"
        },
        "id": "0TPVagi0762I",
        "outputId": "33d9b0b3-74e4-4ab5-ae6d-ff3d0f6913c4"
      },
      "source": [
        "# 영문 알파벳이 아닌 것은 모두 공백으로 치환하겠다.\n",
        "# 위 문장에서 영어가 아닌 것들을 전부다 공백으로 치환\n",
        "# re 모듈의 sub 함수가 replace의 역할을 한다.\n",
        "\n",
        "eng_sent = re.sub(\"[^a-zA-Z]\", # [] : 안에 있는 글자 1개, ^ : 시작하는게 아닌 것, a-z : 알파벳 소문자 a~z, A-Z 알파벳 대문자 A ~ Z\n",
        "                  \" \",\n",
        "                  eng_sent)\n",
        "print(eng_sent)"
      ],
      "execution_count": null,
      "outputs": [
        {
          "output_type": "stream",
          "text": [
            "       Yeah  do you expect people to read the FAQ  etc  and actually accept hard atheism   No  you need a little leap of faith  Jimmy   Your logic runs out of steam         Jim   Sorry I can t pity you  Jim   And I m sorry that you have these feelings of denial about the faith you need to get by   Oh well  just pretend that it will all end happily ever after anyway   Maybe if you start a new newsgroup  alt atheist hard  you won t be bummin  so much        Bye Bye  Big Jim   Don t forget your Flintstone s Chewables          Bake Timmons  III\n"
          ],
          "name": "stdout"
        }
      ]
    },
    {
      "cell_type": "code",
      "metadata": {
        "colab": {
          "base_uri": "https://localhost:8080/"
        },
        "id": "t-_W19KX9Niz",
        "outputId": "e81fc0f2-f0e0-4440-a954-8bee3acdb5c6"
      },
      "source": [
        "# 예를 들어 4글자 이상인 단어만 추출해서 새롭게 문장을 만들기\n",
        "eng_sent = \" \".join([w for w in eng_sent.split() if len(w) > 3])\n",
        "print(eng_sent)"
      ],
      "execution_count": null,
      "outputs": [
        {
          "output_type": "stream",
          "text": [
            "Yeah expect people read actually accept hard atheism need little leap faith Jimmy Your logic runs steam Sorry pity sorry that have these feelings denial about faith need well just pretend that will happily ever after anyway Maybe start newsgroup atheist hard bummin much forget your Flintstone Chewables Bake Timmons\n"
          ],
          "name": "stdout"
        }
      ]
    },
    {
      "cell_type": "markdown",
      "metadata": {
        "id": "34ek9H359kV2"
      },
      "source": [
        "## [Korean] 정규표현식 정제\n",
        "한국어 문장에서 한글만 추출하는 정규식 : `[ㄱ-ㅎㅏ-ㅣ가-힣]`"
      ]
    },
    {
      "cell_type": "code",
      "metadata": {
        "colab": {
          "base_uri": "https://localhost:8080/",
          "height": 35
        },
        "id": "J52SinRS9-0_",
        "outputId": "547fd338-a48f-424b-a653-d6146f41fd42"
      },
      "source": [
        "kor_sent = \"와 오늘 날씨 실화냐...ㅋㅋㅋㅋ 엄청 더워서 졸려요..\"\n",
        "kor_sent"
      ],
      "execution_count": null,
      "outputs": [
        {
          "output_type": "execute_result",
          "data": {
            "application/vnd.google.colaboratory.intrinsic+json": {
              "type": "string"
            },
            "text/plain": [
              "'와 오늘 날씨 실화냐...ㅋㅋㅋㅋ 엄청 더워서 졸려요..'"
            ]
          },
          "metadata": {
            "tags": []
          },
          "execution_count": 66
        }
      ]
    },
    {
      "cell_type": "code",
      "metadata": {
        "colab": {
          "base_uri": "https://localhost:8080/",
          "height": 35
        },
        "id": "cl-Rks---J3N",
        "outputId": "30437d37-d739-43dd-8ea3-0d290675ffed"
      },
      "source": [
        "kor_sent = re.sub(\"[^ㄱ-ㅎㅏ-ㅣ가-힣]\", \" \", kor_sent)\n",
        "kor_sent"
      ],
      "execution_count": null,
      "outputs": [
        {
          "output_type": "execute_result",
          "data": {
            "application/vnd.google.colaboratory.intrinsic+json": {
              "type": "string"
            },
            "text/plain": [
              "'와 오늘 날씨 실화냐   ㅋㅋㅋㅋ 엄청 더워서 졸려요  '"
            ]
          },
          "metadata": {
            "tags": []
          },
          "execution_count": 67
        }
      ]
    },
    {
      "cell_type": "code",
      "metadata": {
        "colab": {
          "base_uri": "https://localhost:8080/",
          "height": 35
        },
        "id": "6EBiaWFg-YW1",
        "outputId": "b3165dc9-f52d-4f87-de19-f8a0dbb74e94"
      },
      "source": [
        "# 공백이 2개 이상이면 사라지게 하기\n",
        "kor_sent = re.sub(\"[ ]{2,}\", \" \", kor_sent)\n",
        "kor_sent"
      ],
      "execution_count": null,
      "outputs": [
        {
          "output_type": "execute_result",
          "data": {
            "application/vnd.google.colaboratory.intrinsic+json": {
              "type": "string"
            },
            "text/plain": [
              "'와 오늘 날씨 실화냐 ㅋㅋㅋㅋ 엄청 더워서 졸려요 '"
            ]
          },
          "metadata": {
            "tags": []
          },
          "execution_count": 68
        }
      ]
    },
    {
      "cell_type": "markdown",
      "metadata": {
        "id": "i5lyPm1m-0xK"
      },
      "source": [
        "# 불용어(stopwords) 정제\n",
        "필요 없는 짧은 단어나 의미가 없는 단어들을 제거"
      ]
    },
    {
      "cell_type": "markdown",
      "metadata": {
        "id": "OGU2zMI1_M8D"
      },
      "source": [
        "## [English] 불용어 정제\n",
        "* nltk 모듈"
      ]
    },
    {
      "cell_type": "code",
      "metadata": {
        "colab": {
          "base_uri": "https://localhost:8080/"
        },
        "id": "AtaEo_cX_PXK",
        "outputId": "6a1e9c91-21c2-4713-a525-63b556488e4e"
      },
      "source": [
        "import nltk\n",
        "nltk.download(\"stopwords\") # 불용어 단어사전 다운로드"
      ],
      "execution_count": null,
      "outputs": [
        {
          "output_type": "stream",
          "text": [
            "[nltk_data] Downloading package stopwords to /root/nltk_data...\n",
            "[nltk_data]   Unzipping corpora/stopwords.zip.\n"
          ],
          "name": "stdout"
        },
        {
          "output_type": "execute_result",
          "data": {
            "text/plain": [
              "True"
            ]
          },
          "metadata": {
            "tags": []
          },
          "execution_count": 69
        }
      ]
    },
    {
      "cell_type": "code",
      "metadata": {
        "colab": {
          "base_uri": "https://localhost:8080/"
        },
        "id": "_R2Uf8y5_VBN",
        "outputId": "be967569-7f99-4596-8ee5-788448c24108"
      },
      "source": [
        "# 불용어도 여러분들의 비즈니스에 맞게 따로 설정할 수 있어야 한다.\n",
        "from nltk.corpus import stopwords\n",
        "print(list(stopwords.words('english')))"
      ],
      "execution_count": null,
      "outputs": [
        {
          "output_type": "stream",
          "text": [
            "['i', 'me', 'my', 'myself', 'we', 'our', 'ours', 'ourselves', 'you', \"you're\", \"you've\", \"you'll\", \"you'd\", 'your', 'yours', 'yourself', 'yourselves', 'he', 'him', 'his', 'himself', 'she', \"she's\", 'her', 'hers', 'herself', 'it', \"it's\", 'its', 'itself', 'they', 'them', 'their', 'theirs', 'themselves', 'what', 'which', 'who', 'whom', 'this', 'that', \"that'll\", 'these', 'those', 'am', 'is', 'are', 'was', 'were', 'be', 'been', 'being', 'have', 'has', 'had', 'having', 'do', 'does', 'did', 'doing', 'a', 'an', 'the', 'and', 'but', 'if', 'or', 'because', 'as', 'until', 'while', 'of', 'at', 'by', 'for', 'with', 'about', 'against', 'between', 'into', 'through', 'during', 'before', 'after', 'above', 'below', 'to', 'from', 'up', 'down', 'in', 'out', 'on', 'off', 'over', 'under', 'again', 'further', 'then', 'once', 'here', 'there', 'when', 'where', 'why', 'how', 'all', 'any', 'both', 'each', 'few', 'more', 'most', 'other', 'some', 'such', 'no', 'nor', 'not', 'only', 'own', 'same', 'so', 'than', 'too', 'very', 's', 't', 'can', 'will', 'just', 'don', \"don't\", 'should', \"should've\", 'now', 'd', 'll', 'm', 'o', 're', 've', 'y', 'ain', 'aren', \"aren't\", 'couldn', \"couldn't\", 'didn', \"didn't\", 'doesn', \"doesn't\", 'hadn', \"hadn't\", 'hasn', \"hasn't\", 'haven', \"haven't\", 'isn', \"isn't\", 'ma', 'mightn', \"mightn't\", 'mustn', \"mustn't\", 'needn', \"needn't\", 'shan', \"shan't\", 'shouldn', \"shouldn't\", 'wasn', \"wasn't\", 'weren', \"weren't\", 'won', \"won't\", 'wouldn', \"wouldn't\"]\n"
          ],
          "name": "stdout"
        }
      ]
    },
    {
      "cell_type": "code",
      "metadata": {
        "colab": {
          "base_uri": "https://localhost:8080/"
        },
        "id": "7c4ekI0d_hTX",
        "outputId": "2b8acb2c-15ef-462c-a3f8-6754ef5ec7b2"
      },
      "source": [
        "sample_text = \"Family is not an important thing. It's everything\"\n",
        "\n",
        "# 사람이 직접 만든 불용어 사전에는 중복이 존재할 수도 있다. 따라서 중복을 제거\n",
        "stop_words = set(stopwords.words(\"english\"))\n",
        "\n",
        "word_tokens = word_tokenize(sample_text.lower()) # 문장을 소문자로 만들어서 토큰화 하기\n",
        "\n",
        "result = [ w for w in word_tokens if w not in stop_words ]\n",
        "\n",
        "print(\"원본 : {}\".format(word_tokens))\n",
        "print(\"불용어 제거 후 : {}\".format(result))"
      ],
      "execution_count": null,
      "outputs": [
        {
          "output_type": "stream",
          "text": [
            "원본 : ['family', 'is', 'not', 'an', 'important', 'thing', '.', 'it', \"'s\", 'everything']\n",
            "불용어 제거 후 : ['family', 'important', 'thing', '.', \"'s\", 'everything']\n"
          ],
          "name": "stdout"
        }
      ]
    },
    {
      "cell_type": "markdown",
      "metadata": {
        "id": "HbzvXP4HAQDq"
      },
      "source": [
        "## [Korean] 불용어 정제\n",
        "* 한국어 불용어 사전은 직접 만들거나 구글링해서 찾으시면 된다.\n",
        "* 개발자가 직접 정의하는게 일반적"
      ]
    },
    {
      "cell_type": "code",
      "metadata": {
        "colab": {
          "base_uri": "https://localhost:8080/"
        },
        "id": "xUlnvxmlAncl",
        "outputId": "ead22731-58fd-45d3-8873-3dee8ba82dd0"
      },
      "source": [
        "sample_text=\"와 이런 것도 영화라고 차라리 뮤직비디오를 만드는 게 나을 뻔\"\n",
        "word_tokens = mecab.morphs(sample_text)\n",
        "\n",
        "print(word_tokens)"
      ],
      "execution_count": null,
      "outputs": [
        {
          "output_type": "stream",
          "text": [
            "['와', '이런', '것', '도', '영화', '라고', '차라리', '뮤직', '비디오', '를', '만드', '는', '게', '나을', '뻔']\n"
          ],
          "name": "stdout"
        }
      ]
    },
    {
      "cell_type": "code",
      "metadata": {
        "id": "XjO6CIwMAucS"
      },
      "source": [
        "# 개발자가 임의로 불용어를 선정할 수 있다.\n",
        "# 일반적으로 조사나 접속사들이 불용어로 선정된다.\n",
        "stop_words = ['의','가','이','은','들','는','좀','잘','걍','과','도','를','으로','자','에','와','한','하다', '것', '게']"
      ],
      "execution_count": null,
      "outputs": []
    },
    {
      "cell_type": "code",
      "metadata": {
        "colab": {
          "base_uri": "https://localhost:8080/"
        },
        "id": "aioi6IbUBBPj",
        "outputId": "6083fd09-3141-435e-b050-94873af443ef"
      },
      "source": [
        "result = [w for w in word_tokens if not w in stop_words]\n",
        "\n",
        "print(\"원문 : {}\".format(word_tokens))\n",
        "print(\"불용어 제거 후 : {}\".format(result))"
      ],
      "execution_count": null,
      "outputs": [
        {
          "output_type": "stream",
          "text": [
            "원문 : ['와', '이런', '것', '도', '영화', '라고', '차라리', '뮤직', '비디오', '를', '만드', '는', '게', '나을', '뻔']\n",
            "불용어 제거 후 : ['이런', '영화', '라고', '차라리', '뮤직', '비디오', '만드', '나을', '뻔']\n"
          ],
          "name": "stdout"
        }
      ]
    },
    {
      "cell_type": "markdown",
      "metadata": {
        "id": "Eo-LQ25gBKXF"
      },
      "source": [
        "자연어 처리에서 데이터 정제는 따로 정해진 루틴은 없다. 각자의 비즈니스에 맞게 문자열 편집능력을 활용하는 것"
      ]
    },
    {
      "cell_type": "code",
      "metadata": {
        "id": "AqrwOwxdBcLJ"
      },
      "source": [
        ""
      ],
      "execution_count": null,
      "outputs": []
    }
  ]
}