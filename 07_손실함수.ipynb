{
  "nbformat": 4,
  "nbformat_minor": 0,
  "metadata": {
    "colab": {
      "name": "07. 손실함수",
      "provenance": [],
      "collapsed_sections": [],
      "include_colab_link": true
    },
    "kernelspec": {
      "name": "python3",
      "display_name": "Python 3"
    },
    "language_info": {
      "name": "python"
    }
  },
  "cells": [
    {
      "cell_type": "markdown",
      "metadata": {
        "id": "view-in-github",
        "colab_type": "text"
      },
      "source": [
        "<a href=\"https://colab.research.google.com/github/koalalovepabro/Deep-Learning/blob/main/07_%EC%86%90%EC%8B%A4%ED%95%A8%EC%88%98.ipynb\" target=\"_parent\"><img src=\"https://colab.research.google.com/assets/colab-badge.svg\" alt=\"Open In Colab\"/></a>"
      ]
    },
    {
      "cell_type": "markdown",
      "metadata": {
        "id": "1JQK8cIKIb96"
      },
      "source": [
        "# 손실함수 - ( Loss Function, Cost Function )\n",
        "딥러닝 모델의 학습 지표\n",
        "- Accuracy\n",
        "  - 모델이 얼마나 잘 맞췄는가에 초점을 두는 것\n",
        "  - 사람이 모델을 평가하는 기준을 보통 정확도를 사용\n",
        "- Loss\n",
        "  - 모델이 얼마나 잘 못 맞췄는가에 초점을 두는 것\n",
        "  - 모델이 자기 자신을 평가하는 기준이 된다.\n",
        "\n",
        "## 지표란?\n",
        "- 기준\n",
        "- 식사를 해야 하는데 배가 부른 것을 기준으로 할지, 배가 고픈 것을 기준으로 할지\n",
        "- 잘 맞춘 것을 기준으로 할래?( Accuracy ), 맞추지 못한 것을 기준으로 할래? ( Loss )"
      ]
    },
    {
      "cell_type": "markdown",
      "metadata": {
        "id": "YEX7W1XcJ0Nb"
      },
      "source": [
        "# 평균 제곱 오차( Mean Squared Error )\n",
        "$$\n",
        "E = \\frac{1}{2}\\sum_{k}(y_k-t_k)^2\n",
        "$$\n",
        "\n",
        "* $y_k$ : 신경망의 예측값\n",
        "* $t_k$ : 정답 레이블\n",
        "* $k$ : 데이터의 차원 수\n",
        " * 차원수 : 클래스의 개수\n",
        "   * 강아지, 고양이, 말을 예측하는 문제면 $k$가 3\n",
        "   * MNIST 손글씨 데이터셋이면 $k$가 10\n",
        "----\n",
        "* 보통 신경망에서는 `MSE`를 사용하지 않고 `Cross Entropy Error`를 활용\n",
        "* `Cross Entropy Error`가 `MSE`보다 훨씬 효율적이기 때문\n",
        "* `MSE`를 배우는 이유는\n",
        " * 1. 회귀 문제를 풀기에 적합\n",
        " * 2. 단순하게 `loss`에 대한 공부가 쉽기 때문에\n",
        "* 정상적인 $\\frac{1}{n}$을 사용하지 않고 $\\frac{1}{2}$을 사용한 이유는 `MSE`를 미분 했을 때 남는 것은 순수한 오차라고 할 수 있는 $y-t$만 남기 때문에"
      ]
    },
    {
      "cell_type": "code",
      "metadata": {
        "id": "jssM3F5RKaA6"
      },
      "source": [
        "import numpy as np\n",
        "\n",
        "y = np.array([0.1, 0.05, 0.6, 0.0, 0.05, 0.1, 0.0, 0.1, 0.0, 0.0]) # 2번 클래스로의 예측 확률이 60%\n",
        "t = np.array([0,      0,   1,   0,    0,   0,   0,   0,   0,   0]) # 정답은 2라는 이야기 이다. 클래스의 개수만큼 One Hot Encoding이 되어있는 상태"
      ],
      "execution_count": null,
      "outputs": []
    },
    {
      "cell_type": "code",
      "metadata": {
        "colab": {
          "base_uri": "https://localhost:8080/"
        },
        "id": "wq5rc_NRQh7k",
        "outputId": "98cf306c-2a38-44f8-e383-7d4a99300341"
      },
      "source": [
        "# 각 클래스 별 순수한 오차\n",
        "y-t"
      ],
      "execution_count": null,
      "outputs": [
        {
          "output_type": "execute_result",
          "data": {
            "text/plain": [
              "array([ 0.1 ,  0.05, -0.4 ,  0.  ,  0.05,  0.1 ,  0.  ,  0.1 ,  0.  ,\n",
              "        0.  ])"
            ]
          },
          "metadata": {
            "tags": []
          },
          "execution_count": 2
        }
      ]
    },
    {
      "cell_type": "code",
      "metadata": {
        "id": "DdLC7fboQmRa"
      },
      "source": [
        "# MSE 구현하기\n",
        "def mean_squared_error(y, t):\n",
        "  return 0.5 * np.sum((y-t)**2)"
      ],
      "execution_count": null,
      "outputs": []
    },
    {
      "cell_type": "code",
      "metadata": {
        "colab": {
          "base_uri": "https://localhost:8080/"
        },
        "id": "2Lf85g0iQt4H",
        "outputId": "022f0e60-3e5c-4ba0-dcc4-61e8daae9aeb"
      },
      "source": [
        "print(\"정답을 2로 추정했을 때의 MSE값( 0.6 ) : {:.3f}\".format(mean_squared_error(y, t)))"
      ],
      "execution_count": null,
      "outputs": [
        {
          "output_type": "stream",
          "text": [
            "정답을 2로 추정했을 때의 MSE값( 0.6 ) : 0.098\n"
          ],
          "name": "stdout"
        }
      ]
    },
    {
      "cell_type": "code",
      "metadata": {
        "colab": {
          "base_uri": "https://localhost:8080/"
        },
        "id": "9JRNpJM0Q8Sf",
        "outputId": "1b93ede6-be8d-40ec-c629-84b189d38661"
      },
      "source": [
        "y = np.array([0.0, 0.05, 0.8, 0.0, 0.05, 0.0, 0.0, 0.1, 0.0, 0.0]) # 2번 클래스로의 예측 확률이 80%\n",
        "print(\"정답을 2로 추정했을 때의 MSE값( 0.8 ) : {:.3f}\".format(mean_squared_error(y, t)))"
      ],
      "execution_count": null,
      "outputs": [
        {
          "output_type": "stream",
          "text": [
            "정답을 2로 추정했을 때의 MSE값( 0.8 ) : 0.027\n"
          ],
          "name": "stdout"
        }
      ]
    },
    {
      "cell_type": "code",
      "metadata": {
        "colab": {
          "base_uri": "https://localhost:8080/"
        },
        "id": "z-xVyYNBRUXc",
        "outputId": "a8962d9c-ea64-49b9-8dc0-77cad29bbfe4"
      },
      "source": [
        "y = np.array([0.0, 0.8, 0.05 , 0.0, 0.05, 0.0, 0.0, 0.1, 0.0, 0.0]) # 2번 클래스로의 예측 확률이 5%, 1번 클래스로의 예측은 80%\n",
        "print(\"정답을 1로 추정했을 때의 MSE값( 2로 추정한 확률 : 0.05 ) : {:.3f}\".format(mean_squared_error(y, t)))"
      ],
      "execution_count": null,
      "outputs": [
        {
          "output_type": "stream",
          "text": [
            "정답을 1로 추정했을 때의 MSE값( 2로 추정한 확률 : 0.05 ) : 0.777\n"
          ],
          "name": "stdout"
        }
      ]
    },
    {
      "cell_type": "markdown",
      "metadata": {
        "id": "H9SAXL2NRk4R"
      },
      "source": [
        "# 교차 엔트로피 오차(Cross Entropy Error)\n",
        "\n",
        "$$\n",
        "E = -\\sum_{k}t_k\\log{y_k}\n",
        "$$\n",
        "\n",
        "* $t_k$는 OHE이 되어있는 상태\n",
        "* $k$는 데이터의 차원\n",
        "* 정답 레이블의 소프트맥스의 결과가 $0.6$이면$-\\log{0.6}$을 구한것과 똑같다."
      ]
    },
    {
      "cell_type": "code",
      "metadata": {
        "id": "Hob_8zD-R8zU"
      },
      "source": [
        "# cross entropy error 구현하기\n",
        "def cross_entropy_error(y, t):\n",
        "  delta = 1e-7 # delta : 아주 작은 값. log 0는 음수 무한대가 되기 때문에 아주 작은 값은 delta를 임의로 더해준다.\n",
        "  return -np.sum(t * np.log(y + delta))"
      ],
      "execution_count": null,
      "outputs": []
    },
    {
      "cell_type": "markdown",
      "metadata": {
        "id": "RBg9T1XHX1Cg"
      },
      "source": [
        "`np.log` 함수에 0이 대입되면 ( 즉 예측값 $y_{_{k}}$가 0이면) 음수 무한대가 되어 버린다. 따라서 아주 작은 값인 `delta`를 더해준다."
      ]
    },
    {
      "cell_type": "code",
      "metadata": {
        "colab": {
          "base_uri": "https://localhost:8080/"
        },
        "id": "fGZBDpUEX-bn",
        "outputId": "66f34edd-7be4-42ea-afeb-7fc7815dc5ec"
      },
      "source": [
        "t = np.array([0,      0,   1,   0,    0,   0,   0,   0,   0,   0]) # 정답은 2라는 이야기 이다. 클래스의 개수만큼 One Hot Encoding이 되어있는 상태\n",
        "\n",
        "y = np.array([0.1, 0.05, 0.6, 0.0, 0.05, 0.1, 0.0, 0.1, 0.0, 0.0]) # 2번 클래스로의 예측 확률이 60%\n",
        "print(\"정답을 2로 추정했을 때의 CEE값(0.6) : {:.3f}\".format(cross_entropy_error(y, t)))\n",
        "\n",
        "y = np.array([0.1, 0.05, 0.8, 0.0, 0.05, 0.0, 0.0, 0.0, 0.0, 0.0]) # 2번 클래스로의 예측 확률이 80%\n",
        "print(\"정답을 2로 추정했을 때의 CEE값(0.8) : {:.3f}\".format(cross_entropy_error(y, t)))\n",
        "\n",
        "y = np.array([0.7, 0.05, 0.1 , 0.0, 0.05, 0.0, 0.0, 0.1, 0.0, 0.0]) # 2번 클래스로의 예측 확률이 10%, 0번 클래스로 예측한 확률이 70%\n",
        "print(\"정답을 0로 추정했을 때의 CEE값( 2로 추정한 확률은 0.1 ) : {:.3f}\".format(cross_entropy_error(y, t)))"
      ],
      "execution_count": null,
      "outputs": [
        {
          "output_type": "stream",
          "text": [
            "정답을 2로 추정했을 때의 CEE값(0.6) : 0.511\n",
            "정답을 2로 추정했을 때의 CEE값(0.8) : 0.223\n",
            "정답을 0로 추정했을 때의 CEE값( 2로 추정한 확률은 0.1 ) : 2.303\n"
          ],
          "name": "stdout"
        }
      ]
    },
    {
      "cell_type": "markdown",
      "metadata": {
        "id": "3dDfZN8GYipv"
      },
      "source": [
        "Cross Entropy Error의 해석\n",
        "* 정답 레이블의 확률만을 계산 하는 것.\n",
        "* 정답 예측 확률이 낮아지면 Loss가 매우 크게 증가 - 고쳐야 될 것이 많다.\n",
        "* 정답 예측 확률이 높아지면 Loss가 완만하게 감소  - 고쳐야 할 것이 많이 없어진다."
      ]
    },
    {
      "cell_type": "code",
      "metadata": {
        "id": "dDbltoH6Y95b"
      },
      "source": [
        ""
      ],
      "execution_count": null,
      "outputs": []
    }
  ]
}