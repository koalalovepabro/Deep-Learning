{
  "nbformat": 4,
  "nbformat_minor": 0,
  "metadata": {
    "colab": {
      "name": "01. numpy 기초",
      "provenance": [],
      "collapsed_sections": [],
      "include_colab_link": true
    },
    "kernelspec": {
      "name": "python3",
      "display_name": "Python 3"
    },
    "language_info": {
      "name": "python"
    }
  },
  "cells": [
    {
      "cell_type": "markdown",
      "metadata": {
        "id": "view-in-github",
        "colab_type": "text"
      },
      "source": [
        "<a href=\"https://colab.research.google.com/github/koalalovepabro/Deep-Learning/blob/main/01_numpy_%EA%B8%B0%EC%B4%88.ipynb\" target=\"_parent\"><img src=\"https://colab.research.google.com/assets/colab-badge.svg\" alt=\"Open In Colab\"/></a>"
      ]
    },
    {
      "cell_type": "code",
      "metadata": {
        "id": "cezJmEoo1qZw"
      },
      "source": [
        "import numpy as np"
      ],
      "execution_count": null,
      "outputs": []
    },
    {
      "cell_type": "markdown",
      "metadata": {
        "id": "a6x1CBIE2EvO"
      },
      "source": [
        "* numpy는 내부적으로 C로 구현이 되어 있어요 ( 속도가 빠르다. )\n",
        "* 수치 연산에 관련된 방대한 라이브러리가 존재한다.( with scipy )\n",
        "* 일반 python을 이용한 연산보다 훨씬 빠르다.\n",
        "* 배열 병렬 연산에 특화 되어 있다."
      ]
    },
    {
      "cell_type": "code",
      "metadata": {
        "colab": {
          "base_uri": "https://localhost:8080/"
        },
        "id": "TQgfnRNQ2V00",
        "outputId": "f5b408b4-6ff5-45f0-89ca-a0cbb9860935"
      },
      "source": [
        "# numpy로 만든 배열을 ndarray 라고 한다.\n",
        "# 1. 일반 파이썬 리스트를 numpy 배열화\n",
        "\n",
        "py_list = [1, 2, 3]\n",
        "arr1 = np.array(py_list)\n",
        "arr1"
      ],
      "execution_count": null,
      "outputs": [
        {
          "output_type": "execute_result",
          "data": {
            "text/plain": [
              "array([1, 2, 3])"
            ]
          },
          "metadata": {
            "tags": []
          },
          "execution_count": 95
        }
      ]
    },
    {
      "cell_type": "code",
      "metadata": {
        "colab": {
          "base_uri": "https://localhost:8080/"
        },
        "id": "czYFL3Vs2o2t",
        "outputId": "9fa57d16-6ffd-4537-a921-bced3c923e23"
      },
      "source": [
        "# type 확인\n",
        "type(arr1)"
      ],
      "execution_count": null,
      "outputs": [
        {
          "output_type": "execute_result",
          "data": {
            "text/plain": [
              "numpy.ndarray"
            ]
          },
          "metadata": {
            "tags": []
          },
          "execution_count": 96
        }
      ]
    },
    {
      "cell_type": "markdown",
      "metadata": {
        "id": "M6elU2XN2r4I"
      },
      "source": [
        "# 배열의 종류\n",
        "1. 스칼라 (scalar)\n",
        "  * 0 차원 데이터라고 한다.\n",
        "  * 단순한 값\n",
        "  * `scalar_val = 10`\n",
        "2. 벡터 (vector)\n",
        "  * 1차원 배열이라고 한다.\n",
        "  * 스칼라가 연속적으로 모여있는 것.\n",
        "  * `vector_val = [1, 2, 3]`\n",
        "  * 벡터 내에 데이터가 `N`가 있으면 `N 차원 벡터`라고 한다.\n",
        "3. 행렬 (matrix)\n",
        "  * 2차원 배열이라고 한다.\n",
        "  * 1차원 배열인 벡터가 여러 개 모여있는 것.\n",
        "  * `matrix_val = [ [1,2,3], [4,5,6]]`\n",
        "4. 텐서 (tensor)\n",
        "  * 3차원 이상의 배열을 의미한다.\n",
        "  * Tensorflow는 뭘까요...?\n",
        "  * 텐서의 개념을 이용하면 모든 배열의 모양을 이야기 할 수 있다.\n",
        "    * 스칼라 - 0 Rank Tensor\n",
        "    * 벡터 - 1 Rank Tensor\n",
        "    * 행렬 - 2 Rank Tensor"
      ]
    },
    {
      "cell_type": "markdown",
      "metadata": {
        "id": "GNaUL8r53N9S"
      },
      "source": [
        "numpy에서는 숫자 배열을 만들기 위한 여러 가지 함수를 제공"
      ]
    },
    {
      "cell_type": "markdown",
      "metadata": {
        "id": "KYjucZg_5AVg"
      },
      "source": [
        "# np.arange\n",
        "* np.arange 함수는 파이썬의 range 함수와 매우 흡사"
      ]
    },
    {
      "cell_type": "code",
      "metadata": {
        "colab": {
          "base_uri": "https://localhost:8080/"
        },
        "id": "BJSwdz5R5KzW",
        "outputId": "afce40fd-56e7-40b3-86c5-d9f516ad2181"
      },
      "source": [
        "arr = np.arange(10) # 0 ~ 9 까지 들어있는 숫자 배열을 생성\n",
        "arr"
      ],
      "execution_count": null,
      "outputs": [
        {
          "output_type": "execute_result",
          "data": {
            "text/plain": [
              "array([0, 1, 2, 3, 4, 5, 6, 7, 8, 9])"
            ]
          },
          "metadata": {
            "tags": []
          },
          "execution_count": 97
        }
      ]
    },
    {
      "cell_type": "markdown",
      "metadata": {
        "id": "J6mAB-mc5RcC"
      },
      "source": [
        "리스트와 배열의 차이\n",
        "* 리스트는 파이썬에 존재하는 모든 것을 담아낼 수가 있다.\n",
        "  * list -> `[\"hello\", 10, 123.122, True]`\n",
        "* 배열은 보통 숫자 데이터만 들어가 있을 때 배열이라고 합니다."
      ]
    },
    {
      "cell_type": "code",
      "metadata": {
        "colab": {
          "base_uri": "https://localhost:8080/"
        },
        "id": "ZiZ8SaDo5j4a",
        "outputId": "deef0c11-8089-44a7-a2e0-e31d4ba33ba7"
      },
      "source": [
        "np.arange(1, 10) # 1 ~ 9까지 들어있는 숫자 배열을 생성"
      ],
      "execution_count": null,
      "outputs": [
        {
          "output_type": "execute_result",
          "data": {
            "text/plain": [
              "array([1, 2, 3, 4, 5, 6, 7, 8, 9])"
            ]
          },
          "metadata": {
            "tags": []
          },
          "execution_count": 98
        }
      ]
    },
    {
      "cell_type": "code",
      "metadata": {
        "colab": {
          "base_uri": "https://localhost:8080/"
        },
        "id": "g7dg-up35ssm",
        "outputId": "c4e6b9cb-0907-4c68-dbfa-8c17bfef772c"
      },
      "source": [
        "np.arange(1, 10, 2) # 1부터 9까지 2씩 띄워가면서 숫자 배열 생성"
      ],
      "execution_count": null,
      "outputs": [
        {
          "output_type": "execute_result",
          "data": {
            "text/plain": [
              "array([1, 3, 5, 7, 9])"
            ]
          },
          "metadata": {
            "tags": []
          },
          "execution_count": 99
        }
      ]
    },
    {
      "cell_type": "markdown",
      "metadata": {
        "id": "Iy_9aics54ya"
      },
      "source": [
        "# 다차원 배열 만들기\n",
        "* `np.arange` : 1차원 정수 배열 만들 때 사용\n",
        "* `np.zeros` : 0 으로 채워진 0 벡터(zero-vector)를 만들 때 사용\n",
        "* `np.ones` : 1로 채워진 1 벡터(one-vector)를 만들 때 사용\n",
        "* `np.full` : 지정한 숫자로 채워진 벡터를 만들 때 사용\n",
        "\n",
        "* zeros, ones, full 전부다 벡터 뿐만이 아닌, 텐서까지도 생성이 가능"
      ]
    },
    {
      "cell_type": "code",
      "metadata": {
        "colab": {
          "base_uri": "https://localhost:8080/"
        },
        "id": "B0uncUd56GZ3",
        "outputId": "212880aa-0fbe-418c-cf61-407694c5a0bd"
      },
      "source": [
        "np.zeros(5) # 1차원 배열에 5개의 0을 채운다."
      ],
      "execution_count": null,
      "outputs": [
        {
          "output_type": "execute_result",
          "data": {
            "text/plain": [
              "array([0., 0., 0., 0., 0.])"
            ]
          },
          "metadata": {
            "tags": []
          },
          "execution_count": 100
        }
      ]
    },
    {
      "cell_type": "code",
      "metadata": {
        "colab": {
          "base_uri": "https://localhost:8080/"
        },
        "id": "hb8PlLFp6j-p",
        "outputId": "2e9bccf2-ad33-4b04-ac27-21adc3b1db1b"
      },
      "source": [
        "# 지정한 차원 수 대로 0으로 채워진 텐서 만들기\n",
        "np.zeros((3, 4, 5))"
      ],
      "execution_count": null,
      "outputs": [
        {
          "output_type": "execute_result",
          "data": {
            "text/plain": [
              "array([[[0., 0., 0., 0., 0.],\n",
              "        [0., 0., 0., 0., 0.],\n",
              "        [0., 0., 0., 0., 0.],\n",
              "        [0., 0., 0., 0., 0.]],\n",
              "\n",
              "       [[0., 0., 0., 0., 0.],\n",
              "        [0., 0., 0., 0., 0.],\n",
              "        [0., 0., 0., 0., 0.],\n",
              "        [0., 0., 0., 0., 0.]],\n",
              "\n",
              "       [[0., 0., 0., 0., 0.],\n",
              "        [0., 0., 0., 0., 0.],\n",
              "        [0., 0., 0., 0., 0.],\n",
              "        [0., 0., 0., 0., 0.]]])"
            ]
          },
          "metadata": {
            "tags": []
          },
          "execution_count": 101
        }
      ]
    },
    {
      "cell_type": "code",
      "metadata": {
        "colab": {
          "base_uri": "https://localhost:8080/"
        },
        "id": "fXZ7SZyd6x35",
        "outputId": "f33ad89d-2587-45cb-f754-cb31e6af12b9"
      },
      "source": [
        "np.ones(5)"
      ],
      "execution_count": null,
      "outputs": [
        {
          "output_type": "execute_result",
          "data": {
            "text/plain": [
              "array([1., 1., 1., 1., 1.])"
            ]
          },
          "metadata": {
            "tags": []
          },
          "execution_count": 102
        }
      ]
    },
    {
      "cell_type": "code",
      "metadata": {
        "colab": {
          "base_uri": "https://localhost:8080/"
        },
        "id": "wb2sw9Z67siT",
        "outputId": "fb87bcd7-279b-49d0-82ea-4120f85afa5c"
      },
      "source": [
        "np.ones((3,4,5))"
      ],
      "execution_count": null,
      "outputs": [
        {
          "output_type": "execute_result",
          "data": {
            "text/plain": [
              "array([[[1., 1., 1., 1., 1.],\n",
              "        [1., 1., 1., 1., 1.],\n",
              "        [1., 1., 1., 1., 1.],\n",
              "        [1., 1., 1., 1., 1.]],\n",
              "\n",
              "       [[1., 1., 1., 1., 1.],\n",
              "        [1., 1., 1., 1., 1.],\n",
              "        [1., 1., 1., 1., 1.],\n",
              "        [1., 1., 1., 1., 1.]],\n",
              "\n",
              "       [[1., 1., 1., 1., 1.],\n",
              "        [1., 1., 1., 1., 1.],\n",
              "        [1., 1., 1., 1., 1.],\n",
              "        [1., 1., 1., 1., 1.]]])"
            ]
          },
          "metadata": {
            "tags": []
          },
          "execution_count": 103
        }
      ]
    },
    {
      "cell_type": "markdown",
      "metadata": {
        "id": "JyfCct0G7uOG"
      },
      "source": [
        "3 으로 채워진 텐서는 어떻게 만들까?"
      ]
    },
    {
      "cell_type": "code",
      "metadata": {
        "colab": {
          "base_uri": "https://localhost:8080/"
        },
        "id": "7oS8Q39R70NS",
        "outputId": "1ecb7559-7100-41ab-af36-5a2c3fb88a16"
      },
      "source": [
        "np.ones((3, 4, 5)) * 3"
      ],
      "execution_count": null,
      "outputs": [
        {
          "output_type": "execute_result",
          "data": {
            "text/plain": [
              "array([[[3., 3., 3., 3., 3.],\n",
              "        [3., 3., 3., 3., 3.],\n",
              "        [3., 3., 3., 3., 3.],\n",
              "        [3., 3., 3., 3., 3.]],\n",
              "\n",
              "       [[3., 3., 3., 3., 3.],\n",
              "        [3., 3., 3., 3., 3.],\n",
              "        [3., 3., 3., 3., 3.],\n",
              "        [3., 3., 3., 3., 3.]],\n",
              "\n",
              "       [[3., 3., 3., 3., 3.],\n",
              "        [3., 3., 3., 3., 3.],\n",
              "        [3., 3., 3., 3., 3.],\n",
              "        [3., 3., 3., 3., 3.]]])"
            ]
          },
          "metadata": {
            "tags": []
          },
          "execution_count": 104
        }
      ]
    },
    {
      "cell_type": "markdown",
      "metadata": {
        "id": "PLe2V7t473Ud"
      },
      "source": [
        "np.full을 사용해도 된다."
      ]
    },
    {
      "cell_type": "code",
      "metadata": {
        "colab": {
          "base_uri": "https://localhost:8080/"
        },
        "id": "zWIwFTTQ76pH",
        "outputId": "f55134a0-8771-497c-9eec-68a16b26b558"
      },
      "source": [
        "np.full((3, 4, 5), 3) # 배열의 모양(shape), 채울 숫자"
      ],
      "execution_count": null,
      "outputs": [
        {
          "output_type": "execute_result",
          "data": {
            "text/plain": [
              "array([[[3, 3, 3, 3, 3],\n",
              "        [3, 3, 3, 3, 3],\n",
              "        [3, 3, 3, 3, 3],\n",
              "        [3, 3, 3, 3, 3]],\n",
              "\n",
              "       [[3, 3, 3, 3, 3],\n",
              "        [3, 3, 3, 3, 3],\n",
              "        [3, 3, 3, 3, 3],\n",
              "        [3, 3, 3, 3, 3]],\n",
              "\n",
              "       [[3, 3, 3, 3, 3],\n",
              "        [3, 3, 3, 3, 3],\n",
              "        [3, 3, 3, 3, 3],\n",
              "        [3, 3, 3, 3, 3]]])"
            ]
          },
          "metadata": {
            "tags": []
          },
          "execution_count": 105
        }
      ]
    },
    {
      "cell_type": "markdown",
      "metadata": {
        "id": "pnQrwkeL8CS1"
      },
      "source": [
        "# 단위 행렬 만들기\n",
        "* `np.eye`\n",
        "* 단위 행렬 : 대각선의 방향의 원소가 1이고, 나머지는 0인 행렬"
      ]
    },
    {
      "cell_type": "code",
      "metadata": {
        "colab": {
          "base_uri": "https://localhost:8080/"
        },
        "id": "lvgRgARJ8SwT",
        "outputId": "e1e70984-19ee-4c26-b05b-5632d6036a9b"
      },
      "source": [
        "np.eye(3)"
      ],
      "execution_count": null,
      "outputs": [
        {
          "output_type": "execute_result",
          "data": {
            "text/plain": [
              "array([[1., 0., 0.],\n",
              "       [0., 1., 0.],\n",
              "       [0., 0., 1.]])"
            ]
          },
          "metadata": {
            "tags": []
          },
          "execution_count": 106
        }
      ]
    },
    {
      "cell_type": "code",
      "metadata": {
        "colab": {
          "base_uri": "https://localhost:8080/"
        },
        "id": "_F-J5Cct8Zhf",
        "outputId": "b5f0ec6a-39ae-4b33-d52a-ad565432dfaf"
      },
      "source": [
        "np.eye(3, 4)"
      ],
      "execution_count": null,
      "outputs": [
        {
          "output_type": "execute_result",
          "data": {
            "text/plain": [
              "array([[1., 0., 0., 0.],\n",
              "       [0., 1., 0., 0.],\n",
              "       [0., 0., 1., 0.]])"
            ]
          },
          "metadata": {
            "tags": []
          },
          "execution_count": 107
        }
      ]
    },
    {
      "cell_type": "markdown",
      "metadata": {
        "id": "uKtB1VSd8clw"
      },
      "source": [
        "# 구간 나누기 ( 사잇값 만들기 )\n",
        "* np.linspace"
      ]
    },
    {
      "cell_type": "code",
      "metadata": {
        "colab": {
          "base_uri": "https://localhost:8080/"
        },
        "id": "A8oros188qqe",
        "outputId": "ba9c831c-1b24-4051-eb2e-9de47b628f30"
      },
      "source": [
        "np.linspace(1, 10, 3) # 1부터 10까지 균등하게 3개의 숫자를 만든다. - 2개의 구간을 만든다."
      ],
      "execution_count": null,
      "outputs": [
        {
          "output_type": "execute_result",
          "data": {
            "text/plain": [
              "array([ 1. ,  5.5, 10. ])"
            ]
          },
          "metadata": {
            "tags": []
          },
          "execution_count": 108
        }
      ]
    },
    {
      "cell_type": "code",
      "metadata": {
        "colab": {
          "base_uri": "https://localhost:8080/"
        },
        "id": "m6yEYvm88zzk",
        "outputId": "dda57a76-642a-455e-9be5-b53ad1b7c83f"
      },
      "source": [
        "np.linspace(1, 10, 4)"
      ],
      "execution_count": null,
      "outputs": [
        {
          "output_type": "execute_result",
          "data": {
            "text/plain": [
              "array([ 1.,  4.,  7., 10.])"
            ]
          },
          "metadata": {
            "tags": []
          },
          "execution_count": 109
        }
      ]
    },
    {
      "cell_type": "code",
      "metadata": {
        "colab": {
          "base_uri": "https://localhost:8080/"
        },
        "id": "OMixleGO85hg",
        "outputId": "113c0d78-ba6e-453c-c167-2e0841b42c09"
      },
      "source": [
        "np.linspace(1, 10, 5)"
      ],
      "execution_count": null,
      "outputs": [
        {
          "output_type": "execute_result",
          "data": {
            "text/plain": [
              "array([ 1.  ,  3.25,  5.5 ,  7.75, 10.  ])"
            ]
          },
          "metadata": {
            "tags": []
          },
          "execution_count": 110
        }
      ]
    },
    {
      "cell_type": "markdown",
      "metadata": {
        "id": "GL_rR46f88NI"
      },
      "source": [
        "# Random을 사용하기 위한 numpy\n",
        "* 랜덤 배열은 딥러닝에서 매개변수( `가중치`, `편향` )를 초기화 하기 위해서 사용\n",
        "* 딥러닝에서는 일반적으로 활성화 함수에 따라서 Xavier 초깃값, He 초깃값, 0.01 표준편차 정규분포 초깃값을 사용할 수 있다."
      ]
    },
    {
      "cell_type": "markdown",
      "metadata": {
        "id": "MkDVBnvy9ime"
      },
      "source": [
        "## np.random.rand\n",
        "* 완전 랜덤 만들기 ( 정규분포나 균등분포가 아닌 완벽한 랜덤 )"
      ]
    },
    {
      "cell_type": "code",
      "metadata": {
        "colab": {
          "base_uri": "https://localhost:8080/"
        },
        "id": "yMzsKhzU9vf9",
        "outputId": "c921b45f-7e66-44b3-d345-5aef7704b7f9"
      },
      "source": [
        "np.random.rand(2, 3) # 랜덤값을 채울 차원을 지정"
      ],
      "execution_count": null,
      "outputs": [
        {
          "output_type": "execute_result",
          "data": {
            "text/plain": [
              "array([[0.51410578, 0.96719079, 0.74759991],\n",
              "       [0.91973376, 0.56918708, 0.85322999]])"
            ]
          },
          "metadata": {
            "tags": []
          },
          "execution_count": 111
        }
      ]
    },
    {
      "cell_type": "markdown",
      "metadata": {
        "id": "Rn07pdwX9zMu"
      },
      "source": [
        "## np.random.randn\n",
        "* 정규분포 랜덤값 만들기"
      ]
    },
    {
      "cell_type": "code",
      "metadata": {
        "colab": {
          "base_uri": "https://localhost:8080/"
        },
        "id": "aIT68x3u98t_",
        "outputId": "1e277f0b-7037-4850-c916-476ad6b1e271"
      },
      "source": [
        "np.random.randn(10)"
      ],
      "execution_count": null,
      "outputs": [
        {
          "output_type": "execute_result",
          "data": {
            "text/plain": [
              "array([ 0.05976575,  0.12797079,  1.57247806, -1.18925928, -0.61256343,\n",
              "       -1.38137099,  0.00269853, -0.20808   ,  0.82982546,  1.59099926])"
            ]
          },
          "metadata": {
            "tags": []
          },
          "execution_count": 112
        }
      ]
    },
    {
      "cell_type": "markdown",
      "metadata": {
        "id": "wtuFaBS9-PT-"
      },
      "source": [
        "## np.random.uniform\n",
        "* 균등분포 랜덤값 만들기"
      ]
    },
    {
      "cell_type": "code",
      "metadata": {
        "colab": {
          "base_uri": "https://localhost:8080/"
        },
        "id": "lN7RUcmS-YN_",
        "outputId": "62cbab2f-d7c2-49be-ff4f-fc519ebfecd3"
      },
      "source": [
        "np.random.uniform(1.0, 3.0, size=(4, 5)) # 1.0 ~ 3.0 까지 균등분포 랜덤값 생성"
      ],
      "execution_count": null,
      "outputs": [
        {
          "output_type": "execute_result",
          "data": {
            "text/plain": [
              "array([[2.16717471, 1.54893323, 2.61512805, 2.39170615, 1.30575199],\n",
              "       [1.25317929, 1.35515407, 2.23650674, 2.28261435, 2.77421828],\n",
              "       [1.7076782 , 2.72169013, 1.11701113, 1.58727896, 1.19416828],\n",
              "       [1.67689728, 1.29142975, 2.77633013, 2.39279719, 2.28388891]])"
            ]
          },
          "metadata": {
            "tags": []
          },
          "execution_count": 113
        }
      ]
    },
    {
      "cell_type": "markdown",
      "metadata": {
        "id": "u7WUr0s9-sqv"
      },
      "source": [
        "# 정수 랜덤 샘플링 하기\n",
        "* `np.random.choice`\n",
        "* 랜덤 샘플링 : 일정한 범위 내에서 필요한 정수를 랜덤으로 추출\n",
        "* 딥러닝에서는 `mini-batch`를 만들 때 사용합니다."
      ]
    },
    {
      "cell_type": "code",
      "metadata": {
        "colab": {
          "base_uri": "https://localhost:8080/"
        },
        "id": "iRBZdGUi-_la",
        "outputId": "d3efce20-8d3e-42b9-8afe-e47ce356229a"
      },
      "source": [
        "np.random.choice(100, size=(3, 4)) # 기본은 중복을 허용 하면서 추출"
      ],
      "execution_count": null,
      "outputs": [
        {
          "output_type": "execute_result",
          "data": {
            "text/plain": [
              "array([[87, 64,  4, 62],\n",
              "       [77, 62, 93, 75],\n",
              "       [25, 33, 65, 50]])"
            ]
          },
          "metadata": {
            "tags": []
          },
          "execution_count": 114
        }
      ]
    },
    {
      "cell_type": "code",
      "metadata": {
        "colab": {
          "base_uri": "https://localhost:8080/"
        },
        "id": "ZDKCWoKY_JYz",
        "outputId": "66ea9041-8597-4d69-cafd-b6db4b0ad452"
      },
      "source": [
        "# 숫자 내에서 랜덤하게 추출할 수도 있지만, 배열 내에서 랜덤하게 추출할 수 있다.\n",
        "arr = np.arange(1, 6)\n",
        "\n",
        "np.random.choice(arr, size=(2, 2))"
      ],
      "execution_count": null,
      "outputs": [
        {
          "output_type": "execute_result",
          "data": {
            "text/plain": [
              "array([[1, 1],\n",
              "       [1, 4]])"
            ]
          },
          "metadata": {
            "tags": []
          },
          "execution_count": 115
        }
      ]
    },
    {
      "cell_type": "code",
      "metadata": {
        "colab": {
          "base_uri": "https://localhost:8080/"
        },
        "id": "HOYWUijO_Y1U",
        "outputId": "f374af33-0f9f-425c-c8d9-c770edb456de"
      },
      "source": [
        "np.random.choice(arr, size=(2, 2), replace=False) # replace가 False면 중복 추출 X"
      ],
      "execution_count": null,
      "outputs": [
        {
          "output_type": "execute_result",
          "data": {
            "text/plain": [
              "array([[3, 1],\n",
              "       [5, 4]])"
            ]
          },
          "metadata": {
            "tags": []
          },
          "execution_count": 116
        }
      ]
    },
    {
      "cell_type": "markdown",
      "metadata": {
        "id": "yd7_MxV5_cR5"
      },
      "source": [
        "# 랜덤 정수 배열 만들기\n",
        "* `np.random.randint`"
      ]
    },
    {
      "cell_type": "code",
      "metadata": {
        "colab": {
          "base_uri": "https://localhost:8080/"
        },
        "id": "o8S5O3-0_rR0",
        "outputId": "73fdef1f-c684-4c24-bddf-607ec0442f1a"
      },
      "source": [
        "arr1 = np.random.randint(1, 100, size=(5, )) # 1차원 배열의 원소 5개에 1~100 사이의 랜덤값을 채운다.\n",
        "arr1"
      ],
      "execution_count": null,
      "outputs": [
        {
          "output_type": "execute_result",
          "data": {
            "text/plain": [
              "array([38, 66, 10, 59, 94])"
            ]
          },
          "metadata": {
            "tags": []
          },
          "execution_count": 117
        }
      ]
    },
    {
      "cell_type": "code",
      "metadata": {
        "colab": {
          "base_uri": "https://localhost:8080/"
        },
        "id": "9Gm6gyKzCAcx",
        "outputId": "999f2dbb-7986-4b61-9c3b-4f9b452897e9"
      },
      "source": [
        "arr2 = np.random.randint(1, 100, size=(5, 1)) # 2차원 배열에 랜덤 정수 채우기\n",
        "arr2"
      ],
      "execution_count": null,
      "outputs": [
        {
          "output_type": "execute_result",
          "data": {
            "text/plain": [
              "array([[68],\n",
              "       [28],\n",
              "       [83],\n",
              "       [72],\n",
              "       [97]])"
            ]
          },
          "metadata": {
            "tags": []
          },
          "execution_count": 118
        }
      ]
    },
    {
      "cell_type": "markdown",
      "metadata": {
        "id": "PLxXRpdxCQyC"
      },
      "source": [
        "arr1과 arr2는 같은 배열일까요? `No`\n",
        "* arr1은 1차원 배열, arr2는 2차원 배열\n",
        "\n",
        "arr1과 arr2는 같은 **벡터**일까요? `Yes`\n",
        "* arr1은 numpy에는 행벡터의 모양을 하고 있지만 실제로는 열벡터이다.\n",
        "* arr2는 열의 수가 1개인 열벡터의 모양을 하고 있다.\n",
        "\n",
        "대부분의 머신러닝 라이브러리( sklearn, tensorflow, pytoch, caffe 등 )는 기본적인 데이터 취급을 열벡터로 하기 때문에 2차원 배열 이상부터 취급이 가능하다.\n",
        "\n",
        "2차원 데이터 이상부터 전치행렬 변환이 가능하다."
      ]
    },
    {
      "cell_type": "markdown",
      "metadata": {
        "id": "W2yttY0iCgbW"
      },
      "source": [
        "# axis 이해하기\n",
        "axis : 축. 축이란? 데이터가 추가되는 방향\n",
        "\n",
        "예를 들어 3차원 배열 (3, 4, 5)\n",
        "\n",
        "* 3차원 배열에 추가되는건? 2차원 배열\n",
        "* 2차원 배열에 추가되는건? 1차원 배열\n",
        "* 1차원 배열에 추가되는건? 0차원 스칼라"
      ]
    },
    {
      "cell_type": "code",
      "metadata": {
        "colab": {
          "base_uri": "https://localhost:8080/"
        },
        "id": "wyI3qCjiErYJ",
        "outputId": "cbc34bcd-a94c-4bfa-ad8b-2e0038c7e6a5"
      },
      "source": [
        "arr = np.arange(1, 37).reshape(3,4,3)\n",
        "arr"
      ],
      "execution_count": null,
      "outputs": [
        {
          "output_type": "execute_result",
          "data": {
            "text/plain": [
              "array([[[ 1,  2,  3],\n",
              "        [ 4,  5,  6],\n",
              "        [ 7,  8,  9],\n",
              "        [10, 11, 12]],\n",
              "\n",
              "       [[13, 14, 15],\n",
              "        [16, 17, 18],\n",
              "        [19, 20, 21],\n",
              "        [22, 23, 24]],\n",
              "\n",
              "       [[25, 26, 27],\n",
              "        [28, 29, 30],\n",
              "        [31, 32, 33],\n",
              "        [34, 35, 36]]])"
            ]
          },
          "metadata": {
            "tags": []
          },
          "execution_count": 119
        }
      ]
    },
    {
      "cell_type": "code",
      "metadata": {
        "colab": {
          "base_uri": "https://localhost:8080/"
        },
        "id": "rfb1dWcIE8Ui",
        "outputId": "670ec2ac-8d07-4d55-ff87-431b154a0096"
      },
      "source": [
        "# axis : 축의 인덱스\n",
        "# 위의 예에서는 3차원 배열이기 때문에 축이 3가지\n",
        "# 2차원 배열이 추가되는 axis : 0\n",
        "# 1차원 배열이 추가되는 axis : 1\n",
        "# 0차원 스칼라가 추가되는 axis : 2\n",
        "\n",
        "# 각 축별 최댓값(max) 뽑아내기\n",
        "np.max(arr, axis=0)"
      ],
      "execution_count": null,
      "outputs": [
        {
          "output_type": "execute_result",
          "data": {
            "text/plain": [
              "array([[25, 26, 27],\n",
              "       [28, 29, 30],\n",
              "       [31, 32, 33],\n",
              "       [34, 35, 36]])"
            ]
          },
          "metadata": {
            "tags": []
          },
          "execution_count": 120
        }
      ]
    },
    {
      "cell_type": "code",
      "metadata": {
        "colab": {
          "base_uri": "https://localhost:8080/"
        },
        "id": "QjY0nYRBFTq_",
        "outputId": "50136071-1729-477e-9d0b-3365d94bd242"
      },
      "source": [
        "np.max(arr, axis=1)"
      ],
      "execution_count": null,
      "outputs": [
        {
          "output_type": "execute_result",
          "data": {
            "text/plain": [
              "array([[10, 11, 12],\n",
              "       [22, 23, 24],\n",
              "       [34, 35, 36]])"
            ]
          },
          "metadata": {
            "tags": []
          },
          "execution_count": 121
        }
      ]
    },
    {
      "cell_type": "code",
      "metadata": {
        "colab": {
          "base_uri": "https://localhost:8080/"
        },
        "id": "nNKTgHKeGG6C",
        "outputId": "dd1998c1-0b11-460e-9170-64b5456323e4"
      },
      "source": [
        "np.max(arr, axis=2)"
      ],
      "execution_count": null,
      "outputs": [
        {
          "output_type": "execute_result",
          "data": {
            "text/plain": [
              "array([[ 3,  6,  9, 12],\n",
              "       [15, 18, 21, 24],\n",
              "       [27, 30, 33, 36]])"
            ]
          },
          "metadata": {
            "tags": []
          },
          "execution_count": 122
        }
      ]
    },
    {
      "cell_type": "code",
      "metadata": {
        "colab": {
          "base_uri": "https://localhost:8080/"
        },
        "id": "fvPcZFH3GRox",
        "outputId": "43c3dfeb-9f6a-4480-c92b-333bb1d5dc49"
      },
      "source": [
        "arr = np.random.randint(1, 37, size=(3,4,3))\n",
        "arr"
      ],
      "execution_count": null,
      "outputs": [
        {
          "output_type": "execute_result",
          "data": {
            "text/plain": [
              "array([[[19, 16, 25],\n",
              "        [31, 13, 29],\n",
              "        [ 6,  9, 21],\n",
              "        [23,  4, 21]],\n",
              "\n",
              "       [[32, 25, 14],\n",
              "        [25, 13,  4],\n",
              "        [25, 17,  6],\n",
              "        [ 2,  4, 11]],\n",
              "\n",
              "       [[ 3, 29, 27],\n",
              "        [ 4, 23,  3],\n",
              "        [27, 12, 31],\n",
              "        [ 9, 34, 25]]])"
            ]
          },
          "metadata": {
            "tags": []
          },
          "execution_count": 123
        }
      ]
    },
    {
      "cell_type": "code",
      "metadata": {
        "colab": {
          "base_uri": "https://localhost:8080/"
        },
        "id": "7PCdENOnGl-D",
        "outputId": "06ebabe5-a7b2-4a1a-df92-f6dd11856b6e"
      },
      "source": [
        "np.max(arr, axis=0)\n"
      ],
      "execution_count": null,
      "outputs": [
        {
          "output_type": "execute_result",
          "data": {
            "text/plain": [
              "array([[32, 29, 27],\n",
              "       [31, 23, 29],\n",
              "       [27, 17, 31],\n",
              "       [23, 34, 25]])"
            ]
          },
          "metadata": {
            "tags": []
          },
          "execution_count": 124
        }
      ]
    },
    {
      "cell_type": "code",
      "metadata": {
        "colab": {
          "base_uri": "https://localhost:8080/"
        },
        "id": "69hek_QyG_mx",
        "outputId": "856cd742-c3e4-4983-bd2a-7afd39de25bd"
      },
      "source": [
        "np.max(arr, axis=1)\n"
      ],
      "execution_count": null,
      "outputs": [
        {
          "output_type": "execute_result",
          "data": {
            "text/plain": [
              "array([[31, 16, 29],\n",
              "       [32, 25, 14],\n",
              "       [27, 34, 31]])"
            ]
          },
          "metadata": {
            "tags": []
          },
          "execution_count": 125
        }
      ]
    },
    {
      "cell_type": "code",
      "metadata": {
        "colab": {
          "base_uri": "https://localhost:8080/"
        },
        "id": "2jy6u1KuHMxl",
        "outputId": "4516f886-9bb7-4f82-bbec-3078811a3812"
      },
      "source": [
        "np.max(arr, axis=2)"
      ],
      "execution_count": null,
      "outputs": [
        {
          "output_type": "execute_result",
          "data": {
            "text/plain": [
              "array([[25, 31, 21, 23],\n",
              "       [32, 25, 25, 11],\n",
              "       [29, 23, 31, 34]])"
            ]
          },
          "metadata": {
            "tags": []
          },
          "execution_count": 126
        }
      ]
    },
    {
      "cell_type": "markdown",
      "metadata": {
        "id": "Fw0mXYI6Hdes"
      },
      "source": [
        "# 인덱스와 슬라이싱"
      ]
    },
    {
      "cell_type": "code",
      "metadata": {
        "colab": {
          "base_uri": "https://localhost:8080/"
        },
        "id": "n7lFlhaNHstn",
        "outputId": "6c9a8bb0-caf9-4bbc-fb3c-fc6e6a5af330"
      },
      "source": [
        "arr = np.arange(1, 11).reshape(2, 5)\n",
        "arr"
      ],
      "execution_count": null,
      "outputs": [
        {
          "output_type": "execute_result",
          "data": {
            "text/plain": [
              "array([[ 1,  2,  3,  4,  5],\n",
              "       [ 6,  7,  8,  9, 10]])"
            ]
          },
          "metadata": {
            "tags": []
          },
          "execution_count": 127
        }
      ]
    },
    {
      "cell_type": "code",
      "metadata": {
        "colab": {
          "base_uri": "https://localhost:8080/"
        },
        "id": "7DCpxZ1WHykK",
        "outputId": "6a8afbe7-505b-4a98-e926-ae2756b8a3f5"
      },
      "source": [
        "arr[0]"
      ],
      "execution_count": null,
      "outputs": [
        {
          "output_type": "execute_result",
          "data": {
            "text/plain": [
              "array([1, 2, 3, 4, 5])"
            ]
          },
          "metadata": {
            "tags": []
          },
          "execution_count": 128
        }
      ]
    },
    {
      "cell_type": "code",
      "metadata": {
        "colab": {
          "base_uri": "https://localhost:8080/"
        },
        "id": "tvAA7TCQH6bt",
        "outputId": "d64f516b-b823-4ea9-ab9c-442f8e5bc8a9"
      },
      "source": [
        "arr[0][2]"
      ],
      "execution_count": null,
      "outputs": [
        {
          "output_type": "execute_result",
          "data": {
            "text/plain": [
              "3"
            ]
          },
          "metadata": {
            "tags": []
          },
          "execution_count": 129
        }
      ]
    },
    {
      "cell_type": "code",
      "metadata": {
        "colab": {
          "base_uri": "https://localhost:8080/"
        },
        "id": "EOvgqZrTH9TR",
        "outputId": "f11bb95a-eeeb-423d-b72d-db1237cdd706"
      },
      "source": [
        "arr[0, 2]"
      ],
      "execution_count": null,
      "outputs": [
        {
          "output_type": "execute_result",
          "data": {
            "text/plain": [
              "3"
            ]
          },
          "metadata": {
            "tags": []
          },
          "execution_count": 130
        }
      ]
    },
    {
      "cell_type": "markdown",
      "metadata": {
        "id": "vGC9ERKDIAyb"
      },
      "source": [
        "특장 차원의 배열을 전체 선택하기 위해서 쓰는 연산자 `:`"
      ]
    },
    {
      "cell_type": "code",
      "metadata": {
        "colab": {
          "base_uri": "https://localhost:8080/"
        },
        "id": "ggEn5TaUIbqs",
        "outputId": "e0e10167-d5a2-4963-af70-29dd8f40cef3"
      },
      "source": [
        "arr[:, 2]"
      ],
      "execution_count": null,
      "outputs": [
        {
          "output_type": "execute_result",
          "data": {
            "text/plain": [
              "array([3, 8])"
            ]
          },
          "metadata": {
            "tags": []
          },
          "execution_count": 131
        }
      ]
    },
    {
      "cell_type": "code",
      "metadata": {
        "colab": {
          "base_uri": "https://localhost:8080/"
        },
        "id": "7jQ8iZ6AIkzT",
        "outputId": "3b67baef-6e57-4eed-f9a4-c51c62f1ede0"
      },
      "source": [
        "arr = np.arange(1, 37).reshape(3,4,3)\n",
        "arr"
      ],
      "execution_count": null,
      "outputs": [
        {
          "output_type": "execute_result",
          "data": {
            "text/plain": [
              "array([[[ 1,  2,  3],\n",
              "        [ 4,  5,  6],\n",
              "        [ 7,  8,  9],\n",
              "        [10, 11, 12]],\n",
              "\n",
              "       [[13, 14, 15],\n",
              "        [16, 17, 18],\n",
              "        [19, 20, 21],\n",
              "        [22, 23, 24]],\n",
              "\n",
              "       [[25, 26, 27],\n",
              "        [28, 29, 30],\n",
              "        [31, 32, 33],\n",
              "        [34, 35, 36]]])"
            ]
          },
          "metadata": {
            "tags": []
          },
          "execution_count": 132
        }
      ]
    },
    {
      "cell_type": "code",
      "metadata": {
        "colab": {
          "base_uri": "https://localhost:8080/"
        },
        "id": "vDHU1qSZIviH",
        "outputId": "bc3f9bf2-746c-4c29-f108-6904fc07df31"
      },
      "source": [
        "# [[16, 17, 18],\n",
        "#  [19, 20, 21]]\n",
        "\n",
        "arr[1, 1:3]"
      ],
      "execution_count": null,
      "outputs": [
        {
          "output_type": "execute_result",
          "data": {
            "text/plain": [
              "array([[16, 17, 18],\n",
              "       [19, 20, 21]])"
            ]
          },
          "metadata": {
            "tags": []
          },
          "execution_count": 133
        }
      ]
    },
    {
      "cell_type": "code",
      "metadata": {
        "colab": {
          "base_uri": "https://localhost:8080/"
        },
        "id": "FSuIszBoJaC-",
        "outputId": "b75b265f-1da0-40e7-ae60-978246742cda"
      },
      "source": [
        "arr[:, 1:3, 0:2]"
      ],
      "execution_count": null,
      "outputs": [
        {
          "output_type": "execute_result",
          "data": {
            "text/plain": [
              "array([[[ 4,  5],\n",
              "        [ 7,  8]],\n",
              "\n",
              "       [[16, 17],\n",
              "        [19, 20]],\n",
              "\n",
              "       [[28, 29],\n",
              "        [31, 32]]])"
            ]
          },
          "metadata": {
            "tags": []
          },
          "execution_count": 134
        }
      ]
    },
    {
      "cell_type": "code",
      "metadata": {
        "colab": {
          "base_uri": "https://localhost:8080/"
        },
        "id": "AE6YtEqAKCcd",
        "outputId": "3524910e-19d5-4e9e-a431-9cc45e9028a2"
      },
      "source": [
        "arr = np.arange(36).reshape(2,3,3,2)\n",
        "arr"
      ],
      "execution_count": null,
      "outputs": [
        {
          "output_type": "execute_result",
          "data": {
            "text/plain": [
              "array([[[[ 0,  1],\n",
              "         [ 2,  3],\n",
              "         [ 4,  5]],\n",
              "\n",
              "        [[ 6,  7],\n",
              "         [ 8,  9],\n",
              "         [10, 11]],\n",
              "\n",
              "        [[12, 13],\n",
              "         [14, 15],\n",
              "         [16, 17]]],\n",
              "\n",
              "\n",
              "       [[[18, 19],\n",
              "         [20, 21],\n",
              "         [22, 23]],\n",
              "\n",
              "        [[24, 25],\n",
              "         [26, 27],\n",
              "         [28, 29]],\n",
              "\n",
              "        [[30, 31],\n",
              "         [32, 33],\n",
              "         [34, 35]]]])"
            ]
          },
          "metadata": {
            "tags": []
          },
          "execution_count": 135
        }
      ]
    },
    {
      "cell_type": "code",
      "metadata": {
        "colab": {
          "base_uri": "https://localhost:8080/"
        },
        "id": "XLFQWfGdKV0x",
        "outputId": "55348d5d-71b4-43f0-c773-979bb3e1a7fa"
      },
      "source": [
        "arr[0, :, :, 0]"
      ],
      "execution_count": null,
      "outputs": [
        {
          "output_type": "execute_result",
          "data": {
            "text/plain": [
              "array([[ 0,  2,  4],\n",
              "       [ 6,  8, 10],\n",
              "       [12, 14, 16]])"
            ]
          },
          "metadata": {
            "tags": []
          },
          "execution_count": 136
        }
      ]
    },
    {
      "cell_type": "code",
      "metadata": {
        "colab": {
          "base_uri": "https://localhost:8080/"
        },
        "id": "kePnqp_TKkmJ",
        "outputId": "0ac10492-ac28-4688-b9c6-639a6c73ac32"
      },
      "source": [
        "# 3차원, 0차원 제외하고 1, 2차원 데이터 전체를 가지고 오고 싶다.\n",
        "# 스프레드 연산자(...)\n",
        "arr[0, ..., 0] # 3차원과 0차원 사이에 있는 모든 데이터를 선택"
      ],
      "execution_count": null,
      "outputs": [
        {
          "output_type": "execute_result",
          "data": {
            "text/plain": [
              "array([[ 0,  2,  4],\n",
              "       [ 6,  8, 10],\n",
              "       [12, 14, 16]])"
            ]
          },
          "metadata": {
            "tags": []
          },
          "execution_count": 137
        }
      ]
    },
    {
      "cell_type": "markdown",
      "metadata": {
        "id": "GT9jWH88K4G1"
      },
      "source": [
        "# 배열의 차원과 형상\n",
        "* 형상(`shape`)\n",
        "* 차원수(`ndim`)"
      ]
    },
    {
      "cell_type": "code",
      "metadata": {
        "colab": {
          "base_uri": "https://localhost:8080/"
        },
        "id": "5r58vjbLLRxc",
        "outputId": "6a4ce0d2-a91c-4d69-e0fa-9ba5a125039b"
      },
      "source": [
        "arr = np.arange(12).reshape(3, 4)\n",
        "arr"
      ],
      "execution_count": null,
      "outputs": [
        {
          "output_type": "execute_result",
          "data": {
            "text/plain": [
              "array([[ 0,  1,  2,  3],\n",
              "       [ 4,  5,  6,  7],\n",
              "       [ 8,  9, 10, 11]])"
            ]
          },
          "metadata": {
            "tags": []
          },
          "execution_count": 138
        }
      ]
    },
    {
      "cell_type": "code",
      "metadata": {
        "colab": {
          "base_uri": "https://localhost:8080/"
        },
        "id": "hOOeM2OQLUwu",
        "outputId": "b0bc59a0-21ea-4357-fc58-05d8c0e1bb24"
      },
      "source": [
        "arr.shape"
      ],
      "execution_count": null,
      "outputs": [
        {
          "output_type": "execute_result",
          "data": {
            "text/plain": [
              "(3, 4)"
            ]
          },
          "metadata": {
            "tags": []
          },
          "execution_count": 139
        }
      ]
    },
    {
      "cell_type": "code",
      "metadata": {
        "colab": {
          "base_uri": "https://localhost:8080/"
        },
        "id": "dm9qq4p5LWET",
        "outputId": "7aa486dc-d3d3-4644-8741-0ac25619cbd8"
      },
      "source": [
        "arr.ndim"
      ],
      "execution_count": null,
      "outputs": [
        {
          "output_type": "execute_result",
          "data": {
            "text/plain": [
              "2"
            ]
          },
          "metadata": {
            "tags": []
          },
          "execution_count": 140
        }
      ]
    },
    {
      "cell_type": "markdown",
      "metadata": {
        "id": "F15p_iyxLa4v"
      },
      "source": [
        "# 차원수 확장하기\n",
        "* 보통 기초 딥러닝에서 이미지 분석을 위한 `CNN`을 활용할 때 데이터를 전처리하기 위해 사용된다.\n",
        "* tensorflow는 `tf.newaxis`, numpy는 `np.newaxis`를 활용해서 추가 차원을 만들어 낼 수 있다.\n",
        "\n",
        "---\n",
        "tensorflow에서 CNN을 위한 이미지 데이터의 형태는 항상 `(N, H, W, C)`를 유지한다.\n",
        "\n",
        "* `N` : `BATCH_SIZE` ( 이미지의 개수 )\n",
        "* `H` : 이미지의 세로 픽셀 ( 세로 크기 )\n",
        "* `W` : 이미지의 가로 픽셀 ( 가로 크기 )\n",
        "* `C` : 이미지의 채널 수( 컬러이미지 RGB : 3, 흑백이미지 GRAYSCALE : 1 )\n",
        "\n",
        "여러분들이 이미지를 크롤링을 했어요. 만약에 이미지가 흑백 이미지 라면 가로, 세로 크기 밖에 없어요 (`H`, `W`)로 이루어진 2차원 배열입니다. 이걸 4차원 배열 형태로 바꿔줘야만 해요"
      ]
    },
    {
      "cell_type": "code",
      "metadata": {
        "colab": {
          "base_uri": "https://localhost:8080/"
        },
        "id": "Txoh_SeGLsmC",
        "outputId": "6eb4828d-85c7-4fec-d30d-2770b2e9886f"
      },
      "source": [
        "arr = np.arange(784).reshape(28, 28)\n",
        "arr.shape"
      ],
      "execution_count": null,
      "outputs": [
        {
          "output_type": "execute_result",
          "data": {
            "text/plain": [
              "(28, 28)"
            ]
          },
          "metadata": {
            "tags": []
          },
          "execution_count": 141
        }
      ]
    },
    {
      "cell_type": "markdown",
      "metadata": {
        "id": "ZFye6G5WMypu"
      },
      "source": [
        "`(28, 28)`은 2차원 배열  -> `(H, W)`만 존재하는 경우이다. 이를 4차원 형태로 강제로 만들어 줘야 `CNN` 레이어에 입력이 가능하다. `(1, 28, 28, 1)`"
      ]
    },
    {
      "cell_type": "code",
      "metadata": {
        "colab": {
          "base_uri": "https://localhost:8080/"
        },
        "id": "tpZoHcNtNBOQ",
        "outputId": "4ff168a2-a5e9-4d1a-b9c9-6854190b62a9"
      },
      "source": [
        "temp_arr = arr[np.newaxis, :, :, np.newaxis]\n",
        "temp_arr.shape"
      ],
      "execution_count": null,
      "outputs": [
        {
          "output_type": "execute_result",
          "data": {
            "text/plain": [
              "(1, 28, 28, 1)"
            ]
          },
          "metadata": {
            "tags": []
          },
          "execution_count": 142
        }
      ]
    },
    {
      "cell_type": "code",
      "metadata": {
        "colab": {
          "base_uri": "https://localhost:8080/"
        },
        "id": "0A1aJKm9NTzs",
        "outputId": "47643349-f9f0-4c28-8e01-1fc8c1fc2ae1"
      },
      "source": [
        "# 또는\n",
        "temp_arr2 = arr[np.newaxis, ..., np.newaxis]\n",
        "temp_arr2.shape"
      ],
      "execution_count": null,
      "outputs": [
        {
          "output_type": "execute_result",
          "data": {
            "text/plain": [
              "(1, 28, 28, 1)"
            ]
          },
          "metadata": {
            "tags": []
          },
          "execution_count": 143
        }
      ]
    },
    {
      "cell_type": "markdown",
      "metadata": {
        "id": "p-Dui6X4NaXq"
      },
      "source": [
        "# 차원 쥐어 짜기\n",
        "* `np.squeeze`\n",
        "* 개수가 1인 차원의 내용을 없애는 기법"
      ]
    },
    {
      "cell_type": "code",
      "metadata": {
        "colab": {
          "base_uri": "https://localhost:8080/"
        },
        "id": "nWcVzO_KQcV2",
        "outputId": "ac745e86-b755-4e83-9875-38d6a2c34e4f"
      },
      "source": [
        "temp_squeeze = np.squeeze(temp_arr)\n",
        "temp_squeeze.shape"
      ],
      "execution_count": null,
      "outputs": [
        {
          "output_type": "execute_result",
          "data": {
            "text/plain": [
              "(28, 28)"
            ]
          },
          "metadata": {
            "tags": []
          },
          "execution_count": 144
        }
      ]
    },
    {
      "cell_type": "markdown",
      "metadata": {
        "id": "cq07sLt8QmSO"
      },
      "source": [
        "# 배열의 형상(shape) 바꾸기\n",
        "* `np.newaxis`를 활용하면 축을 하나 추가하게 된다.( 차원 수를 늘린다. )\n",
        "* `np.squeeze`를 활용하면 개수가 1인 차원의 데이터를 삭제 ( 차원 수를 줄인다. )\n",
        "\n",
        "평탄화\n",
        "* `ravel` : 원본 배열을 평탄화 시킨 **참조**배열을 만들어 낸다. ( 이를 View 또는 Reference 라고 한다. )\n",
        "* `flatten` : 원본 배열을 평탄화 시킨 **복사된**배열을 만들어 낸다.\n",
        "\n",
        "* `ravel`은 원본의 배열에 수정이 가해질 가능성이 있고, `flatten`은 원본 배열에 영향을 미치지 않는다."
      ]
    },
    {
      "cell_type": "markdown",
      "metadata": {
        "id": "w0bUwhZtRMG6"
      },
      "source": [
        "## ravel"
      ]
    },
    {
      "cell_type": "code",
      "metadata": {
        "colab": {
          "base_uri": "https://localhost:8080/"
        },
        "id": "qYQnrhs7RPEG",
        "outputId": "5ab81ddd-ba2d-4086-e7d8-d1941f592927"
      },
      "source": [
        "x = np.arange(15).reshape(3, 5)\n",
        "x.shape"
      ],
      "execution_count": null,
      "outputs": [
        {
          "output_type": "execute_result",
          "data": {
            "text/plain": [
              "(3, 5)"
            ]
          },
          "metadata": {
            "tags": []
          },
          "execution_count": 145
        }
      ]
    },
    {
      "cell_type": "code",
      "metadata": {
        "colab": {
          "base_uri": "https://localhost:8080/"
        },
        "id": "CF76ecEhRSil",
        "outputId": "95253590-2d44-4680-80d7-52823abeb3bc"
      },
      "source": [
        "x"
      ],
      "execution_count": null,
      "outputs": [
        {
          "output_type": "execute_result",
          "data": {
            "text/plain": [
              "array([[ 0,  1,  2,  3,  4],\n",
              "       [ 5,  6,  7,  8,  9],\n",
              "       [10, 11, 12, 13, 14]])"
            ]
          },
          "metadata": {
            "tags": []
          },
          "execution_count": 146
        }
      ]
    },
    {
      "cell_type": "code",
      "metadata": {
        "colab": {
          "base_uri": "https://localhost:8080/"
        },
        "id": "0m-b0GdtRWk6",
        "outputId": "18336c41-2f30-4f06-8945-ef032212ce61"
      },
      "source": [
        "temp = np.ravel(x)\n",
        "temp.shape"
      ],
      "execution_count": null,
      "outputs": [
        {
          "output_type": "execute_result",
          "data": {
            "text/plain": [
              "(15,)"
            ]
          },
          "metadata": {
            "tags": []
          },
          "execution_count": 147
        }
      ]
    },
    {
      "cell_type": "code",
      "metadata": {
        "colab": {
          "base_uri": "https://localhost:8080/"
        },
        "id": "UzbxG7KPReRk",
        "outputId": "e09c4fb8-a2ea-4140-eea7-7d880c7e6a3b"
      },
      "source": [
        "temp # 1차원 배열을 새롭게 만든게 아닌, 원본 2차원 배열을 1차원 배열 처럼 보이게만 만들어졌음."
      ],
      "execution_count": null,
      "outputs": [
        {
          "output_type": "execute_result",
          "data": {
            "text/plain": [
              "array([ 0,  1,  2,  3,  4,  5,  6,  7,  8,  9, 10, 11, 12, 13, 14])"
            ]
          },
          "metadata": {
            "tags": []
          },
          "execution_count": 148
        }
      ]
    },
    {
      "cell_type": "code",
      "metadata": {
        "colab": {
          "base_uri": "https://localhost:8080/"
        },
        "id": "IwFZvMMPRfe9",
        "outputId": "6b668db9-79f0-42f0-dd73-6153da21639f"
      },
      "source": [
        "temp[0] = 100\n",
        "temp"
      ],
      "execution_count": null,
      "outputs": [
        {
          "output_type": "execute_result",
          "data": {
            "text/plain": [
              "array([100,   1,   2,   3,   4,   5,   6,   7,   8,   9,  10,  11,  12,\n",
              "        13,  14])"
            ]
          },
          "metadata": {
            "tags": []
          },
          "execution_count": 149
        }
      ]
    },
    {
      "cell_type": "code",
      "metadata": {
        "colab": {
          "base_uri": "https://localhost:8080/"
        },
        "id": "_lNaEBCPRk4v",
        "outputId": "f8cb3a0e-1e90-43bc-c4a0-5a625b892f33"
      },
      "source": [
        "x"
      ],
      "execution_count": null,
      "outputs": [
        {
          "output_type": "execute_result",
          "data": {
            "text/plain": [
              "array([[100,   1,   2,   3,   4],\n",
              "       [  5,   6,   7,   8,   9],\n",
              "       [ 10,  11,  12,  13,  14]])"
            ]
          },
          "metadata": {
            "tags": []
          },
          "execution_count": 150
        }
      ]
    },
    {
      "cell_type": "markdown",
      "metadata": {
        "id": "g9pUp6ESRnDq"
      },
      "source": [
        "## flatten"
      ]
    },
    {
      "cell_type": "code",
      "metadata": {
        "colab": {
          "base_uri": "https://localhost:8080/"
        },
        "id": "15AWR84UTzAC",
        "outputId": "235586c9-67b4-4678-865b-b9911b360123"
      },
      "source": [
        "# flatten은 ravel과 다르게 실제 1차원 배열을 새롭게 만들어 낸다.\n",
        "x = np.arange(15).reshape(3, 5)\n",
        "x"
      ],
      "execution_count": null,
      "outputs": [
        {
          "output_type": "execute_result",
          "data": {
            "text/plain": [
              "array([[ 0,  1,  2,  3,  4],\n",
              "       [ 5,  6,  7,  8,  9],\n",
              "       [10, 11, 12, 13, 14]])"
            ]
          },
          "metadata": {
            "tags": []
          },
          "execution_count": 151
        }
      ]
    },
    {
      "cell_type": "code",
      "metadata": {
        "colab": {
          "base_uri": "https://localhost:8080/"
        },
        "id": "IgAcwr76T4ow",
        "outputId": "b83b632f-aaff-4f52-9aa3-802d3004d336"
      },
      "source": [
        "temp_flatten = x.flatten()\n",
        "temp_flatten"
      ],
      "execution_count": null,
      "outputs": [
        {
          "output_type": "execute_result",
          "data": {
            "text/plain": [
              "array([ 0,  1,  2,  3,  4,  5,  6,  7,  8,  9, 10, 11, 12, 13, 14])"
            ]
          },
          "metadata": {
            "tags": []
          },
          "execution_count": 152
        }
      ]
    },
    {
      "cell_type": "code",
      "metadata": {
        "colab": {
          "base_uri": "https://localhost:8080/"
        },
        "id": "nOaseHZ9T72C",
        "outputId": "2ecc757d-63b4-4547-e8b5-31ad3eb07673"
      },
      "source": [
        "temp_flatten[0] = 100 # flatten을 사용하면 새롭게 배열을 만들어냈기 때문에 원본 x에는 영향을 미치지 않는다.\n",
        "temp_flatten"
      ],
      "execution_count": null,
      "outputs": [
        {
          "output_type": "execute_result",
          "data": {
            "text/plain": [
              "array([100,   1,   2,   3,   4,   5,   6,   7,   8,   9,  10,  11,  12,\n",
              "        13,  14])"
            ]
          },
          "metadata": {
            "tags": []
          },
          "execution_count": 153
        }
      ]
    },
    {
      "cell_type": "code",
      "metadata": {
        "colab": {
          "base_uri": "https://localhost:8080/"
        },
        "id": "wujgdLV_T_WZ",
        "outputId": "a73d1045-e6db-427d-af2a-72fc3244cfdd"
      },
      "source": [
        "x"
      ],
      "execution_count": null,
      "outputs": [
        {
          "output_type": "execute_result",
          "data": {
            "text/plain": [
              "array([[ 0,  1,  2,  3,  4],\n",
              "       [ 5,  6,  7,  8,  9],\n",
              "       [10, 11, 12, 13, 14]])"
            ]
          },
          "metadata": {
            "tags": []
          },
          "execution_count": 154
        }
      ]
    },
    {
      "cell_type": "markdown",
      "metadata": {
        "id": "-T_iSwfGUArl"
      },
      "source": [
        "데이터를 조금 더 안전하게 관리해야 하기 때문에 ravel보다는 flatten을 더 많이 쓴다."
      ]
    },
    {
      "cell_type": "markdown",
      "metadata": {
        "id": "N59kkqBJUUxB"
      },
      "source": [
        "## reshape"
      ]
    },
    {
      "cell_type": "code",
      "metadata": {
        "colab": {
          "base_uri": "https://localhost:8080/"
        },
        "id": "vKQmlkgpUcSv",
        "outputId": "443aa675-e701-47b5-d33c-e4d718acd990"
      },
      "source": [
        "x = np.arange(20)\n",
        "x"
      ],
      "execution_count": null,
      "outputs": [
        {
          "output_type": "execute_result",
          "data": {
            "text/plain": [
              "array([ 0,  1,  2,  3,  4,  5,  6,  7,  8,  9, 10, 11, 12, 13, 14, 15, 16,\n",
              "       17, 18, 19])"
            ]
          },
          "metadata": {
            "tags": []
          },
          "execution_count": 155
        }
      ]
    },
    {
      "cell_type": "markdown",
      "metadata": {
        "id": "dnrWgI4RUfx9"
      },
      "source": [
        "reshape 팁 : reshape 함수 내의 모든 숫자를 곱했을 때 스칼라 원소의 개수와 같기만 하면 형상 변환이 가능하다."
      ]
    },
    {
      "cell_type": "code",
      "metadata": {
        "colab": {
          "base_uri": "https://localhost:8080/"
        },
        "id": "Su8cQBfgUpRl",
        "outputId": "231dac04-fd14-4e38-b244-c1856c38e73b"
      },
      "source": [
        "x.reshape(2,5,2) # 가능"
      ],
      "execution_count": null,
      "outputs": [
        {
          "output_type": "execute_result",
          "data": {
            "text/plain": [
              "array([[[ 0,  1],\n",
              "        [ 2,  3],\n",
              "        [ 4,  5],\n",
              "        [ 6,  7],\n",
              "        [ 8,  9]],\n",
              "\n",
              "       [[10, 11],\n",
              "        [12, 13],\n",
              "        [14, 15],\n",
              "        [16, 17],\n",
              "        [18, 19]]])"
            ]
          },
          "metadata": {
            "tags": []
          },
          "execution_count": 156
        }
      ]
    },
    {
      "cell_type": "markdown",
      "metadata": {
        "id": "3wsgkQmyUvzz"
      },
      "source": [
        "-1을 reshape에 넣으면 남는 숫자를 자동으로 계산해 준다."
      ]
    },
    {
      "cell_type": "code",
      "metadata": {
        "colab": {
          "base_uri": "https://localhost:8080/"
        },
        "id": "TfwKQswaU1aq",
        "outputId": "e64d6809-51bf-47e2-f267-e84f7d45de0b"
      },
      "source": [
        "x.reshape(2,-1,2) # -1이 5로 자동으로 지정된다."
      ],
      "execution_count": null,
      "outputs": [
        {
          "output_type": "execute_result",
          "data": {
            "text/plain": [
              "array([[[ 0,  1],\n",
              "        [ 2,  3],\n",
              "        [ 4,  5],\n",
              "        [ 6,  7],\n",
              "        [ 8,  9]],\n",
              "\n",
              "       [[10, 11],\n",
              "        [12, 13],\n",
              "        [14, 15],\n",
              "        [16, 17],\n",
              "        [18, 19]]])"
            ]
          },
          "metadata": {
            "tags": []
          },
          "execution_count": 157
        }
      ]
    },
    {
      "cell_type": "code",
      "metadata": {
        "colab": {
          "base_uri": "https://localhost:8080/"
        },
        "id": "H-iZv0M2U4Wf",
        "outputId": "15ff964e-99be-46eb-ca38-6312384b97cb"
      },
      "source": [
        "x.reshape(2,2,-1).shape"
      ],
      "execution_count": null,
      "outputs": [
        {
          "output_type": "execute_result",
          "data": {
            "text/plain": [
              "(2, 2, 5)"
            ]
          },
          "metadata": {
            "tags": []
          },
          "execution_count": 158
        }
      ]
    },
    {
      "cell_type": "code",
      "metadata": {
        "colab": {
          "base_uri": "https://localhost:8080/",
          "height": 176
        },
        "id": "qVjg9-E4U9EN",
        "outputId": "74825fc5-7a00-4d83-ea62-0a09c880f062"
      },
      "source": [
        "x.reshape(2,3,-1).shape # 안됨."
      ],
      "execution_count": null,
      "outputs": [
        {
          "output_type": "error",
          "ename": "ValueError",
          "evalue": "ignored",
          "traceback": [
            "\u001b[0;31m---------------------------------------------------------------------------\u001b[0m",
            "\u001b[0;31mValueError\u001b[0m                                Traceback (most recent call last)",
            "\u001b[0;32m<ipython-input-159-7782eca6b927>\u001b[0m in \u001b[0;36m<module>\u001b[0;34m()\u001b[0m\n\u001b[0;32m----> 1\u001b[0;31m \u001b[0mx\u001b[0m\u001b[0;34m.\u001b[0m\u001b[0mreshape\u001b[0m\u001b[0;34m(\u001b[0m\u001b[0;36m2\u001b[0m\u001b[0;34m,\u001b[0m\u001b[0;36m3\u001b[0m\u001b[0;34m,\u001b[0m\u001b[0;34m-\u001b[0m\u001b[0;36m1\u001b[0m\u001b[0;34m)\u001b[0m\u001b[0;34m.\u001b[0m\u001b[0mshape\u001b[0m \u001b[0;31m# 안됨.\u001b[0m\u001b[0;34m\u001b[0m\u001b[0;34m\u001b[0m\u001b[0m\n\u001b[0m",
            "\u001b[0;31mValueError\u001b[0m: cannot reshape array of size 20 into shape (2,3,newaxis)"
          ]
        }
      ]
    },
    {
      "cell_type": "code",
      "metadata": {
        "id": "bGG7XFcgVFkD"
      },
      "source": [
        "x.reshape(2, -1, -1).shape # 안됨. -1은 하나만 쓸 수가 있어요. 뭐가 어떻게 지정될지 어떻게 알아요 ㅠㅠ"
      ],
      "execution_count": null,
      "outputs": []
    },
    {
      "cell_type": "code",
      "metadata": {
        "id": "VnZoTXzQVNgM"
      },
      "source": [
        "x.size # 스칼라 원소의 개수 구하기"
      ],
      "execution_count": null,
      "outputs": []
    },
    {
      "cell_type": "markdown",
      "metadata": {
        "id": "J4xGhvXPVU3c"
      },
      "source": [
        "# 브로드 캐스팅\n",
        "* 차원 수가 다른 배열끼리의 연산\n",
        "* 차원이 달라도 0차원 스칼라의 개수가 똑같으면 연산이 가능\n",
        "* 저차원의 배열을 고차원으로 **확장**\n",
        "* 수학적으로는 고차원 배열의 shape과 똑같은 일벡터를 만들어서 저차원 배열과 곱한 배열을 만들어 계산"
      ]
    },
    {
      "cell_type": "code",
      "metadata": {
        "id": "42Mrn5M2VvZk"
      },
      "source": [
        "x = np.arange(20).reshape(4, 5)\n",
        "y = np.arange(20, 40).reshape(4, 5)\n",
        "\n",
        "x.shape, y.shape"
      ],
      "execution_count": null,
      "outputs": []
    },
    {
      "cell_type": "code",
      "metadata": {
        "id": "NNjqgGW2V4ob"
      },
      "source": [
        "x + y"
      ],
      "execution_count": null,
      "outputs": []
    },
    {
      "cell_type": "code",
      "metadata": {
        "id": "2q47KQCEV6oO"
      },
      "source": [
        "x * 2"
      ],
      "execution_count": null,
      "outputs": []
    },
    {
      "cell_type": "code",
      "metadata": {
        "id": "AotNFsfEWrSf"
      },
      "source": [
        "# shape이 다를 때의 연산\n",
        "a = np.arange(12).reshape(4, 3)   # (4, 3)\n",
        "b = np.arange(100, 103)           # (3, )\n",
        "c = np.arange(1000, 1004)         # (4, )\n",
        "d = b.reshape(1, 3)               # (1, 3)\n",
        "e = np.arange(0, 4).reshape(4, 1) # (4, 1)"
      ],
      "execution_count": null,
      "outputs": []
    },
    {
      "cell_type": "code",
      "metadata": {
        "id": "jDY53UQmW4-M"
      },
      "source": [
        "a + b"
      ],
      "execution_count": null,
      "outputs": []
    },
    {
      "cell_type": "code",
      "metadata": {
        "colab": {
          "base_uri": "https://localhost:8080/",
          "height": 176
        },
        "id": "Ufyk6zYlXaxq",
        "outputId": "f6dbf528-7a51-4576-fc71-09b1b75ba95e"
      },
      "source": [
        "a + c # 안됨"
      ],
      "execution_count": null,
      "outputs": [
        {
          "output_type": "error",
          "ename": "ValueError",
          "evalue": "ignored",
          "traceback": [
            "\u001b[0;31m---------------------------------------------------------------------------\u001b[0m",
            "\u001b[0;31mValueError\u001b[0m                                Traceback (most recent call last)",
            "\u001b[0;32m<ipython-input-160-29a60bffe382>\u001b[0m in \u001b[0;36m<module>\u001b[0;34m()\u001b[0m\n\u001b[0;32m----> 1\u001b[0;31m \u001b[0ma\u001b[0m \u001b[0;34m+\u001b[0m \u001b[0mc\u001b[0m \u001b[0;31m# 안됨\u001b[0m\u001b[0;34m\u001b[0m\u001b[0;34m\u001b[0m\u001b[0m\n\u001b[0m",
            "\u001b[0;31mValueError\u001b[0m: operands could not be broadcast together with shapes (4,3) (4,) "
          ]
        }
      ]
    },
    {
      "cell_type": "code",
      "metadata": {
        "colab": {
          "base_uri": "https://localhost:8080/"
        },
        "id": "gMpDb8jLXk1a",
        "outputId": "a7a4d1b9-1319-4865-97e2-8086c74764b0"
      },
      "source": [
        "a + d # 됨"
      ],
      "execution_count": null,
      "outputs": [
        {
          "output_type": "execute_result",
          "data": {
            "text/plain": [
              "array([[100, 102, 104],\n",
              "       [103, 105, 107],\n",
              "       [106, 108, 110],\n",
              "       [109, 111, 113]])"
            ]
          },
          "metadata": {
            "tags": []
          },
          "execution_count": 161
        }
      ]
    },
    {
      "cell_type": "code",
      "metadata": {
        "colab": {
          "base_uri": "https://localhost:8080/"
        },
        "id": "1KcEi3jXYumU",
        "outputId": "c3abb548-848a-4ab3-a373-6aee00530fc6"
      },
      "source": [
        "a + e # 됨"
      ],
      "execution_count": null,
      "outputs": [
        {
          "output_type": "execute_result",
          "data": {
            "text/plain": [
              "array([[ 0,  1,  2],\n",
              "       [ 4,  5,  6],\n",
              "       [ 8,  9, 10],\n",
              "       [12, 13, 14]])"
            ]
          },
          "metadata": {
            "tags": []
          },
          "execution_count": 166
        }
      ]
    },
    {
      "cell_type": "markdown",
      "metadata": {
        "id": "_48FSgVIX9FZ"
      },
      "source": [
        "# 전치행렬 만들기\n",
        "* 행렬 A의 행과 열의 인덱스를 바꾼 것을 전치행렬 이라고 한다.\n",
        "* $A_{(i, j)}$의 위치를 $A_{(j, i)}$로 바꾼 것\n",
        "* 보통 Transpose했다고 이야기 한다."
      ]
    },
    {
      "cell_type": "code",
      "metadata": {
        "colab": {
          "base_uri": "https://localhost:8080/"
        },
        "id": "2UZcNOxtYbIk",
        "outputId": "ed8c70ca-b06f-451f-cc7b-8609eef12c9c"
      },
      "source": [
        "A = np.arange(6).reshape(2, 3)\n",
        "A"
      ],
      "execution_count": null,
      "outputs": [
        {
          "output_type": "execute_result",
          "data": {
            "text/plain": [
              "array([[0, 1, 2],\n",
              "       [3, 4, 5]])"
            ]
          },
          "metadata": {
            "tags": []
          },
          "execution_count": 162
        }
      ]
    },
    {
      "cell_type": "code",
      "metadata": {
        "colab": {
          "base_uri": "https://localhost:8080/"
        },
        "id": "QwkRkHwrYfng",
        "outputId": "a4403221-9dfa-42d4-8a2c-8d18be07587a"
      },
      "source": [
        "# ndarray에서 T만 호출해 주면 전치행렬 완성\n",
        "A.T"
      ],
      "execution_count": null,
      "outputs": [
        {
          "output_type": "execute_result",
          "data": {
            "text/plain": [
              "array([[0, 3],\n",
              "       [1, 4],\n",
              "       [2, 5]])"
            ]
          },
          "metadata": {
            "tags": []
          },
          "execution_count": 163
        }
      ]
    },
    {
      "cell_type": "markdown",
      "metadata": {
        "id": "5PZOLiHIYind"
      },
      "source": [
        "나중에 역전파 할 때 사용됩니다"
      ]
    },
    {
      "cell_type": "code",
      "metadata": {
        "id": "7Mg0qp8pYlUG"
      },
      "source": [
        ""
      ],
      "execution_count": null,
      "outputs": []
    }
  ]
}