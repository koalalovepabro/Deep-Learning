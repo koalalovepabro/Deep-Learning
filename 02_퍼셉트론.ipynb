{
  "nbformat": 4,
  "nbformat_minor": 0,
  "metadata": {
    "colab": {
      "name": "02. 퍼셉트론",
      "provenance": [],
      "collapsed_sections": [],
      "include_colab_link": true
    },
    "kernelspec": {
      "name": "python3",
      "display_name": "Python 3"
    },
    "language_info": {
      "name": "python"
    }
  },
  "cells": [
    {
      "cell_type": "markdown",
      "metadata": {
        "id": "view-in-github",
        "colab_type": "text"
      },
      "source": [
        "<a href=\"https://colab.research.google.com/github/koalalovepabro/Deep-Learning/blob/main/02_%ED%8D%BC%EC%85%89%ED%8A%B8%EB%A1%A0.ipynb\" target=\"_parent\"><img src=\"https://colab.research.google.com/assets/colab-badge.svg\" alt=\"Open In Colab\"/></a>"
      ]
    },
    {
      "cell_type": "code",
      "metadata": {
        "id": "JX1x34R95fkj"
      },
      "source": [
        "import numpy as np\n",
        "import matplotlib.pyplot as plt"
      ],
      "execution_count": null,
      "outputs": []
    },
    {
      "cell_type": "markdown",
      "metadata": {
        "id": "nMG2zsWz6Aq8"
      },
      "source": [
        "# 퍼셉트론이란?\n",
        "* 인공 뉴런이라고도 한다.\n",
        "* 뇌과학에서는 신경으로 들어오는 **일정한 자극**, 신경망에서는 **feature(특성)**가 된다.\n",
        "* 입력된 신호(특성)는 어떠한 흐름을 타면서 처리가 된다.\n",
        "* 처리가 완료가 되면 거기에 대한 결과가 퍼셉트론의 출력이 된다.\n",
        "$$\n",
        "y = \\begin{cases} \n",
        "0 \\enspace (w_1x_1 + w_2x_2 \\leq \\theta)\n",
        "\\\\ 1 \\enspace (w_1x_1 + w_2x_2 > \\theta) \\end{cases}\n",
        "$$\n",
        "\n",
        "$w_1x_1+w_2x_2$의 결괏값이 임의의 임계점 ($\\theta$)를 넘지 못하면 0, 넘으면 1이 된다.\n",
        "\n",
        "이러한 수식을 반응 조건 계산식 이라고 합니다.\n"
      ]
    },
    {
      "cell_type": "code",
      "metadata": {
        "id": "za7W2fVH6pis"
      },
      "source": [
        "# 조건문을 써야 할까?\n",
        "# 퍼셉트론의 w와 theta는 지금으로썬 알 수가 없다.\n",
        "# 따라서 임의로 설정하기로 합니다.\n",
        "\n",
        "def perceptron1(x1, x2):\n",
        "  # 임의의 가중치인 w1, w2를 설정\n",
        "  w1, w2 = 0.5, 0.5\n",
        "\n",
        "  # 임의의 임계값인 theta를 설정\n",
        "  theta = 2.0\n",
        "\n",
        "  # 출력값 y 구하기\n",
        "  y = w1*x1 + w2*x2\n",
        "\n",
        "  return y, y >= theta"
      ],
      "execution_count": null,
      "outputs": []
    },
    {
      "cell_type": "code",
      "metadata": {
        "colab": {
          "base_uri": "https://localhost:8080/",
          "height": 284
        },
        "id": "IGNLY1cD8mLa",
        "outputId": "c45ae7c5-41f3-4ec5-e56c-f09c35a78a78"
      },
      "source": [
        "# 시각화\n",
        "# 입력 데이터 생성\n",
        "x1 = np.linspace(-3, 7, 100)\n",
        "x2 = np.linspace(-3, 7, 100)\n",
        "\n",
        "# 퍼셉트론의 결과물 구하기\n",
        "y_value, y_result = perceptron1(x1, x2)\n",
        "\n",
        "# 시각화\n",
        "plt.plot(y_value, y_result)\n",
        "plt.yticks([0, 1])\n",
        "plt.xticks([-3,2,7], [r'-$\\infty$', r'$\\theta$', r'-$\\infty$'])\n",
        "plt.xlabel(r\"$w_1x_1+w_2x_2$\")\n",
        "plt.ylabel(r\"$y$\", rotation=0)\n",
        "plt.show()"
      ],
      "execution_count": null,
      "outputs": [
        {
          "output_type": "display_data",
          "data": {
            "image/png": "[encoded data removed]",
            "text/plain": [
              "<Figure size 432x288 with 1 Axes>"
            ]
          },
          "metadata": {
            "tags": [],
            "needs_background": "light"
          }
        }
      ]
    },
    {
      "cell_type": "markdown",
      "metadata": {
        "id": "RlK3cvgb8x0N"
      },
      "source": [
        "$\\theta$를 기준으로 $w_1x_1+w_2x_2$의 결과가 0 또는 1로 결정지어진다. 이걸 함수로 일반화 시켜서 어떤 상황에서든 수식을 사용할 수 있도록 일반화 시켜보기\n",
        "\n",
        "* 원래 수식\n",
        " * $\n",
        "y = \\begin{cases} \n",
        "0 \\enspace (w_1x_1 + w_2x_2 \\leq \\theta)\n",
        "\\\\ 1 \\enspace (w_1x_1 + w_2x_2 > \\theta) \\end{cases}\n",
        "$\n",
        "* 바뀐 수식\n",
        "\n",
        " * $\n",
        "y = \\begin{cases} \n",
        "0 \\enspace (w_1x_1 + w_2x_2 -\\theta \\leq 0)\n",
        "\\\\ 1 \\enspace (w_1x_1 + w_2x_2 -\\theta > 0) \\end{cases}\n",
        "$\n",
        "* 일반화된 함수 지정하기\n",
        " * $z = w_1x_1 + w_2x_2 -\\theta$\n",
        " * $\n",
        "y = \\begin{cases} \n",
        "0 \\enspace (z \\leq 0)\n",
        "\\\\ 1 \\enspace (z > 0) \\end{cases}\n",
        "$\n",
        " * $\n",
        "u(z) = \\begin{cases} \n",
        "0 \\enspace (z \\leq 0)\n",
        "\\\\ 1 \\enspace (z > 0) \\end{cases}\n",
        "$\n",
        " * 함수$u$ 는 **단위 계단 함수**\n",
        " * $y=u(z)$"
      ]
    },
    {
      "cell_type": "code",
      "metadata": {
        "colab": {
          "base_uri": "https://localhost:8080/",
          "height": 281
        },
        "id": "qt8K8ISQ9XzY",
        "outputId": "6f36f806-3d33-42bd-e9fb-32d9812d124c"
      },
      "source": [
        "z = np.linspace(-3, 3, 100)\n",
        "plt.plot(z, z > 0)\n",
        "plt.yticks([0, 1])\n",
        "plt.xticks([-3, 0, 3],[r'-$\\infty$', r'$0$', r'-$\\infty$'])\n",
        "plt.xlabel(r\"$z$\")\n",
        "plt.ylabel(r\"$y=\\mathcal{u}(z)$\", rotation=0)\n",
        "plt.show()"
      ],
      "execution_count": null,
      "outputs": [
        {
          "output_type": "display_data",
          "data": {
            "image/png": "[encoded data removed]",
            "text/plain": [
              "<Figure size 432x288 with 1 Axes>"
            ]
          },
          "metadata": {
            "tags": [],
            "needs_background": "light"
          }
        }
      ]
    },
    {
      "cell_type": "markdown",
      "metadata": {
        "id": "zzsH-0dR-BaF"
      },
      "source": [
        "* $\n",
        "\\\\y = \\mathcal{u}(w_1x_1 + w_2x_2 - \\theta)  \n",
        "$\n",
        "\n",
        "* $\n",
        "z = w_1x_1 + w_2x_2 - \\theta\n",
        "$\n",
        "\n",
        "* $\n",
        "y = u(z)\n",
        "$\n",
        "\n",
        "계단 함수 $u$의 결과($y$)에 따라서 항상 0 또는 1만 가지게 된다."
      ]
    },
    {
      "cell_type": "markdown",
      "metadata": {
        "id": "hm2UGktF-kmi"
      },
      "source": [
        "# 단층 퍼셉트론, 다층 퍼셉트론\n",
        "* 단층 퍼셉트론의 한계\n",
        "* 다층 퍼셉트론의 장점"
      ]
    },
    {
      "cell_type": "markdown",
      "metadata": {
        "id": "voluHQtS-5dE"
      },
      "source": [
        "## AND 게이트\n",
        "* 입력값 두개가 모두 1이어야만 결과물이 1이 됩니다.\n"
      ]
    },
    {
      "cell_type": "code",
      "metadata": {
        "colab": {
          "base_uri": "https://localhost:8080/"
        },
        "id": "iZ_8VI1h_zKv",
        "outputId": "a9d6df51-1970-4db3-f8ca-db5090494ef1"
      },
      "source": [
        "def AND(x1, x2):\n",
        "  # x1, x2에 대해서 조건 검사(if)를 하는 것은 퍼셉트론이 아니다.\n",
        "  # w1x1+x2x2-theta의 결과물만 검사\n",
        "\n",
        "  w1, w2, theta = 0.5, 0.5, 0.7\n",
        "  z = w1*x1 + w2*x2 - theta\n",
        "\n",
        "  return int(z > 0) # 부등호를 쓴 것이 계단함수 u를 사용한 것\n",
        "\n",
        "AND(0, 0), AND(1, 0), AND(0, 1), AND(1, 1)"
      ],
      "execution_count": null,
      "outputs": [
        {
          "output_type": "execute_result",
          "data": {
            "text/plain": [
              "(0, 0, 0, 1)"
            ]
          },
          "metadata": {
            "tags": []
          },
          "execution_count": 7
        }
      ]
    },
    {
      "cell_type": "markdown",
      "metadata": {
        "id": "OE7uIg5AAoSk"
      },
      "source": [
        "### 편향(bias) 개념을 도입\n",
        "수식에 음수가 있으면 표현하기 까다롭기 때문에 $\\theta$를 $-b$로 표현\n",
        "\n",
        "$$\n",
        "y = \\begin{cases} \n",
        "0 \\enspace (w_1x_1 + w_2x_2 + b \\leq  0)\n",
        "\\\\\n",
        "1 \\enspace (w_1x_1 + w_2x_2 + b > 0)\n",
        "\\end{cases}\n",
        "$$\n",
        "\n",
        "퍼셉트론은 입력 신호에 가중치를 각각 곱한 값과 편향(bias)을 합하여 그 값이 0이 넘으면 1로, 0을 넘지 않으면 0으로 출력할 수 있도록 일반화\n",
        "\n",
        "$$\n",
        "z = \\sum_{i=1}^{2}(w_ix_i)+b\n",
        "$$"
      ]
    },
    {
      "cell_type": "code",
      "metadata": {
        "colab": {
          "base_uri": "https://localhost:8080/"
        },
        "id": "gYyyaIXhBDUv",
        "outputId": "ed45881e-9c85-41c4-be8e-a6c5895575e6"
      },
      "source": [
        "# 입력이 몇개가 될지 모르기 때문에 numpy로 표현해 보자\n",
        "x = np.array([0, 1])\n",
        "w = np.array([0.5, 0.5]) # 항상 w의 개수는 x의 개수와 일치해야 합니다.\n",
        "b = -0.7 # theta가 0.7이었으니까 bias 는 -0.7\n",
        "\n",
        "print(\"행렬 곱 : {}\".format(w*x))\n",
        "print(\"각 원소의 곱을 합한 결과 : {}\".format(np.sum(w*x)))\n",
        "print(\"편항 추가 계산 : {:.1f}\".format(np.sum(w*x) + b)) # WX+b"
      ],
      "execution_count": null,
      "outputs": [
        {
          "output_type": "stream",
          "text": [
            "행렬 곱 : [0.  0.5]\n",
            "각 원소의 곱을 합한 결과 : 0.5\n",
            "편항 추가 계산 : -0.2\n"
          ],
          "name": "stdout"
        }
      ]
    },
    {
      "cell_type": "code",
      "metadata": {
        "colab": {
          "base_uri": "https://localhost:8080/"
        },
        "id": "1oGHGb8LCz-K",
        "outputId": "32d8e8e0-f4b4-477e-8354-2e8eccddb2f6"
      },
      "source": [
        "# AND 게이트를 numpy로 구현\n",
        "def AND(x1, x2):\n",
        "  x = np.array([x1, x2])\n",
        "  w = np.array([0.5, 0.5])\n",
        "  b = -0.7\n",
        "\n",
        "  z = np.sum(w*x) + b\n",
        "\n",
        "  return int(z > 0)\n",
        "\n",
        "AND(0, 0), AND(1, 0), AND(0, 1), AND(1, 1)"
      ],
      "execution_count": null,
      "outputs": [
        {
          "output_type": "execute_result",
          "data": {
            "text/plain": [
              "(0, 0, 0, 1)"
            ]
          },
          "metadata": {
            "tags": []
          },
          "execution_count": 9
        }
      ]
    },
    {
      "cell_type": "markdown",
      "metadata": {
        "id": "BE5gAoejDuKI"
      },
      "source": [
        "### 가중치와 편항에 대한 의미\n",
        "* 가중치 : 입력값에 대한 중요도\n",
        " - 각각의 입력값이 출력값에 얼마나 영향을 미치게 할 것인가?\n",
        "   - 가중치가 크다 : 입력값이 출력값에 영향을 많이 미친다.\n",
        "   - 가중치가 작다 : 입력값이 출력값에 영향을 많이 미치지 않는다.\n",
        "* 편향 : 퍼셉트론이 얼마나 쉽게 활성화가 되는가를 결정해 준다.\n",
        " - 활성화 : 퍼셉트론의 결과물이 1이 되면 활성화가 됐다고 합니다.\n",
        " - 편향이 크면 퍼셉트론의 흥분도가 커져서 쉽게 활성화가 된다. (민감한 퍼셉트론)\n",
        " - 편향이 작으면 퍼셉트론의 흥분도가 낮아져서 활성화가 잘 안된다. (둔감한 퍼셉트론)"
      ]
    },
    {
      "cell_type": "markdown",
      "metadata": {
        "id": "EAdr5YxWG872"
      },
      "source": [
        "## NAND 게이트\n",
        " * AND 게이트의 부호를 반대로"
      ]
    },
    {
      "cell_type": "code",
      "metadata": {
        "colab": {
          "base_uri": "https://localhost:8080/"
        },
        "id": "BelG8fLIJNPj",
        "outputId": "191df44b-a63d-4fda-c68b-ad40aaba3dfb"
      },
      "source": [
        "def NAND(x1, x2):\n",
        "  x = np.array([x1, x2])\n",
        "  # 가중치와 편향의 부호를 AND 게이트의 반대로 설정\n",
        "  w = np.array([-0.5, -0.5])\n",
        "  b = 0.7\n",
        "\n",
        "  z = np.sum(w*x) + b\n",
        "\n",
        "  return int(z > 0)\n",
        "\n",
        "NAND(0, 0), NAND(1, 0), NAND(0, 1), NAND(1, 1)"
      ],
      "execution_count": null,
      "outputs": [
        {
          "output_type": "execute_result",
          "data": {
            "text/plain": [
              "(1, 1, 1, 0)"
            ]
          },
          "metadata": {
            "tags": []
          },
          "execution_count": 10
        }
      ]
    },
    {
      "cell_type": "markdown",
      "metadata": {
        "id": "DR8CoyK3Jzqt"
      },
      "source": [
        "## OR 게이트\n",
        "* AND 게이트의 편향을 적절하게 조절해 주면 된다."
      ]
    },
    {
      "cell_type": "code",
      "metadata": {
        "colab": {
          "base_uri": "https://localhost:8080/"
        },
        "id": "PeFYGiUsKWFO",
        "outputId": "d55e8d4d-323b-4518-e21c-16231a9ee710"
      },
      "source": [
        "def OR(x1, x2):\n",
        "  x = np.array([x1, x2])\n",
        "  w = np.array([0.5, 0.5])\n",
        "\n",
        "  # 편향만 조절해 준다.\n",
        "  b = -0.2\n",
        "  \n",
        "  z = np.sum(w*x) + b\n",
        "\n",
        "  return int( z > 0 )\n",
        "\n",
        "OR(0, 0), OR(1, 0), OR(0, 1), OR(1, 1)"
      ],
      "execution_count": null,
      "outputs": [
        {
          "output_type": "execute_result",
          "data": {
            "text/plain": [
              "(0, 1, 1, 1)"
            ]
          },
          "metadata": {
            "tags": []
          },
          "execution_count": 11
        }
      ]
    },
    {
      "cell_type": "markdown",
      "metadata": {
        "id": "muH8X6uEKpHv"
      },
      "source": [
        "AND, NAND, OR는 각각 하나의 퍼셉트로써 각자의 연산을 충실히 수행\n",
        "\n",
        "각각의 입력값을 받아서 각자의 역할을 수행하면, 한번에 입력에 대한 한번의 출력이 올바르게 이루어 진다. -> **단층 퍼셉트론**"
      ]
    },
    {
      "cell_type": "markdown",
      "metadata": {
        "id": "lCvifPmaLUJ5"
      },
      "source": [
        "# 단층 퍼셉트론의 한계 - XOR 게이트 구현하기"
      ]
    },
    {
      "cell_type": "code",
      "metadata": {
        "colab": {
          "base_uri": "https://localhost:8080/",
          "height": 281
        },
        "id": "mrSOzL8MLyri",
        "outputId": "91c652c3-23d7-4d2d-c54d-34a9a8ba44a3"
      },
      "source": [
        "# OR 퍼셉트론에 대한 시각화\n",
        "\n",
        "plt.figure(figsize=(4,4))\n",
        "\n",
        "plt.scatter([0],[0], marker='o')\n",
        "plt.scatter([1,0,1],[0,1,1], marker='^')\n",
        "plt.xticks([0, 0.5, 1])\n",
        "plt.yticks([0, 0.5, 1])\n",
        "plt.xlim((-0.2,1.2))\n",
        "plt.ylim((-0.2,1.2))\n",
        "plt.xlabel(r'$x_1$')\n",
        "plt.ylabel(r'$x_2$', rotation=0)\n",
        "\n",
        "plt.show()"
      ],
      "execution_count": null,
      "outputs": [
        {
          "output_type": "display_data",
          "data": {
            "image/png": "[encoded data removed]",
            "text/plain": [
              "<Figure size 288x288 with 1 Axes>"
            ]
          },
          "metadata": {
            "tags": [],
            "needs_background": "light"
          }
        }
      ]
    },
    {
      "cell_type": "markdown",
      "metadata": {
        "id": "5MItv8FxMN8T"
      },
      "source": [
        "$$z=w_1x_1 + b$$"
      ]
    },
    {
      "cell_type": "code",
      "metadata": {
        "colab": {
          "base_uri": "https://localhost:8080/",
          "height": 281
        },
        "id": "LyWGzbedMfHW",
        "outputId": "e4511b21-a6e6-4e4d-88bc-d4480d0d7f59"
      },
      "source": [
        "# XOR 게이트 시각화\n",
        "plt.figure(figsize=(4,4))\n",
        "\n",
        "plt.scatter([0,1],[0,1], marker='o')\n",
        "plt.scatter([1,0],[0,1], marker='^')\n",
        "plt.xticks([0, 0.5, 1])\n",
        "plt.yticks([0, 0.5, 1])\n",
        "plt.xlim((-0.2,1.2))\n",
        "plt.ylim((-0.2,1.2))\n",
        "plt.xlabel(r'$x_1$')\n",
        "plt.ylabel(r'$x_2$', rotation=0)\n",
        "\n",
        "plt.show()"
      ],
      "execution_count": null,
      "outputs": [
        {
          "output_type": "display_data",
          "data": {
            "image/png": "[encoded data removed]",
            "text/plain": [
              "<Figure size 288x288 with 1 Axes>"
            ]
          },
          "metadata": {
            "tags": [],
            "needs_background": "light"
          }
        }
      ]
    },
    {
      "cell_type": "markdown",
      "metadata": {
        "id": "YjWpV2aeOBwW"
      },
      "source": [
        "## 단층 퍼셉트론을 여러개 쌓아서 해결하자\n",
        "단층 퍼셉트론을 여러 개 쌓아서 다층 퍼셉트론으로 만들어 주면 단층 퍼셉트론으로는 해결할 수 없던 일을 해결 할 수 있다."
      ]
    },
    {
      "cell_type": "code",
      "metadata": {
        "colab": {
          "base_uri": "https://localhost:8080/"
        },
        "id": "_xcC4ovROrY9",
        "outputId": "8005ef34-91a0-4793-cf90-33b1df3402cf"
      },
      "source": [
        "# XOR 구현하기\n",
        "def XOR(x1, x2):\n",
        "  s1 = NAND(x1, x2)\n",
        "  s2 = OR(x1, x2)\n",
        "\n",
        "  y = AND(s1, s2)\n",
        "\n",
        "  return y\n",
        "\n",
        "XOR(0, 0), XOR(1, 0), XOR(0, 1), XOR(1, 1)"
      ],
      "execution_count": null,
      "outputs": [
        {
          "output_type": "execute_result",
          "data": {
            "text/plain": [
              "(0, 1, 1, 0)"
            ]
          },
          "metadata": {
            "tags": []
          },
          "execution_count": 14
        }
      ]
    },
    {
      "cell_type": "code",
      "metadata": {
        "id": "tVuWkaChO_3L"
      },
      "source": [
        ""
      ],
      "execution_count": null,
      "outputs": []
    }
  ]
}