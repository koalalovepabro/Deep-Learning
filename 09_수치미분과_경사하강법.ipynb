{
  "nbformat": 4,
  "nbformat_minor": 0,
  "metadata": {
    "colab": {
      "name": "09. 수치미분과 경사하강법",
      "provenance": [],
      "collapsed_sections": [],
      "include_colab_link": true
    },
    "kernelspec": {
      "name": "python3",
      "display_name": "Python 3"
    },
    "language_info": {
      "name": "python"
    },
    "widgets": {
      "application/vnd.jupyter.widget-state+json": {
        "12e5a83b78904319ba76587220276f6c": {
          "model_module": "@jupyter-widgets/controls",
          "model_name": "HBoxModel",
          "state": {
            "_view_name": "HBoxView",
            "_dom_classes": [],
            "_model_name": "HBoxModel",
            "_view_module": "@jupyter-widgets/controls",
            "_model_module_version": "1.5.0",
            "_view_count": null,
            "_view_module_version": "1.5.0",
            "box_style": "",
            "layout": "IPY_MODEL_03aecad6c4be41eea64537d9bc7c0e50",
            "_model_module": "@jupyter-widgets/controls",
            "children": [
              "IPY_MODEL_067082b630f74a45908c99cd2542ca5a",
              "IPY_MODEL_1ce8269fcb6c48f4a1a8fe5ac123dd47"
            ]
          }
        },
        "03aecad6c4be41eea64537d9bc7c0e50": {
          "model_module": "@jupyter-widgets/base",
          "model_name": "LayoutModel",
          "state": {
            "_view_name": "LayoutView",
            "grid_template_rows": null,
            "right": null,
            "justify_content": null,
            "_view_module": "@jupyter-widgets/base",
            "overflow": null,
            "_model_module_version": "1.2.0",
            "_view_count": null,
            "flex_flow": null,
            "width": null,
            "min_width": null,
            "border": null,
            "align_items": null,
            "bottom": null,
            "_model_module": "@jupyter-widgets/base",
            "top": null,
            "grid_column": null,
            "overflow_y": null,
            "overflow_x": null,
            "grid_auto_flow": null,
            "grid_area": null,
            "grid_template_columns": null,
            "flex": null,
            "_model_name": "LayoutModel",
            "justify_items": null,
            "grid_row": null,
            "max_height": null,
            "align_content": null,
            "visibility": null,
            "align_self": null,
            "height": null,
            "min_height": null,
            "padding": null,
            "grid_auto_rows": null,
            "grid_gap": null,
            "max_width": null,
            "order": null,
            "_view_module_version": "1.2.0",
            "grid_template_areas": null,
            "object_position": null,
            "object_fit": null,
            "grid_auto_columns": null,
            "margin": null,
            "display": null,
            "left": null
          }
        },
        "067082b630f74a45908c99cd2542ca5a": {
          "model_module": "@jupyter-widgets/controls",
          "model_name": "FloatProgressModel",
          "state": {
            "_view_name": "ProgressView",
            "style": "IPY_MODEL_bd1c329c0d7047ec95ef7cd57c370466",
            "_dom_classes": [],
            "description": "  0%",
            "_model_name": "FloatProgressModel",
            "bar_style": "danger",
            "max": 10000,
            "_view_module": "@jupyter-widgets/controls",
            "_model_module_version": "1.5.0",
            "value": 0,
            "_view_count": null,
            "_view_module_version": "1.5.0",
            "orientation": "horizontal",
            "min": 0,
            "description_tooltip": null,
            "_model_module": "@jupyter-widgets/controls",
            "layout": "IPY_MODEL_264285569d5c427cabb8b17a342af81a"
          }
        },
        "1ce8269fcb6c48f4a1a8fe5ac123dd47": {
          "model_module": "@jupyter-widgets/controls",
          "model_name": "HTMLModel",
          "state": {
            "_view_name": "HTMLView",
            "style": "IPY_MODEL_6ad5d0f5d36b4e0c8f6e16a0c8cd89cf",
            "_dom_classes": [],
            "description": "",
            "_model_name": "HTMLModel",
            "placeholder": "​",
            "_view_module": "@jupyter-widgets/controls",
            "_model_module_version": "1.5.0",
            "value": " 0/10000 [00:01&lt;?, ?it/s]",
            "_view_count": null,
            "_view_module_version": "1.5.0",
            "description_tooltip": null,
            "_model_module": "@jupyter-widgets/controls",
            "layout": "IPY_MODEL_e61af377b3a147df9d0a07ceaea4c54b"
          }
        },
        "bd1c329c0d7047ec95ef7cd57c370466": {
          "model_module": "@jupyter-widgets/controls",
          "model_name": "ProgressStyleModel",
          "state": {
            "_view_name": "StyleView",
            "_model_name": "ProgressStyleModel",
            "description_width": "initial",
            "_view_module": "@jupyter-widgets/base",
            "_model_module_version": "1.5.0",
            "_view_count": null,
            "_view_module_version": "1.2.0",
            "bar_color": null,
            "_model_module": "@jupyter-widgets/controls"
          }
        },
        "264285569d5c427cabb8b17a342af81a": {
          "model_module": "@jupyter-widgets/base",
          "model_name": "LayoutModel",
          "state": {
            "_view_name": "LayoutView",
            "grid_template_rows": null,
            "right": null,
            "justify_content": null,
            "_view_module": "@jupyter-widgets/base",
            "overflow": null,
            "_model_module_version": "1.2.0",
            "_view_count": null,
            "flex_flow": null,
            "width": null,
            "min_width": null,
            "border": null,
            "align_items": null,
            "bottom": null,
            "_model_module": "@jupyter-widgets/base",
            "top": null,
            "grid_column": null,
            "overflow_y": null,
            "overflow_x": null,
            "grid_auto_flow": null,
            "grid_area": null,
            "grid_template_columns": null,
            "flex": null,
            "_model_name": "LayoutModel",
            "justify_items": null,
            "grid_row": null,
            "max_height": null,
            "align_content": null,
            "visibility": null,
            "align_self": null,
            "height": null,
            "min_height": null,
            "padding": null,
            "grid_auto_rows": null,
            "grid_gap": null,
            "max_width": null,
            "order": null,
            "_view_module_version": "1.2.0",
            "grid_template_areas": null,
            "object_position": null,
            "object_fit": null,
            "grid_auto_columns": null,
            "margin": null,
            "display": null,
            "left": null
          }
        },
        "6ad5d0f5d36b4e0c8f6e16a0c8cd89cf": {
          "model_module": "@jupyter-widgets/controls",
          "model_name": "DescriptionStyleModel",
          "state": {
            "_view_name": "StyleView",
            "_model_name": "DescriptionStyleModel",
            "description_width": "",
            "_view_module": "@jupyter-widgets/base",
            "_model_module_version": "1.5.0",
            "_view_count": null,
            "_view_module_version": "1.2.0",
            "_model_module": "@jupyter-widgets/controls"
          }
        },
        "e61af377b3a147df9d0a07ceaea4c54b": {
          "model_module": "@jupyter-widgets/base",
          "model_name": "LayoutModel",
          "state": {
            "_view_name": "LayoutView",
            "grid_template_rows": null,
            "right": null,
            "justify_content": null,
            "_view_module": "@jupyter-widgets/base",
            "overflow": null,
            "_model_module_version": "1.2.0",
            "_view_count": null,
            "flex_flow": null,
            "width": null,
            "min_width": null,
            "border": null,
            "align_items": null,
            "bottom": null,
            "_model_module": "@jupyter-widgets/base",
            "top": null,
            "grid_column": null,
            "overflow_y": null,
            "overflow_x": null,
            "grid_auto_flow": null,
            "grid_area": null,
            "grid_template_columns": null,
            "flex": null,
            "_model_name": "LayoutModel",
            "justify_items": null,
            "grid_row": null,
            "max_height": null,
            "align_content": null,
            "visibility": null,
            "align_self": null,
            "height": null,
            "min_height": null,
            "padding": null,
            "grid_auto_rows": null,
            "grid_gap": null,
            "max_width": null,
            "order": null,
            "_view_module_version": "1.2.0",
            "grid_template_areas": null,
            "object_position": null,
            "object_fit": null,
            "grid_auto_columns": null,
            "margin": null,
            "display": null,
            "left": null
          }
        }
      }
    }
  },
  "cells": [
    {
      "cell_type": "markdown",
      "metadata": {
        "id": "view-in-github",
        "colab_type": "text"
      },
      "source": [
        "<a href=\"https://colab.research.google.com/github/koalalovepabro/Deep-Learning/blob/main/09_%EC%88%98%EC%B9%98%EB%AF%B8%EB%B6%84%EA%B3%BC_%EA%B2%BD%EC%82%AC%ED%95%98%EA%B0%95%EB%B2%95.ipynb\" target=\"_parent\"><img src=\"https://colab.research.google.com/assets/colab-badge.svg\" alt=\"Open In Colab\"/></a>"
      ]
    },
    {
      "cell_type": "markdown",
      "metadata": {
        "id": "_3ep4UO0Nc-N"
      },
      "source": [
        "# 미분\n",
        "* $y=f(x)$에서 한 순간의 변화량을 구하는 것\n",
        "  - $x$가 아주아주 조금 변화가 되었을 때 $y$는 얼마만큼 변화했는가\n",
        "* 변화량 = $\\frac{y의변화량}{x의변화량}$\n",
        "---\n",
        "$x$가 아주아주 조금($h$만큼) 변화 되었을 때\n",
        "$$\n",
        "\\frac{df(x)}{dx} = \\lim_{h\\to 0} \\frac{f(x+h) - f(x)}{ (x+h)-x }=\\lim_{h\\to 0} \\frac{f(x+h) - f(x)}{ h }\n",
        "$$\n"
      ]
    },
    {
      "cell_type": "code",
      "metadata": {
        "id": "SIJmFEgyNzB6"
      },
      "source": [
        "# 미분 구현\n",
        "import numpy as np\n",
        "\n",
        "# 미분의 나쁜 구현\n",
        "def numerical_diff(f, x):\n",
        "  '''\n",
        "    f : 미분 대상 함수 ( 변화량을 구할 함수 )\n",
        "    x : x인 순간의 변화량을 구하기 위함\n",
        "  '''\n",
        "  # 분모를 0으로 두는 것은 불가능\n",
        "  # x인 순간을 구해서 h를 0으로 설정하는 것이 아닌, 0에 아주아주 가까운 숫자로 지정\n",
        "  #  1. 수학적으로 분모는 0이 올 수가 없다.\n",
        "  #  2. 의미적으로도 변화량을 구하는 것이기 때문에 0에 무한히 가깝게 가는 것이지, 0이 아님\n",
        "\n",
        "  h = 1e-50 # 소숫점 밑으로 0이 49개\n",
        "  return (f(x+h) - f(x)) / h"
      ],
      "execution_count": null,
      "outputs": []
    },
    {
      "cell_type": "markdown",
      "metadata": {
        "id": "LeWoCh53Pfg7"
      },
      "source": [
        "너무나 작은 숫자로 나눗셈을 하게 되면, 컴퓨팅 시스템상 부동소숫점 오류가 발생한다. (반올림오차)"
      ]
    },
    {
      "cell_type": "code",
      "metadata": {
        "colab": {
          "base_uri": "https://localhost:8080/"
        },
        "id": "dYHZZBfZPvPG",
        "outputId": "5a55d732-f647-406a-86c4-5cc4783eb6e3"
      },
      "source": [
        "np.float32(1e-50)"
      ],
      "execution_count": null,
      "outputs": [
        {
          "output_type": "execute_result",
          "data": {
            "text/plain": [
              "0.0"
            ]
          },
          "metadata": {
            "tags": []
          },
          "execution_count": 39
        }
      ]
    },
    {
      "cell_type": "code",
      "metadata": {
        "colab": {
          "base_uri": "https://localhost:8080/"
        },
        "id": "ndU1iToMPx7T",
        "outputId": "6bda2512-5fba-463d-f890-d0c1364ec06f"
      },
      "source": [
        "1 / np.float32(1e-50) # 1 / 0.0 -> inf"
      ],
      "execution_count": null,
      "outputs": [
        {
          "output_type": "stream",
          "text": [
            "/usr/local/lib/python3.7/dist-packages/ipykernel_launcher.py:1: RuntimeWarning: divide by zero encountered in true_divide\n",
            "  \"\"\"Entry point for launching an IPython kernel.\n"
          ],
          "name": "stderr"
        },
        {
          "output_type": "execute_result",
          "data": {
            "text/plain": [
              "inf"
            ]
          },
          "metadata": {
            "tags": []
          },
          "execution_count": 40
        }
      ]
    },
    {
      "cell_type": "markdown",
      "metadata": {
        "id": "TH3R7Y11QHQe"
      },
      "source": [
        "# 전방차분과 중앙차분을 이용한 미분\n",
        "$$\n",
        "\\frac{ df(x) }{ dx }  =  \\lim_{h\\to 0} \\frac{f(x+h) - f(x-h)}{ x+h - (x-h) } = \\lim_{h\\to 0} \\frac{f(x+h) - f(x-h)}{ 2h }\n",
        "$$"
      ]
    },
    {
      "cell_type": "code",
      "metadata": {
        "id": "zfCIW7izVIcF"
      },
      "source": [
        "# 향상된 미분 함수\n",
        "def numerical_diff(f, x):\n",
        "  h = 1e-4 # 0.0001이 가장 적당하다고 알려져 있습니다.\n",
        "  return (f(x+h) - f(x-h)) / (2*h)"
      ],
      "execution_count": null,
      "outputs": []
    },
    {
      "cell_type": "markdown",
      "metadata": {
        "id": "U3pXGvxLVa5j"
      },
      "source": [
        "실세 $x$값을 집어 넣고 미분을 계산하는 것을 **수치미분**이라고 한다."
      ]
    },
    {
      "cell_type": "markdown",
      "metadata": {
        "id": "aMsOqcV_Vg7n"
      },
      "source": [
        "# 수치미분의 예시\n",
        "$$\n",
        "f(x)=y = 0.01x^2 + 0.1x\n",
        "$$"
      ]
    },
    {
      "cell_type": "code",
      "metadata": {
        "id": "QnEvj0l1Vq5N"
      },
      "source": [
        "def function_1(x):\n",
        "  return 0.01*x**2 + 0.1*x"
      ],
      "execution_count": null,
      "outputs": []
    },
    {
      "cell_type": "code",
      "metadata": {
        "id": "tDvJny1Ias6S"
      },
      "source": [
        "import numpy as np\n",
        "import matplotlib.pyplot as plt\n",
        "\n",
        "%matplotlib inline"
      ],
      "execution_count": null,
      "outputs": []
    },
    {
      "cell_type": "code",
      "metadata": {
        "colab": {
          "base_uri": "https://localhost:8080/",
          "height": 279
        },
        "id": "J-hIsUL8a0mU",
        "outputId": "11de1823-41c2-4432-b7b7-1161a1fe0609"
      },
      "source": [
        "x = np.arange(0.0, 20, 0.1)\n",
        "y = function_1(x)\n",
        "\n",
        "plt.xlabel(r\"$x$\")\n",
        "plt.ylabel(r\"$f(x)$\")\n",
        "plt.plot(x, y)\n",
        "plt.show()"
      ],
      "execution_count": null,
      "outputs": [
        {
          "output_type": "display_data",
          "data": {
            "image/png": "[encoded data removed]",
            "text/plain": [
              "<Figure size 432x288 with 1 Axes>"
            ]
          },
          "metadata": {
            "tags": [],
            "needs_background": "light"
          }
        }
      ]
    },
    {
      "cell_type": "code",
      "metadata": {
        "colab": {
          "base_uri": "https://localhost:8080/"
        },
        "id": "wM6YFx83a-eL",
        "outputId": "11740fb2-5a20-4759-bad3-4a6e9ff1729c"
      },
      "source": [
        "print(\"x가 5일 때의 미분값 : {:.1f}\".format(numerical_diff(function_1, 5)))\n",
        "print(\"x가 10일 때의 미분값 : {:.1f}\".format(numerical_diff(function_1, 10)))"
      ],
      "execution_count": null,
      "outputs": [
        {
          "output_type": "stream",
          "text": [
            "x가 5일 때의 미분값 : 0.2\n",
            "x가 10일 때의 미분값 : 0.3\n"
          ],
          "name": "stdout"
        }
      ]
    },
    {
      "cell_type": "code",
      "metadata": {
        "colab": {
          "base_uri": "https://localhost:8080/",
          "height": 513
        },
        "id": "KlIkHka0byRN",
        "outputId": "6f4bec0b-6666-4af4-d440-070ea2f0f9e5"
      },
      "source": [
        "# 미분값을 이용한 접선 시각화\n",
        "def tangent_line(f, x):\n",
        "    d = numerical_diff(f, x) # 미분을 통해 기울기를 구한다.\n",
        "    y = f(x) - d*x # 기울기를 활용해서 y값을 구한다.\n",
        "    return lambda t: d*t + y # y값을 토대로 접선을 그린다.\n",
        "\n",
        "fig, axes = plt.subplots(1,2, figsize=(20,8))\n",
        "\n",
        "x = np.arange(0.0, 20.0, 0.1)\n",
        "y = function_1(x)\n",
        "axes[0].set_xlabel(\"x\")\n",
        "axes[0].set_ylabel(\"f(x)\")\n",
        "\n",
        "tf = tangent_line(function_1, 5)\n",
        "y2 = tf(x)\n",
        "\n",
        "axes[0].plot(x, y)\n",
        "axes[0].plot(x, y2)\n",
        "axes[0].set_title(\"x = 5\")\n",
        "\n",
        "axes[1].set_xlabel(\"x\")\n",
        "axes[1].set_ylabel(\"f(x)\")\n",
        "\n",
        "tf = tangent_line(function_1, 10)\n",
        "y2 = tf(x)\n",
        "\n",
        "axes[1].plot(x, y)\n",
        "axes[1].plot(x, y2)\n",
        "axes[1].set_title(\"x = 10\")\n",
        "plt.show()"
      ],
      "execution_count": null,
      "outputs": [
        {
          "output_type": "display_data",
          "data": {
            "image/png": "[encoded data removed]",
            "text/plain": [
              "<Figure size 1440x576 with 2 Axes>"
            ]
          },
          "metadata": {
            "tags": [],
            "needs_background": "light"
          }
        }
      ]
    },
    {
      "cell_type": "markdown",
      "metadata": {
        "id": "yKCZkM3_dtnb"
      },
      "source": [
        "# 편미분\n",
        "* 위 예에서는 $x$(인수 또는 변수가 됨) 1개\n",
        "* 2개 이상의 인수에 대한 미분을 **편미분** 이라고 한다.\n",
        "* 한 쪽만( 인수 하나만 ) 신경써서 미분을 하겠다.\n",
        "$$\n",
        "f(x_0, x_1) = x^2_0 + x^2_1\n",
        "$$"
      ]
    },
    {
      "cell_type": "markdown",
      "metadata": {
        "id": "BlfpQ-I1uZHk"
      },
      "source": [
        ""
      ]
    },
    {
      "cell_type": "code",
      "metadata": {
        "id": "SZSL3Ydnn60L"
      },
      "source": [
        "# x : numpy 배열\n",
        "def function_2(x):\n",
        "  return x[0] ** 2 + x[1]**2"
      ],
      "execution_count": null,
      "outputs": []
    },
    {
      "cell_type": "code",
      "metadata": {
        "colab": {
          "base_uri": "https://localhost:8080/",
          "height": 466
        },
        "id": "-n2m_U59pOso",
        "outputId": "d5c0ed95-f790-453b-ba2f-da8e26fa281a"
      },
      "source": [
        "from mpl_toolkits.mplot3d import Axes3D\n",
        "fig = plt.figure(figsize=(10,8))\n",
        "ax = fig.add_subplot(111, projection='3d')\n",
        "\n",
        "X0 = np.arange(-3, 3, 0.05)\n",
        "X1 = np.arange(-3, 3, 0.05)\n",
        "\n",
        "X0, X1 = np.meshgrid(X0, X1)\n",
        "Z = function_2([X0,X1])\n",
        "\n",
        "ax.plot_wireframe(X=X0, Y=X1, Z=Z,rstride=10, cstride=10)\n",
        "ax.set_xlabel('x0')\n",
        "ax.set_ylabel('x1')\n",
        "ax.set_zlabel('f(x)')\n",
        "plt.show()"
      ],
      "execution_count": null,
      "outputs": [
        {
          "output_type": "display_data",
          "data": {
            "image/png": "[encoded data removed]",
            "text/plain": [
              "<Figure size 720x576 with 1 Axes>"
            ]
          },
          "metadata": {
            "tags": [],
            "needs_background": "light"
          }
        }
      ]
    },
    {
      "cell_type": "markdown",
      "metadata": {
        "id": "u11h_5-Eucn5"
      },
      "source": [
        "$$\n",
        "f(x_0, x_1) = x^2_0 + x^2_1\n",
        "$$"
      ]
    },
    {
      "cell_type": "markdown",
      "metadata": {
        "id": "LanHb7fZpbhh"
      },
      "source": [
        "* 편미분은 한 쪽을 **무시**한 채로 미분을 하는 것\n",
        "* 내가 미분하고자 하는 변수를 제외 하고는 모두다 **상수**로 처리\n",
        "* **상수**는 미분하면 0이 됩니다.\n",
        "* $f(x) = x^2 + 3$을 미분하면? $3$은 상수이기 때문에 $f(x)$를 미분하면 $2x$가 된다.\n",
        "* $f(x_0, x_1) = x^2_0 + x^2_1$에서, $f(x_0)$로 편미분을 한다면?\n",
        "  * $x_1$을 상수처럼 생각을 하게 된다.\n",
        "  * $f(x_0)$로 미분하는 꼴이 된다.\n",
        "  * 즉 결과는 $f(x_0)$를 미분하면? $2x_0$\n",
        "* $x_0$로 편미분을 하고 싶다 -> $\\frac{\\partial f}{\\partial x_0}$ -> $x_0$에 대한 $f$의 편미분값\n",
        "* $\\frac{\\partial f}{\\partial x_1}$ -> $2x_1$"
      ]
    },
    {
      "cell_type": "markdown",
      "metadata": {
        "id": "ZXaBwwhCqZqw"
      },
      "source": [
        "## 문제 1\n",
        "$x_0=3, x_1=4$ 일 때, $x_0$에 대한 편미분 $\\frac{\\partial f}{\\partial x_0}$를 구하시오.`답 : 약 6.0`"
      ]
    },
    {
      "cell_type": "code",
      "metadata": {
        "colab": {
          "base_uri": "https://localhost:8080/"
        },
        "id": "6Ktt7tz0uKyO",
        "outputId": "2fcdc4f8-b843-4ab4-827d-c52140dc0aac"
      },
      "source": [
        "def function_tmp1(x0):\n",
        "  return x0**2 + 4.0**2\n",
        "\n",
        "print(\"{:.1f}\".format(numerical_diff(function_tmp1, 3.0)))"
      ],
      "execution_count": null,
      "outputs": [
        {
          "output_type": "stream",
          "text": [
            "6.0\n"
          ],
          "name": "stdout"
        }
      ]
    },
    {
      "cell_type": "markdown",
      "metadata": {
        "id": "oNLxTQF3vLNA"
      },
      "source": [
        "## 문제 2\n",
        "$x_0=3, x_1=4$ 일 때, $x_1$에 대한 편미분 $\\frac{\\partial f}{\\partial x_1}$를 구하시오.`답 : 약 8.0`"
      ]
    },
    {
      "cell_type": "code",
      "metadata": {
        "colab": {
          "base_uri": "https://localhost:8080/"
        },
        "id": "kWw4XkhDvU1X",
        "outputId": "1759a1bd-89e1-4166-ba41-ef51cd120ff2"
      },
      "source": [
        "def function_tmp2(x1):\n",
        "  return 3.0**2 + x1**2\n",
        "\n",
        "print(\"{:.1f}\".format(numerical_diff(function_tmp1, 4.0)))"
      ],
      "execution_count": null,
      "outputs": [
        {
          "output_type": "stream",
          "text": [
            "8.0\n"
          ],
          "name": "stdout"
        }
      ]
    },
    {
      "cell_type": "markdown",
      "metadata": {
        "id": "6LvQGMumvjGv"
      },
      "source": [
        "# 기울기 배열(gradient)\n",
        "* $x_0$에 대한 기울기와, $x_1$에 대한 기울기를 따로 구해서 확인\n",
        "* $x_1$에 대한 기울기와, $x_1$에 대한 기울기를 동시에 생각하면 두 방향 모두를 고려한 기울기 값을 얻어낼 수가 있다.\n",
        "  * $(\\frac{\\partial f}{\\partial x_0} , \\frac{\\partial f}{\\partial x_1})$\n",
        "  * ($x_0$에 대한 기울기, $x_1$에 대한 기울기)\n",
        "  * 기울기 배열\n",
        "  * 기울기 벡터\n",
        "    * 벡터 : 방향과 크기를 나타낸 것"
      ]
    },
    {
      "cell_type": "code",
      "metadata": {
        "id": "7tGsWbnBv_si"
      },
      "source": [
        "# f : 편미분 대상 함수\n",
        "# x : x값이 들어있는 배열 (x0, x1)\n",
        "def numerical_gradient(f, x):\n",
        "  h = 1e-4\n",
        "  grads = np.zeros_like(x) # x와 형상이 같은 0으로 채워진 배열을 생성\n",
        "\n",
        "  # 각 x에 대한 편미분을 수행한다.\n",
        "  for idx in range(x.size):\n",
        "    tmp_val = x[idx] # 차례차례 x를 꺼내 오기\n",
        "\n",
        "    # f(x+h) 계산\n",
        "    x[idx] = tmp_val + h\n",
        "    fxh1 = f(x)\n",
        "\n",
        "    # f(x-h) 계산\n",
        "    x[idx] = tmp_val - h\n",
        "    fxh2 = f(x)\n",
        "\n",
        "    grads[idx] = (fxh1-fxh2) / 2*h # 미분 수행\n",
        "    x[idx] = tmp_val # 원래 값으로 복원하기\n",
        "\n",
        "  return grads"
      ],
      "execution_count": null,
      "outputs": []
    },
    {
      "cell_type": "code",
      "metadata": {
        "colab": {
          "base_uri": "https://localhost:8080/"
        },
        "id": "URHJ4cJp49gs",
        "outputId": "8f9eb2ff-7ea5-4cbb-b2a7-a49a8deeaeb6"
      },
      "source": [
        "result = numerical_gradient(function_2, np.array([3.0, 4.0]))\n",
        "print(\"x = [3, 4] 일 때의 기울기 배열 : {}\".format(result))"
      ],
      "execution_count": null,
      "outputs": [
        {
          "output_type": "stream",
          "text": [
            "x = [3, 4] 일 때의 기울기 배열 : [6.e-08 8.e-08]\n"
          ],
          "name": "stdout"
        }
      ]
    },
    {
      "cell_type": "code",
      "metadata": {
        "colab": {
          "base_uri": "https://localhost:8080/"
        },
        "id": "lmvIxZB75NJA",
        "outputId": "d3270e6d-af4a-4acf-c88a-6f203022d691"
      },
      "source": [
        "result = numerical_gradient(function_2, np.array([2.0, 3.0]))\n",
        "print(\"x = [2, 3] 일 때의 기울기 배열 : {}\".format(result))\n",
        "\n",
        "result = numerical_gradient(function_2, np.array([1.0, 2.0]))\n",
        "print(\"x = [1, 2] 일 때의 기울기 배열 : {}\".format(result))\n",
        "\n",
        "result = numerical_gradient(function_2, np.array([0.0, 0.0]))\n",
        "print(\"x = [0, 0] 일 때의 기울기 배열 : {}\".format(result))"
      ],
      "execution_count": null,
      "outputs": [
        {
          "output_type": "stream",
          "text": [
            "x = [2, 3] 일 때의 기울기 배열 : [4.e-08 6.e-08]\n",
            "x = [1, 2] 일 때의 기울기 배열 : [2.e-08 4.e-08]\n",
            "x = [0, 0] 일 때의 기울기 배열 : [0. 0.]\n"
          ],
          "name": "stdout"
        }
      ]
    },
    {
      "cell_type": "code",
      "metadata": {
        "colab": {
          "base_uri": "https://localhost:8080/",
          "height": 283
        },
        "id": "yp16ZRL56AA7",
        "outputId": "02da87e6-b634-40d6-81ae-990350b50b93"
      },
      "source": [
        "# coding: utf-8\n",
        "# cf.http://d.hatena.ne.jp/white_wheels/20100327/p3\n",
        "import numpy as np\n",
        "import matplotlib.pylab as plt\n",
        "from mpl_toolkits.mplot3d import Axes3D\n",
        "\n",
        "\n",
        "def _numerical_gradient_no_batch(f, x):\n",
        "    h = 1e-4 # 0.0001\n",
        "    grad = np.zeros_like(x) # x와 형상이 같은 배열을 생성\n",
        "    \n",
        "    for idx in range(x.size):\n",
        "        tmp_val = x[idx]\n",
        "        \n",
        "        # f(x+h) 계산\n",
        "        x[idx] = float(tmp_val) + h\n",
        "        fxh1 = f(x)\n",
        "        \n",
        "        # f(x-h) 계산\n",
        "        x[idx] = tmp_val - h \n",
        "        fxh2 = f(x) \n",
        "        \n",
        "        grad[idx] = (fxh1 - fxh2) / (2*h)\n",
        "        x[idx] = tmp_val # 값 복원\n",
        "        \n",
        "    return grad\n",
        "\n",
        "\n",
        "def numerical_gradient(f, X):\n",
        "    if X.ndim == 1:\n",
        "        return _numerical_gradient_no_batch(f, X)\n",
        "    else:\n",
        "        grad = np.zeros_like(X)\n",
        "        \n",
        "        for idx, x in enumerate(X):\n",
        "            grad[idx] = _numerical_gradient_no_batch(f, x)\n",
        "        \n",
        "        return grad\n",
        "\n",
        "\n",
        "def function_2(x):\n",
        "    if x.ndim == 1:\n",
        "        return np.sum(x**2)\n",
        "    else:\n",
        "        return np.sum(x**2, axis=1)\n",
        "\n",
        "\n",
        "def tangent_line(f, x):\n",
        "    d = numerical_gradient(f, x)\n",
        "    print(d)\n",
        "    y = f(x) - d*x\n",
        "    return lambda t: d*t + y\n",
        "     \n",
        "if __name__ == '__main__':\n",
        "    x0 = np.arange(-2, 2.5, 0.25)\n",
        "    x1 = np.arange(-2, 2.5, 0.25)\n",
        "    X, Y = np.meshgrid(x0, x1)\n",
        "    \n",
        "    X = X.flatten()\n",
        "    Y = Y.flatten()\n",
        "    \n",
        "    grad = numerical_gradient(function_2, np.array([X, Y]) )\n",
        "    \n",
        "    plt.figure()\n",
        "    plt.quiver(X, Y, -grad[0], -grad[1],  angles=\"xy\",color=\"#666666\")\n",
        "    plt.xlim([-2, 2])\n",
        "    plt.ylim([-2, 2])\n",
        "    plt.xlabel('x0')\n",
        "    plt.ylabel('x1')\n",
        "    plt.grid()\n",
        "    plt.draw()\n",
        "    plt.show()"
      ],
      "execution_count": null,
      "outputs": [
        {
          "output_type": "display_data",
          "data": {
            "image/png": "[encoded data removed]",
            "text/plain": [
              "<Figure size 432x288 with 1 Axes>"
            ]
          },
          "metadata": {
            "tags": [],
            "needs_background": "light"
          }
        }
      ]
    },
    {
      "cell_type": "markdown",
      "metadata": {
        "id": "PTwv2sfH7gu1"
      },
      "source": [
        "* $(\\frac{\\partial f}{\\partial x_0} , \\frac{\\partial f}{\\partial x_1})$을 벡터로 묶어서 표현\n",
        "* 최소지점으로 가기 위한 $x_0$의 방향과 크기, 최소지점으로 가기 위한 $x_1$의 방향과 크기\n",
        "* 즉 기울기가 크면 클 수록 그 만큼 많이 움직여야 한다.\n",
        "* 기울기가 가리키는 쪽은 각 장소에서(좌표에서) 함수의 출력값 ($x_0^2+x_1^2$)의 결괏값이 가장 작은 곳"
      ]
    },
    {
      "cell_type": "markdown",
      "metadata": {
        "id": "XtgMYZ_I8jPv"
      },
      "source": [
        "# 경사하강법 - Gradient Descent ✨✨\n",
        "* 기울기를 줄여 나가는 방법\n",
        "* 손실값(Loss)을 최소로 하기위한 매개변수를 구하는 과정\n",
        "* **최적화(Optimization)**라고 한다.\n",
        "* 신경망에서의 매개변수는 **가중치와 편향**\n",
        "* Loss를 최소화 하기위한 가중치와 편향을 구하는 과정을 최적화라고 하고, 경사하강법은 최적화 기법의 일종"
      ]
    },
    {
      "cell_type": "markdown",
      "metadata": {
        "id": "-mHQq5mQBS7w"
      },
      "source": [
        "## 경사하강법의 원리\n",
        "* 현 위치에서 기울어진 방향으로 **일정 거리만큼 이동(Learning Rate)**\n",
        "* 이동한 곳에서도 미분을 통해 기울기를 구하고, 기울기를 구한 방향으로 이동\n",
        "* 이 과정을 최소화가 되는 지점을 찾을 때 까지 반복(step)\n",
        "\n",
        "$$\n",
        "x_0 = x_0 - \\eta \\frac{\\partial f}{\\partial x_0}\n",
        "$$\n",
        "\n",
        "$$\n",
        "x_1 = x_1 - \\eta \\frac{\\partial f}{\\partial x_1}\n",
        "$$\n",
        "\n",
        "* $\\eta$ : Learning Rate ( 하이퍼 파라미터 )\n",
        "* 위 과정을 매개변수 업데이트라고 한다."
      ]
    },
    {
      "cell_type": "code",
      "metadata": {
        "id": "Pxu4rsf6BjEM"
      },
      "source": [
        "# 경사하강법 구현\n",
        "# f : 경사하강법을 수행할 함수\n",
        "# init_x : x의 최초 지점\n",
        "# lr : learning_rate\n",
        "# step_num : 경사하강법 수행 횟수\n",
        "def gradient_descent(f, init_x, lr = 0.01, step_num=100):\n",
        "  x = init_x\n",
        "\n",
        "  for i in range(step_num):\n",
        "    # 기울기 배열을 구한다.\n",
        "    grads = numerical_gradient(f, x) # 현 위치에서의 기울기 배열을 구한다.\n",
        "    print(\"x 좌표 : {} / 기울기 : {}\".format(x, grads))\n",
        "\n",
        "    x = x - lr*grads\n",
        "  \n",
        "  return x"
      ],
      "execution_count": null,
      "outputs": []
    },
    {
      "cell_type": "code",
      "metadata": {
        "colab": {
          "base_uri": "https://localhost:8080/"
        },
        "id": "f9MS7g1oE9ZX",
        "outputId": "f4daa48c-1a85-4dbb-d15d-6b13c8e27be4"
      },
      "source": [
        "def function_2(x):\n",
        "  return x[0] ** 2 + x[1] ** 2\n",
        "\n",
        "init_x = np.array([-3.0, 4.0])\n",
        "gradient_descent(function_2, init_x, lr=0.1, step_num=100)"
      ],
      "execution_count": null,
      "outputs": [
        {
          "output_type": "stream",
          "text": [
            "x 좌표 : [-3.  4.] / 기울기 : [-6.  8.]\n",
            "x 좌표 : [-2.4  3.2] / 기울기 : [-4.8  6.4]\n",
            "x 좌표 : [-1.92  2.56] / 기울기 : [-3.84  5.12]\n",
            "x 좌표 : [-1.536  2.048] / 기울기 : [-3.072  4.096]\n",
            "x 좌표 : [-1.2288  1.6384] / 기울기 : [-2.4576  3.2768]\n",
            "x 좌표 : [-0.98304  1.31072] / 기울기 : [-1.96608  2.62144]\n",
            "x 좌표 : [-0.786432  1.048576] / 기울기 : [-1.572864  2.097152]\n",
            "x 좌표 : [-0.6291456  0.8388608] / 기울기 : [-1.2582912  1.6777216]\n",
            "x 좌표 : [-0.50331648  0.67108864] / 기울기 : [-1.00663296  1.34217728]\n",
            "x 좌표 : [-0.40265318  0.53687091] / 기울기 : [-0.80530637  1.07374182]\n",
            "x 좌표 : [-0.32212255  0.42949673] / 기울기 : [-0.64424509  0.85899346]\n",
            "x 좌표 : [-0.25769804  0.34359738] / 기울기 : [-0.51539608  0.68719477]\n",
            "x 좌표 : [-0.20615843  0.27487791] / 기울기 : [-0.41231686  0.54975581]\n",
            "x 좌표 : [-0.16492674  0.21990233] / 기울기 : [-0.32985349  0.43980465]\n",
            "x 좌표 : [-0.1319414   0.17592186] / 기울기 : [-0.26388279  0.35184372]\n",
            "x 좌표 : [-0.10555312  0.14073749] / 기울기 : [-0.21110623  0.28147498]\n",
            "x 좌표 : [-0.08444249  0.11258999] / 기울기 : [-0.16888499  0.22517998]\n",
            "x 좌표 : [-0.06755399  0.09007199] / 기울기 : [-0.13510799  0.18014399]\n",
            "x 좌표 : [-0.0540432   0.07205759] / 기울기 : [-0.10808639  0.14411519]\n",
            "x 좌표 : [-0.04323456  0.05764608] / 기울기 : [-0.08646911  0.11529215]\n",
            "x 좌표 : [-0.03458765  0.04611686] / 기울기 : [-0.06917529  0.09223372]\n",
            "x 좌표 : [-0.02767012  0.03689349] / 기울기 : [-0.05534023  0.07378698]\n",
            "x 좌표 : [-0.02213609  0.02951479] / 기울기 : [-0.04427219  0.05902958]\n",
            "x 좌표 : [-0.01770887  0.02361183] / 기울기 : [-0.03541775  0.04722366]\n",
            "x 좌표 : [-0.0141671   0.01888947] / 기울기 : [-0.0283342   0.03777893]\n",
            "x 좌표 : [-0.01133368  0.01511157] / 기울기 : [-0.02266736  0.03022315]\n",
            "x 좌표 : [-0.00906694  0.01208926] / 기울기 : [-0.01813389  0.02417852]\n",
            "x 좌표 : [-0.00725355  0.00967141] / 기울기 : [-0.01450711  0.01934281]\n",
            "x 좌표 : [-0.00580284  0.00773713] / 기울기 : [-0.01160569  0.01547425]\n",
            "x 좌표 : [-0.00464228  0.0061897 ] / 기울기 : [-0.00928455  0.0123794 ]\n",
            "x 좌표 : [-0.00371382  0.00495176] / 기울기 : [-0.00742764  0.00990352]\n",
            "x 좌표 : [-0.00297106  0.00396141] / 기울기 : [-0.00594211  0.00792282]\n",
            "x 좌표 : [-0.00237684  0.00316913] / 기울기 : [-0.00475369  0.00633825]\n",
            "x 좌표 : [-0.00190148  0.0025353 ] / 기울기 : [-0.00380295  0.0050706 ]\n",
            "x 좌표 : [-0.00152118  0.00202824] / 기울기 : [-0.00304236  0.00405648]\n",
            "x 좌표 : [-0.00121694  0.00162259] / 기울기 : [-0.00243389  0.00324519]\n",
            "x 좌표 : [-0.00097356  0.00129807] / 기울기 : [-0.00194711  0.00259615]\n",
            "x 좌표 : [-0.00077884  0.00103846] / 기울기 : [-0.00155769  0.00207692]\n",
            "x 좌표 : [-0.00062308  0.00083077] / 기울기 : [-0.00124615  0.00166153]\n",
            "x 좌표 : [-0.00049846  0.00066461] / 기울기 : [-0.00099692  0.00132923]\n",
            "x 좌표 : [-0.00039877  0.00053169] / 기울기 : [-0.00079754  0.00106338]\n",
            "x 좌표 : [-0.00031901  0.00042535] / 기울기 : [-0.00063803  0.00085071]\n",
            "x 좌표 : [-0.00025521  0.00034028] / 기울기 : [-0.00051042  0.00068056]\n",
            "x 좌표 : [-0.00020417  0.00027223] / 기울기 : [-0.00040834  0.00054445]\n",
            "x 좌표 : [-0.00016334  0.00021778] / 기울기 : [-0.00032667  0.00043556]\n",
            "x 좌표 : [-0.00013067  0.00017422] / 기울기 : [-0.00026134  0.00034845]\n",
            "x 좌표 : [-0.00010453  0.00013938] / 기울기 : [-0.00020907  0.00027876]\n",
            "x 좌표 : [-8.36277945e-05  1.11503726e-04] / 기울기 : [-0.00016726  0.00022301]\n",
            "x 좌표 : [-6.69022356e-05  8.92029808e-05] / 기울기 : [-0.0001338   0.00017841]\n",
            "x 좌표 : [-5.35217885e-05  7.13623846e-05] / 기울기 : [-0.00010704  0.00014272]\n",
            "x 좌표 : [-4.28174308e-05  5.70899077e-05] / 기울기 : [-8.56348616e-05  1.14179815e-04]\n",
            "x 좌표 : [-3.42539446e-05  4.56719262e-05] / 기울기 : [-6.85078892e-05  9.13438523e-05]\n",
            "x 좌표 : [-2.74031557e-05  3.65375409e-05] / 기울기 : [-5.48063114e-05  7.30750819e-05]\n",
            "x 좌표 : [-2.19225246e-05  2.92300327e-05] / 기울기 : [-4.38450491e-05  5.84600655e-05]\n",
            "x 좌표 : [-1.75380196e-05  2.33840262e-05] / 기울기 : [-3.50760393e-05  4.67680524e-05]\n",
            "x 좌표 : [-1.40304157e-05  1.87072210e-05] / 기울기 : [-2.80608314e-05  3.74144419e-05]\n",
            "x 좌표 : [-1.12243326e-05  1.49657768e-05] / 기울기 : [-2.24486651e-05  2.99315535e-05]\n",
            "x 좌표 : [-8.97946606e-06  1.19726214e-05] / 기울기 : [-1.79589321e-05  2.39452428e-05]\n",
            "x 좌표 : [-7.18357285e-06  9.57809713e-06] / 기울기 : [-1.43671457e-05  1.91561943e-05]\n",
            "x 좌표 : [-5.74685828e-06  7.66247770e-06] / 기울기 : [-1.14937166e-05  1.53249554e-05]\n",
            "x 좌표 : [-4.59748662e-06  6.12998216e-06] / 기울기 : [-9.19497325e-06  1.22599643e-05]\n",
            "x 좌표 : [-3.67798930e-06  4.90398573e-06] / 기울기 : [-7.35597860e-06  9.80797146e-06]\n",
            "x 좌표 : [-2.94239144e-06  3.92318858e-06] / 기울기 : [-5.88478288e-06  7.84637717e-06]\n",
            "x 좌표 : [-2.35391315e-06  3.13855087e-06] / 기울기 : [-4.70782630e-06  6.27710174e-06]\n",
            "x 좌표 : [-1.88313052e-06  2.51084069e-06] / 기울기 : [-3.76626104e-06  5.02168139e-06]\n",
            "x 좌표 : [-1.50650442e-06  2.00867256e-06] / 기울기 : [-3.01300883e-06  4.01734511e-06]\n",
            "x 좌표 : [-1.20520353e-06  1.60693804e-06] / 기울기 : [-2.41040707e-06  3.21387609e-06]\n",
            "x 좌표 : [-9.64162827e-07  1.28555044e-06] / 기울기 : [-1.92832565e-06  2.57110087e-06]\n",
            "x 좌표 : [-7.71330261e-07  1.02844035e-06] / 기울기 : [-1.54266052e-06  2.05688070e-06]\n",
            "x 좌표 : [-6.17064209e-07  8.22752279e-07] / 기울기 : [-1.23412842e-06  1.64550456e-06]\n",
            "x 좌표 : [-4.93651367e-07  6.58201823e-07] / 기울기 : [-9.87302734e-07  1.31640365e-06]\n",
            "x 좌표 : [-3.94921094e-07  5.26561458e-07] / 기울기 : [-7.89842188e-07  1.05312292e-06]\n",
            "x 좌표 : [-3.15936875e-07  4.21249167e-07] / 기울기 : [-6.31873750e-07  8.42498333e-07]\n",
            "x 좌표 : [-2.52749500e-07  3.36999333e-07] / 기울기 : [-5.05499000e-07  6.73998667e-07]\n",
            "x 좌표 : [-2.02199600e-07  2.69599467e-07] / 기울기 : [-4.04399200e-07  5.39198933e-07]\n",
            "x 좌표 : [-1.61759680e-07  2.15679573e-07] / 기울기 : [-3.23519360e-07  4.31359147e-07]\n",
            "x 좌표 : [-1.29407744e-07  1.72543659e-07] / 기울기 : [-2.58815488e-07  3.45087317e-07]\n",
            "x 좌표 : [-1.03526195e-07  1.38034927e-07] / 기울기 : [-2.07052390e-07  2.76069854e-07]\n",
            "x 좌표 : [-8.28209562e-08  1.10427942e-07] / 기울기 : [-1.65641912e-07  2.20855883e-07]\n",
            "x 좌표 : [-6.62567649e-08  8.83423532e-08] / 기울기 : [-1.32513530e-07  1.76684706e-07]\n",
            "x 좌표 : [-5.30054119e-08  7.06738826e-08] / 기울기 : [-1.06010824e-07  1.41347765e-07]\n",
            "x 좌표 : [-4.24043296e-08  5.65391061e-08] / 기울기 : [-8.48086591e-08  1.13078212e-07]\n",
            "x 좌표 : [-3.39234636e-08  4.52312849e-08] / 기울기 : [-6.78469273e-08  9.04625697e-08]\n",
            "x 좌표 : [-2.71387709e-08  3.61850279e-08] / 기울기 : [-5.42775418e-08  7.23700558e-08]\n",
            "x 좌표 : [-2.17110167e-08  2.89480223e-08] / 기울기 : [-4.34220335e-08  5.78960446e-08]\n",
            "x 좌표 : [-1.73688134e-08  2.31584178e-08] / 기울기 : [-3.47376268e-08  4.63168357e-08]\n",
            "x 좌표 : [-1.38950507e-08  1.85267343e-08] / 기울기 : [-2.77901014e-08  3.70534686e-08]\n",
            "x 좌표 : [-1.11160406e-08  1.48213874e-08] / 기울기 : [-2.22320811e-08  2.96427748e-08]\n",
            "x 좌표 : [-8.89283245e-09  1.18571099e-08] / 기울기 : [-1.77856649e-08  2.37142199e-08]\n",
            "x 좌표 : [-7.11426596e-09  9.48568795e-09] / 기울기 : [-1.42285319e-08  1.89713759e-08]\n",
            "x 좌표 : [-5.69141277e-09  7.58855036e-09] / 기울기 : [-1.13828255e-08  1.51771007e-08]\n",
            "x 좌표 : [-4.55313022e-09  6.07084029e-09] / 기울기 : [-9.10626043e-09  1.21416806e-08]\n",
            "x 좌표 : [-3.64250417e-09  4.85667223e-09] / 기울기 : [-7.28500835e-09  9.71334446e-09]\n",
            "x 좌표 : [-2.91400334e-09  3.88533778e-09] / 기울기 : [-5.82800668e-09  7.77067557e-09]\n",
            "x 좌표 : [-2.33120267e-09  3.10827023e-09] / 기울기 : [-4.66240534e-09  6.21654046e-09]\n",
            "x 좌표 : [-1.86496214e-09  2.48661618e-09] / 기울기 : [-3.72992427e-09  4.97323236e-09]\n",
            "x 좌표 : [-1.49196971e-09  1.98929295e-09] / 기울기 : [-2.98393942e-09  3.97858589e-09]\n",
            "x 좌표 : [-1.19357577e-09  1.59143436e-09] / 기울기 : [-2.38715153e-09  3.18286871e-09]\n",
            "x 좌표 : [-9.54860614e-10  1.27314749e-09] / 기울기 : [-1.90972123e-09  2.54629497e-09]\n",
            "x 좌표 : [-7.63888491e-10  1.01851799e-09] / 기울기 : [-1.52777698e-09  2.03703598e-09]\n"
          ],
          "name": "stdout"
        },
        {
          "output_type": "execute_result",
          "data": {
            "text/plain": [
              "array([-6.11110793e-10,  8.14814391e-10])"
            ]
          },
          "metadata": {
            "tags": []
          },
          "execution_count": 61
        }
      ]
    },
    {
      "cell_type": "code",
      "metadata": {
        "colab": {
          "base_uri": "https://localhost:8080/",
          "height": 279
        },
        "id": "pvZb_7euFNfn",
        "outputId": "fcafa392-ee30-4ae2-8aab-0e8f06001402"
      },
      "source": [
        "import numpy as np\n",
        "import matplotlib.pylab as plt\n",
        "\n",
        "\n",
        "def gradient_descent(f, init_x, lr=0.01, step_num=100):\n",
        "    x = init_x\n",
        "    x_history = []\n",
        "\n",
        "    for i in range(step_num):\n",
        "        x_history.append( x.copy() )\n",
        "\n",
        "        grad = numerical_gradient(f, x)\n",
        "        x -= lr * grad\n",
        "\n",
        "    return x, np.array(x_history)\n",
        "\n",
        "init_x = np.array([-3.0, 4.0])    \n",
        "\n",
        "lr = 0.1\n",
        "step_num = 20\n",
        "x, x_history = gradient_descent(function_2, init_x, lr=lr, step_num=step_num)\n",
        "\n",
        "plt.plot( [-5, 5], [0,0], '--b')\n",
        "plt.plot( [0,0], [-5, 5], '--b')\n",
        "plt.plot(x_history[:,0], x_history[:,1], 'o')\n",
        "\n",
        "plt.xlim(-3.5, 3.5)\n",
        "plt.ylim(-4.5, 4.5)\n",
        "plt.xlabel(\"X0\")\n",
        "plt.ylabel(\"X1\")\n",
        "plt.show()"
      ],
      "execution_count": null,
      "outputs": [
        {
          "output_type": "display_data",
          "data": {
            "image/png": "[encoded data removed]",
            "text/plain": [
              "<Figure size 432x288 with 1 Axes>"
            ]
          },
          "metadata": {
            "tags": [],
            "needs_background": "light"
          }
        }
      ]
    },
    {
      "cell_type": "markdown",
      "metadata": {
        "id": "_h0Vw3SmFljb"
      },
      "source": [
        "학습률(Learning Rate)이 너무 크거나 작으면 벌어지는 일들"
      ]
    },
    {
      "cell_type": "code",
      "metadata": {
        "colab": {
          "base_uri": "https://localhost:8080/"
        },
        "id": "w2ick4FHGfld",
        "outputId": "c2332d6e-1b7a-4c4c-c727-e6efaffd2e6d"
      },
      "source": [
        "# 학습률이 너무 큰 예. lr = 10.0\n",
        "init_x = np.array([-3.0, 4.0])\n",
        "result, _ = gradient_descent(function_2, init_x=init_x, lr=10.0, step_num=100)\n",
        "print(\"Learning Rate 10.0 : {}\".format(result))"
      ],
      "execution_count": null,
      "outputs": [
        {
          "output_type": "stream",
          "text": [
            "Learning Rate 10.0 : [-2.58983747e+13 -1.29524862e+12]\n"
          ],
          "name": "stdout"
        }
      ]
    },
    {
      "cell_type": "code",
      "metadata": {
        "colab": {
          "base_uri": "https://localhost:8080/"
        },
        "id": "xilDUT3-G70z",
        "outputId": "a4852e2d-e653-475a-c066-0c6dedd9a7d3"
      },
      "source": [
        "# 학습률이 너무 작은 예. lr = 1e-10\n",
        "init_x = np.array([-3.0, 4.0])\n",
        "result, _ = gradient_descent(function_2, init_x=init_x, lr=1e-10, step_num=100)\n",
        "print(\"Learning Rate 1e-10 : {}\".format(result))"
      ],
      "execution_count": null,
      "outputs": [
        {
          "output_type": "stream",
          "text": [
            "Learning Rate 1e-10 : [-2.99999994  3.99999992]\n"
          ],
          "name": "stdout"
        }
      ]
    },
    {
      "cell_type": "markdown",
      "metadata": {
        "id": "syUQqHhbHTaf"
      },
      "source": [
        "* Learning Rate가 너무 크면 좌표가 발산\n",
        "* Learning Rate가 너무 작으면 갱신이 거의 안된다."
      ]
    },
    {
      "cell_type": "markdown",
      "metadata": {
        "id": "P6NneOLyc6kY"
      },
      "source": [
        "# 학습이 가능한 신경망 만들기\n",
        "* 신경망의 학습이란?\n",
        "  * Loss($L$)값을 최소화 시키는 가중치($W$)와 편향($b$)을 구한다.\n",
        "* 미분은 어떻게 쓰일까?\n",
        "  * $\\frac{\\partial L}{\\partial W}$, $\\frac{\\partial L}{\\partial b}$\n",
        "\n",
        "$$\n",
        "W=\\begin{pmatrix} w_{11} & w_{21} & w_{31} \\\\ w_{12}&w_{22}&w_{32} \\\\\\end{pmatrix}\n",
        "$$\n",
        "\n",
        "\n",
        "$$\n",
        "\\frac{\\partial L}{\\partial W}=\\begin{pmatrix} \\frac{\\partial L}{\\partial w_{11}} & \\frac{\\partial L}{\\partial w_{21}} & \\frac{\\partial L}{\\partial w_{31}} \\\\ \\frac{\\partial L}{\\partial w_{12}}&\\frac{\\partial L}{\\partial w_{22}}&\\frac{\\partial L}{\\partial w_{32}} \\\\\\end{pmatrix}\n",
        "$$\n"
      ]
    },
    {
      "cell_type": "code",
      "metadata": {
        "id": "HskWYVjfdbvc"
      },
      "source": [
        "# 실습에 필요한 함수들\n",
        "import numpy as np\n",
        "\n",
        "def sigmoid(x):\n",
        "    return 1 / (1 + np.exp(-x))\n",
        "\n",
        "def softmax(x):\n",
        "    if x.ndim == 2:\n",
        "        x = x.T\n",
        "        x = x - np.max(x, axis=0)\n",
        "        y = np.exp(x) / np.sum(np.exp(x), axis=0)\n",
        "        return y.T \n",
        "\n",
        "    x = x - np.max(x) # 오버플로 대책\n",
        "    return np.exp(x) / np.sum(np.exp(x))\n",
        "\n",
        "def cross_entropy_error(y, t):\n",
        "    if y.ndim == 1:\n",
        "        t = t.reshape(1, t.size)\n",
        "        y = y.reshape(1, y.size)\n",
        "        \n",
        "    # 훈련 데이터가 원-핫 벡터라면 정답 레이블의 인덱스로 반환\n",
        "    if t.size == y.size:\n",
        "        t = t.argmax(axis=1)\n",
        "             \n",
        "    batch_size = y.shape[0]\n",
        "    return -np.sum(np.log(y[np.arange(batch_size), t] + 1e-7)) / batch_size\n",
        "\n",
        "def numerical_gradient(f, x):\n",
        "    h = 1e-4 # 0.0001\n",
        "    grad = np.zeros_like(x)\n",
        "    \n",
        "    it = np.nditer(x, flags=['multi_index'], op_flags=['readwrite'])\n",
        "    while not it.finished:\n",
        "        idx = it.multi_index\n",
        "        tmp_val = x[idx]\n",
        "        x[idx] = float(tmp_val) + h\n",
        "        fxh1 = f(x) # f(x+h)\n",
        "        \n",
        "        x[idx] = tmp_val - h \n",
        "        fxh2 = f(x) # f(x-h)\n",
        "        grad[idx] = (fxh1 - fxh2) / (2*h)\n",
        "        \n",
        "        x[idx] = tmp_val # 값 복원\n",
        "        it.iternext()   \n",
        "        \n",
        "    return grad"
      ],
      "execution_count": null,
      "outputs": []
    },
    {
      "cell_type": "markdown",
      "metadata": {
        "id": "xzvzERfNgFd9"
      },
      "source": [
        "## SimpleNet\n",
        "* 입력을 두개 받는 `[x1, x2]` 3개의 뉴런을 가진 신경망\n",
        "* 편향 고려 x, 가중치만 고려"
      ]
    },
    {
      "cell_type": "code",
      "metadata": {
        "id": "8MJmlyXggP7o"
      },
      "source": [
        "class SimpleNet:\n",
        "  def __init__(self):\n",
        "    # 신경망이 초기에 가지고 있어야 할 매개변수를 세팅\n",
        "    # 신경망 매개변수 초기화 작업을 생성자인 __init__ 메소드에서 수행\n",
        "\n",
        "    # 1) 정규분포 랜덤값 * 0.01 ( 실무에서는 사용이 안됨, 공부할 때만 사용 )\n",
        "    # 2) 카이밍 히 초깃값( He 초깃값 ) - ReLU를 activation function으로 쓸 때 자주 사용\n",
        "    # 3) 사비에르 초깃값( Xavier 초깃값 ) - Sigmoid를 activation function으로 쓸 때 자주 사용\n",
        "\n",
        "    self.W = np.random.randn(2, 3) # 가중치를 랜덤하게 정규분포로 초기화(원래 0.01 곱해야 하는데 보기가 좀 그래서 안 넣었음.)\n",
        "  \n",
        "  def predict(self, x):\n",
        "    return np.dot(x, self.W)\n",
        "  \n",
        "  def loss(self, x, t):\n",
        "    # 손실(Loss)을 구할 때 필요한 것\n",
        "    # 1. 예측값 (y)\n",
        "    # 2. 정답(t)\n",
        "    # 3. loss 측정 함수 ( cross_entropy_error )\n",
        "\n",
        "    z = self.predict(x)\n",
        "    y = softmax(z)\n",
        "\n",
        "    loss = cross_entropy_error(y, t)\n",
        "\n",
        "    return loss"
      ],
      "execution_count": null,
      "outputs": []
    },
    {
      "cell_type": "code",
      "metadata": {
        "colab": {
          "base_uri": "https://localhost:8080/"
        },
        "id": "n3PRtQwQiyBO",
        "outputId": "ff1e8d05-fddf-45dd-829f-bd346fa50d2e"
      },
      "source": [
        "net = SimpleNet()\n",
        "print(\"가중치 : \\n{}\".format(net.W))"
      ],
      "execution_count": null,
      "outputs": [
        {
          "output_type": "stream",
          "text": [
            "가중치 : \n",
            "[[ 1.81509164 -1.47779898 -0.44327992]\n",
            " [ 1.1835035   0.70338014  1.76561574]]\n"
          ],
          "name": "stdout"
        }
      ]
    },
    {
      "cell_type": "code",
      "metadata": {
        "colab": {
          "base_uri": "https://localhost:8080/"
        },
        "id": "MafhXZswkSiI",
        "outputId": "456b7206-e68b-4f22-8d31-5334b675a0fc"
      },
      "source": [
        "# x는 임의로 설정\n",
        "x = np.array([0.6, 0.9])\n",
        "p = net.predict(x)\n",
        "\n",
        "print(\"예측값 : {}\".format(p))"
      ],
      "execution_count": null,
      "outputs": [
        {
          "output_type": "stream",
          "text": [
            "예측값 : [ 2.15420814 -0.25363727  1.32308622]\n"
          ],
          "name": "stdout"
        }
      ]
    },
    {
      "cell_type": "code",
      "metadata": {
        "colab": {
          "base_uri": "https://localhost:8080/"
        },
        "id": "YwpFgH-MkpXF",
        "outputId": "73a91bdd-a5ce-4b06-8c41-f217ea900d58"
      },
      "source": [
        "# loss 구해보기\n",
        "t = np.array([1, 0, 0])\n",
        "t_error = np.array([0, 1, 0])\n",
        "\n",
        "print(\"정답이 0 일 때의 loss : {:.3f}\".format(net.loss(x, t)))\n",
        "print(\"정답이 1 일 때의 loss : {:.3f}\".format(net.loss(x, t_error)))"
      ],
      "execution_count": null,
      "outputs": [
        {
          "output_type": "stream",
          "text": [
            "정답이 0 일 때의 loss : 0.422\n",
            "정답이 1 일 때의 loss : 2.830\n"
          ],
          "name": "stdout"
        }
      ]
    },
    {
      "cell_type": "markdown",
      "metadata": {
        "id": "TLUv5WWGlFUo"
      },
      "source": [
        "$$\n",
        "\\frac{\\partial L}{\\partial W}=\\begin{pmatrix} \\frac{\\partial L}{\\partial w_{11}} & \\frac{\\partial L}{\\partial w_{21}} & \\frac{\\partial L}{\\partial w_{31}} \\\\ \\frac{\\partial L}{\\partial w_{12}}&\\frac{\\partial L}{\\partial w_{22}}&\\frac{\\partial L}{\\partial w_{32}} \\\\\\end{pmatrix}\n",
        "$$"
      ]
    },
    {
      "cell_type": "code",
      "metadata": {
        "id": "RZIu5kuEljbE"
      },
      "source": [
        "# 1. Loss 구하기 위한 함수\n",
        "# 2. W에 대한..\n",
        "# dL / dW\n",
        "# net.loss 를 미분할 함수를 따로 만들어야 한다.(W에 대한..)\n",
        "\n",
        "def f(W):\n",
        "  return net.loss(x, t)\n",
        "\n",
        "# 혹은\n",
        "# loss_W = lambda W : net.loss(x, t)"
      ],
      "execution_count": null,
      "outputs": []
    },
    {
      "cell_type": "code",
      "metadata": {
        "colab": {
          "base_uri": "https://localhost:8080/"
        },
        "id": "LQKUlYJ9m5bp",
        "outputId": "0523948d-f94d-4a1b-a959-493b8ea9f9d6"
      },
      "source": [
        "# Loss를 구하는 함수 f에 대한 모든 W들의 기울기를 구할 수 있다.\n",
        "# W의 각 원소에 대한 편미분이 수행된다.\n",
        "\n",
        "dW = numerical_gradient(f, net.W)\n",
        "print(dW)"
      ],
      "execution_count": null,
      "outputs": [
        {
          "output_type": "stream",
          "text": [
            "[[-0.20670418  0.03540016  0.17130402]\n",
            " [-0.31005628  0.05310024  0.25695603]]\n"
          ],
          "name": "stdout"
        }
      ]
    },
    {
      "cell_type": "markdown",
      "metadata": {
        "id": "wkgxPJSNquug"
      },
      "source": [
        "* $w_{_{11}}$이 $h$만큼 증가하면 Loss가 0.2 만큼 감소한다.\n",
        "* $w_{_{22}}$이 $h$만큼 증가하면 Loss가 0.05 만큼 증가한다."
      ]
    },
    {
      "cell_type": "markdown",
      "metadata": {
        "id": "yFhejV4TrMez"
      },
      "source": [
        "# 학습이 가능한 MNIST 신경망 구현\n",
        "* 2층 신경망\n",
        "* 1층 은닉층의 뉴런 개수 100개\n",
        "  * 활성화 함수로 시그모이드 함수를 사용\n",
        "* 2층 출력층의 뉴런 개수 10개\n",
        "  * softmax를 사용\n",
        "* loss는 cross entropy error 사용\n",
        "* predict에서 softmax를 사용\n",
        "* 클래스 내부에 기울기 배열을 구하는 numerical_gradient_params를 구현\n",
        "* **경사하강법**을 여기서 구현하지 않는다."
      ]
    },
    {
      "cell_type": "code",
      "metadata": {
        "id": "V9PEh2sIrlk3"
      },
      "source": [
        "class TwoLayerNet:\n",
        "\n",
        "  def __init__(self, input_size, hidden_size, output_size, weight_init_std = 0.01):\n",
        "    '''\n",
        "      input_size  : 입력 데이터 shape(N, 28*28)\n",
        "      hidden_size : 은닉층의 뉴런 개수\n",
        "      output_size : 출력층의 뉴런 개수\n",
        "      weight_init_std : 정규 분포 랜덤값에 표준편차 0.01를 적용하기 위함\n",
        "    '''\n",
        "\n",
        "    self.params = {}\n",
        "\n",
        "    # 1층 매개변수 마련하기\n",
        "    self.params[\"W1\"] = weight_init_std * np.random.randn(input_size, hidden_size)\n",
        "    self.params[\"b1\"] = np.zeros(hidden_size)\n",
        "\n",
        "    # 2층 매개변수 마련하기\n",
        "    self.params[\"W2\"] = weight_init_std * np.random.randn(hidden_size, output_size)\n",
        "    self.params[\"b2\"] = np.zeros(output_size)\n",
        "\n",
        "  def predict(self, x):\n",
        "    # 매개변수 가져오기\n",
        "    W1, b1, W2, b2 = self.params[\"W1\"], self.params[\"b1\"], self.params[\"W2\"], self.params[\"b2\"]\n",
        "\n",
        "    # z = WX+b\n",
        "    # activation 적용하기\n",
        "\n",
        "    # 1층 은닉층 계산\n",
        "    z1 = np.dot(x, W1) + b1\n",
        "    a1 = sigmoid(z1)\n",
        "\n",
        "    # 2층 출력층 계층\n",
        "    z2 = np.dot(a1, W2) + b2\n",
        "    y = softmax(z2)\n",
        "\n",
        "    return y\n",
        "\n",
        "  def loss(self, x, t):\n",
        "    # 1. 예측값\n",
        "    # 예측? predict\n",
        "    y = self.predict(x)\n",
        "\n",
        "    # 2. loss 함수 적용\n",
        "    loss_val = cross_entropy_error(y, t)\n",
        "    return loss_val\n",
        "  \n",
        "  # 미분(numerical_gradient)을 이용한 \"각 매개변수 별 기울기 배열 구하기\"\n",
        "  def numerical_gradient_params(self, x, t):\n",
        "\n",
        "    # 각 층에서 구해지는 기울기를 저장할 딕셔너리\n",
        "    # 저장하는 이유 : 각 매개변수의 기울기를 저장 해야만 나중에 경사하강법을 수행할 수 있다.\n",
        "    grads = {}\n",
        "    \n",
        "    # dL / dW1\n",
        "    # dL / db1\n",
        "    # dL / dW2\n",
        "    # dL / db2\n",
        "    print(\"---미분 시작---\")\n",
        "    # 각 매개변수들에 대한 미분값을 구해낼 \"미분 대상 함수\"\n",
        "    loss_param_f = lambda p : self.loss(x, t)\n",
        "    \n",
        "    # 1층 매개변수들에 대한 기울기 구하기( loss에 대한 W1, b1의 기울기를 grads에 저장 )\n",
        "    grads[\"W1\"] = numerical_gradient(loss_param_f, self.params[\"W1\"]) # W1에 대한 Loss의 변화량(기울기, 미분값)\n",
        "    grads[\"b1\"] = numerical_gradient(loss_param_f, self.params[\"b1\"]) # b1에 대한 Loss의 변화량(기울기, 미분값)\n",
        "    \n",
        "    # 2층 매개변수들에 대한 기울기 구하기( loss에 대한 W2, b2의 기울기를 grads에 저장 )\n",
        "    grads[\"W2\"] = numerical_gradient(loss_param_f, self.params[\"W2\"]) # W2에 대한 Loss의 변화량(기울기, 미분값)\n",
        "    grads[\"b2\"] = numerical_gradient(loss_param_f, self.params[\"b2\"]) # b2에 대한 Loss의 변화량(기울기, 미분값)\n",
        "\n",
        "    print(\"---미분 끝---\")\n",
        "    return grads"
      ],
      "execution_count": null,
      "outputs": []
    },
    {
      "cell_type": "markdown",
      "metadata": {
        "id": "lp7XaMZUCVp8"
      },
      "source": [
        "# 신경망을 간단하게 만들어서 테스트 해 보기\n",
        "신경망을 구축하고 나서 신경망 자체를 이해하는데 제일 좋은 방법은 매개변수(가중치와 편향)의 개수를 세는 것이 제일 좋다."
      ]
    },
    {
      "cell_type": "code",
      "metadata": {
        "id": "390F8We0FUfG"
      },
      "source": [
        "# 신경망 생성\n",
        "input_size = 28 * 28\n",
        "hidden_size = 100\n",
        "output_size = 10\n",
        "\n",
        "net = TwoLayerNet(input_size, hidden_size, output_size)"
      ],
      "execution_count": null,
      "outputs": []
    },
    {
      "cell_type": "code",
      "metadata": {
        "colab": {
          "base_uri": "https://localhost:8080/"
        },
        "id": "5RWxMTKGFr0X",
        "outputId": "764e0ec0-d16a-439c-e6b1-469f403d7c7f"
      },
      "source": [
        "net.params[\"W1\"].shape, net.params[\"b1\"].shape"
      ],
      "execution_count": null,
      "outputs": [
        {
          "output_type": "execute_result",
          "data": {
            "text/plain": [
              "((784, 100), (100,))"
            ]
          },
          "metadata": {
            "tags": []
          },
          "execution_count": 80
        }
      ]
    },
    {
      "cell_type": "markdown",
      "metadata": {
        "id": "b8tWGnc-FxaS"
      },
      "source": [
        "1층에는 총 `784*100 + 100 = 78500`"
      ]
    },
    {
      "cell_type": "code",
      "metadata": {
        "colab": {
          "base_uri": "https://localhost:8080/"
        },
        "id": "fPr2tGYkGEuk",
        "outputId": "1e356257-8f27-4869-987d-0fae3e49e804"
      },
      "source": [
        "net.params[\"W2\"].shape, net.params[\"b2\"].shape"
      ],
      "execution_count": null,
      "outputs": [
        {
          "output_type": "execute_result",
          "data": {
            "text/plain": [
              "((100, 10), (10,))"
            ]
          },
          "metadata": {
            "tags": []
          },
          "execution_count": 81
        }
      ]
    },
    {
      "cell_type": "markdown",
      "metadata": {
        "id": "bYwN6-PGGIYG"
      },
      "source": [
        "2층에는 총 `100*10 + 10 = 1010`"
      ]
    },
    {
      "cell_type": "markdown",
      "metadata": {
        "id": "y8dISltlGMhW"
      },
      "source": [
        "1층과 2층의 매개변수의 총 개수 : 79510개의 매개변수가 존재한다."
      ]
    },
    {
      "cell_type": "code",
      "metadata": {
        "colab": {
          "base_uri": "https://localhost:8080/"
        },
        "id": "xPaub7_RGTLJ",
        "outputId": "36de01bd-1e92-4889-ede9-4bc2edd60249"
      },
      "source": [
        "# 신경망에 오류가 있는지 없는지 확인\n",
        "x = np.random.rand(100, 28*28) # BATCH_SIZE = 100\n",
        "y = net.predict(x)\n",
        "\n",
        "x.shape, y.shape"
      ],
      "execution_count": null,
      "outputs": [
        {
          "output_type": "execute_result",
          "data": {
            "text/plain": [
              "((100, 784), (100, 10))"
            ]
          },
          "metadata": {
            "tags": []
          },
          "execution_count": 82
        }
      ]
    },
    {
      "cell_type": "markdown",
      "metadata": {
        "id": "MCVrAiDfGtqJ"
      },
      "source": [
        "# MNIST 데이터 로딩과 전처리"
      ]
    },
    {
      "cell_type": "code",
      "metadata": {
        "colab": {
          "base_uri": "https://localhost:8080/"
        },
        "id": "cKxP311wG9Nz",
        "outputId": "c8188dc9-34ef-4864-c060-8d1a004f269f"
      },
      "source": [
        "from tensorflow.keras import datasets\n",
        "mnist = datasets.mnist\n",
        "\n",
        "(X_train, y_train), (X_test, y_test) = mnist.load_data()\n",
        "\n",
        "X_train.shape, y_train.shape"
      ],
      "execution_count": null,
      "outputs": [
        {
          "output_type": "stream",
          "text": [
            "Downloading data from https://storage.googleapis.com/tensorflow/tf-keras-datasets/mnist.npz\n",
            "11493376/11490434 [==============================] - 0s 0us/step\n"
          ],
          "name": "stdout"
        },
        {
          "output_type": "execute_result",
          "data": {
            "text/plain": [
              "((60000, 28, 28), (60000,))"
            ]
          },
          "metadata": {
            "tags": []
          },
          "execution_count": 83
        }
      ]
    },
    {
      "cell_type": "markdown",
      "metadata": {
        "id": "uCZsxn1jHGC-"
      },
      "source": [
        "## 데이터 전처리\n",
        "* `y_train, y_test` : OHE이 되어야 한다. ( 안해도 되는데 할거임 )\n",
        "* `X_train, X_test` : `(N, 28*28)` 형태로 평탄화 되어야 한다."
      ]
    },
    {
      "cell_type": "code",
      "metadata": {
        "colab": {
          "base_uri": "https://localhost:8080/"
        },
        "id": "SzzbXvNFHbr8",
        "outputId": "5bd3402f-58f9-4276-df55-1c53ea722691"
      },
      "source": [
        "# y_train, y_test OHE\n",
        "import tensorflow as tf\n",
        "\n",
        "y_train_one_hot = tf.one_hot(y_train, 10).numpy()\n",
        "y_test_one_hot  = tf.one_hot(y_test, 10).numpy()\n",
        "\n",
        "y_train_one_hot.shape, y_test_one_hot.shape"
      ],
      "execution_count": null,
      "outputs": [
        {
          "output_type": "execute_result",
          "data": {
            "text/plain": [
              "((60000, 10), (10000, 10))"
            ]
          },
          "metadata": {
            "tags": []
          },
          "execution_count": 85
        }
      ]
    },
    {
      "cell_type": "code",
      "metadata": {
        "colab": {
          "base_uri": "https://localhost:8080/"
        },
        "id": "sYTvdxepHorn",
        "outputId": "3e61e23c-bca8-42a4-e0fb-13670f5a3b02"
      },
      "source": [
        "# X_train, X_test 평탄화 시키기 (N, 28*28) 만들기\n",
        "X_train = X_train.reshape(X_train.shape[0], -1)\n",
        "X_test  = X_test.reshape(X_test.shape[0], -1)\n",
        "\n",
        "X_train.shape, X_test.shape"
      ],
      "execution_count": null,
      "outputs": [
        {
          "output_type": "execute_result",
          "data": {
            "text/plain": [
              "((60000, 784), (10000, 784))"
            ]
          },
          "metadata": {
            "tags": []
          },
          "execution_count": 86
        }
      ]
    },
    {
      "cell_type": "markdown",
      "metadata": {
        "id": "qdrnnyUHH8fD"
      },
      "source": [
        "## 이미지 데이터 정규화\n",
        "* 이미지 데이터는 항상 0 ~ 255사이의 값을 갖는다.\n",
        "* 0부터 255라는 숫자의 차이는 매우 큰 데이터 끼리의 차이이기 때문에 0 ~ 1사이로 정규화\n",
        "* 255.0 으로 나누어서 최소를 0으로, 최대를 1로 갖는 이미지로 만들어 주기\n",
        "* 거의 일반적으로 입력 이미지의 픽셀 값을 0 ~ 1사이로 맞추는게 제일 괜찮다.( 특히 이미지의 경우 더욱 좋다. )"
      ]
    },
    {
      "cell_type": "code",
      "metadata": {
        "id": "qkKlfTjLJWMt"
      },
      "source": [
        "X_train = X_train / 255.0\n",
        "X_test  = X_test / 255."
      ],
      "execution_count": null,
      "outputs": []
    },
    {
      "cell_type": "markdown",
      "metadata": {
        "id": "Q1yhuN5GJgWi"
      },
      "source": [
        "# 훈련을 하기 위한 하이퍼 파라미터 설정하기\n",
        "* 미니 배치 개수 선정\n",
        "* 훈련 반복 횟수 설정 = 경사하강법 적용 횟수\n",
        "* 학습률 선정"
      ]
    },
    {
      "cell_type": "code",
      "metadata": {
        "id": "4I-bd2ziJwtm"
      },
      "source": [
        "# 반복 횟수 설정\n",
        "iter_nums = 10000\n",
        "\n",
        "# 미니 배치 설정\n",
        "train_size = X_train.shape[0]\n",
        "batch_size = 100\n",
        "\n",
        "# 학습률 선정\n",
        "learning_rate = 0.1"
      ],
      "execution_count": null,
      "outputs": []
    },
    {
      "cell_type": "code",
      "metadata": {
        "id": "uwlEUoHLKB70"
      },
      "source": [
        "# 신경망 만들기\n",
        "network = TwoLayerNet(input_size, hidden_size, output_size)"
      ],
      "execution_count": null,
      "outputs": []
    },
    {
      "cell_type": "code",
      "metadata": {
        "colab": {
          "base_uri": "https://localhost:8080/",
          "height": 549,
          "referenced_widgets": [
            "12e5a83b78904319ba76587220276f6c",
            "03aecad6c4be41eea64537d9bc7c0e50",
            "067082b630f74a45908c99cd2542ca5a",
            "1ce8269fcb6c48f4a1a8fe5ac123dd47",
            "bd1c329c0d7047ec95ef7cd57c370466",
            "264285569d5c427cabb8b17a342af81a",
            "6ad5d0f5d36b4e0c8f6e16a0c8cd89cf",
            "e61af377b3a147df9d0a07ceaea4c54b"
          ]
        },
        "id": "eFaZFjCjKKyH",
        "outputId": "d225207a-4dc8-4cb6-cae1-e5149871857f"
      },
      "source": [
        "# 반복문 돌릴 때 진행 상황을 프로그래스 바로 시각화해서 도와주는 패키지\n",
        "from tqdm import tqdm_notebook\n",
        "\n",
        "for i in tqdm_notebook(range(iter_nums)):\n",
        "  # 1. 미니 배치 인덱스 선정(마스크 만들기)\n",
        "  batch_mask = np.random.choice(train_size, batch_size) # train_size(60000)개 중 batch_size(100)개 만큼의 랜덤한 인덱스 뽑기\n",
        "  \n",
        "  # 미니 배치 만들기\n",
        "  X_batch = X_train[batch_mask]\n",
        "  t_batch = y_train[batch_mask]\n",
        "\n",
        "  '''\n",
        "    각 배치 마다의 매개변수 기울기를 계산\n",
        "    numerical_gradient_params에서 하는 일\n",
        "\n",
        "    1. 예측값 구하기(x를 가지고)\n",
        "    2. cross_entropy_error를 이용한 loss 구하기\n",
        "    3. 구해진 Loss값을 이용해 미분을 수행하기(numerical_gradient), 각 매개변수에 대한 기울기를 저장( 어디에? grads )\n",
        "  '''\n",
        "\n",
        "  grads = network.numerical_gradient_params(X_batch, t_batch)\n",
        "\n",
        "  # 기울기를 구했으면..? 경사하강법 해주자\n",
        "  # grads 딕셔너리의 키값이 params 딕셔너리의 키값과 똑같다.\n",
        "  \n",
        "  keys = [\"W1\", \"W2\", \"b1\", \"b2\"]\n",
        "\n",
        "  for key in keys:\n",
        "    # network.params[key] = network.params[key] - ( learning_rate * grads[key] ) # 경사하강법 공식\n",
        "    network.params[key] -= learning_rate * grads[key]  # 경사하강법 공식\n",
        "\n",
        "  # 갱신된 loss 확인\n",
        "  loss = network.loss(X_batch, t_batch)\n",
        "  print(\"Step {} -> Loss : {}\".format(i+1, loss))"
      ],
      "execution_count": null,
      "outputs": [
        {
          "output_type": "stream",
          "text": [
            "/usr/local/lib/python3.7/dist-packages/ipykernel_launcher.py:4: TqdmDeprecationWarning: This function will be removed in tqdm==5.0.0\n",
            "Please use `tqdm.notebook.tqdm` instead of `tqdm.tqdm_notebook`\n",
            "  after removing the cwd from sys.path.\n"
          ],
          "name": "stderr"
        },
        {
          "output_type": "display_data",
          "data": {
            "application/vnd.jupyter.widget-view+json": {
              "model_id": "12e5a83b78904319ba76587220276f6c",
              "version_minor": 0,
              "version_major": 2
            },
            "text/plain": [
              "HBox(children=(FloatProgress(value=0.0, max=10000.0), HTML(value='')))"
            ]
          },
          "metadata": {
            "tags": []
          }
        },
        {
          "output_type": "stream",
          "text": [
            "---미분 시작---\n"
          ],
          "name": "stdout"
        },
        {
          "output_type": "error",
          "ename": "KeyboardInterrupt",
          "evalue": "ignored",
          "traceback": [
            "\u001b[0;31m---------------------------------------------------------------------------\u001b[0m",
            "\u001b[0;31mKeyboardInterrupt\u001b[0m                         Traceback (most recent call last)",
            "\u001b[0;32m<ipython-input-91-6ceca37bbe38>\u001b[0m in \u001b[0;36m<module>\u001b[0;34m()\u001b[0m\n\u001b[1;32m     19\u001b[0m   '''\n\u001b[1;32m     20\u001b[0m \u001b[0;34m\u001b[0m\u001b[0m\n\u001b[0;32m---> 21\u001b[0;31m   \u001b[0mgrads\u001b[0m \u001b[0;34m=\u001b[0m \u001b[0mnetwork\u001b[0m\u001b[0;34m.\u001b[0m\u001b[0mnumerical_gradient_params\u001b[0m\u001b[0;34m(\u001b[0m\u001b[0mX_batch\u001b[0m\u001b[0;34m,\u001b[0m \u001b[0mt_batch\u001b[0m\u001b[0;34m)\u001b[0m\u001b[0;34m\u001b[0m\u001b[0;34m\u001b[0m\u001b[0m\n\u001b[0m\u001b[1;32m     22\u001b[0m \u001b[0;34m\u001b[0m\u001b[0m\n\u001b[1;32m     23\u001b[0m   \u001b[0;31m# 기울기를 구했으면..? 경사하강법 해주자\u001b[0m\u001b[0;34m\u001b[0m\u001b[0;34m\u001b[0m\u001b[0;34m\u001b[0m\u001b[0m\n",
            "\u001b[0;32m<ipython-input-78-7ec55d5de9a7>\u001b[0m in \u001b[0;36mnumerical_gradient_params\u001b[0;34m(self, x, t)\u001b[0m\n\u001b[1;32m     61\u001b[0m \u001b[0;34m\u001b[0m\u001b[0m\n\u001b[1;32m     62\u001b[0m     \u001b[0;31m# 1층 매개변수들에 대한 기울기 구하기( loss에 대한 W1, b1의 기울기를 grads에 저장 )\u001b[0m\u001b[0;34m\u001b[0m\u001b[0;34m\u001b[0m\u001b[0;34m\u001b[0m\u001b[0m\n\u001b[0;32m---> 63\u001b[0;31m     \u001b[0mgrads\u001b[0m\u001b[0;34m[\u001b[0m\u001b[0;34m\"W1\"\u001b[0m\u001b[0;34m]\u001b[0m \u001b[0;34m=\u001b[0m \u001b[0mnumerical_gradient\u001b[0m\u001b[0;34m(\u001b[0m\u001b[0mloss_param_f\u001b[0m\u001b[0;34m,\u001b[0m \u001b[0mself\u001b[0m\u001b[0;34m.\u001b[0m\u001b[0mparams\u001b[0m\u001b[0;34m[\u001b[0m\u001b[0;34m\"W1\"\u001b[0m\u001b[0;34m]\u001b[0m\u001b[0;34m)\u001b[0m \u001b[0;31m# W1에 대한 Loss의 변화량(기울기, 미분값)\u001b[0m\u001b[0;34m\u001b[0m\u001b[0;34m\u001b[0m\u001b[0m\n\u001b[0m\u001b[1;32m     64\u001b[0m     \u001b[0mgrads\u001b[0m\u001b[0;34m[\u001b[0m\u001b[0;34m\"b1\"\u001b[0m\u001b[0;34m]\u001b[0m \u001b[0;34m=\u001b[0m \u001b[0mnumerical_gradient\u001b[0m\u001b[0;34m(\u001b[0m\u001b[0mloss_param_f\u001b[0m\u001b[0;34m,\u001b[0m \u001b[0mself\u001b[0m\u001b[0;34m.\u001b[0m\u001b[0mparams\u001b[0m\u001b[0;34m[\u001b[0m\u001b[0;34m\"b1\"\u001b[0m\u001b[0;34m]\u001b[0m\u001b[0;34m)\u001b[0m \u001b[0;31m# b1에 대한 Loss의 변화량(기울기, 미분값)\u001b[0m\u001b[0;34m\u001b[0m\u001b[0;34m\u001b[0m\u001b[0m\n\u001b[1;32m     65\u001b[0m \u001b[0;34m\u001b[0m\u001b[0m\n",
            "\u001b[0;32m<ipython-input-69-06437be81943>\u001b[0m in \u001b[0;36mnumerical_gradient\u001b[0;34m(f, x)\u001b[0m\n\u001b[1;32m     39\u001b[0m \u001b[0;34m\u001b[0m\u001b[0m\n\u001b[1;32m     40\u001b[0m         \u001b[0mx\u001b[0m\u001b[0;34m[\u001b[0m\u001b[0midx\u001b[0m\u001b[0;34m]\u001b[0m \u001b[0;34m=\u001b[0m \u001b[0mtmp_val\u001b[0m \u001b[0;34m-\u001b[0m \u001b[0mh\u001b[0m\u001b[0;34m\u001b[0m\u001b[0;34m\u001b[0m\u001b[0m\n\u001b[0;32m---> 41\u001b[0;31m         \u001b[0mfxh2\u001b[0m \u001b[0;34m=\u001b[0m \u001b[0mf\u001b[0m\u001b[0;34m(\u001b[0m\u001b[0mx\u001b[0m\u001b[0;34m)\u001b[0m \u001b[0;31m# f(x-h)\u001b[0m\u001b[0;34m\u001b[0m\u001b[0;34m\u001b[0m\u001b[0m\n\u001b[0m\u001b[1;32m     42\u001b[0m         \u001b[0mgrad\u001b[0m\u001b[0;34m[\u001b[0m\u001b[0midx\u001b[0m\u001b[0;34m]\u001b[0m \u001b[0;34m=\u001b[0m \u001b[0;34m(\u001b[0m\u001b[0mfxh1\u001b[0m \u001b[0;34m-\u001b[0m \u001b[0mfxh2\u001b[0m\u001b[0;34m)\u001b[0m \u001b[0;34m/\u001b[0m \u001b[0;34m(\u001b[0m\u001b[0;36m2\u001b[0m\u001b[0;34m*\u001b[0m\u001b[0mh\u001b[0m\u001b[0;34m)\u001b[0m\u001b[0;34m\u001b[0m\u001b[0;34m\u001b[0m\u001b[0m\n\u001b[1;32m     43\u001b[0m \u001b[0;34m\u001b[0m\u001b[0m\n",
            "\u001b[0;32m<ipython-input-78-7ec55d5de9a7>\u001b[0m in \u001b[0;36m<lambda>\u001b[0;34m(p)\u001b[0m\n\u001b[1;32m     58\u001b[0m     \u001b[0mprint\u001b[0m\u001b[0;34m(\u001b[0m\u001b[0;34m\"---미분 시작---\"\u001b[0m\u001b[0;34m)\u001b[0m\u001b[0;34m\u001b[0m\u001b[0;34m\u001b[0m\u001b[0m\n\u001b[1;32m     59\u001b[0m     \u001b[0;31m# 각 매개변수들에 대한 미분값을 구해낼 \"미분 대상 함수\"\u001b[0m\u001b[0;34m\u001b[0m\u001b[0;34m\u001b[0m\u001b[0;34m\u001b[0m\u001b[0m\n\u001b[0;32m---> 60\u001b[0;31m     \u001b[0mloss_param_f\u001b[0m \u001b[0;34m=\u001b[0m \u001b[0;32mlambda\u001b[0m \u001b[0mp\u001b[0m \u001b[0;34m:\u001b[0m \u001b[0mself\u001b[0m\u001b[0;34m.\u001b[0m\u001b[0mloss\u001b[0m\u001b[0;34m(\u001b[0m\u001b[0mx\u001b[0m\u001b[0;34m,\u001b[0m \u001b[0mt\u001b[0m\u001b[0;34m)\u001b[0m\u001b[0;34m\u001b[0m\u001b[0;34m\u001b[0m\u001b[0m\n\u001b[0m\u001b[1;32m     61\u001b[0m \u001b[0;34m\u001b[0m\u001b[0m\n\u001b[1;32m     62\u001b[0m     \u001b[0;31m# 1층 매개변수들에 대한 기울기 구하기( loss에 대한 W1, b1의 기울기를 grads에 저장 )\u001b[0m\u001b[0;34m\u001b[0m\u001b[0;34m\u001b[0m\u001b[0;34m\u001b[0m\u001b[0m\n",
            "\u001b[0;32m<ipython-input-78-7ec55d5de9a7>\u001b[0m in \u001b[0;36mloss\u001b[0;34m(self, x, t)\u001b[0m\n\u001b[1;32m     39\u001b[0m     \u001b[0;31m# 1. 예측값\u001b[0m\u001b[0;34m\u001b[0m\u001b[0;34m\u001b[0m\u001b[0;34m\u001b[0m\u001b[0m\n\u001b[1;32m     40\u001b[0m     \u001b[0;31m# 예측? predict\u001b[0m\u001b[0;34m\u001b[0m\u001b[0;34m\u001b[0m\u001b[0;34m\u001b[0m\u001b[0m\n\u001b[0;32m---> 41\u001b[0;31m     \u001b[0my\u001b[0m \u001b[0;34m=\u001b[0m \u001b[0mself\u001b[0m\u001b[0;34m.\u001b[0m\u001b[0mpredict\u001b[0m\u001b[0;34m(\u001b[0m\u001b[0mx\u001b[0m\u001b[0;34m)\u001b[0m\u001b[0;34m\u001b[0m\u001b[0;34m\u001b[0m\u001b[0m\n\u001b[0m\u001b[1;32m     42\u001b[0m \u001b[0;34m\u001b[0m\u001b[0m\n\u001b[1;32m     43\u001b[0m     \u001b[0;31m# 2. loss 함수 적용\u001b[0m\u001b[0;34m\u001b[0m\u001b[0;34m\u001b[0m\u001b[0;34m\u001b[0m\u001b[0m\n",
            "\u001b[0;32m<ipython-input-78-7ec55d5de9a7>\u001b[0m in \u001b[0;36mpredict\u001b[0;34m(self, x)\u001b[0m\n\u001b[1;32m     27\u001b[0m \u001b[0;34m\u001b[0m\u001b[0m\n\u001b[1;32m     28\u001b[0m     \u001b[0;31m# 1층 은닉층 계산\u001b[0m\u001b[0;34m\u001b[0m\u001b[0;34m\u001b[0m\u001b[0;34m\u001b[0m\u001b[0m\n\u001b[0;32m---> 29\u001b[0;31m     \u001b[0mz1\u001b[0m \u001b[0;34m=\u001b[0m \u001b[0mnp\u001b[0m\u001b[0;34m.\u001b[0m\u001b[0mdot\u001b[0m\u001b[0;34m(\u001b[0m\u001b[0mx\u001b[0m\u001b[0;34m,\u001b[0m \u001b[0mW1\u001b[0m\u001b[0;34m)\u001b[0m \u001b[0;34m+\u001b[0m \u001b[0mb1\u001b[0m\u001b[0;34m\u001b[0m\u001b[0;34m\u001b[0m\u001b[0m\n\u001b[0m\u001b[1;32m     30\u001b[0m     \u001b[0ma1\u001b[0m \u001b[0;34m=\u001b[0m \u001b[0msigmoid\u001b[0m\u001b[0;34m(\u001b[0m\u001b[0mz1\u001b[0m\u001b[0;34m)\u001b[0m\u001b[0;34m\u001b[0m\u001b[0;34m\u001b[0m\u001b[0m\n\u001b[1;32m     31\u001b[0m \u001b[0;34m\u001b[0m\u001b[0m\n",
            "\u001b[0;32m<__array_function__ internals>\u001b[0m in \u001b[0;36mdot\u001b[0;34m(*args, **kwargs)\u001b[0m\n",
            "\u001b[0;31mKeyboardInterrupt\u001b[0m: "
          ]
        }
      ]
    },
    {
      "cell_type": "markdown",
      "metadata": {
        "id": "Wfbl2H32M06o"
      },
      "source": [
        "## 연산량이 많다.\n",
        "* 1회 훈련할 때 컴퓨터가 계산해야 할 양\n",
        "  - 기본 매개변수의 개수 : 79,510개 ( 이미지 1장에 대한 매개변수 개수 )\n",
        "  - 배치(100개)를 사용하고 있기 때문에 1회당 진행할 미분이 : 7,951,000회\n",
        "* 미분 연산이 문제가 된다.\n",
        "* 미분을 하는 이유는 뭐지? - 기울기(변화량, 미분값)를 구하기 위함\n",
        "\n",
        "미분을 하지 않고 미분값을 구해낼 수 있다. - **딥러닝 뉴비 절단기 - 오차역전파**"
      ]
    }
  ]
}