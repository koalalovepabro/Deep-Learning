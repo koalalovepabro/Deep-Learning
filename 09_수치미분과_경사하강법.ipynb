{
  "nbformat": 4,
  "nbformat_minor": 0,
  "metadata": {
    "colab": {
      "name": "09. 수치미분과 경사하강법",
      "provenance": [],
      "collapsed_sections": [],
      "include_colab_link": true
    },
    "kernelspec": {
      "name": "python3",
      "display_name": "Python 3"
    },
    "language_info": {
      "name": "python"
    }
  },
  "cells": [
    {
      "cell_type": "markdown",
      "metadata": {
        "id": "view-in-github",
        "colab_type": "text"
      },
      "source": [
        "<a href=\"https://colab.research.google.com/github/koalalovepabro/Deep-Learning/blob/main/09_%EC%88%98%EC%B9%98%EB%AF%B8%EB%B6%84%EA%B3%BC_%EA%B2%BD%EC%82%AC%ED%95%98%EA%B0%95%EB%B2%95.ipynb\" target=\"_parent\"><img src=\"https://colab.research.google.com/assets/colab-badge.svg\" alt=\"Open In Colab\"/></a>"
      ]
    },
    {
      "cell_type": "markdown",
      "metadata": {
        "id": "_3ep4UO0Nc-N"
      },
      "source": [
        "# 미분\n",
        "* $y=f(x)$에서 한 순간의 변화량을 구하는 것\n",
        "  - $x$가 아주아주 조금 변화가 되었을 때 $y$는 얼마만큼 변화했는가\n",
        "* 변화량 = $\\frac{y의변화량}{x의변화량}$\n",
        "---\n",
        "$x$가 아주아주 조금($h$만큼) 변화 되었을 때\n",
        "$$\n",
        "\\frac{df(x)}{dx} = \\lim_{h\\to 0} \\frac{f(x+h) - f(x)}{ (x+h)-x }=\\lim_{h\\to 0} \\frac{f(x+h) - f(x)}{ h }\n",
        "$$\n"
      ]
    },
    {
      "cell_type": "code",
      "metadata": {
        "id": "SIJmFEgyNzB6"
      },
      "source": [
        "# 미분 구현\n",
        "import numpy as np\n",
        "\n",
        "# 미분의 나쁜 구현\n",
        "def numerical_diff(f, x):\n",
        "  '''\n",
        "    f : 미분 대상 함수 ( 변화량을 구할 함수 )\n",
        "    x : x인 순간의 변화량을 구하기 위함\n",
        "  '''\n",
        "  # 분모를 0으로 두는 것은 불가능\n",
        "  # x인 순간을 구해서 h를 0으로 설정하는 것이 아닌, 0에 아주아주 가까운 숫자로 지정\n",
        "  #  1. 수학적으로 분모는 0이 올 수가 없다.\n",
        "  #  2. 의미적으로도 변화량을 구하는 것이기 때문에 0에 무한히 가깝게 가는 것이지, 0이 아님\n",
        "\n",
        "  h = 1e-50 # 소숫점 밑으로 0이 49개\n",
        "  return (f(x+h) - f(x)) / h"
      ],
      "execution_count": null,
      "outputs": []
    },
    {
      "cell_type": "markdown",
      "metadata": {
        "id": "LeWoCh53Pfg7"
      },
      "source": [
        "너무나 작은 숫자로 나눗셈을 하게 되면, 컴퓨팅 시스템상 부동소숫점 오류가 발생한다. (반올림오차)"
      ]
    },
    {
      "cell_type": "code",
      "metadata": {
        "colab": {
          "base_uri": "https://localhost:8080/"
        },
        "id": "dYHZZBfZPvPG",
        "outputId": "7a5b03ba-17f0-42e9-f64c-76504b218060"
      },
      "source": [
        "np.float32(1e-50)"
      ],
      "execution_count": null,
      "outputs": [
        {
          "output_type": "execute_result",
          "data": {
            "text/plain": [
              "0.0"
            ]
          },
          "metadata": {
            "tags": []
          },
          "execution_count": 13
        }
      ]
    },
    {
      "cell_type": "code",
      "metadata": {
        "colab": {
          "base_uri": "https://localhost:8080/"
        },
        "id": "ndU1iToMPx7T",
        "outputId": "141d941b-40ee-4a7c-cf46-19bcb686b75b"
      },
      "source": [
        "1 / np.float32(1e-50) # 1 / 0.0 -> inf"
      ],
      "execution_count": null,
      "outputs": [
        {
          "output_type": "stream",
          "text": [
            "/usr/local/lib/python3.7/dist-packages/ipykernel_launcher.py:1: RuntimeWarning: divide by zero encountered in true_divide\n",
            "  \"\"\"Entry point for launching an IPython kernel.\n"
          ],
          "name": "stderr"
        },
        {
          "output_type": "execute_result",
          "data": {
            "text/plain": [
              "inf"
            ]
          },
          "metadata": {
            "tags": []
          },
          "execution_count": 14
        }
      ]
    },
    {
      "cell_type": "markdown",
      "metadata": {
        "id": "TH3R7Y11QHQe"
      },
      "source": [
        "# 전방차분과 중앙차분을 이용한 미분\n",
        "$$\n",
        "\\frac{ df(x) }{ dx }  =  \\lim_{h\\to 0} \\frac{f(x+h) - f(x-h)}{ x+h - (x-h) } = \\lim_{h\\to 0} \\frac{f(x+h) - f(x-h)}{ 2h }\n",
        "$$"
      ]
    },
    {
      "cell_type": "code",
      "metadata": {
        "id": "zfCIW7izVIcF"
      },
      "source": [
        "# 향상된 미분 함수\n",
        "def numerical_diff(f, x):\n",
        "  h = 1e-4 # 0.0001이 가장 적당하다고 알려져 있습니다.\n",
        "  return (f(x+h) - f(x-h)) / (2*h)"
      ],
      "execution_count": null,
      "outputs": []
    },
    {
      "cell_type": "markdown",
      "metadata": {
        "id": "U3pXGvxLVa5j"
      },
      "source": [
        "실세 $x$값을 집어 넣고 미분을 계산하는 것을 **수치미분**이라고 한다."
      ]
    },
    {
      "cell_type": "markdown",
      "metadata": {
        "id": "aMsOqcV_Vg7n"
      },
      "source": [
        "# 수치미분의 예시\n",
        "$$\n",
        "f(x)=y = 0.01x^2 + 0.1x\n",
        "$$"
      ]
    },
    {
      "cell_type": "code",
      "metadata": {
        "id": "QnEvj0l1Vq5N"
      },
      "source": [
        "def function_1(x):\n",
        "  return 0.01*x**2 + 0.1*x"
      ],
      "execution_count": null,
      "outputs": []
    },
    {
      "cell_type": "code",
      "metadata": {
        "id": "tDvJny1Ias6S"
      },
      "source": [
        "import numpy as np\n",
        "import matplotlib.pyplot as plt\n",
        "\n",
        "%matplotlib inline"
      ],
      "execution_count": null,
      "outputs": []
    },
    {
      "cell_type": "code",
      "metadata": {
        "colab": {
          "base_uri": "https://localhost:8080/",
          "height": 279
        },
        "id": "J-hIsUL8a0mU",
        "outputId": "3e3dff26-9a3c-4189-cdb4-fdc773f3b89d"
      },
      "source": [
        "x = np.arange(0.0, 20, 0.1)\n",
        "y = function_1(x)\n",
        "\n",
        "plt.xlabel(r\"$x$\")\n",
        "plt.ylabel(r\"$f(x)$\")\n",
        "plt.plot(x, y)\n",
        "plt.show()"
      ],
      "execution_count": null,
      "outputs": [
        {
          "output_type": "display_data",
          "data": {
            "image/png": "[encoded data removed]",
            "text/plain": [
              "<Figure size 432x288 with 1 Axes>"
            ]
          },
          "metadata": {
            "tags": [],
            "needs_background": "light"
          }
        }
      ]
    },
    {
      "cell_type": "code",
      "metadata": {
        "colab": {
          "base_uri": "https://localhost:8080/"
        },
        "id": "wM6YFx83a-eL",
        "outputId": "041d815d-bc02-4eac-c78d-6339dc1ebd1a"
      },
      "source": [
        "print(\"x가 5일 때의 미분값 : {:.1f}\".format(numerical_diff(function_1, 5)))\n",
        "print(\"x가 10일 때의 미분값 : {:.1f}\".format(numerical_diff(function_1, 10)))"
      ],
      "execution_count": null,
      "outputs": [
        {
          "output_type": "stream",
          "text": [
            "x가 5일 때의 미분값 : 0.2\n",
            "x가 10일 때의 미분값 : 0.3\n"
          ],
          "name": "stdout"
        }
      ]
    },
    {
      "cell_type": "code",
      "metadata": {
        "colab": {
          "base_uri": "https://localhost:8080/",
          "height": 513
        },
        "id": "KlIkHka0byRN",
        "outputId": "8f8130d5-792d-442a-d491-1aaa15957782"
      },
      "source": [
        "# 미분값을 이용한 접선 시각화\n",
        "def tangent_line(f, x):\n",
        "    d = numerical_diff(f, x) # 미분을 통해 기울기를 구한다.\n",
        "    y = f(x) - d*x # 기울기를 활용해서 y값을 구한다.\n",
        "    return lambda t: d*t + y # y값을 토대로 접선을 그린다.\n",
        "\n",
        "fig, axes = plt.subplots(1,2, figsize=(20,8))\n",
        "\n",
        "x = np.arange(0.0, 20.0, 0.1)\n",
        "y = function_1(x)\n",
        "axes[0].set_xlabel(\"x\")\n",
        "axes[0].set_ylabel(\"f(x)\")\n",
        "\n",
        "tf = tangent_line(function_1, 5)\n",
        "y2 = tf(x)\n",
        "\n",
        "axes[0].plot(x, y)\n",
        "axes[0].plot(x, y2)\n",
        "axes[0].set_title(\"x = 5\")\n",
        "\n",
        "axes[1].set_xlabel(\"x\")\n",
        "axes[1].set_ylabel(\"f(x)\")\n",
        "\n",
        "tf = tangent_line(function_1, 10)\n",
        "y2 = tf(x)\n",
        "\n",
        "axes[1].plot(x, y)\n",
        "axes[1].plot(x, y2)\n",
        "axes[1].set_title(\"x = 10\")\n",
        "plt.show()"
      ],
      "execution_count": null,
      "outputs": [
        {
          "output_type": "display_data",
          "data": {
            "image/png": "[encoded data removed]",
            "text/plain": [
              "<Figure size 1440x576 with 2 Axes>"
            ]
          },
          "metadata": {
            "tags": [],
            "needs_background": "light"
          }
        }
      ]
    },
    {
      "cell_type": "code",
      "metadata": {
        "id": "yKCZkM3_dtnb"
      },
      "source": [
        ""
      ],
      "execution_count": null,
      "outputs": []
    }
  ]
}