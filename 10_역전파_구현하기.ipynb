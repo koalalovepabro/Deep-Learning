{
  "nbformat": 4,
  "nbformat_minor": 0,
  "metadata": {
    "colab": {
      "name": "10. 역전파 구현하기",
      "provenance": [],
      "collapsed_sections": [],
      "include_colab_link": true
    },
    "kernelspec": {
      "name": "python3",
      "display_name": "Python 3"
    },
    "language_info": {
      "name": "python"
    }
  },
  "cells": [
    {
      "cell_type": "markdown",
      "metadata": {
        "id": "view-in-github",
        "colab_type": "text"
      },
      "source": [
        "<a href=\"https://colab.research.google.com/github/koalalovepabro/Deep-Learning/blob/main/10_%EC%97%AD%EC%A0%84%ED%8C%8C_%EA%B5%AC%ED%98%84%ED%95%98%EA%B8%B0.ipynb\" target=\"_parent\"><img src=\"https://colab.research.google.com/assets/colab-badge.svg\" alt=\"Open In Colab\"/></a>"
      ]
    },
    {
      "cell_type": "markdown",
      "metadata": {
        "id": "iCSbWKqCH7ic"
      },
      "source": [
        "# 계층( Layer )\n",
        "* 국소적 계산\n",
        "  * 내가 관심있는 연산만 신경을 쓰는 것\n",
        "  * **계층**별로 국소적 계산이 일어난다라고 생각하면 된다.\n",
        "  * 하나의 계층은 하나의 일만(국소적) 전문적으로 할 수 있어야 합니다.\n",
        "    * 예를 들어 ReLU 계층을 만들었으면, ReLU에 대한 순전파(forward), 역전파(backward)만 신경 쓰자\n",
        "\n",
        "## 레이어 구현의 주안점\n",
        "* 순전파와, 역전파를 어떻게 구현할지에 대한 계획\n",
        "  1. 논문을 보고 구축하는 경우\n",
        "    * 논문에 나와있는 순전파(with 역전파) 수식을 연구\n",
        "    * 수식을 효율적, 간편하게 짤 수 있는지에 대한 연구\n",
        "      * 석, 박사급은 이러한 수식을 연구하고, 만드는 것\n",
        "      * 우리는 이것들을 구현을 해야 한다.(컴퓨터 시스템에 맞게)\n",
        "  2. 스스로 비즈니스를 만들어서 하는 경우\n",
        "    * 비즈니스에 맞게 레이어를 짠다는 이야기는 비즈니스에 맞는 수식을 개발한다.\n",
        "      * 추가적으로 기존 레이어나 알고리즘들을 커스터마이징 하거나 조합하는 등의 범위도 포함\n",
        "    * 수식을 세우고 계속 테스트를 해봐야 한다.\n",
        "      * 수식이 컴퓨터에 효율적인지를 테스트 해본다. - Overflow, Underflow 등 컴퓨터에 맞는 수식을 세웠는지에 대한 검증이 필요"
      ]
    },
    {
      "cell_type": "markdown",
      "metadata": {
        "id": "n6xamHACIn9g"
      },
      "source": [
        "# 1. 곱셈 계층 구현하기\n",
        "입력이 `x, y`일 때\n",
        "* `forward`(순전파) : `x * y`\n",
        "* `backward`(역전파) : `dx = 미분값 * y`, `dy = 미분값 * x`\n",
        "* 비고 : forward할 때 들어왔던 값들을 저장하고 있어야 한다."
      ]
    },
    {
      "cell_type": "code",
      "metadata": {
        "id": "bq18fKJeLBfh"
      },
      "source": [
        "class MulLayer:\n",
        "  \n",
        "  # 딥러닝 레이어의 초기화(생성자에서)는 레이어에서 사용할 옵션이나 변수를 미리 준비\n",
        "  def __init__(self):\n",
        "    self.x = None\n",
        "    self.y = None\n",
        "  \n",
        "  # 곱셈레이어의 순전파에서 역전파에 필요한 변수를 저장.\n",
        "  def forward(self, x, y):\n",
        "    self.x = x\n",
        "    self.y = y\n",
        "\n",
        "    out = x * y\n",
        "    return out\n",
        "  \n",
        "  # forward 할때 저장해 놓았든 x, y를 각각 반대 방향으로 미분값과 곱해서 리턴\n",
        "  def backward(self, dout):\n",
        "    dx = dout * self.y\n",
        "    dy = dout * self.x\n",
        "\n",
        "    return dx, dy"
      ],
      "execution_count": null,
      "outputs": []
    },
    {
      "cell_type": "markdown",
      "metadata": {
        "id": "2jIwGVFEL5T7"
      },
      "source": [
        "곱셈 레이어 테스트 하기"
      ]
    },
    {
      "cell_type": "code",
      "metadata": {
        "colab": {
          "base_uri": "https://localhost:8080/"
        },
        "id": "rugC4XodMJYm",
        "outputId": "0b02e10e-4f56-4899-e5a8-4bd0e38d3363"
      },
      "source": [
        "# 순전파\n",
        "apple = 100   # 사과 1개당 가격\n",
        "apple_cnt = 2 # 사과 개수\n",
        "tax = 1.1     # 소비세\n",
        "\n",
        "# 계층은 2개\n",
        "# (apple * apple_cnt) * tax\n",
        "\n",
        "mul_apple_layer = MulLayer()\n",
        "mul_tax_layer   = MulLayer()\n",
        "\n",
        "# 순전파 수행\n",
        "# 순서가 굉장히 중요합니다!!!!!\n",
        "# 계획한 순서 그대로 레이어를 배치해서 연산을 해야 한다.\n",
        "# 순서가 맞지 않으면 역전파 할 때 문제가 된다.\n",
        "\n",
        "# 순전파 시에 A-B-C 순으로 계산을 했다면\n",
        "# 역전파 시에는 C-B-A 순으로 역전파가 되어야 한다.\n",
        "\n",
        "apple_price = mul_apple_layer.forward(apple, apple_cnt)\n",
        "price       = mul_tax_layer.forward(apple_price, tax)\n",
        "\n",
        "print(\"최종 사과의 가격 : {:.0f}\".format(price))"
      ],
      "execution_count": null,
      "outputs": [
        {
          "output_type": "stream",
          "text": [
            "최종 사과의 가격 : 220\n"
          ],
          "name": "stdout"
        }
      ]
    },
    {
      "cell_type": "code",
      "metadata": {
        "colab": {
          "base_uri": "https://localhost:8080/"
        },
        "id": "yvQXGP5yP-ci",
        "outputId": "beaf0610-d9c0-43f3-d4e4-adb23c962dca"
      },
      "source": [
        "# 역전파 수행하기\n",
        "# 제일 마지막 값에 대한 미분값 생각하기\n",
        "# d돈통 / d포스기 = 1\n",
        "dprice = 1\n",
        "dapple_price, dtax = mul_tax_layer.backward(dprice)\n",
        "dapple, dapple_cnt = mul_apple_layer.backward(dapple_price)\n",
        "\n",
        "print(\"사과 전체 가격(사과 1개 가격 * 사과 개수)의 미분값 : {}\".format(dapple_price))\n",
        "print(\"사과 1개 가격에 대한 미분값 : {}\".format(dapple))\n",
        "print(\"사과 개수에 대한 미분값 : {}\".format(dapple_cnt))\n",
        "print(\"소비세에 대한 미분값 : {}\".format(dtax))"
      ],
      "execution_count": null,
      "outputs": [
        {
          "output_type": "stream",
          "text": [
            "사과 전체 가격(사과 1개 가격 * 사과 개수)의 미분값 : 1.1\n",
            "사과 1개 가격에 대한 미분값 : 2.2\n",
            "사과 개수에 대한 미분값 : 110.00000000000001\n",
            "소비세에 대한 미분값 : 200\n"
          ],
          "name": "stdout"
        }
      ]
    },
    {
      "cell_type": "markdown",
      "metadata": {
        "id": "WxaVFDEuRfnH"
      },
      "source": [
        "# 2. 덧셈 계층 구현하기\n",
        "* `forward` : `x + y`\n",
        "* `backward` : 뒷층에서 보내진 미분값 * 1만 하면 된다.( `dout * 1` )\n",
        "* 비고 : 곱셈계층과는 다르게 `forward`시에 입력된 값을 가지고 있지 않아도 된다. 역전파 시에는 들어온 미분값만 리턴하면 되니까"
      ]
    },
    {
      "cell_type": "code",
      "metadata": {
        "id": "U7K2StPIScrm"
      },
      "source": [
        "class AddLayer:\n",
        "\n",
        "  def __init__(self):\n",
        "    # 할 거 없다.\n",
        "    pass\n",
        "  \n",
        "  def forward(self, x, y):\n",
        "    out = x + y\n",
        "    return out\n",
        "  \n",
        "  def backward(self, dout):\n",
        "    dx = dout * 1\n",
        "    dy = dout * 1\n",
        "\n",
        "    return dx, dy"
      ],
      "execution_count": null,
      "outputs": []
    },
    {
      "cell_type": "code",
      "metadata": {
        "id": "OPNke7GpTtHG"
      },
      "source": [
        "# 사과와 오렌지를 장을 볼게요\n",
        "apple = 100\n",
        "apple_cnt = 2\n",
        "\n",
        "orange = 150\n",
        "orange_cnt = 3\n",
        "\n",
        "tax = 1.1"
      ],
      "execution_count": null,
      "outputs": []
    },
    {
      "cell_type": "code",
      "metadata": {
        "id": "HCGylxaOUCHu"
      },
      "source": [
        "# 1 계층( 사과 1개 * 사과 가격, 오렌지1 * 오렌지 가격)\n",
        "mul_apple_layer = MulLayer()\n",
        "mul_orange_layer = MulLayer()\n",
        "\n",
        "# 2 계층 ( 사과 전체 가격 + 오렌지 전체 가격 )\n",
        "add_apple_orange = AddLayer()\n",
        "\n",
        "# 3 계층 ( 소비세 곱하기 )\n",
        "mul_tax_layer = MulLayer()"
      ],
      "execution_count": null,
      "outputs": []
    },
    {
      "cell_type": "code",
      "metadata": {
        "colab": {
          "base_uri": "https://localhost:8080/"
        },
        "id": "R6iYC0F3UvEh",
        "outputId": "19236d25-daa5-4767-e3b0-4fa5d5c2fae5"
      },
      "source": [
        "# 1 계층 연산\n",
        "apple_price = mul_apple_layer.forward(apple, apple_cnt)\n",
        "orange_price = mul_orange_layer.forward(orange, orange_cnt)\n",
        "\n",
        "# 2 계층 연산\n",
        "total_price = add_apple_orange.forward(apple_price, orange_price)\n",
        "\n",
        "# 3 계층 연산( 소비세 연산 )\n",
        "price = mul_tax_layer.forward(total_price, tax)\n",
        "\n",
        "print(\"최종 가격 : {}\".format(price))"
      ],
      "execution_count": null,
      "outputs": [
        {
          "output_type": "stream",
          "text": [
            "최종 가격 : 715.0000000000001\n"
          ],
          "name": "stdout"
        }
      ]
    },
    {
      "cell_type": "code",
      "metadata": {
        "id": "dYCozWEaVSPz"
      },
      "source": [
        "# 역전파\n",
        "dprice = 1 # d돈통 / d포스기\n",
        "\n",
        "# dprice / dtotal_price, dprice / tax -> ( d포스기 / d전체 가격), (d포스기 / d소비세)\n",
        "dtotal_price, dtax = mul_tax_layer.backward(dprice)\n",
        "\n",
        "# d돈통 / dapple_price = ( d돈통 / d포스기 ) * ( d포스기 / dtotal_price ) * ( dtotal_price / dapple_price )\n",
        "dapple_price, dorange_price = add_apple_orange.backward(dtotal_price)\n",
        "\n",
        "# 사과와 오렌지에 대한 각각의 미분값 구하기\n",
        "dapple, dapple_cnt = mul_apple_layer.backward(dapple_price)\n",
        "dorange, dorange_cnt = mul_orange_layer.backward(dorange_price)"
      ],
      "execution_count": null,
      "outputs": []
    },
    {
      "cell_type": "code",
      "metadata": {
        "colab": {
          "base_uri": "https://localhost:8080/"
        },
        "id": "uzgE0izhWn32",
        "outputId": "5e0e7539-37d9-4322-9648-4408f078f6b3"
      },
      "source": [
        "print(\"사과 개수에 대한 돈통의 미분값(d돈통/d사과개수) : {}\".format(dapple_cnt))\n",
        "print(\"사과 1개 가격에 대한 돈통의 미분값 (d돈통/d사과1개가격) : {}\".format(dapple))\n",
        "\n",
        "print(\"오렌지 개수에 대한 돈통의 미분값(d돈통/d오렌지개수) : {}\".format(dorange_cnt))\n",
        "print(\"오렌지 1개 가격에 대한 돈통의 미분값 (d돈통/d오렌지1개가격) : {}\".format(dorange))\n",
        "\n",
        "print(\"소비세에 대한 돈통의 미분값 (d돈통/d소비세) : {}\".format(dtax))"
      ],
      "execution_count": null,
      "outputs": [
        {
          "output_type": "stream",
          "text": [
            "사과 개수에 대한 돈통의 미분값(d돈통/d사과개수) : 110.00000000000001\n",
            "사과 1개 가격에 대한 돈통의 미분값 (d돈통/d사과1개가격) : 2.2\n",
            "오렌지 개수에 대한 돈통의 미분값(d돈통/d오렌지개수) : 165.0\n",
            "오렌지 1개 가격에 대한 돈통의 미분값 (d돈통/d오렌지1개가격) : 3.3000000000000003\n",
            "소비세에 대한 돈통의 미분값 (d돈통/d소비세) : 650\n"
          ],
          "name": "stdout"
        }
      ]
    },
    {
      "cell_type": "markdown",
      "metadata": {
        "id": "WlCxGaB2XggZ"
      },
      "source": [
        "# 신경망 레이어 만들기\n"
      ]
    }
  ]
}