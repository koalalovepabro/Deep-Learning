{
  "nbformat": 4,
  "nbformat_minor": 0,
  "metadata": {
    "colab": {
      "name": "10. 역전파 구현하기",
      "provenance": [],
      "collapsed_sections": [],
      "include_colab_link": true
    },
    "kernelspec": {
      "name": "python3",
      "display_name": "Python 3"
    },
    "language_info": {
      "name": "python"
    }
  },
  "cells": [
    {
      "cell_type": "markdown",
      "metadata": {
        "id": "view-in-github",
        "colab_type": "text"
      },
      "source": [
        "<a href=\"https://colab.research.google.com/github/koalalovepabro/Deep-Learning/blob/main/10_%EC%97%AD%EC%A0%84%ED%8C%8C_%EA%B5%AC%ED%98%84%ED%95%98%EA%B8%B0.ipynb\" target=\"_parent\"><img src=\"https://colab.research.google.com/assets/colab-badge.svg\" alt=\"Open In Colab\"/></a>"
      ]
    },
    {
      "cell_type": "markdown",
      "metadata": {
        "id": "iCSbWKqCH7ic"
      },
      "source": [
        "# 계층( Layer )\n",
        "* 국소적 계산\n",
        "  * 내가 관심있는 연산만 신경을 쓰는 것\n",
        "  * **계층**별로 국소적 계산이 일어난다라고 생각하면 된다.\n",
        "  * 하나의 계층은 하나의 일만(국소적) 전문적으로 할 수 있어야 합니다.\n",
        "    * 예를 들어 ReLU 계층을 만들었으면, ReLU에 대한 순전파(forward), 역전파(backward)만 신경 쓰자\n",
        "\n",
        "## 레이어 구현의 주안점\n",
        "* 순전파와, 역전파를 어떻게 구현할지에 대한 계획\n",
        "  1. 논문을 보고 구축하는 경우\n",
        "    * 논문에 나와있는 순전파(with 역전파) 수식을 연구\n",
        "    * 수식을 효율적, 간편하게 짤 수 있는지에 대한 연구\n",
        "      * 석, 박사급은 이러한 수식을 연구하고, 만드는 것\n",
        "      * 우리는 이것들을 구현을 해야 한다.(컴퓨터 시스템에 맞게)\n",
        "  2. 스스로 비즈니스를 만들어서 하는 경우\n",
        "    * 비즈니스에 맞게 레이어를 짠다는 이야기는 비즈니스에 맞는 수식을 개발한다.\n",
        "      * 추가적으로 기존 레이어나 알고리즘들을 커스터마이징 하거나 조합하는 등의 범위도 포함\n",
        "    * 수식을 세우고 계속 테스트를 해봐야 한다.\n",
        "      * 수식이 컴퓨터에 효율적인지를 테스트 해본다. - Overflow, Underflow 등 컴퓨터에 맞는 수식을 세웠는지에 대한 검증이 필요"
      ]
    },
    {
      "cell_type": "markdown",
      "metadata": {
        "id": "n6xamHACIn9g"
      },
      "source": [
        "# 1. 곱셈 계층 구현하기\n",
        "입력이 `x, y`일 때\n",
        "* `forward`(순전파) : `x * y`\n",
        "* `backward`(역전파) : `dx = 미분값 * y`, `dy = 미분값 * x`\n",
        "* 비고 : forward할 때 들어왔던 값들을 저장하고 있어야 한다."
      ]
    },
    {
      "cell_type": "code",
      "metadata": {
        "id": "bq18fKJeLBfh"
      },
      "source": [
        "class MulLayer:\n",
        "  \n",
        "  # 딥러닝 레이어의 초기화(생성자에서)는 레이어에서 사용할 옵션이나 변수를 미리 준비\n",
        "  def __init__(self):\n",
        "    self.x = None\n",
        "    self.y = None\n",
        "  \n",
        "  # 곱셈레이어의 순전파에서 역전파에 필요한 변수를 저장.\n",
        "  def forward(self, x, y):\n",
        "    self.x = x\n",
        "    self.y = y\n",
        "\n",
        "    out = x * y\n",
        "    return out\n",
        "  \n",
        "  # forward 할때 저장해 놓았든 x, y를 각각 반대 방향으로 미분값과 곱해서 리턴\n",
        "  def backward(self, dout):\n",
        "    dx = dout * self.y\n",
        "    dy = dout * self.x\n",
        "\n",
        "    return dx, dy"
      ],
      "execution_count": null,
      "outputs": []
    },
    {
      "cell_type": "markdown",
      "metadata": {
        "id": "2jIwGVFEL5T7"
      },
      "source": [
        "곱셈 레이어 테스트 하기"
      ]
    },
    {
      "cell_type": "code",
      "metadata": {
        "colab": {
          "base_uri": "https://localhost:8080/"
        },
        "id": "rugC4XodMJYm",
        "outputId": "7e21e031-7dba-43fb-ffd0-e9dc68b07a12"
      },
      "source": [
        "# 순전파\n",
        "apple = 100   # 사과 1개당 가격\n",
        "apple_cnt = 2 # 사과 개수\n",
        "tax = 1.1     # 소비세\n",
        "\n",
        "# 계층은 2개\n",
        "# (apple * apple_cnt) * tax\n",
        "\n",
        "mul_apple_layer = MulLayer()\n",
        "mul_tax_layer   = MulLayer()\n",
        "\n",
        "# 순전파 수행\n",
        "# 순서가 굉장히 중요합니다!!!!!\n",
        "# 계획한 순서 그대로 레이어를 배치해서 연산을 해야 한다.\n",
        "# 순서가 맞지 않으면 역전파 할 때 문제가 된다.\n",
        "\n",
        "# 순전파 시에 A-B-C 순으로 계산을 했다면\n",
        "# 역전파 시에는 C-B-A 순으로 역전파가 되어야 한다.\n",
        "\n",
        "apple_price = mul_apple_layer.forward(apple, apple_cnt)\n",
        "price       = mul_tax_layer.forward(apple_price, tax)\n",
        "\n",
        "print(\"최종 사과의 가격 : {:.0f}\".format(price))"
      ],
      "execution_count": null,
      "outputs": [
        {
          "output_type": "stream",
          "text": [
            "최종 사과의 가격 : 220\n"
          ],
          "name": "stdout"
        }
      ]
    },
    {
      "cell_type": "code",
      "metadata": {
        "colab": {
          "base_uri": "https://localhost:8080/"
        },
        "id": "yvQXGP5yP-ci",
        "outputId": "2181d98e-fdc8-40be-81a6-1c116c674d88"
      },
      "source": [
        "# 역전파 수행하기\n",
        "# 제일 마지막 값에 대한 미분값 생각하기\n",
        "# d돈통 / d포스기 = 1\n",
        "dprice = 1\n",
        "dapple_price, dtax = mul_tax_layer.backward(dprice)\n",
        "dapple, dapple_cnt = mul_apple_layer.backward(dapple_price)\n",
        "\n",
        "print(\"사과 전체 가격(사과 1개 가격 * 사과 개수)의 미분값 : {}\".format(dapple_price))\n",
        "print(\"사과 1개 가격에 대한 미분값 : {}\".format(dapple))\n",
        "print(\"사과 개수에 대한 미분값 : {}\".format(dapple_cnt))\n",
        "print(\"소비세에 대한 미분값 : {}\".format(dtax))"
      ],
      "execution_count": null,
      "outputs": [
        {
          "output_type": "stream",
          "text": [
            "사과 전체 가격(사과 1개 가격 * 사과 개수)의 미분값 : 1.1\n",
            "사과 1개 가격에 대한 미분값 : 2.2\n",
            "사과 개수에 대한 미분값 : 110.00000000000001\n",
            "소비세에 대한 미분값 : 200\n"
          ],
          "name": "stdout"
        }
      ]
    },
    {
      "cell_type": "markdown",
      "metadata": {
        "id": "WxaVFDEuRfnH"
      },
      "source": [
        "# 2. 덧셈 계층 구현하기\n",
        "* `forward` : `x + y`\n",
        "* `backward` : 뒷층에서 보내진 미분값 * 1만 하면 된다.( `dout * 1` )\n",
        "* 비고 : 곱셈계층과는 다르게 `forward`시에 입력된 값을 가지고 있지 않아도 된다. 역전파 시에는 들어온 미분값만 리턴하면 되니까"
      ]
    },
    {
      "cell_type": "code",
      "metadata": {
        "id": "U7K2StPIScrm"
      },
      "source": [
        "class AddLayer:\n",
        "\n",
        "  def __init__(self):\n",
        "    # 할 거 없다.\n",
        "    pass\n",
        "  \n",
        "  def forward(self, x, y):\n",
        "    out = x + y\n",
        "    return out\n",
        "  \n",
        "  def backward(self, dout):\n",
        "    dx = dout * 1\n",
        "    dy = dout * 1\n",
        "\n",
        "    return dx, dy"
      ],
      "execution_count": null,
      "outputs": []
    },
    {
      "cell_type": "code",
      "metadata": {
        "id": "OPNke7GpTtHG"
      },
      "source": [
        "# 사과와 오렌지를 장을 볼게요\n",
        "apple = 100\n",
        "apple_cnt = 2\n",
        "\n",
        "orange = 150\n",
        "orange_cnt = 3\n",
        "\n",
        "tax = 1.1"
      ],
      "execution_count": null,
      "outputs": []
    },
    {
      "cell_type": "code",
      "metadata": {
        "id": "HCGylxaOUCHu"
      },
      "source": [
        "# 1 계층( 사과 1개 * 사과 가격, 오렌지1 * 오렌지 가격)\n",
        "mul_apple_layer = MulLayer()\n",
        "mul_orange_layer = MulLayer()\n",
        "\n",
        "# 2 계층 ( 사과 전체 가격 + 오렌지 전체 가격 )\n",
        "add_apple_orange = AddLayer()\n",
        "\n",
        "# 3 계층 ( 소비세 곱하기 )\n",
        "mul_tax_layer = MulLayer()"
      ],
      "execution_count": null,
      "outputs": []
    },
    {
      "cell_type": "code",
      "metadata": {
        "colab": {
          "base_uri": "https://localhost:8080/"
        },
        "id": "R6iYC0F3UvEh",
        "outputId": "5fbb9ec9-dd66-442a-8918-f9fdce31ef5b"
      },
      "source": [
        "# 1 계층 연산\n",
        "apple_price = mul_apple_layer.forward(apple, apple_cnt)\n",
        "orange_price = mul_orange_layer.forward(orange, orange_cnt)\n",
        "\n",
        "# 2 계층 연산\n",
        "total_price = add_apple_orange.forward(apple_price, orange_price)\n",
        "\n",
        "# 3 계층 연산( 소비세 연산 )\n",
        "price = mul_tax_layer.forward(total_price, tax)\n",
        "\n",
        "print(\"최종 가격 : {}\".format(price))"
      ],
      "execution_count": null,
      "outputs": [
        {
          "output_type": "stream",
          "text": [
            "최종 가격 : 715.0000000000001\n"
          ],
          "name": "stdout"
        }
      ]
    },
    {
      "cell_type": "code",
      "metadata": {
        "id": "dYCozWEaVSPz"
      },
      "source": [
        "# 역전파\n",
        "dprice = 1 # d돈통 / d포스기\n",
        "\n",
        "# dprice / dtotal_price, dprice / tax -> ( d포스기 / d전체 가격), (d포스기 / d소비세)\n",
        "dtotal_price, dtax = mul_tax_layer.backward(dprice)\n",
        "\n",
        "# d돈통 / dapple_price = ( d돈통 / d포스기 ) * ( d포스기 / dtotal_price ) * ( dtotal_price / dapple_price )\n",
        "dapple_price, dorange_price = add_apple_orange.backward(dtotal_price)\n",
        "\n",
        "# 사과와 오렌지에 대한 각각의 미분값 구하기\n",
        "dapple, dapple_cnt = mul_apple_layer.backward(dapple_price)\n",
        "dorange, dorange_cnt = mul_orange_layer.backward(dorange_price)"
      ],
      "execution_count": null,
      "outputs": []
    },
    {
      "cell_type": "code",
      "metadata": {
        "colab": {
          "base_uri": "https://localhost:8080/"
        },
        "id": "uzgE0izhWn32",
        "outputId": "a63bf1b5-0159-45a7-8b23-f85bd0e3754e"
      },
      "source": [
        "print(\"사과 개수에 대한 돈통의 미분값(d돈통/d사과개수) : {}\".format(dapple_cnt))\n",
        "print(\"사과 1개 가격에 대한 돈통의 미분값 (d돈통/d사과1개가격) : {}\".format(dapple))\n",
        "\n",
        "print(\"오렌지 개수에 대한 돈통의 미분값(d돈통/d오렌지개수) : {}\".format(dorange_cnt))\n",
        "print(\"오렌지 1개 가격에 대한 돈통의 미분값 (d돈통/d오렌지1개가격) : {}\".format(dorange))\n",
        "\n",
        "print(\"소비세에 대한 돈통의 미분값 (d돈통/d소비세) : {}\".format(dtax))"
      ],
      "execution_count": null,
      "outputs": [
        {
          "output_type": "stream",
          "text": [
            "사과 개수에 대한 돈통의 미분값(d돈통/d사과개수) : 110.00000000000001\n",
            "사과 1개 가격에 대한 돈통의 미분값 (d돈통/d사과1개가격) : 2.2\n",
            "오렌지 개수에 대한 돈통의 미분값(d돈통/d오렌지개수) : 165.0\n",
            "오렌지 1개 가격에 대한 돈통의 미분값 (d돈통/d오렌지1개가격) : 3.3000000000000003\n",
            "소비세에 대한 돈통의 미분값 (d돈통/d소비세) : 650\n"
          ],
          "name": "stdout"
        }
      ]
    },
    {
      "cell_type": "markdown",
      "metadata": {
        "id": "WlCxGaB2XggZ"
      },
      "source": [
        "# 신경망 레이어 만들기\n",
        "* ReLU 레이어\n",
        "* Sigmoid 레이어\n",
        "* Affine 레이어\n",
        "  * 행렬 내적 연산\n",
        "  * Affine 변환 : 기하학에서 행렬 내적에 의해 모양이 바뀌는 변환\n",
        "  * Dense(밀집) 또는 Fully Connected Layer(FCL, 완전 연결 계층)\n",
        "* Softmax + Loss 레이어"
      ]
    },
    {
      "cell_type": "markdown",
      "metadata": {
        "id": "5ohzu4Ew6WtQ"
      },
      "source": [
        "## ReLU 구현\n",
        "* `forward` : 입력값이 0보다 작으면 0으로, 0보다 크면 입력값을 그대로 출력함\n",
        "* `backward` : `forward`시에 0보다 작았으면 해당 위치(인덱스) 값을 0으로 설정( 미분값 0을 곱하니까), 0보다 컸으면 변화율(미분값)이 1이기 때문에 미분값을 그대로 유지( 곱하기 1 )\n",
        "* 비고 : 레이어에서 가지고 있어야 할 값 : forward 시에 어떠한 인덱스의 값이 음수였는지를 저장"
      ]
    },
    {
      "cell_type": "code",
      "metadata": {
        "id": "y64d2tP39JbE"
      },
      "source": [
        "class ReLU:\n",
        "  def __init__(self):\n",
        "    # mask : 순전파 시에 음수였던 인덱스를 저장하기 위함( 음수 : True, 양수 : False )\n",
        "    self.mask = None\n",
        "  \n",
        "  def forward(self, x):\n",
        "    self.mask = (x <= 0) # 음수면 True, 양수면 False\n",
        "    \n",
        "    out = x.copy() # 원본 배열 복사(백업)\n",
        "    out[self.mask] = 0 # 음수인 부분을 0으로 만들어 준다.\n",
        "\n",
        "    return out\n",
        "  \n",
        "  def backward(self, dout):\n",
        "    # 순전파 때 음수였던 위치를 0으로 만들었다.\n",
        "    # 음수였었던 인덱스를 기억하고 있다가(self.mask) 미분값 전달시에 해당 인덱스를 0으로 만든다.\n",
        "    dout[self.mask] = 0\n",
        "    dx = dout \n",
        "\n",
        "    return dx"
      ],
      "execution_count": null,
      "outputs": []
    },
    {
      "cell_type": "code",
      "metadata": {
        "colab": {
          "base_uri": "https://localhost:8080/"
        },
        "id": "uK3ILP0F_k-l",
        "outputId": "a33a22b8-9aab-4aaa-b8f7-e9892af1edc4"
      },
      "source": [
        "import numpy as np\n",
        "\n",
        "x = np.array([[1.0, -0.5],\n",
        "              [-2.0, 3.0]])\n",
        "\n",
        "print(x)"
      ],
      "execution_count": null,
      "outputs": [
        {
          "output_type": "stream",
          "text": [
            "[[ 1.  -0.5]\n",
            " [-2.   3. ]]\n"
          ],
          "name": "stdout"
        }
      ]
    },
    {
      "cell_type": "code",
      "metadata": {
        "colab": {
          "base_uri": "https://localhost:8080/"
        },
        "id": "jze7PZiQ_4lP",
        "outputId": "717ce8be-d63e-4574-e144-1af8bb516f60"
      },
      "source": [
        "relu = ReLU()\n",
        "relu.forward(x)"
      ],
      "execution_count": null,
      "outputs": [
        {
          "output_type": "execute_result",
          "data": {
            "text/plain": [
              "array([[1., 0.],\n",
              "       [0., 3.]])"
            ]
          },
          "metadata": {
            "tags": []
          },
          "execution_count": 21
        }
      ]
    },
    {
      "cell_type": "code",
      "metadata": {
        "colab": {
          "base_uri": "https://localhost:8080/"
        },
        "id": "Url2OCoaAB-f",
        "outputId": "f2741a7a-b264-441a-c697-dd48213df1e8"
      },
      "source": [
        "relu.mask"
      ],
      "execution_count": null,
      "outputs": [
        {
          "output_type": "execute_result",
          "data": {
            "text/plain": [
              "array([[False,  True],\n",
              "       [ True, False]])"
            ]
          },
          "metadata": {
            "tags": []
          },
          "execution_count": 22
        }
      ]
    },
    {
      "cell_type": "code",
      "metadata": {
        "colab": {
          "base_uri": "https://localhost:8080/"
        },
        "id": "uQ84txwkAHZA",
        "outputId": "f41c0c86-0913-48d8-c42d-890967a2e053"
      },
      "source": [
        "dx = np.array([[-0.1, 3.0],\n",
        "               [1.3, -1.8]])\n",
        "\n",
        "relu.backward(dx)"
      ],
      "execution_count": null,
      "outputs": [
        {
          "output_type": "execute_result",
          "data": {
            "text/plain": [
              "array([[-0.1,  0. ],\n",
              "       [ 0. , -1.8]])"
            ]
          },
          "metadata": {
            "tags": []
          },
          "execution_count": 23
        }
      ]
    },
    {
      "cell_type": "markdown",
      "metadata": {
        "id": "hZT_ofRLAXyC"
      },
      "source": [
        "## 시그모이드 구현\n",
        "$$\n",
        "\\sigma(x) = \\frac{1}{1+e^{-x}}\n",
        "$$\n",
        "$$\n",
        "y = \\sigma(x)\n",
        "$$\n",
        "$$\n",
        "\\frac{\\partial y}{\\partial x} = y(1-y)\n",
        "$$\n",
        "\n",
        "* 시그모이드 레이어에서 순전파 때 기억하고 있어야 할 값 : $y$값만 알고 있으면 된다."
      ]
    },
    {
      "cell_type": "code",
      "metadata": {
        "id": "yZ4el5kpBEbu"
      },
      "source": [
        "class Sigmoid:\n",
        "\n",
        "  def __init__(self):\n",
        "    # y를 out이라고 하자\n",
        "    self.out = None\n",
        "  \n",
        "  def forward(self, x):\n",
        "    out = 1 / ( 1 + np.exp(-x) )\n",
        "    self.out = out # 시그모이드 결과 저장\n",
        "\n",
        "    return out\n",
        "\n",
        "  def backward(self, dout):\n",
        "    dx = dout * self.out * (1 - self.out) # 미분값 dout을 곱하는 이유? 합성함수 미분 공식을 생각해 보세요\n",
        "    return dx"
      ],
      "execution_count": null,
      "outputs": []
    },
    {
      "cell_type": "markdown",
      "metadata": {
        "id": "ZC7gBAt_CO4W"
      },
      "source": [
        "## Affine 계층\n",
        "* `forward` \n",
        "  1. 입력값 `x`와 가중치 `W`의 내적 + `b`\n",
        "  2. 평탄화\n",
        "    * 1차원 배열로 데이터가 들어왔을 경우 대응\n",
        "    * 다차원 배열( 텐서 )에 대한 대응\n",
        "    * 원본 데이터의 형상을 저장\n",
        "* `backward`\n",
        "  1. 미분값과 가중치의 전치행렬 내적 ( 입력값에 대한 미분값 )\n",
        "  2. 입력값의 전치행렬과 미분값 내적 ( 가중치에 대한 미분값 )\n",
        "  3. 배치 만큼의 편향 합 구하기\n",
        "  4. 미분값의 형상을 원본 x의 형상으로 다시 바꿔주기\n",
        "\n",
        "forward에 의해서 형상(shape)의 변환이 일어나기 때문에, backward 할 때 원본 모양으로 되돌려 준다. 예를 들어\n",
        "\n",
        "`(100, 28, 28)`가 들어왔을 때, 평탄화에 의해 `(100, 784)`가 된다. 모양이 바뀌었기 때문에 다차원 배열에도 모두 대응하기 위해 원본 형상인 `(100, 28, 28)`을 저장해 놨다가 역전파 할 때 저장했던 원본 모양으로 미분값 배열의 형상을 되돌려 준다.\n",
        "\n",
        "저장해야할 값\n",
        "* 가중치, 편향\n",
        "* 입력값 `x`\n",
        "* 원본 x의 형상(shape) \n",
        "* 미분값도 저장해야 한다.\n",
        "  * 미분값을 알고 있어야 나중에 최적화(Optimization)를 할 수 있다.\n",
        "  * 경사하강법을 진행해야 하기 때문"
      ]
    },
    {
      "cell_type": "code",
      "metadata": {
        "id": "LBRLJXmCCT6n"
      },
      "source": [
        "class Affine:\n",
        "  def __init__(self, W, b):\n",
        "    # 1. 가중치, 편향, 입력값 x\n",
        "    self.W = W\n",
        "    self.b = b\n",
        "\n",
        "    self.x = None\n",
        "\n",
        "    # x에 대한 역전파를 수행할 때 모양이 바뀌 버린 x의 형상을 원래대로 돌려 놓기 위해 원본 x의 형상을 저장할 변수\n",
        "    # x의 미분값의 형상은 x와 똑같아야 한다.\n",
        "    # 원본 x가(100, 784) -> x의 미분값도(100, 784)\n",
        "    self.original_x_shape = None\n",
        "\n",
        "    # 최적화(Optimization)를 이해 각 매개변수의 미분값을 가지고 있어야 한다.\n",
        "    # 추후에 경사하강법 등을 구현하기 위해 사용\n",
        "    # dW, db를 사용해서 W와 b를 갱신(update)하는 것이 << 학습 >>\n",
        "    self.dW = None\n",
        "    self.db = None\n",
        "\n",
        "  def forward(self, x):\n",
        "    # 텐서 대응 ( 배치마다의 데이터 개수를 따로따로 평평하게 줄을 세운다. )\n",
        "    #  ex) (3, 2, 2) -> 3개의 데이터가 (2,2) 모양으로 들어있는 모양세(N, x1, x2) -> (3, 4) -> 역전파 할 때 (3, 2, 2)\n",
        "    #  ex) (3, 2, 2, 2) -> 평탄화 -> (3, 8) -> 역전파 -> (3, 2, 2, 2)\n",
        "    self.original_x_shape = x.shape\n",
        "\n",
        "    # 평탄화 진행\n",
        "    DATA_SIZE = x.shape[0] # 배치 사이즈 가져오기\n",
        "    x = x.reshape(DATA_SIZE, -1)\n",
        "\n",
        "    self.x = x # 역전파 때 가중치에 곱하기 위해 저장\n",
        "\n",
        "    out = np.dot(self.x, self.W) + self.b\n",
        "    return out\n",
        "\n",
        "  def backward(self, dout):\n",
        "    dx = np.dot(dout, self.W.T)\n",
        "\n",
        "    self.dW = np.dot(self.x.T, dout)\n",
        "    self.db = np.sum(dout, axis=0)\n",
        "\n",
        "    # 미분값(dx)을 입력값 x의 형상으로 다시 바꿔주기\n",
        "    dx = dx.reshape(*self.original_x_shape) # (12, 3) -> *(12, 3) -> 12, 3으로 언패킹 된다. *을 붙이면 튜플이 순서대로 언패킹 된다.\n",
        "    return dx\n"
      ],
      "execution_count": null,
      "outputs": []
    },
    {
      "cell_type": "markdown",
      "metadata": {
        "id": "Izj8gR7OU9vk"
      },
      "source": [
        "## SoftmaxWithLoss 계층(출력층)\n",
        "* softmax에 의한 분류 및 CEE를 활용한 손실함수를 동시에 구현\n",
        "* 순전파 시에는 softmax를 적용하고, loss를 적용\n",
        "  * 정답 레이블(t)\n",
        "  * 예측 레이블( 소프트맥스 결과물 )\n",
        "  * loss값 ( 결과 기록을 위해 )\n",
        "* 역전파 시에는 오차($y-t$)를 구해서 이전층에 전달해 주면 된다."
      ]
    },
    {
      "cell_type": "code",
      "metadata": {
        "id": "R-WWdJDoO8XS"
      },
      "source": [
        "def softmax(x):\n",
        "    if x.ndim == 2:\n",
        "        x = x.T\n",
        "        x = x - np.max(x, axis=0)\n",
        "        y = np.exp(x) / np.sum(np.exp(x), axis=0)\n",
        "        return y.T \n",
        "\n",
        "    x = x - np.max(x) # 오버플로 대책\n",
        "    return np.exp(x) / np.sum(np.exp(x))\n",
        "\n",
        "\n",
        "def cross_entropy_error(y, t):\n",
        "    if y.ndim == 1:\n",
        "        t = t.reshape(1, t.size)\n",
        "        y = y.reshape(1, y.size)\n",
        "        \n",
        "    # 훈련 데이터가 원-핫 벡터라면 정답 레이블의 인덱스로 반환\n",
        "    if t.size == y.size:\n",
        "        t = t.argmax(axis=1)\n",
        "             \n",
        "    batch_size = y.shape[0]\n",
        "    return -np.sum(np.log(y[np.arange(batch_size), t] + 1e-7)) / batch_size"
      ],
      "execution_count": null,
      "outputs": []
    },
    {
      "cell_type": "code",
      "metadata": {
        "id": "Xj77dSQLUzDk"
      },
      "source": [
        "class SoftmaxWithLoss:\n",
        "  def __init__(self):\n",
        "    self.loss = None # 손실값(시각화 할 때 쓴다.)\n",
        "    self.y    = None # 예측값\n",
        "    self.t    = None # 정답 레이블\n",
        "  \n",
        "  def forward(self, x, t):\n",
        "    self.t = t\n",
        "    self.y = softmax(x)\n",
        "    self.loss = cross_entropy_error(self.y, self.t)\n",
        "\n",
        "    return self.loss\n",
        "  \n",
        "  def backward(self, dout=1): # dout이 1인 이유 : d돈통 / d포스기\n",
        "    # 배치 고려하기\n",
        "    batch_size = self.t.shape[0]\n",
        "\n",
        "    # t가 원-핫 인코딩이 되어있는지, 안되어 있는지 고려\n",
        "    if self.t.size == self.y.size: # 출력층의 원소 개수를 비교하는 것은 원-핫 인코딩이 되어있는 t\n",
        "      dx = (self.y - self.t) / batch_size # 배치의 오차 평균\n",
        "    else: # t가 원-핫 인코딩이 되어있지 않은 경우\n",
        "      dx = self.y.copy()\n",
        "\n",
        "      # 원-핫 인코딩이 되어있지 않은 t는 정답레이블의 인덱스로 생각할 수 있다.\n",
        "      # y = [0.2, 0.1, 0.7], t = 2\n",
        "      # dx[np.arange(batch_size), self.t] -> dx[0, 2] -> 0.7 -> 0.7 - 1를 구하겠다는 이야기 이다. -> -0.3의 오차가 있다.\n",
        "      dx[np.arange(batch_size), self.t] -= 1\n",
        "      dx = dx / batch_size\n",
        "    \n",
        "    return dx"
      ],
      "execution_count": null,
      "outputs": []
    },
    {
      "cell_type": "markdown",
      "metadata": {
        "id": "QwXUgKsVXivN"
      },
      "source": [
        "# 네트워크 생성 및 조립\n",
        "* 레이어마다 이름을 붙여주고, 레이어의 추가 순서를 **항상 유지**\n",
        "* 원래는 딕셔너리를 활용했었죠(`parmas`). 그런데 일반 딕셔너리는 데이터 추가 순서를 유지하지 않죠\n",
        "* 키값(레이어 이름)도 활용하면서 동시에 레이어 추가 순서도 유지할 수 있는 `OrderedDict`를 활용할거에요"
      ]
    },
    {
      "cell_type": "code",
      "metadata": {
        "colab": {
          "base_uri": "https://localhost:8080/"
        },
        "id": "DhGirQ1qZZLU",
        "outputId": "cb0db3d3-3dcc-42a0-c4e0-1a349781383c"
      },
      "source": [
        "%cd /content/drive/MyDrive/클라우드2차/딥러닝/참고자료"
      ],
      "execution_count": null,
      "outputs": [
        {
          "output_type": "stream",
          "text": [
            "/content/drive/MyDrive/클라우드2차/딥러닝/참고자료\n"
          ],
          "name": "stdout"
        }
      ]
    },
    {
      "cell_type": "code",
      "metadata": {
        "id": "IwAO7_fFZmIu"
      },
      "source": [
        "from common.functions import softmax, cross_entropy_error\n",
        "from common.gradient import numerical_gradient # 수치미분을 활용한 기울기 배열을 구하는 함수( 예전에 이 방식으로 했다가 너무 느려서 GG )\n",
        "from collections import OrderedDict"
      ],
      "execution_count": null,
      "outputs": []
    },
    {
      "cell_type": "code",
      "metadata": {
        "id": "fDwbXbBdaNea"
      },
      "source": [
        "class TwoLayerNet:\n",
        "\n",
        "  def __init__(self, input_size, hidden_size, output_size, weight_init_std=0.01):\n",
        "    # 매개변수 초기화\n",
        "    self.params = {}\n",
        "\n",
        "    # 1층 은닉층을 위한 매개변수\n",
        "    self.params[\"W1\"] = weight_init_std * np.random.randn(input_size, hidden_size)\n",
        "    self.params[\"b1\"] = np.zeros(hidden_size)\n",
        "\n",
        "    # 2층 출력층\n",
        "    self.params[\"W2\"] = weight_init_std * np.random.randn(hidden_size, output_size)\n",
        "    self.params[\"b2\"] = np.zeros(output_size)\n",
        "\n",
        "    # 레이어 만들기\n",
        "    # 추가되는 레이어의 순서가 바뀌면 안되기 때문에 OrderedDict를 활용\n",
        "    self.layers = OrderedDict()\n",
        "\n",
        "    # Affine 1층 (은닉 레이어 - Fully Connected )\n",
        "    self.layers[\"Affine1\"] = Affine(self.params[\"W1\"], self.params[\"b1\"])\n",
        "    self.layers[\"ReLU\"] = ReLU()\n",
        "\n",
        "    # Affine 2층 (출력 레이어)\n",
        "    self.layers[\"Affine2\"] = Affine(self.params[\"W2\"], self.params[\"b2\"])\n",
        "\n",
        "    # 항상 마지막은 SoftmaxWithLoss가 되어야 한다. \n",
        "    self.lastLayer = SoftmaxWithLoss()\n",
        "\n",
        "  \n",
        "  def predict(self, x):\n",
        "    # 순전파\n",
        "    # self.layers에 들어있는 모든 레이어를 순서대로 꺼내서 forward 시키면 된다.\n",
        "\n",
        "    for layer in self.layers.values():\n",
        "      x = layer.forward(x)\n",
        "\n",
        "    # softmax는 단조함수니까 딱히 지금은 필요 없을듯..?    \n",
        "    return x\n",
        "\n",
        "  \n",
        "  def loss(self, x, t):\n",
        "    # predict를 하고, predict에 대한 loss를 구하면 된다.\n",
        "    y = self.predict(x)\n",
        "\n",
        "    return self.lastLayer.forward(y, t)\n",
        "  \n",
        "  def accuracy(self, x, t):\n",
        "    # 예측을 하고, 정답이랑 얼마나 틀렸는지를 계산\n",
        "    # 단, t가 원-핫 인코딩이 되어있는지, 안되어있는지가 중요!\n",
        "    y = self.predict(x)\n",
        "    y = np.argmax(y, axis=1) # 제일 큰 값 하나만 뽑자.( 제일 확률이 높은 곳에 위치한 인덱스를 갖는다. )\n",
        "\n",
        "    # 원-핫 인코딩 처리\n",
        "    # t.ndim != 1 --> t가 원핫 인코딩이 되어있는 상태라면\n",
        "    # t에서 제일 높은 인덱스를 찾겠다.\n",
        "    if t.ndim != 1 : t = np.argmax(t, axis=1)\n",
        "\n",
        "    accuracy = np.sum(y == t) / float(x.shape[0])\n",
        "\n",
        "    return accuracy\n",
        "  \n",
        "  # 역전파를 활용한 기울기 배열 구하기\n",
        "  def gradient(self, x, t):\n",
        "    # 역전파를 하기 위해 필요한 것\n",
        "    #  1. 오차를 먼저 구해야 한다.\n",
        "    #   오차를 구하려면? 예측(predict)을 해서 loss를 계산해야 오차를 구할 수 있다.\n",
        "    self.loss(x, t)\n",
        "\n",
        "    # 역전파\n",
        "    dout = 1 # dL/dL --> d돈통 / d포스기\n",
        "\n",
        "    # SoftmaxWithLoss의 오차에 대한 미분값을 구해오자\n",
        "    dout = self.lastLayer.backward(dout) # 순수한 오차가 나온다 (y - t)\n",
        "\n",
        "    layers = list(self.layers.values()) # 레이어를 모두 가지고 와서\n",
        "    layers.reverse() # 순서 뒤집기\n",
        "\n",
        "    # 순서가 뒤집어진 레이어를 하나씩 꺼내서\n",
        "    for layer in layers:\n",
        "      dout = layer.backward(dout)\n",
        "    \n",
        "    # 구해진 미분값(기울기)을 저장\n",
        "    grads = {}\n",
        "    grads[\"W1\"], grads[\"b1\"] = self.layers[\"Affine1\"].dW, self.layers[\"Affine1\"].db\n",
        "    grads[\"W2\"], grads[\"b2\"] = self.layers[\"Affine2\"].dW, self.layers[\"Affine2\"].db\n",
        "\n",
        "    return grads\n",
        "\n",
        "\n",
        "  # 구식. 수치미분을 활용해서 기울기를 구하기( 사용하지 않습니다. 왜? 느리니까... )\n",
        "  def numerical_gradient_params(self, x, t):\n",
        "    loss_W = lambda W: self.loss(x, t)\n",
        "        \n",
        "    grads = {}\n",
        "    grads['W1'] = numerical_gradient(loss_W, self.params['W1'])\n",
        "    grads['b1'] = numerical_gradient(loss_W, self.params['b1'])\n",
        "    grads['W2'] = numerical_gradient(loss_W, self.params['W2'])\n",
        "    grads['b2'] = numerical_gradient(loss_W, self.params['b2'])\n",
        "        \n",
        "    return grads\n",
        "\n"
      ],
      "execution_count": null,
      "outputs": []
    },
    {
      "cell_type": "markdown",
      "metadata": {
        "id": "KS805NuJdZz1"
      },
      "source": [
        "수치 미분과 오차역전파를 했을 때의 기울기 비교"
      ]
    },
    {
      "cell_type": "code",
      "metadata": {
        "colab": {
          "base_uri": "https://localhost:8080/"
        },
        "id": "5KhSqhm0wAHV",
        "outputId": "fb2346f4-3788-4113-c01e-5f09736c1284"
      },
      "source": [
        "from tensorflow.keras import datasets\n",
        "mnist = datasets.mnist\n",
        "\n",
        "(X_train, y_train), (X_test, y_test) = mnist.load_data()\n",
        "\n",
        "from sklearn.preprocessing import OneHotEncoder\n",
        "\n",
        "y_train_dummy = OneHotEncoder().fit_transform(y_train.reshape(-1, 1))\n",
        "y_train_dummy = y_train_dummy.toarray()\n",
        "\n",
        "y_test_dummy = OneHotEncoder().fit_transform(y_test.reshape(-1, 1))\n",
        "y_test_dummy = y_test_dummy.toarray()\n",
        "\n",
        "# feature 전처리\n",
        "X_train = X_train.reshape(X_train.shape[0], -1)\n",
        "X_train = X_train / 255.0 # 이미지 정규화 기법. 255.0 으로 나눠주면 모든 픽셀 데이터가 0 ~ 1사이의 값을 갖게 되고, 훈련이 쉽게 된다.\n",
        "\n",
        "X_test = X_test.reshape(X_test.shape[0], -1)\n",
        "X_test = X_test / 255.0\n",
        "\n",
        "X_train.shape, X_test.shape"
      ],
      "execution_count": null,
      "outputs": [
        {
          "output_type": "execute_result",
          "data": {
            "text/plain": [
              "((60000, 784), (10000, 784))"
            ]
          },
          "metadata": {
            "tags": []
          },
          "execution_count": 42
        }
      ]
    },
    {
      "cell_type": "code",
      "metadata": {
        "colab": {
          "base_uri": "https://localhost:8080/"
        },
        "id": "GeaiwcQmwAUX",
        "outputId": "56f7a70b-7889-4400-b94a-381947521354"
      },
      "source": [
        "y_train_dummy.shape, y_test_dummy.shape"
      ],
      "execution_count": null,
      "outputs": [
        {
          "output_type": "execute_result",
          "data": {
            "text/plain": [
              "((60000, 10), (10000, 10))"
            ]
          },
          "metadata": {
            "tags": []
          },
          "execution_count": 43
        }
      ]
    },
    {
      "cell_type": "code",
      "metadata": {
        "colab": {
          "base_uri": "https://localhost:8080/"
        },
        "id": "PABesLLvwIvG",
        "outputId": "aef218b0-7b0f-46c1-9e29-73703f74a1bb"
      },
      "source": [
        "network = TwoLayerNet(input_size=28*28, hidden_size=50, output_size=10)\n",
        "\n",
        "X_batch = X_train[:3]\n",
        "t_batch = y_train[:3]\n",
        "\n",
        "# 수치미분을 활용한 기울기 배열\n",
        "grad_numerical = network.numerical_gradient_params(X_batch, t_batch)\n",
        "\n",
        "# 역전파를 활용한 기울기 배열\n",
        "grad_backprop = network.gradient(X_batch, t_batch)\n",
        "\n",
        "# 각각 매개변수 별로 차를 구하고 절댓값의 평균\n",
        "for key in grad_numerical.keys():\n",
        "  diff = np.average(np.abs(grad_backprop[key] - grad_numerical[key]))\n",
        "  print(\"key : {}, diff : {}\".format(key, diff))"
      ],
      "execution_count": null,
      "outputs": [
        {
          "output_type": "stream",
          "text": [
            "key : W1, diff : 3.036620525244563e-10\n",
            "key : b1, diff : 1.5828093449858595e-09\n",
            "key : W2, diff : 4.129314652015666e-09\n",
            "key : b2, diff : 1.3995868220345596e-07\n"
          ],
          "name": "stdout"
        }
      ]
    },
    {
      "cell_type": "markdown",
      "metadata": {
        "id": "K6ZnSjuvw7U-"
      },
      "source": [
        "# MNIST로 최종 테스트 하기"
      ]
    },
    {
      "cell_type": "code",
      "metadata": {
        "colab": {
          "base_uri": "https://localhost:8080/"
        },
        "id": "aZ5hz9FtxzU8",
        "outputId": "1ea2866d-7c49-43bb-baab-e2d3829f4763"
      },
      "source": [
        "network = TwoLayerNet(input_size = 28*28, hidden_size=50, output_size=10)\n",
        "\n",
        "# 하이퍼 파라미터 정의\n",
        "iter_num = 10000 # 학습 반복 횟수\n",
        "\n",
        "# 미니 배치 설정\n",
        "train_size = X_train.shape[0]\n",
        "batch_size = 100\n",
        "\n",
        "# 훈련용 하이퍼 파라미터\n",
        "learning_rate = 0.1\n",
        "\n",
        "# 훈련 과정을 1 에폭마다 기록( 시각화 )\n",
        "train_loss_list = []\n",
        "train_acc_list = []\n",
        "test_acc_list = []\n",
        "\n",
        "# 에폭 횟수 구하기\n",
        "#  BATCH를 이용해서 전체 데이터를 한번 쓱 훑으면 1에폭\n",
        "#  100개의 배치를 이용해서 600 훈련을 반복하면 총 60000개(전체 데이터의 개수)의 데이터로 훈련하는 것\n",
        "#   이 때가 1 에폭\n",
        "iter_per_epoch = int(max(train_size / batch_size, 1)) # max는 쓴 이유 : 종종 train_size < batch_size 가 있을 때는 한번만 학습 하기 위해\n",
        "\n",
        "for i in range(iter_num):\n",
        "  # 미니 배치 생성\n",
        "  batch_mask = np.random.choice(train_size, batch_size)\n",
        "  X_batch = X_train[batch_mask]\n",
        "  t_batch = y_train[batch_mask]\n",
        "\n",
        "  # 훈련 1단계 - 기울기 계산\n",
        "  # grads = network.numerical_gradient_params(X_batch, t_batch) # 수치 미분을 활용한 방식( 느리고 옛날 방식 )\n",
        "  grads = network.gradient(X_batch, t_batch) # 오차 역전파를 사용해서 기울기를 구하자!\n",
        "\n",
        "  # 훈련 2단계 - 경사하강법 수행(최적화 - Optimization)\n",
        "  for key in [\"W1\", \"b1\", \"W2\", \"b2\"]:\n",
        "    # params에는 실제 가중치, 편향이 들어있고\n",
        "    # grads에는 dL / dW1, dL / dW2, dL / db1, dL / db2 ( 기울기 - 미분값 )가 들어있음.\n",
        "    network.params[key] -= learning_rate * grads[key] # 경사하강법 공식\n",
        "\n",
        "  # loss 확인하기\n",
        "  loss = network.loss(X_batch, t_batch)\n",
        "\n",
        "  # 1 에폭마다 정확도 확인\n",
        "  if i % iter_per_epoch == 0 : \n",
        "    train_acc = network.accuracy(X_train, y_train)\n",
        "    test_acc  = network.accuracy(X_test, y_test)\n",
        "\n",
        "    train_loss_list.append(loss)\n",
        "    train_acc_list.append(train_acc)\n",
        "    test_acc_list.append(test_acc)\n",
        "\n",
        "    print(\"Train Accuracy : {:.6f} / Test Accuracy : {:.6f} / Train Loss : {:.6f}\".format(train_acc, test_acc, loss))"
      ],
      "execution_count": null,
      "outputs": [
        {
          "output_type": "stream",
          "text": [
            "Train Accuracy : 0.100100 / Test Accuracy : 0.100900 / Train Loss : 2.301379\n",
            "Train Accuracy : 0.901667 / Test Accuracy : 0.904700 / Train Loss : 0.344599\n",
            "Train Accuracy : 0.920017 / Test Accuracy : 0.920300 / Train Loss : 0.222470\n",
            "Train Accuracy : 0.935250 / Test Accuracy : 0.932800 / Train Loss : 0.150087\n",
            "Train Accuracy : 0.942217 / Test Accuracy : 0.939700 / Train Loss : 0.176696\n",
            "Train Accuracy : 0.949467 / Test Accuracy : 0.948300 / Train Loss : 0.126690\n",
            "Train Accuracy : 0.954483 / Test Accuracy : 0.950800 / Train Loss : 0.078301\n",
            "Train Accuracy : 0.958100 / Test Accuracy : 0.955500 / Train Loss : 0.168434\n",
            "Train Accuracy : 0.962700 / Test Accuracy : 0.958600 / Train Loss : 0.154189\n",
            "Train Accuracy : 0.966400 / Test Accuracy : 0.960600 / Train Loss : 0.109286\n",
            "Train Accuracy : 0.967817 / Test Accuracy : 0.959800 / Train Loss : 0.045196\n",
            "Train Accuracy : 0.969367 / Test Accuracy : 0.963400 / Train Loss : 0.069604\n",
            "Train Accuracy : 0.972217 / Test Accuracy : 0.965500 / Train Loss : 0.059835\n",
            "Train Accuracy : 0.973217 / Test Accuracy : 0.967700 / Train Loss : 0.038749\n",
            "Train Accuracy : 0.974400 / Test Accuracy : 0.966900 / Train Loss : 0.038980\n",
            "Train Accuracy : 0.976350 / Test Accuracy : 0.967700 / Train Loss : 0.037511\n",
            "Train Accuracy : 0.978217 / Test Accuracy : 0.969500 / Train Loss : 0.021992\n"
          ],
          "name": "stdout"
        }
      ]
    },
    {
      "cell_type": "markdown",
      "metadata": {
        "id": "M6IIc7BU0wnf"
      },
      "source": [
        "학습 시각화"
      ]
    },
    {
      "cell_type": "code",
      "metadata": {
        "id": "lw-zAPDW1A9L"
      },
      "source": [
        "import matplotlib.pyplot as plt\n",
        "%matplotlib inline"
      ],
      "execution_count": null,
      "outputs": []
    },
    {
      "cell_type": "code",
      "metadata": {
        "colab": {
          "base_uri": "https://localhost:8080/",
          "height": 334
        },
        "id": "TwpKBOpl1EKl",
        "outputId": "9aba9aec-deb5-41f8-9553-599e2957d2c4"
      },
      "source": [
        "plt.figure(figsize=(10, 5))\n",
        "plt.plot(np.arange(len(train_loss_list)), train_loss_list, label=\"loss\")\n",
        "plt.xlabel(\"epochs\")\n",
        "plt.ylabel(\"Loss\")\n",
        "plt.legend()\n",
        "plt.show()"
      ],
      "execution_count": null,
      "outputs": [
        {
          "output_type": "display_data",
          "data": {
            "image/png": "[encoded data removed]",
            "text/plain": [
              "<Figure size 720x360 with 1 Axes>"
            ]
          },
          "metadata": {
            "tags": [],
            "needs_background": "light"
          }
        }
      ]
    },
    {
      "cell_type": "code",
      "metadata": {
        "colab": {
          "base_uri": "https://localhost:8080/",
          "height": 334
        },
        "id": "DEt2Vdli1JJ0",
        "outputId": "fd95b792-0929-4912-960f-e1464c5e6a9e"
      },
      "source": [
        "plt.figure(figsize=(10, 5))\n",
        "plt.plot(np.arange(len(train_acc_list)), train_acc_list, label=\"Train Accuracy\")\n",
        "plt.plot(np.arange(len(test_acc_list)), test_acc_list, label=\"Test Accuracy\")\n",
        "plt.xlabel(\"epochs\")\n",
        "plt.ylabel(\"Accuracy\")\n",
        "plt.legend()\n",
        "plt.show()"
      ],
      "execution_count": null,
      "outputs": [
        {
          "output_type": "display_data",
          "data": {
            "image/png": "[encoded data removed]",
            "text/plain": [
              "<Figure size 720x360 with 1 Axes>"
            ]
          },
          "metadata": {
            "tags": [],
            "needs_background": "light"
          }
        }
      ]
    },
    {
      "cell_type": "markdown",
      "metadata": {
        "id": "fSgxh9gF1Ray"
      },
      "source": [
        "# prediction"
      ]
    },
    {
      "cell_type": "code",
      "metadata": {
        "colab": {
          "base_uri": "https://localhost:8080/"
        },
        "id": "wqHuTwNZ1iAV",
        "outputId": "faba80aa-22e9-42cd-ab62-9d2e2bd708f6"
      },
      "source": [
        "pred_image = X_test[0]\n",
        "pred_image.shape"
      ],
      "execution_count": null,
      "outputs": [
        {
          "output_type": "execute_result",
          "data": {
            "text/plain": [
              "(784,)"
            ]
          },
          "metadata": {
            "tags": []
          },
          "execution_count": 49
        }
      ]
    },
    {
      "cell_type": "code",
      "metadata": {
        "colab": {
          "base_uri": "https://localhost:8080/",
          "height": 265
        },
        "id": "sx_Dcqnj1liT",
        "outputId": "f49d0cb8-4a31-4981-f91a-84905e583b63"
      },
      "source": [
        "image = pred_image.reshape(28, 28)\n",
        "\n",
        "plt.imshow(image, 'gray')\n",
        "plt.show()"
      ],
      "execution_count": null,
      "outputs": [
        {
          "output_type": "display_data",
          "data": {
            "image/png": "[encoded data removed]",
            "text/plain": [
              "<Figure size 432x288 with 1 Axes>"
            ]
          },
          "metadata": {
            "tags": [],
            "needs_background": "light"
          }
        }
      ]
    },
    {
      "cell_type": "code",
      "metadata": {
        "colab": {
          "base_uri": "https://localhost:8080/"
        },
        "id": "91zo32Ky1tgQ",
        "outputId": "6399b80c-8339-4a37-af52-4e2fe7627160"
      },
      "source": [
        "y_test[0]"
      ],
      "execution_count": null,
      "outputs": [
        {
          "output_type": "execute_result",
          "data": {
            "text/plain": [
              "7"
            ]
          },
          "metadata": {
            "tags": []
          },
          "execution_count": 51
        }
      ]
    },
    {
      "cell_type": "code",
      "metadata": {
        "colab": {
          "base_uri": "https://localhost:8080/"
        },
        "id": "yl85c6y_1wAk",
        "outputId": "8d13292b-2f8a-4b63-d9de-61f4bb3e13a6"
      },
      "source": [
        "pred_result = network.predict(np.array([pred_image]))\n",
        "pred_result"
      ],
      "execution_count": null,
      "outputs": [
        {
          "output_type": "execute_result",
          "data": {
            "text/plain": [
              "array([[  0.3333651 ,  -6.89750267,   4.74991766,   5.59340766,\n",
              "         -6.89726963,  -1.91376061, -12.15154167,  13.14785823,\n",
              "          1.93366497,   1.48850543]])"
            ]
          },
          "metadata": {
            "tags": []
          },
          "execution_count": 53
        }
      ]
    },
    {
      "cell_type": "code",
      "metadata": {
        "colab": {
          "base_uri": "https://localhost:8080/"
        },
        "id": "0g2TICWW10_b",
        "outputId": "4ede8d0e-b67b-4433-88ba-b46e046b878a"
      },
      "source": [
        "np.argmax(pred_result, axis=1)"
      ],
      "execution_count": null,
      "outputs": [
        {
          "output_type": "execute_result",
          "data": {
            "text/plain": [
              "array([7])"
            ]
          },
          "metadata": {
            "tags": []
          },
          "execution_count": 55
        }
      ]
    }
  ]
}