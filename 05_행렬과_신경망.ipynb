{
  "nbformat": 4,
  "nbformat_minor": 0,
  "metadata": {
    "colab": {
      "name": "05. 행렬과 신경망",
      "provenance": [],
      "include_colab_link": true
    },
    "kernelspec": {
      "name": "python3",
      "display_name": "Python 3"
    },
    "language_info": {
      "name": "python"
    }
  },
  "cells": [
    {
      "cell_type": "markdown",
      "metadata": {
        "id": "view-in-github",
        "colab_type": "text"
      },
      "source": [
        "<a href=\"https://colab.research.google.com/github/koalalovepabro/Deep-Learning/blob/main/05_%ED%96%89%EB%A0%AC%EA%B3%BC_%EC%8B%A0%EA%B2%BD%EB%A7%9D.ipynb\" target=\"_parent\"><img src=\"https://colab.research.google.com/assets/colab-badge.svg\" alt=\"Open In Colab\"/></a>"
      ]
    },
    {
      "cell_type": "markdown",
      "metadata": {
        "id": "BKu34FhjL5Zr"
      },
      "source": [
        "# 신경망의 입력값과 가중치\n",
        "* 신경망에 입력되는 값은 여러 개이다.\n",
        "* 입력값에 해당하는 가중치도 여러개"
      ]
    },
    {
      "cell_type": "code",
      "metadata": {
        "id": "mpWFyzfyMHSP"
      },
      "source": [
        "import numpy as np"
      ],
      "execution_count": null,
      "outputs": []
    },
    {
      "cell_type": "code",
      "metadata": {
        "colab": {
          "base_uri": "https://localhost:8080/"
        },
        "id": "rlMFp-RhMJnj",
        "outputId": "1b3920f5-2495-4e36-8deb-7207056bad94"
      },
      "source": [
        "X = np.array([1, 2])\n",
        "print(\"입력값 X의 shape : {}\".format(X.shape))"
      ],
      "execution_count": null,
      "outputs": [
        {
          "output_type": "stream",
          "text": [
            "입력값 X의 shape : (2,)\n"
          ],
          "name": "stdout"
        }
      ]
    },
    {
      "cell_type": "code",
      "metadata": {
        "colab": {
          "base_uri": "https://localhost:8080/"
        },
        "id": "yuM3MG09MShz",
        "outputId": "6558474c-9e13-4753-fadd-9958e505b317"
      },
      "source": [
        "W = np.array([[1, 2, 3], # x1에 곱해질 가중치\n",
        "              [4, 5, 6]]) # x2에 곱해질 가중치\n",
        "print(\"가중치 W의 shape : {}\".format(W.shape))"
      ],
      "execution_count": null,
      "outputs": [
        {
          "output_type": "stream",
          "text": [
            "가중치 W의 shape : (2, 3)\n"
          ],
          "name": "stdout"
        }
      ]
    },
    {
      "cell_type": "code",
      "metadata": {
        "colab": {
          "base_uri": "https://localhost:8080/"
        },
        "id": "JqBCbsN9M5rn",
        "outputId": "b22e4b82-587b-47f7-f9b0-c6121854f567"
      },
      "source": [
        "X @ W"
      ],
      "execution_count": null,
      "outputs": [
        {
          "output_type": "execute_result",
          "data": {
            "text/plain": [
              "array([ 9, 12, 15])"
            ]
          },
          "metadata": {
            "tags": []
          },
          "execution_count": 4
        }
      ]
    },
    {
      "cell_type": "code",
      "metadata": {
        "colab": {
          "base_uri": "https://localhost:8080/",
          "height": 176
        },
        "id": "k7TfmA7MM-Wh",
        "outputId": "28b67ef6-d2f2-451e-f0cc-de122aa17e81"
      },
      "source": [
        "W @ X"
      ],
      "execution_count": null,
      "outputs": [
        {
          "output_type": "error",
          "ename": "ValueError",
          "evalue": "ignored",
          "traceback": [
            "\u001b[0;31m---------------------------------------------------------------------------\u001b[0m",
            "\u001b[0;31mValueError\u001b[0m                                Traceback (most recent call last)",
            "\u001b[0;32m<ipython-input-5-e239519029ad>\u001b[0m in \u001b[0;36m<module>\u001b[0;34m()\u001b[0m\n\u001b[0;32m----> 1\u001b[0;31m \u001b[0mW\u001b[0m \u001b[0;34m@\u001b[0m \u001b[0mX\u001b[0m\u001b[0;34m\u001b[0m\u001b[0;34m\u001b[0m\u001b[0m\n\u001b[0m",
            "\u001b[0;31mValueError\u001b[0m: matmul: Input operand 1 has a mismatch in its core dimension 0, with gufunc signature (n?,k),(k,m?)->(n?,m?) (size 2 is different from 3)"
          ]
        }
      ]
    },
    {
      "cell_type": "code",
      "metadata": {
        "colab": {
          "base_uri": "https://localhost:8080/"
        },
        "id": "7co_ofGfNFps",
        "outputId": "1c26d422-f9d2-4f15-bad5-648155ec980c"
      },
      "source": [
        "W.T @ X"
      ],
      "execution_count": null,
      "outputs": [
        {
          "output_type": "execute_result",
          "data": {
            "text/plain": [
              "array([ 9, 12, 15])"
            ]
          },
          "metadata": {
            "tags": []
          },
          "execution_count": 6
        }
      ]
    },
    {
      "cell_type": "markdown",
      "metadata": {
        "id": "Y0Vqm7_1NxVF"
      },
      "source": [
        "# 신경망을 행렬로 표기하기\n",
        "* 1층을 구성하는 표기\n",
        " * 1층의 1번째 뉴런만 표기 : $z_1^{(1)} = w_{11}^{(1)}x_1 + w_{12}^{(1)}x_2+b_1^{(1)}$\n",
        " * 1층 전체를 나타내기 : $Z^{(1)} = XW^{(1)} + B^{(1)}$\n",
        "   * B의 원소 수는 뉴런의 개수와 같다.\n",
        " * $X = (x_1, x_2)$\n",
        " * $W^{(1)} = \\begin{pmatrix}w_{11}^{(1)} & w_{21}^{(1)} & w_{31}^{(1)} \\\\ w_{12}^{(1)} & w_{22}^{(1)} & w_{32}^{(1)}\n",
        " \\end{pmatrix}$\n",
        " * $B^{(1)} = \\begin{pmatrix}b_1^{(1)}&b_2^{(1)}&b_3^{(1)}\\end{pmatrix}$\n",
        " * $Z^{(1)} = \\begin{pmatrix}z_1^{(1)}&z_2^{(1)}&z_3^{(1)}\\end{pmatrix}$\n"
      ]
    },
    {
      "cell_type": "code",
      "metadata": {
        "id": "EWOEEqcuOTaa"
      },
      "source": [
        "X = np.array([1.0, 0.5])\n",
        "W1 = np.array([[0.1, 0.3, 0.5],\n",
        "               [0.2, 0.4, 0.6]])\n",
        "B1 = np.array([0.1, 0.2, 0.3])"
      ],
      "execution_count": null,
      "outputs": []
    },
    {
      "cell_type": "code",
      "metadata": {
        "colab": {
          "base_uri": "https://localhost:8080/"
        },
        "id": "f562jiQ-PW1_",
        "outputId": "968c2c59-47df-4306-b513-5dd7d7db5fcf"
      },
      "source": [
        "print(\"입력값 X의 shape : {}\".format(X.shape))\n",
        "print(\"첫 번째 층의 가중치 W1의 shape : {}\".format(W1.shape))\n",
        "print(\"첫 번째 층의 편향 B1의 shape : {}\".format(B1.shape))"
      ],
      "execution_count": null,
      "outputs": [
        {
          "output_type": "stream",
          "text": [
            "입력값 X의 shape : (2,)\n",
            "첫 번째 층의 가중치 W1의 shape : (2, 3)\n",
            "첫 번째 층의 편향 B1의 shape : (3,)\n"
          ],
          "name": "stdout"
        }
      ]
    },
    {
      "cell_type": "code",
      "metadata": {
        "colab": {
          "base_uri": "https://localhost:8080/"
        },
        "id": "gfd7MC7HPcsO",
        "outputId": "6d000d2a-e926-4ae8-ce31-a942a0101de9"
      },
      "source": [
        "Z1 = np.dot(X, W1) + B1\n",
        "print(\"1층 결과물 Z1의 shape : {}\".format(Z1.shape))\n",
        "print(\"1층 결과물 Z1 행렬 : {}\".format(Z1))"
      ],
      "execution_count": null,
      "outputs": [
        {
          "output_type": "stream",
          "text": [
            "1층 결과물 Z1의 shape : (3,)\n",
            "1층 결과물 Z1 행렬 : [0.3 0.7 1.1]\n"
          ],
          "name": "stdout"
        }
      ]
    },
    {
      "cell_type": "markdown",
      "metadata": {
        "id": "gO1G10i2PyM5"
      },
      "source": [
        "# 활성화 함수 적용하기\n",
        "뉴런마다 활성화 함수를 한꺼번에 적용"
      ]
    },
    {
      "cell_type": "code",
      "metadata": {
        "id": "Y3bNCqDmP8WH"
      },
      "source": [
        "# sigmoid\n",
        "def sigmoid(x):\n",
        "  return 1 / ( 1 + np.exp(-x) )"
      ],
      "execution_count": null,
      "outputs": []
    },
    {
      "cell_type": "code",
      "metadata": {
        "colab": {
          "base_uri": "https://localhost:8080/"
        },
        "id": "voNznq2NQB0-",
        "outputId": "b58f2cae-2084-43b5-be8b-220e0088c8ab"
      },
      "source": [
        "A1 = sigmoid(Z1)\n",
        "\n",
        "print(\"원래 Z1 : {}\".format(Z1))\n",
        "print(\"활성화 함수(시그모이드) 적용 후 A1 : {}\".format(A1))"
      ],
      "execution_count": null,
      "outputs": [
        {
          "output_type": "stream",
          "text": [
            "원래 Z1 : [0.3 0.7 1.1]\n",
            "활성화 함수(시그모이드) 적용 후 A1 : [0.57444252 0.66818777 0.75026011]\n"
          ],
          "name": "stdout"
        }
      ]
    },
    {
      "cell_type": "markdown",
      "metadata": {
        "id": "DWs_8iO3Qf9I"
      },
      "source": [
        "# 실습\n",
        "1층에서 2층으로 넘어가는 과정까지 추가해서 전체적인 신경망 구성"
      ]
    },
    {
      "cell_type": "code",
      "metadata": {
        "id": "rriPhJflQw_l"
      },
      "source": [
        "X = np.array([1.0, 0.5])\n",
        "W1 = np.array([[0.1, 0.3, 0.5],\n",
        "               [0.2, 0.4, 0.6]])\n",
        "B1 = np.array([0.1, 0.2, 0.3])\n",
        "\n",
        "W2 = np.array([[0.1, 0.4],\n",
        "               [0.2, 0.5],\n",
        "               [0.3, 0.6]])\n",
        "\n",
        "B2 = np.array([0.1, 0.2])\n",
        "\n",
        "W3 = np.array([[0.1, 0.3],\n",
        "               [0.2, 0.4]])\n",
        "\n",
        "B3 = np.array([0.1, 0.2])"
      ],
      "execution_count": null,
      "outputs": []
    },
    {
      "cell_type": "code",
      "metadata": {
        "id": "8K3MTk6vQ0v6"
      },
      "source": [
        "# 마지막 층을 위한 활성화 함수는 항등함수(identity function)를 활용합니다.\n",
        "def identity_function(x):\n",
        "  return x"
      ],
      "execution_count": null,
      "outputs": []
    },
    {
      "cell_type": "code",
      "metadata": {
        "colab": {
          "base_uri": "https://localhost:8080/"
        },
        "id": "QTojFr34RYR3",
        "outputId": "7997cdd8-b053-4419-84ad-d155601482e9"
      },
      "source": [
        "# 1층 계산\n",
        "Z1 = X @ W1 + B1\n",
        "A1 = sigmoid(Z1)\n",
        "\n",
        "# 2층 계산\n",
        "Z2 = A1 @ W2 + B2\n",
        "A2 = sigmoid(Z2)\n",
        "\n",
        "# 3층 계산\n",
        "Z3 = A2 @ W3 + B3\n",
        "Y  = identity_function(Z3)\n",
        "\n",
        "Y"
      ],
      "execution_count": null,
      "outputs": [
        {
          "output_type": "execute_result",
          "data": {
            "text/plain": [
              "array([0.31682708, 0.69627909])"
            ]
          },
          "metadata": {
            "tags": []
          },
          "execution_count": 17
        }
      ]
    },
    {
      "cell_type": "markdown",
      "metadata": {
        "id": "d8nxpaD2Zyoc"
      },
      "source": [
        "* 신경망의 레이어는 뉴런들을 가지고 있다.\n",
        "* 뉴런들을 가지고 있다는 이야기는 각 뉴런 마다의 가중치와 편향을 가지고 있다.\n",
        "* 따라서 처음 신경망을 구성 할 때는 랜덤으로 초기화 되어있는 가중치와 편향을 저장 하고 있어야 한다. - 신경망의 구조를 미리 알고 있어야 한다.\n"
      ]
    },
    {
      "cell_type": "code",
      "metadata": {
        "id": "d7-h2DS4bNEp"
      },
      "source": [
        "def init_network():\n",
        "    network = {}\n",
        "\n",
        "    # 1층에 대한 정보\n",
        "    network['W1'] = np.array([[0.1, 0.3, 0.5],\n",
        "                              [0.2, 0.4, 0.6]])\n",
        "    network['b1'] = np.array([0.1, 0.2, 0.3])\n",
        "\n",
        "    # 2층에 대한 정보\n",
        "    network['W2'] = np.array([[0.1, 0.4], \n",
        "                              [0.2, 0.5], \n",
        "                              [0.3, 0.6]])\n",
        "    network['b2'] = np.array([0.1, 0.2])\n",
        "\n",
        "    # 3층에 대한 정보\n",
        "    network['W3'] = np.array([[0.1, 0.3],\n",
        "                              [0.2, 0.4]])\n",
        "    network['b3'] = np.array([0.1, 0.2])\n",
        "    \n",
        "    return network\n",
        "\n",
        "# 순전파 구현.\n",
        "def forward(network, x):\n",
        "  # 가중치, 편향 꺼내기\n",
        "  W1, W2, W3 = network['W1'], network['W2'], network['W3']\n",
        "  b1, b2, b3 = network['b1'], network['b2'], network['b3']\n",
        "\n",
        "  # 1층 계산\n",
        "  Z1 = np.dot(x, W1) + b1\n",
        "  A1 = sigmoid(Z1)\n",
        "\n",
        "  # 2층 계산\n",
        "  Z2 = np.dot(A1, W2) + b2\n",
        "  A2 = sigmoid(Z2)\n",
        "\n",
        "  # 3층(출력층) 계산\n",
        "  Z3 = np.dot(A2, W3) + b3\n",
        "  y = identity_function(Z3)\n",
        "\n",
        "  return y"
      ],
      "execution_count": null,
      "outputs": []
    },
    {
      "cell_type": "code",
      "metadata": {
        "colab": {
          "base_uri": "https://localhost:8080/"
        },
        "id": "AV6Pxubxb7Ea",
        "outputId": "27fbee26-2445-4592-b220-d366e376eab4"
      },
      "source": [
        "network = init_network()\n",
        "x = np.array([1.0, 0.5])\n",
        "y = forward(network, x)\n",
        "print(y)"
      ],
      "execution_count": null,
      "outputs": [
        {
          "output_type": "stream",
          "text": [
            "[0.31682708 0.69627909]\n"
          ],
          "name": "stdout"
        }
      ]
    },
    {
      "cell_type": "code",
      "metadata": {
        "id": "h5Ju6sMVcCHf"
      },
      "source": [
        ""
      ],
      "execution_count": null,
      "outputs": []
    }
  ]
}